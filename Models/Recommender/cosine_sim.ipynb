{
 "metadata": {
  "language_info": {
   "codemirror_mode": {
    "name": "ipython",
    "version": 3
   },
   "file_extension": ".py",
   "mimetype": "text/x-python",
   "name": "python",
   "nbconvert_exporter": "python",
   "pygments_lexer": "ipython3",
   "version": "3.8.3-final"
  },
  "orig_nbformat": 2,
  "kernelspec": {
   "name": "python3",
   "display_name": "Python 3"
  }
 },
 "nbformat": 4,
 "nbformat_minor": 2,
 "cells": [
  {
   "cell_type": "code",
   "execution_count": 16,
   "metadata": {},
   "outputs": [
    {
     "output_type": "display_data",
     "data": {
      "text/html": "        <script type=\"text/javascript\">\n        window.PlotlyConfig = {MathJaxConfig: 'local'};\n        if (window.MathJax) {MathJax.Hub.Config({SVG: {font: \"STIX-Web\"}});}\n        if (typeof require !== 'undefined') {\n        require.undef(\"plotly\");\n        requirejs.config({\n            paths: {\n                'plotly': ['https://cdn.plot.ly/plotly-latest.min']\n            }\n        });\n        require(['plotly'], function(Plotly) {\n            window._Plotly = Plotly;\n        });\n        }\n        </script>\n        "
     },
     "metadata": {}
    }
   ],
   "source": [
    "# To store the data\n",
    "import pandas as pd\n",
    "\n",
    "# To do linear algebra\n",
    "import numpy as np\n",
    "\n",
    "# To create plots\n",
    "import matplotlib.pyplot as plt\n",
    "\n",
    "# To create interactive plots\n",
    "from plotly.offline import init_notebook_mode, plot, iplot\n",
    "import plotly.graph_objs as go\n",
    "init_notebook_mode(connected=True)\n",
    "\n",
    "# To shift lists\n",
    "from collections import deque\n",
    "\n",
    "# To compute similarities between vectors\n",
    "from sklearn.metrics import mean_squared_error\n",
    "from sklearn.metrics.pairwise import cosine_similarity\n",
    "from sklearn.feature_extraction.text import TfidfVectorizer\n",
    "from sklearn.metrics.pairwise import linear_kernel\n",
    "\n",
    "# To use recommender systems\n",
    "import surprise as sp\n",
    "from surprise.model_selection import cross_validate\n",
    "\n",
    "# To create deep learning models\n",
    "from keras.layers import Input, Embedding, Reshape, Dot, Concatenate, Dense, Dropout\n",
    "from keras.models import Model\n",
    "\n",
    "# To create sparse matrices\n",
    "from scipy.sparse import coo_matrix\n",
    "\n",
    "# To stack sparse matrices\n",
    "from scipy.sparse import vstack"
   ]
  },
  {
   "cell_type": "code",
   "execution_count": 4,
   "metadata": {},
   "outputs": [],
   "source": [
    "ratings = pd.read_csv('/media/einhard/Seagate Expansion Drive/3380_data/data/reviews_dedup.csv').drop('Unnamed: 0', axis=1)"
   ]
  },
  {
   "cell_type": "code",
   "execution_count": 5,
   "metadata": {},
   "outputs": [],
   "source": [
    "books = pd.read_csv('/media/einhard/Seagate Expansion Drive/3380_data/data/books_dedup.csv').drop('Unnamed: 0', axis=1)"
   ]
  },
  {
   "source": [
    "# Using Cosine TFIDF"
   ],
   "cell_type": "markdown",
   "metadata": {}
  },
  {
   "cell_type": "code",
   "execution_count": 8,
   "metadata": {},
   "outputs": [
    {
     "output_type": "execute_result",
     "data": {
      "text/plain": [
       "                                                    title      author  \\\n",
       "0                            Poet Of The Wrong Generation   6572997.0   \n",
       "1       Words of Radiance, Part 2 (The Stormlight Arch...     38550.0   \n",
       "2                      Driven Collection (Driven, #1-3.5)   7047863.0   \n",
       "3                                   Take Me Home Yearbook   6422617.0   \n",
       "4                                 Evolve: 2 Minute Wisdom   2998860.0   \n",
       "...                                                   ...         ...   \n",
       "401985                                        The Spiders    448306.0   \n",
       "401986                        Melanie's Marvelous Measles   6857453.0   \n",
       "401987  Coming Out Straight: Understanding and Healing...  15306662.0   \n",
       "401988  The Girl with the Solar Eyes (The Tale of Onor...   8146489.0   \n",
       "401989                              Authors vs. Goodreads  12175309.0   \n",
       "\n",
       "        average_rating  ratings_count  text_reviews_count  \\\n",
       "0                 4.91          425.0               348.0   \n",
       "1                 4.82         1661.0               123.0   \n",
       "2                 4.87          537.0                67.0   \n",
       "3                 4.82         1365.0                34.0   \n",
       "4                 4.93          304.0                21.0   \n",
       "...                ...            ...                 ...   \n",
       "401985            2.02         1100.0               180.0   \n",
       "401986            1.25          110.0                58.0   \n",
       "401987            1.73          295.0                97.0   \n",
       "401988            1.39          148.0                13.0   \n",
       "401989            1.39          265.0               208.0   \n",
       "\n",
       "                                              description            shelf_1  \\\n",
       "0       \"It's not that I don't love you, and my tears ...              music   \n",
       "1       Brandon Sanderson's Stormlight Archive moves i...            fantasy   \n",
       "2       If you are new to this NYT Best Selling series...          favorites   \n",
       "3                                                     NaN      one-direction   \n",
       "4       \"This 2 minute wisdom of 'Evolve' is like a in...  currently-reading   \n",
       "...                                                   ...                ...   \n",
       "401985                                                NaN             novels   \n",
       "401986  Melanie's Marvelous Measles takes children on ...              never   \n",
       "401987  Richard Cohen, a former homosexual, now marrie...    will-never-read   \n",
       "401988  WARNING: This book contains sex, violence, gri...            fantasy   \n",
       "401989  If you are an Independent author, or even a pu...        non-fiction   \n",
       "\n",
       "         book_id  weighted_score                    name  \n",
       "0       31675691        4.805233           Lonnie Ostrow  \n",
       "1       21100112        4.793545       Brandon Sanderson  \n",
       "2       26252816        4.788629             K. Bromberg  \n",
       "3       17169204        4.788011              Liam Payne  \n",
       "4       20492657        4.786597         Radhanath Swami  \n",
       "...          ...             ...                     ...  \n",
       "401985   6668764        2.102379  D'Arcy Adrian-Vallance  \n",
       "401986  17152891        2.082722     Stephanie Messenger  \n",
       "401987   2574850        2.046625         Richard   Cohen  \n",
       "401988  23511895        2.027553         Dylan Saccoccio  \n",
       "401989  24379183        1.790748                Zoe Desh  \n",
       "\n",
       "[401990 rows x 10 columns]"
      ],
      "text/html": "<div>\n<style scoped>\n    .dataframe tbody tr th:only-of-type {\n        vertical-align: middle;\n    }\n\n    .dataframe tbody tr th {\n        vertical-align: top;\n    }\n\n    .dataframe thead th {\n        text-align: right;\n    }\n</style>\n<table border=\"1\" class=\"dataframe\">\n  <thead>\n    <tr style=\"text-align: right;\">\n      <th></th>\n      <th>title</th>\n      <th>author</th>\n      <th>average_rating</th>\n      <th>ratings_count</th>\n      <th>text_reviews_count</th>\n      <th>description</th>\n      <th>shelf_1</th>\n      <th>book_id</th>\n      <th>weighted_score</th>\n      <th>name</th>\n    </tr>\n  </thead>\n  <tbody>\n    <tr>\n      <th>0</th>\n      <td>Poet Of The Wrong Generation</td>\n      <td>6572997.0</td>\n      <td>4.91</td>\n      <td>425.0</td>\n      <td>348.0</td>\n      <td>\"It's not that I don't love you, and my tears ...</td>\n      <td>music</td>\n      <td>31675691</td>\n      <td>4.805233</td>\n      <td>Lonnie Ostrow</td>\n    </tr>\n    <tr>\n      <th>1</th>\n      <td>Words of Radiance, Part 2 (The Stormlight Arch...</td>\n      <td>38550.0</td>\n      <td>4.82</td>\n      <td>1661.0</td>\n      <td>123.0</td>\n      <td>Brandon Sanderson's Stormlight Archive moves i...</td>\n      <td>fantasy</td>\n      <td>21100112</td>\n      <td>4.793545</td>\n      <td>Brandon Sanderson</td>\n    </tr>\n    <tr>\n      <th>2</th>\n      <td>Driven Collection (Driven, #1-3.5)</td>\n      <td>7047863.0</td>\n      <td>4.87</td>\n      <td>537.0</td>\n      <td>67.0</td>\n      <td>If you are new to this NYT Best Selling series...</td>\n      <td>favorites</td>\n      <td>26252816</td>\n      <td>4.788629</td>\n      <td>K. Bromberg</td>\n    </tr>\n    <tr>\n      <th>3</th>\n      <td>Take Me Home Yearbook</td>\n      <td>6422617.0</td>\n      <td>4.82</td>\n      <td>1365.0</td>\n      <td>34.0</td>\n      <td>NaN</td>\n      <td>one-direction</td>\n      <td>17169204</td>\n      <td>4.788011</td>\n      <td>Liam Payne</td>\n    </tr>\n    <tr>\n      <th>4</th>\n      <td>Evolve: 2 Minute Wisdom</td>\n      <td>2998860.0</td>\n      <td>4.93</td>\n      <td>304.0</td>\n      <td>21.0</td>\n      <td>\"This 2 minute wisdom of 'Evolve' is like a in...</td>\n      <td>currently-reading</td>\n      <td>20492657</td>\n      <td>4.786597</td>\n      <td>Radhanath Swami</td>\n    </tr>\n    <tr>\n      <th>...</th>\n      <td>...</td>\n      <td>...</td>\n      <td>...</td>\n      <td>...</td>\n      <td>...</td>\n      <td>...</td>\n      <td>...</td>\n      <td>...</td>\n      <td>...</td>\n      <td>...</td>\n    </tr>\n    <tr>\n      <th>401985</th>\n      <td>The Spiders</td>\n      <td>448306.0</td>\n      <td>2.02</td>\n      <td>1100.0</td>\n      <td>180.0</td>\n      <td>NaN</td>\n      <td>novels</td>\n      <td>6668764</td>\n      <td>2.102379</td>\n      <td>D'Arcy Adrian-Vallance</td>\n    </tr>\n    <tr>\n      <th>401986</th>\n      <td>Melanie's Marvelous Measles</td>\n      <td>6857453.0</td>\n      <td>1.25</td>\n      <td>110.0</td>\n      <td>58.0</td>\n      <td>Melanie's Marvelous Measles takes children on ...</td>\n      <td>never</td>\n      <td>17152891</td>\n      <td>2.082722</td>\n      <td>Stephanie Messenger</td>\n    </tr>\n    <tr>\n      <th>401987</th>\n      <td>Coming Out Straight: Understanding and Healing...</td>\n      <td>15306662.0</td>\n      <td>1.73</td>\n      <td>295.0</td>\n      <td>97.0</td>\n      <td>Richard Cohen, a former homosexual, now marrie...</td>\n      <td>will-never-read</td>\n      <td>2574850</td>\n      <td>2.046625</td>\n      <td>Richard   Cohen</td>\n    </tr>\n    <tr>\n      <th>401988</th>\n      <td>The Girl with the Solar Eyes (The Tale of Onor...</td>\n      <td>8146489.0</td>\n      <td>1.39</td>\n      <td>148.0</td>\n      <td>13.0</td>\n      <td>WARNING: This book contains sex, violence, gri...</td>\n      <td>fantasy</td>\n      <td>23511895</td>\n      <td>2.027553</td>\n      <td>Dylan Saccoccio</td>\n    </tr>\n    <tr>\n      <th>401989</th>\n      <td>Authors vs. Goodreads</td>\n      <td>12175309.0</td>\n      <td>1.39</td>\n      <td>265.0</td>\n      <td>208.0</td>\n      <td>If you are an Independent author, or even a pu...</td>\n      <td>non-fiction</td>\n      <td>24379183</td>\n      <td>1.790748</td>\n      <td>Zoe Desh</td>\n    </tr>\n  </tbody>\n</table>\n<p>401990 rows × 10 columns</p>\n</div>"
     },
     "metadata": {},
     "execution_count": 8
    }
   ],
   "source": [
    "books"
   ]
  },
  {
   "cell_type": "code",
   "execution_count": 9,
   "metadata": {},
   "outputs": [],
   "source": [
    "books.shelf_1.fillna(\"\", inplace=True)"
   ]
  },
  {
   "cell_type": "code",
   "execution_count": 11,
   "metadata": {},
   "outputs": [],
   "source": [
    "books = books.dropna()"
   ]
  },
  {
   "cell_type": "code",
   "execution_count": 12,
   "metadata": {},
   "outputs": [
    {
     "output_type": "execute_result",
     "data": {
      "text/plain": [
       "0    \"It's not that I don't love you, and my tears ...\n",
       "1    Brandon Sanderson's Stormlight Archive moves i...\n",
       "2    If you are new to this NYT Best Selling series...\n",
       "4    \"This 2 minute wisdom of 'Evolve' is like a in...\n",
       "5    Join Calvin and Hobbeson all their adventures ...\n",
       "Name: description, dtype: object"
      ]
     },
     "metadata": {},
     "execution_count": 12
    }
   ],
   "source": [
    "books.description.head()"
   ]
  },
  {
   "cell_type": "code",
   "execution_count": 22,
   "metadata": {},
   "outputs": [
    {
     "output_type": "stream",
     "name": "stderr",
     "text": [
      "[nltk_data] Downloading package punkt to /home/einhard/nltk_data...\n",
      "[nltk_data]   Unzipping tokenizers/punkt.zip.\n",
      "[nltk_data] Downloading package averaged_perceptron_tagger to\n",
      "[nltk_data]     /home/einhard/nltk_data...\n",
      "[nltk_data]   Unzipping taggers/averaged_perceptron_tagger.zip.\n",
      "[nltk_data] Downloading package wordnet to /home/einhard/nltk_data...\n",
      "[nltk_data]   Unzipping corpora/wordnet.zip.\n"
     ]
    },
    {
     "output_type": "execute_result",
     "data": {
      "text/plain": [
       "True"
      ]
     },
     "metadata": {},
     "execution_count": 22
    }
   ],
   "source": [
    "import nltk\n",
    "nltk.download('punkt')\n",
    "nltk.download('averaged_perceptron_tagger')\n",
    "nltk.download('wordnet') "
   ]
  },
  {
   "cell_type": "code",
   "execution_count": 25,
   "metadata": {},
   "outputs": [
    {
     "output_type": "stream",
     "name": "stderr",
     "text": [
      "[nltk_data] Downloading package stopwords to\n",
      "[nltk_data]     /home/einhard/nltk_data...\n",
      "[nltk_data]   Unzipping corpora/stopwords.zip.\n"
     ]
    }
   ],
   "source": [
    "from nltk.stem import WordNetLemmatizer\n",
    "\n",
    "lemmatizer = WordNetLemmatizer()\n",
    "\n",
    "from nltk.corpus import stopwords\n",
    "nltk.download('stopwords')\n",
    "stop_words = set(stopwords.words('english'))"
   ]
  },
  {
   "cell_type": "code",
   "execution_count": 30,
   "metadata": {},
   "outputs": [],
   "source": [
    "def preprocess_sentences(text): \n",
    "    VERB_CODES = {'VB', 'VBD', 'VBG', 'VBN', 'VBP', 'VBZ'} \n",
    "    text = text.lower() \n",
    "    temp_sent =[] \n",
    "    words = nltk.word_tokenize(text) \n",
    "    tags = nltk.pos_tag(words) \n",
    "    for i, word in enumerate(words): \n",
    "        if tags[i][1] in VERB_CODES:  \n",
    "            lemmatized = lemmatizer.lemmatize(word, 'v') \n",
    "        else: \n",
    "            lemmatized = lemmatizer.lemmatize(word) \n",
    "        if lemmatized not in stop_words and lemmatized.isalpha(): \n",
    "            temp_sent.append(lemmatized) \n",
    "    finalsent = ' '.join(temp_sent) \n",
    "    finalsent = finalsent.replace(\"n't\", \" not\") \n",
    "    finalsent = finalsent.replace(\"'m\", \" am\") \n",
    "    finalsent = finalsent.replace(\"'s\", \" is\") \n",
    "    finalsent = finalsent.replace(\"'re\", \" are\") \n",
    "    finalsent = finalsent.replace(\"'ll\", \" will\") \n",
    "    finalsent = finalsent.replace(\"'ve\", \" have\") \n",
    "    finalsent = finalsent.replace(\"'d\", \" would\") \n",
    "    return finalsent "
   ]
  },
  {
   "cell_type": "code",
   "execution_count": null,
   "metadata": {},
   "outputs": [],
   "source": []
  },
  {
   "cell_type": "code",
   "execution_count": 35,
   "metadata": {},
   "outputs": [
    {
     "output_type": "execute_result",
     "data": {
      "text/plain": [
       "                                                    title     author  \\\n",
       "2911    How to Seize a Dragon's Jewel (How to Train Yo...    23894.0   \n",
       "7953                                  Because of the Rain    59414.0   \n",
       "14793   Liberated Parents, Liberated Children: Your Gu...    53578.0   \n",
       "17657         This Side of the Grave (Night Huntress, #5)   669810.0   \n",
       "26204                       Rusty Hinges (Metal Boxes #3)  1016187.0   \n",
       "...                                                   ...        ...   \n",
       "386453                   The Vampire's Beautiful Daughter    81037.0   \n",
       "390128                    Robin: Days of Fire and Madness    12444.0   \n",
       "393371                       A British Bride by Agreement  1307916.0   \n",
       "400169                          Kick Your Fat in the Nuts  6420217.0   \n",
       "401785            Not Buying It: My Year Without Shopping   141916.0   \n",
       "\n",
       "        average_rating  ratings_count  text_reviews_count  \\\n",
       "2911              4.46         2387.0               133.0   \n",
       "7953              4.40          575.0                45.0   \n",
       "14793             4.35          379.0                49.0   \n",
       "17657             4.28        46590.0              1978.0   \n",
       "26204             4.26          630.0                24.0   \n",
       "...                ...            ...                 ...   \n",
       "386453            3.34           96.0                18.0   \n",
       "390128            3.23           77.0                 7.0   \n",
       "393371            3.12           68.0                10.0   \n",
       "400169            3.19          551.0                42.0   \n",
       "401785            2.93         2115.0               518.0   \n",
       "\n",
       "                                              description            shelf_1  \\\n",
       "2911    The Dragon Rebellion has begun, bringing the V...            fantasy   \n",
       "7953    ANNA'S LIFE CHANGES FOREVER ON ONE HORRIFIC NI...            to-read   \n",
       "14793   The Companion Volume to How to Talk So Kids Wi...          parenting   \n",
       "17657   Danger waits on both sides of the grave.\\nWith...           vampires   \n",
       "26204   Stone's fist, secure in the combat suit and hi...            to-read   \n",
       "...                                                   ...                ...   \n",
       "386453  Life isn't easy for Johnny Shapiro, despite hi...           vampires   \n",
       "390128  Written by Bill Willingham Art and cover by Sc...             comics   \n",
       "393371  Widowed and far from her native England, Emma ...             kindle   \n",
       "400169  Not only will Tony have you laughing out loud ...  currently-reading   \n",
       "401785  Shocked by the commerce in everything from pet...             memoir   \n",
       "\n",
       "         book_id  weighted_score             name  \\\n",
       "2911    15841027        4.448812  Cressida Cowell   \n",
       "7953    20981415        4.361177    Deborah Raney   \n",
       "14793     164276        4.299267      Adele Faber   \n",
       "17657    6871617        4.279609   Jeaniene Frost   \n",
       "26204   30056458        4.234611      Alan  Black   \n",
       "...          ...             ...              ...   \n",
       "386453    793618        3.536819      S.P. Somtow   \n",
       "390128    707856        3.499571  Bill Willingham   \n",
       "393371  18044026        3.456742  Therese Stenzel   \n",
       "400169  17303400        3.250292        T.C. Hale   \n",
       "401785    242583        2.952742    Judith Levine   \n",
       "\n",
       "                                    description_processed  \n",
       "2911    dragon rebellion begin bring viking darkest ho...  \n",
       "7953    anna life change forever one horrific night as...  \n",
       "14793   companion volume talk kid listen listen kid ta...  \n",
       "17657   danger wait side grave mysterious disappearanc...  \n",
       "26204   stone fist secure combat suit hide camouflage ...  \n",
       "...                                                   ...  \n",
       "386453  life easy johnny shapiro despite mother succes...  \n",
       "390128  write bill willingham art cover scott mcdaniel...  \n",
       "393371  widow far native england emma bank devastate r...  \n",
       "400169  tony laugh loud reveal secret behind weight lo...  \n",
       "401785  shock commerce everything pet clone patriotism...  \n",
       "\n",
       "[100 rows x 11 columns]"
      ],
      "text/html": "<div>\n<style scoped>\n    .dataframe tbody tr th:only-of-type {\n        vertical-align: middle;\n    }\n\n    .dataframe tbody tr th {\n        vertical-align: top;\n    }\n\n    .dataframe thead th {\n        text-align: right;\n    }\n</style>\n<table border=\"1\" class=\"dataframe\">\n  <thead>\n    <tr style=\"text-align: right;\">\n      <th></th>\n      <th>title</th>\n      <th>author</th>\n      <th>average_rating</th>\n      <th>ratings_count</th>\n      <th>text_reviews_count</th>\n      <th>description</th>\n      <th>shelf_1</th>\n      <th>book_id</th>\n      <th>weighted_score</th>\n      <th>name</th>\n      <th>description_processed</th>\n    </tr>\n  </thead>\n  <tbody>\n    <tr>\n      <th>2911</th>\n      <td>How to Seize a Dragon's Jewel (How to Train Yo...</td>\n      <td>23894.0</td>\n      <td>4.46</td>\n      <td>2387.0</td>\n      <td>133.0</td>\n      <td>The Dragon Rebellion has begun, bringing the V...</td>\n      <td>fantasy</td>\n      <td>15841027</td>\n      <td>4.448812</td>\n      <td>Cressida Cowell</td>\n      <td>dragon rebellion begin bring viking darkest ho...</td>\n    </tr>\n    <tr>\n      <th>7953</th>\n      <td>Because of the Rain</td>\n      <td>59414.0</td>\n      <td>4.40</td>\n      <td>575.0</td>\n      <td>45.0</td>\n      <td>ANNA'S LIFE CHANGES FOREVER ON ONE HORRIFIC NI...</td>\n      <td>to-read</td>\n      <td>20981415</td>\n      <td>4.361177</td>\n      <td>Deborah Raney</td>\n      <td>anna life change forever one horrific night as...</td>\n    </tr>\n    <tr>\n      <th>14793</th>\n      <td>Liberated Parents, Liberated Children: Your Gu...</td>\n      <td>53578.0</td>\n      <td>4.35</td>\n      <td>379.0</td>\n      <td>49.0</td>\n      <td>The Companion Volume to How to Talk So Kids Wi...</td>\n      <td>parenting</td>\n      <td>164276</td>\n      <td>4.299267</td>\n      <td>Adele Faber</td>\n      <td>companion volume talk kid listen listen kid ta...</td>\n    </tr>\n    <tr>\n      <th>17657</th>\n      <td>This Side of the Grave (Night Huntress, #5)</td>\n      <td>669810.0</td>\n      <td>4.28</td>\n      <td>46590.0</td>\n      <td>1978.0</td>\n      <td>Danger waits on both sides of the grave.\\nWith...</td>\n      <td>vampires</td>\n      <td>6871617</td>\n      <td>4.279609</td>\n      <td>Jeaniene Frost</td>\n      <td>danger wait side grave mysterious disappearanc...</td>\n    </tr>\n    <tr>\n      <th>26204</th>\n      <td>Rusty Hinges (Metal Boxes #3)</td>\n      <td>1016187.0</td>\n      <td>4.26</td>\n      <td>630.0</td>\n      <td>24.0</td>\n      <td>Stone's fist, secure in the combat suit and hi...</td>\n      <td>to-read</td>\n      <td>30056458</td>\n      <td>4.234611</td>\n      <td>Alan  Black</td>\n      <td>stone fist secure combat suit hide camouflage ...</td>\n    </tr>\n    <tr>\n      <th>...</th>\n      <td>...</td>\n      <td>...</td>\n      <td>...</td>\n      <td>...</td>\n      <td>...</td>\n      <td>...</td>\n      <td>...</td>\n      <td>...</td>\n      <td>...</td>\n      <td>...</td>\n      <td>...</td>\n    </tr>\n    <tr>\n      <th>386453</th>\n      <td>The Vampire's Beautiful Daughter</td>\n      <td>81037.0</td>\n      <td>3.34</td>\n      <td>96.0</td>\n      <td>18.0</td>\n      <td>Life isn't easy for Johnny Shapiro, despite hi...</td>\n      <td>vampires</td>\n      <td>793618</td>\n      <td>3.536819</td>\n      <td>S.P. Somtow</td>\n      <td>life easy johnny shapiro despite mother succes...</td>\n    </tr>\n    <tr>\n      <th>390128</th>\n      <td>Robin: Days of Fire and Madness</td>\n      <td>12444.0</td>\n      <td>3.23</td>\n      <td>77.0</td>\n      <td>7.0</td>\n      <td>Written by Bill Willingham Art and cover by Sc...</td>\n      <td>comics</td>\n      <td>707856</td>\n      <td>3.499571</td>\n      <td>Bill Willingham</td>\n      <td>write bill willingham art cover scott mcdaniel...</td>\n    </tr>\n    <tr>\n      <th>393371</th>\n      <td>A British Bride by Agreement</td>\n      <td>1307916.0</td>\n      <td>3.12</td>\n      <td>68.0</td>\n      <td>10.0</td>\n      <td>Widowed and far from her native England, Emma ...</td>\n      <td>kindle</td>\n      <td>18044026</td>\n      <td>3.456742</td>\n      <td>Therese Stenzel</td>\n      <td>widow far native england emma bank devastate r...</td>\n    </tr>\n    <tr>\n      <th>400169</th>\n      <td>Kick Your Fat in the Nuts</td>\n      <td>6420217.0</td>\n      <td>3.19</td>\n      <td>551.0</td>\n      <td>42.0</td>\n      <td>Not only will Tony have you laughing out loud ...</td>\n      <td>currently-reading</td>\n      <td>17303400</td>\n      <td>3.250292</td>\n      <td>T.C. Hale</td>\n      <td>tony laugh loud reveal secret behind weight lo...</td>\n    </tr>\n    <tr>\n      <th>401785</th>\n      <td>Not Buying It: My Year Without Shopping</td>\n      <td>141916.0</td>\n      <td>2.93</td>\n      <td>2115.0</td>\n      <td>518.0</td>\n      <td>Shocked by the commerce in everything from pet...</td>\n      <td>memoir</td>\n      <td>242583</td>\n      <td>2.952742</td>\n      <td>Judith Levine</td>\n      <td>shock commerce everything pet clone patriotism...</td>\n    </tr>\n  </tbody>\n</table>\n<p>100 rows × 11 columns</p>\n</div>"
     },
     "metadata": {},
     "execution_count": 35
    }
   ],
   "source": [
    "books[~books.description_processed.isna()]"
   ]
  },
  {
   "cell_type": "code",
   "execution_count": 19,
   "metadata": {},
   "outputs": [],
   "source": [
    "tfidf = TfidfVectorizer(stop_words='english', strip_accents = 'unicode')\n",
    "tfidf_matrix = tfidf.fit_transform(books.description)"
   ]
  },
  {
   "cell_type": "code",
   "execution_count": null,
   "metadata": {},
   "outputs": [],
   "source": []
  }
 ]
}
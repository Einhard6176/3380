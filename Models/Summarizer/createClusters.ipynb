{
 "metadata": {
  "language_info": {
   "codemirror_mode": {
    "name": "ipython",
    "version": 3
   },
   "file_extension": ".py",
   "mimetype": "text/x-python",
   "name": "python",
   "nbconvert_exporter": "python",
   "pygments_lexer": "ipython3",
   "version": "3.8.3-final"
  },
  "orig_nbformat": 2,
  "kernelspec": {
   "name": "python3",
   "display_name": "Python 3"
  }
 },
 "nbformat": 4,
 "nbformat_minor": 2,
 "cells": [
  {
   "cell_type": "code",
   "execution_count": 1,
   "metadata": {},
   "outputs": [],
   "source": [
    "import numpy as np\n",
    "import pandas as pd\n",
    "\n",
    "# To process embeddings\n",
    "import tensorflow as tf\n",
    "import tensorflow_hub as hub\n",
    "\n",
    "# To silence warnings from TensorFlow\n",
    "import os\n",
    "import logging\n",
    "import warnings;\n",
    "warnings.filterwarnings('ignore')\n",
    "os.environ['TF_CPP_MIN_LOG_LEVEL'] = '3'  # FATAL\n",
    "logging.getLogger('tensorflow').setLevel(logging.FATAL)\n",
    "\n",
    "# To load saved embeddings\n",
    "import joblib\n",
    "\n",
    "# To create webapp\n",
    "import psutil\n",
    "\n",
    "\n",
    "#######################################################################################\n",
    "                            # Load functions\n",
    "#######################################################################################\n",
    "\n",
    "def load_embeddings():\n",
    "    # Path to USE\n",
    "    embed = hub.load('/media/einhard/Seagate Expansion Drive/3380_data/data/tensorflow_hub/universal-sentence-encoder_4')\n",
    "\n",
    "    # Load pre-trained sentence arrays\n",
    "    sentence_array = joblib.load('/media/einhard/Seagate Expansion Drive/3380_data/data/Models/reviewEmbeddings.pkl')\n",
    "    descriptions_array = joblib.load('/media/einhard/Seagate Expansion Drive/3380_data/data/Models/descriptionEmbeddings.pkl')\n",
    "    return embed, sentence_array, descriptions_array\n",
    "\n",
    "def data_loader(datapath, books_file, reviews_file):\n",
    "    books = pd.read_csv(datapath + books_file).drop('Unnamed: 0', axis=1)\n",
    "    reviews = pd.read_csv(datapath + reviews_file).drop('Unnamed: 0', axis=1)\n",
    "    return books, reviews\n",
    "\n",
    "\n",
    "                    # Return recommendations based on reviews\n",
    "def find_reviews(query,reviews, n_results=5):\n",
    "    # Create vector from query and compare with global embedding\n",
    "    sentence = [query]\n",
    "    sentence_vector = np.array(embed(sentence))\n",
    "    inner_product = np.inner(sentence_vector, sentence_array)[0]\n",
    "\n",
    "    # Find sentences with highest inner products\n",
    "    top_n_sentences = pd.Series(inner_product).nlargest(n_results+1)\n",
    "    top_n_indices = top_n_sentences.index.tolist()\n",
    "    top_n_list = list(reviews.review_text.iloc[top_n_indices][1:])\n",
    "\n",
    "    #print(f'Input sentence: \"{query}\"\\n')\n",
    "    #print(f'{n_results} most semantically similar reviews: \\n\\n')\n",
    "    #print(*top_n_list, sep='\\n\\n')\n",
    "    #print(top_n_indices)\n",
    "    return top_n_indices\n",
    "\n",
    "def find_books(query, reviews, books, n_results=5):\n",
    "    top_n_indices = find_reviews(query, reviews, n_results)\n",
    "    return books[books.book_id.isin(reviews.iloc[top_n_indices].book_id.tolist())][['title', 'name','description', 'weighted_score', 'book_id']].fillna('').reset_index().drop('index', axis=1)\n",
    "\n",
    "\n",
    "                    # Return recommendations based on descriptions\n",
    "\n",
    "def find_description(query, books, n_results=10):\n",
    "    # Create vector from query and compare with global embedding\n",
    "    sentence = [query]\n",
    "    sentence_vector = np.array(embed(sentence))\n",
    "    inner_product = np.inner(sentence_vector, descriptions_array)[0]\n",
    "\n",
    "    # Find sentences with highest inner products\n",
    "    top_n_sentences = pd.Series(inner_product).nlargest(n_results)\n",
    "    top_n_indices = top_n_sentences.index.tolist()\n",
    "    top_n_list = list(books.description.iloc[top_n_indices][1:])\n",
    "\n",
    "    #print(f'Input sentence: \"{query}\"\\n')\n",
    "    #print(f'{n_results} most semantically similar book descriptions: \\n\\n')\n",
    "    #print(*top_n_list, sep='\\n\\n')\n",
    "    return top_n_indices\n",
    "\n",
    "def find_books_description(query, reviews, books):\n",
    "    top_n_indices = find_description(query)\n",
    "    return books[books.book_id.isin(books.iloc[top_n_indices].book_id.tolist())][['title', 'name','description', 'weighted_score', 'book_id']].fillna('')\n",
    "\n",
    "def show_recommendations(query, reviews, books, n_results=5):\n",
    "    top_n_indices = find_reviews(query, reviews, n_results)\n",
    "    book_recommends = find_books(query, reviews, books, n_results)\n",
    "    book_recommends['for_url'] = book_recommends['book_id'].astype(str) + '.' + book_recommends['title'].replace(r'\\(.*$', '', regex = True)\n",
    "    return top_n_indices, book_recommends\n",
    "\n",
    "\n",
    "\n",
    "#######################################################################################\n",
    "                            # Load variables and data\n",
    "#######################################################################################\n",
    "\n",
    "# Path to books and reviews DataFrames\n",
    "datapath = '/media/einhard/Seagate Expansion Drive/3380_data/data/Filtered books/'\n",
    "\n",
    "# Books and reviews file names and loading\n",
    "books_file = 'filtered_books.csv'\n",
    "reviews_file = 'filtered_reviews.csv'\n",
    "\n",
    "books, reviews = data_loader(datapath, books_file, reviews_file)\n",
    "embed, sentence_array, descriptions_array = load_embeddings()\n",
    "\n",
    "\n",
    "#######################################################################################\n",
    "                                # Web App\n",
    "#######################################################################################"
   ]
  },
  {
   "cell_type": "code",
   "execution_count": 7,
   "metadata": {},
   "outputs": [],
   "source": [
    "top_n_indices, book_recommends = show_recommendations('cat', reviews, books, 50)"
   ]
  },
  {
   "cell_type": "code",
   "execution_count": 8,
   "metadata": {},
   "outputs": [
    {
     "output_type": "execute_result",
     "data": {
      "text/plain": [
       "                                                title                   name  \\\n",
       "0                             Saga, Vol. 2 (Saga, #2)       Brian K. Vaughan   \n",
       "1                     The Darkest Hour (Warriors, #6)            Erin Hunter   \n",
       "2            Pete the Cat: Rocking in My School Shoes            Eric Litwin   \n",
       "3                        Into the Wild (Warriors, #1)            Erin Hunter   \n",
       "4         This Side of the Grave (Night Huntress, #5)         Jeaniene Frost   \n",
       "5                             Saga, Vol. 1 (Saga, #1)       Brian K. Vaughan   \n",
       "6   Calling on Dragons (Enchanted Forest Chronicle...      Patricia C. Wrede   \n",
       "7                           Where is the Green Sheep?                Mem Fox   \n",
       "8           Halfway to the Grave (Night Huntress, #1)         Jeaniene Frost   \n",
       "9                                     Homer's Odyssey            Gwen Cooper   \n",
       "10  P.S. I Still Love You (To All the Boys I've Lo...              Jenny Han   \n",
       "11                  The Bronze Key (Magisterium,  #3)            Holly Black   \n",
       "12                                 The Cat in the Hat              Dr. Seuss   \n",
       "13                           Curran (Curran POV #1-2)         Gordon Andrews   \n",
       "14                          Wallbanger (Cocktail, #1)          Alice Clayton   \n",
       "15                               Rogue (Shifters, #2)         Rachel Vincent   \n",
       "16                Old Possum's Book of Practical Cats             T.S. Eliot   \n",
       "17                           Kitten's First Full Moon           Kevin Henkes   \n",
       "18                                Written on the Body     Jeanette Winterson   \n",
       "19                                      The Black Cat        Edgar Allan Poe   \n",
       "20                                Alice in Wonderland           Jane Carruth   \n",
       "21             Kitty Raises Hell (Kitty Norville, #6)          Carrie Vaughn   \n",
       "22             Kitty Goes to War (Kitty Norville, #8)          Carrie Vaughn   \n",
       "23                                 They All Saw a Cat         Brendan Wenzel   \n",
       "24       I Could Pee on This: And Other Poems by Cats  Francesco Marciuliano   \n",
       "25  A Street Cat Named Bob: How One Man and His Ca...            James Bowen   \n",
       "26    How to Tell If Your Cat Is Plotting to Kill You          Matthew Inman   \n",
       "27                     The Dream-Quest of Vellitt Boe            Kij Johnson   \n",
       "28  Cat Sense: How the New Feline Science Can Make...        John   Bradshaw   \n",
       "\n",
       "                                          description  weighted_score  \\\n",
       "0   From award-winning writer Brian K. Vaughan (Pr...        4.559449   \n",
       "1   ThunderClan's darkest hour is upon them, as Ti...        4.518915   \n",
       "2   Time to head back to school with this bestsell...        4.317648   \n",
       "3   For generations, four Clans of wild cats have ...        4.289629   \n",
       "4   Danger waits on both sides of the grave.\\nWith...        4.279609   \n",
       "5   When two soldiers from opposite sides of a nev...        4.239886   \n",
       "6   Those wicked wizards are back--and they've bec...        4.189605   \n",
       "7   Here is the blue sheep, and here is the red sh...        4.187512   \n",
       "8   Flirting with the Grave...Half-vampire Catheri...        4.179877   \n",
       "9   Once in nine lives, something extraordinary ha...        4.178691   \n",
       "10  Lara Jean didn't expect to reallyfall for Pete...        4.169809   \n",
       "11  Magic can save you.\\nMagic can kill you.\\nStud...        4.158065   \n",
       "12  Poor Sally and her brother. It's cold and wet ...        4.149963   \n",
       "13  Not short story, novella, or standalone, but c...        4.109394   \n",
       "14  The first night after Caroline moves into her ...        4.099932   \n",
       "15  Okay, so cats don't always land on their feet....        4.099417   \n",
       "16  T. S. Eliot's playful cat poems have delighted...        4.089444   \n",
       "17  The nationally bestselling picture book about ...        4.079562   \n",
       "18  The most beguilingly seductive novel to date f...        4.079555   \n",
       "19  \"The Black Cat\" is one of Edgar Allan Poe's mo...        4.069536   \n",
       "20  This is an adaptation. For the editions of the...        4.029984   \n",
       "21  Sometimes what happens in Vegas doesn't stay i...        3.999580   \n",
       "22  Kitty Norville, Alpha werewolf and host of The...        3.999451   \n",
       "23  The cat walked through the world, with its whi...        3.999359   \n",
       "24  Cat lovers will laugh out loud at the quirkine...        3.969571   \n",
       "25  The moving, uplifting true story of an unlikel...        3.959880   \n",
       "26  If your cat is kneading you, that's not a sign...        3.949925   \n",
       "27  Professor Vellitt Boe teaches at the prestigio...        3.939078   \n",
       "28  Cats have been popular household pets for thou...        3.500055   \n",
       "\n",
       "     book_id                                            for_url  \n",
       "0   17131869                             17131869.Saga, Vol. 2   \n",
       "1      49006                            49006.The Darkest Hour   \n",
       "2    9466024   9466024.Pete the Cat: Rocking in My School Shoes  \n",
       "3     111332                              111332.Into the Wild   \n",
       "4    6871617                    6871617.This Side of the Grave   \n",
       "5   15704307                             15704307.Saga, Vol. 1   \n",
       "6     169879                         169879.Calling on Dragons   \n",
       "7     378164                   378164.Where is the Green Sheep?  \n",
       "8    1421990                      1421990.Halfway to the Grave   \n",
       "9    6261477                            6261477.Homer's Odyssey  \n",
       "10  20698530                    20698530.P.S. I Still Love You   \n",
       "11  13612965                           13612965.The Bronze Key   \n",
       "12    233093                          233093.The Cat in the Hat  \n",
       "13   9394156                                    9394156.Curran   \n",
       "14  15858248                               15858248.Wallbanger   \n",
       "15   2314315                                     2314315.Rogue   \n",
       "16    402128         402128.Old Possum's Book of Practical Cats  \n",
       "17    237665                    237665.Kitten's First Full Moon  \n",
       "18     15054                          15054.Written on the Body  \n",
       "19    391724                               391724.The Black Cat  \n",
       "20     13023                          13023.Alice in Wonderland  \n",
       "21   4894646                         4894646.Kitty Raises Hell   \n",
       "22   7662235                         7662235.Kitty Goes to War   \n",
       "23  28645670                        28645670.They All Saw a Cat  \n",
       "24  14553840  14553840.I Could Pee on This: And Other Poems ...  \n",
       "25  12394068  12394068.A Street Cat Named Bob: How One Man a...  \n",
       "26  15799936  15799936.How to Tell If Your Cat Is Plotting t...  \n",
       "27  29635545            29635545.The Dream-Quest of Vellitt Boe  \n",
       "28  17290708  17290708.Cat Sense: How the New Feline Science...  "
      ],
      "text/html": "<div>\n<style scoped>\n    .dataframe tbody tr th:only-of-type {\n        vertical-align: middle;\n    }\n\n    .dataframe tbody tr th {\n        vertical-align: top;\n    }\n\n    .dataframe thead th {\n        text-align: right;\n    }\n</style>\n<table border=\"1\" class=\"dataframe\">\n  <thead>\n    <tr style=\"text-align: right;\">\n      <th></th>\n      <th>title</th>\n      <th>name</th>\n      <th>description</th>\n      <th>weighted_score</th>\n      <th>book_id</th>\n      <th>for_url</th>\n    </tr>\n  </thead>\n  <tbody>\n    <tr>\n      <th>0</th>\n      <td>Saga, Vol. 2 (Saga, #2)</td>\n      <td>Brian K. Vaughan</td>\n      <td>From award-winning writer Brian K. Vaughan (Pr...</td>\n      <td>4.559449</td>\n      <td>17131869</td>\n      <td>17131869.Saga, Vol. 2</td>\n    </tr>\n    <tr>\n      <th>1</th>\n      <td>The Darkest Hour (Warriors, #6)</td>\n      <td>Erin Hunter</td>\n      <td>ThunderClan's darkest hour is upon them, as Ti...</td>\n      <td>4.518915</td>\n      <td>49006</td>\n      <td>49006.The Darkest Hour</td>\n    </tr>\n    <tr>\n      <th>2</th>\n      <td>Pete the Cat: Rocking in My School Shoes</td>\n      <td>Eric Litwin</td>\n      <td>Time to head back to school with this bestsell...</td>\n      <td>4.317648</td>\n      <td>9466024</td>\n      <td>9466024.Pete the Cat: Rocking in My School Shoes</td>\n    </tr>\n    <tr>\n      <th>3</th>\n      <td>Into the Wild (Warriors, #1)</td>\n      <td>Erin Hunter</td>\n      <td>For generations, four Clans of wild cats have ...</td>\n      <td>4.289629</td>\n      <td>111332</td>\n      <td>111332.Into the Wild</td>\n    </tr>\n    <tr>\n      <th>4</th>\n      <td>This Side of the Grave (Night Huntress, #5)</td>\n      <td>Jeaniene Frost</td>\n      <td>Danger waits on both sides of the grave.\\nWith...</td>\n      <td>4.279609</td>\n      <td>6871617</td>\n      <td>6871617.This Side of the Grave</td>\n    </tr>\n    <tr>\n      <th>5</th>\n      <td>Saga, Vol. 1 (Saga, #1)</td>\n      <td>Brian K. Vaughan</td>\n      <td>When two soldiers from opposite sides of a nev...</td>\n      <td>4.239886</td>\n      <td>15704307</td>\n      <td>15704307.Saga, Vol. 1</td>\n    </tr>\n    <tr>\n      <th>6</th>\n      <td>Calling on Dragons (Enchanted Forest Chronicle...</td>\n      <td>Patricia C. Wrede</td>\n      <td>Those wicked wizards are back--and they've bec...</td>\n      <td>4.189605</td>\n      <td>169879</td>\n      <td>169879.Calling on Dragons</td>\n    </tr>\n    <tr>\n      <th>7</th>\n      <td>Where is the Green Sheep?</td>\n      <td>Mem Fox</td>\n      <td>Here is the blue sheep, and here is the red sh...</td>\n      <td>4.187512</td>\n      <td>378164</td>\n      <td>378164.Where is the Green Sheep?</td>\n    </tr>\n    <tr>\n      <th>8</th>\n      <td>Halfway to the Grave (Night Huntress, #1)</td>\n      <td>Jeaniene Frost</td>\n      <td>Flirting with the Grave...Half-vampire Catheri...</td>\n      <td>4.179877</td>\n      <td>1421990</td>\n      <td>1421990.Halfway to the Grave</td>\n    </tr>\n    <tr>\n      <th>9</th>\n      <td>Homer's Odyssey</td>\n      <td>Gwen Cooper</td>\n      <td>Once in nine lives, something extraordinary ha...</td>\n      <td>4.178691</td>\n      <td>6261477</td>\n      <td>6261477.Homer's Odyssey</td>\n    </tr>\n    <tr>\n      <th>10</th>\n      <td>P.S. I Still Love You (To All the Boys I've Lo...</td>\n      <td>Jenny Han</td>\n      <td>Lara Jean didn't expect to reallyfall for Pete...</td>\n      <td>4.169809</td>\n      <td>20698530</td>\n      <td>20698530.P.S. I Still Love You</td>\n    </tr>\n    <tr>\n      <th>11</th>\n      <td>The Bronze Key (Magisterium,  #3)</td>\n      <td>Holly Black</td>\n      <td>Magic can save you.\\nMagic can kill you.\\nStud...</td>\n      <td>4.158065</td>\n      <td>13612965</td>\n      <td>13612965.The Bronze Key</td>\n    </tr>\n    <tr>\n      <th>12</th>\n      <td>The Cat in the Hat</td>\n      <td>Dr. Seuss</td>\n      <td>Poor Sally and her brother. It's cold and wet ...</td>\n      <td>4.149963</td>\n      <td>233093</td>\n      <td>233093.The Cat in the Hat</td>\n    </tr>\n    <tr>\n      <th>13</th>\n      <td>Curran (Curran POV #1-2)</td>\n      <td>Gordon Andrews</td>\n      <td>Not short story, novella, or standalone, but c...</td>\n      <td>4.109394</td>\n      <td>9394156</td>\n      <td>9394156.Curran</td>\n    </tr>\n    <tr>\n      <th>14</th>\n      <td>Wallbanger (Cocktail, #1)</td>\n      <td>Alice Clayton</td>\n      <td>The first night after Caroline moves into her ...</td>\n      <td>4.099932</td>\n      <td>15858248</td>\n      <td>15858248.Wallbanger</td>\n    </tr>\n    <tr>\n      <th>15</th>\n      <td>Rogue (Shifters, #2)</td>\n      <td>Rachel Vincent</td>\n      <td>Okay, so cats don't always land on their feet....</td>\n      <td>4.099417</td>\n      <td>2314315</td>\n      <td>2314315.Rogue</td>\n    </tr>\n    <tr>\n      <th>16</th>\n      <td>Old Possum's Book of Practical Cats</td>\n      <td>T.S. Eliot</td>\n      <td>T. S. Eliot's playful cat poems have delighted...</td>\n      <td>4.089444</td>\n      <td>402128</td>\n      <td>402128.Old Possum's Book of Practical Cats</td>\n    </tr>\n    <tr>\n      <th>17</th>\n      <td>Kitten's First Full Moon</td>\n      <td>Kevin Henkes</td>\n      <td>The nationally bestselling picture book about ...</td>\n      <td>4.079562</td>\n      <td>237665</td>\n      <td>237665.Kitten's First Full Moon</td>\n    </tr>\n    <tr>\n      <th>18</th>\n      <td>Written on the Body</td>\n      <td>Jeanette Winterson</td>\n      <td>The most beguilingly seductive novel to date f...</td>\n      <td>4.079555</td>\n      <td>15054</td>\n      <td>15054.Written on the Body</td>\n    </tr>\n    <tr>\n      <th>19</th>\n      <td>The Black Cat</td>\n      <td>Edgar Allan Poe</td>\n      <td>\"The Black Cat\" is one of Edgar Allan Poe's mo...</td>\n      <td>4.069536</td>\n      <td>391724</td>\n      <td>391724.The Black Cat</td>\n    </tr>\n    <tr>\n      <th>20</th>\n      <td>Alice in Wonderland</td>\n      <td>Jane Carruth</td>\n      <td>This is an adaptation. For the editions of the...</td>\n      <td>4.029984</td>\n      <td>13023</td>\n      <td>13023.Alice in Wonderland</td>\n    </tr>\n    <tr>\n      <th>21</th>\n      <td>Kitty Raises Hell (Kitty Norville, #6)</td>\n      <td>Carrie Vaughn</td>\n      <td>Sometimes what happens in Vegas doesn't stay i...</td>\n      <td>3.999580</td>\n      <td>4894646</td>\n      <td>4894646.Kitty Raises Hell</td>\n    </tr>\n    <tr>\n      <th>22</th>\n      <td>Kitty Goes to War (Kitty Norville, #8)</td>\n      <td>Carrie Vaughn</td>\n      <td>Kitty Norville, Alpha werewolf and host of The...</td>\n      <td>3.999451</td>\n      <td>7662235</td>\n      <td>7662235.Kitty Goes to War</td>\n    </tr>\n    <tr>\n      <th>23</th>\n      <td>They All Saw a Cat</td>\n      <td>Brendan Wenzel</td>\n      <td>The cat walked through the world, with its whi...</td>\n      <td>3.999359</td>\n      <td>28645670</td>\n      <td>28645670.They All Saw a Cat</td>\n    </tr>\n    <tr>\n      <th>24</th>\n      <td>I Could Pee on This: And Other Poems by Cats</td>\n      <td>Francesco Marciuliano</td>\n      <td>Cat lovers will laugh out loud at the quirkine...</td>\n      <td>3.969571</td>\n      <td>14553840</td>\n      <td>14553840.I Could Pee on This: And Other Poems ...</td>\n    </tr>\n    <tr>\n      <th>25</th>\n      <td>A Street Cat Named Bob: How One Man and His Ca...</td>\n      <td>James Bowen</td>\n      <td>The moving, uplifting true story of an unlikel...</td>\n      <td>3.959880</td>\n      <td>12394068</td>\n      <td>12394068.A Street Cat Named Bob: How One Man a...</td>\n    </tr>\n    <tr>\n      <th>26</th>\n      <td>How to Tell If Your Cat Is Plotting to Kill You</td>\n      <td>Matthew Inman</td>\n      <td>If your cat is kneading you, that's not a sign...</td>\n      <td>3.949925</td>\n      <td>15799936</td>\n      <td>15799936.How to Tell If Your Cat Is Plotting t...</td>\n    </tr>\n    <tr>\n      <th>27</th>\n      <td>The Dream-Quest of Vellitt Boe</td>\n      <td>Kij Johnson</td>\n      <td>Professor Vellitt Boe teaches at the prestigio...</td>\n      <td>3.939078</td>\n      <td>29635545</td>\n      <td>29635545.The Dream-Quest of Vellitt Boe</td>\n    </tr>\n    <tr>\n      <th>28</th>\n      <td>Cat Sense: How the New Feline Science Can Make...</td>\n      <td>John   Bradshaw</td>\n      <td>Cats have been popular household pets for thou...</td>\n      <td>3.500055</td>\n      <td>17290708</td>\n      <td>17290708.Cat Sense: How the New Feline Science...</td>\n    </tr>\n  </tbody>\n</table>\n</div>"
     },
     "metadata": {},
     "execution_count": 8
    }
   ],
   "source": [
    "book_recommends"
   ]
  },
  {
   "cell_type": "code",
   "execution_count": 13,
   "metadata": {},
   "outputs": [
    {
     "output_type": "execute_result",
     "data": {
      "text/plain": [
       "                                                   title      author  \\\n",
       "71                               Saga, Vol. 2 (Saga, #2)     24514.0   \n",
       "135                      The Darkest Hour (Warriors, #6)     27498.0   \n",
       "1239            Pete the Cat: Rocking in My School Shoes   1644249.0   \n",
       "1548                        Into the Wild (Warriors, #1)     27498.0   \n",
       "1690         This Side of the Grave (Night Huntress, #5)    669810.0   \n",
       "2269                             Saga, Vol. 1 (Saga, #1)     24514.0   \n",
       "3264   Calling on Dragons (Enchanted Forest Chronicle...     36122.0   \n",
       "3376                           Where is the Green Sheep?      2131.0   \n",
       "3432           Halfway to the Grave (Night Huntress, #1)    669810.0   \n",
       "3530                                     Homer's Odyssey    179790.0   \n",
       "3645   P.S. I Still Love You (To All the Boys I've Lo...    151371.0   \n",
       "4013                   The Bronze Key (Magisterium,  #3)     25422.0   \n",
       "4096                                  The Cat in the Hat     61105.0   \n",
       "5110                            Curran (Curran POV #1-2)   5767872.0   \n",
       "5266                           Wallbanger (Cocktail, #1)   3379564.0   \n",
       "5343                                Rogue (Shifters, #2)    415967.0   \n",
       "5574                 Old Possum's Book of Practical Cats     18540.0   \n",
       "5795                            Kitten's First Full Moon       193.0   \n",
       "5797                                 Written on the Body      9399.0   \n",
       "6075                                       The Black Cat   4624490.0   \n",
       "7085                                 Alice in Wonderland     34933.0   \n",
       "7872              Kitty Raises Hell (Kitty Norville, #6)      8988.0   \n",
       "7899              Kitty Goes to War (Kitty Norville, #8)      8988.0   \n",
       "7912                                  They All Saw a Cat   7126026.0   \n",
       "8624        I Could Pee on This: And Other Poems by Cats   6075654.0   \n",
       "8828   A Street Cat Named Bob: How One Man and His Ca...   5828897.0   \n",
       "9080     How to Tell If Your Cat Is Plotting to Kill You   3409358.0   \n",
       "9578                      The Dream-Quest of Vellitt Boe    110153.0   \n",
       "12006  Cat Sense: How the New Feline Science Can Make...  14196952.0   \n",
       "\n",
       "       average_rating  ratings_count  text_reviews_count  \\\n",
       "71               4.56        58474.0              4591.0   \n",
       "135              4.52        27856.0               891.0   \n",
       "1239             4.32         8567.0               540.0   \n",
       "1548             4.29        50490.0              3954.0   \n",
       "1690             4.28        46590.0              1978.0   \n",
       "2269             4.24       142640.0              8700.0   \n",
       "3264             4.19        34766.0               538.0   \n",
       "3376             4.19         5483.0               326.0   \n",
       "3432             4.18       108349.0              5496.0   \n",
       "3530             4.18        10086.0              1207.0   \n",
       "3645             4.17        66898.0              9664.0   \n",
       "4013             4.16         6288.0               917.0   \n",
       "4096             4.15       320728.0              4287.0   \n",
       "5110             4.11        16064.0               429.0   \n",
       "5266             4.10       136476.0             10565.0   \n",
       "5343             4.10        15841.0               654.0   \n",
       "5574             4.09        15716.0               626.0   \n",
       "5795             4.08        18825.0              1604.0   \n",
       "5797             4.08        18524.0              1239.0   \n",
       "6075             4.07        16695.0               769.0   \n",
       "7085             4.03       346530.0              4966.0   \n",
       "7872             4.00        10097.0               304.0   \n",
       "7899             4.00         7711.0               326.0   \n",
       "7912             4.00         6601.0               766.0   \n",
       "8624             3.97         6390.0               997.0   \n",
       "8828             3.96        18749.0              2412.0   \n",
       "9080             3.95        23340.0              1461.0   \n",
       "9578             3.94         1321.0               339.0   \n",
       "12006            3.49         2062.0               335.0   \n",
       "\n",
       "                                             description            shelf_1  \\\n",
       "71     From award-winning writer Brian K. Vaughan (Pr...                NaN   \n",
       "135    ThunderClan's darkest hour is upon them, as Ti...           warriors   \n",
       "1239   Time to head back to school with this bestsell...      picture-books   \n",
       "1548   For generations, four Clans of wild cats have ...  currently-reading   \n",
       "1690   Danger waits on both sides of the grave.\\nWith...           vampires   \n",
       "2269   When two soldiers from opposite sides of a nev...                NaN   \n",
       "3264   Those wicked wizards are back--and they've bec...            fantasy   \n",
       "3376   Here is the blue sheep, and here is the red sh...       picture-book   \n",
       "3432   Flirting with the Grave...Half-vampire Catheri...                NaN   \n",
       "3530   Once in nine lives, something extraordinary ha...        non-fiction   \n",
       "3645   Lara Jean didn't expect to reallyfall for Pete...          favorites   \n",
       "4013   Magic can save you.\\nMagic can kill you.\\nStud...            fantasy   \n",
       "4096   Poor Sally and her brother. It's cold and wet ...   children-s-books   \n",
       "5110   Not short story, novella, or standalone, but c...      urban-fantasy   \n",
       "5266   The first night after Caroline moves into her ...            to-read   \n",
       "5343   Okay, so cats don't always land on their feet....      urban-fantasy   \n",
       "5574   T. S. Eliot's playful cat poems have delighted...             poetry   \n",
       "5795   The nationally bestselling picture book about ...      picture-books   \n",
       "5797   The most beguilingly seductive novel to date f...          favorites   \n",
       "6075   \"The Black Cat\" is one of Edgar Allan Poe's mo...           classics   \n",
       "7085   This is an adaptation. For the editions of the...  currently-reading   \n",
       "7872   Sometimes what happens in Vegas doesn't stay i...      urban-fantasy   \n",
       "7899   Kitty Norville, Alpha werewolf and host of The...      urban-fantasy   \n",
       "7912   The cat walked through the world, with its whi...      picture-books   \n",
       "8624   Cat lovers will laugh out loud at the quirkine...             poetry   \n",
       "8828   The moving, uplifting true story of an unlikel...        non-fiction   \n",
       "9080   If your cat is kneading you, that's not a sign...              humor   \n",
       "9578   Professor Vellitt Boe teaches at the prestigio...            fantasy   \n",
       "12006  Cats have been popular household pets for thou...  currently-reading   \n",
       "\n",
       "        book_id  weighted_score                   name  \n",
       "71     17131869        4.559449       Brian K. Vaughan  \n",
       "135       49006        4.518915            Erin Hunter  \n",
       "1239    9466024        4.317648            Eric Litwin  \n",
       "1548     111332        4.289629            Erin Hunter  \n",
       "1690    6871617        4.279609         Jeaniene Frost  \n",
       "2269   15704307        4.239886       Brian K. Vaughan  \n",
       "3264     169879        4.189605      Patricia C. Wrede  \n",
       "3376     378164        4.187512                Mem Fox  \n",
       "3432    1421990        4.179877         Jeaniene Frost  \n",
       "3530    6261477        4.178691            Gwen Cooper  \n",
       "3645   20698530        4.169809              Jenny Han  \n",
       "4013   13612965        4.158065            Holly Black  \n",
       "4096     233093        4.149963              Dr. Seuss  \n",
       "5110    9394156        4.109394         Gordon Andrews  \n",
       "5266   15858248        4.099932          Alice Clayton  \n",
       "5343    2314315        4.099417         Rachel Vincent  \n",
       "5574     402128        4.089444             T.S. Eliot  \n",
       "5795     237665        4.079562           Kevin Henkes  \n",
       "5797      15054        4.079555     Jeanette Winterson  \n",
       "6075     391724        4.069536        Edgar Allan Poe  \n",
       "7085      13023        4.029984           Jane Carruth  \n",
       "7872    4894646        3.999580          Carrie Vaughn  \n",
       "7899    7662235        3.999451          Carrie Vaughn  \n",
       "7912   28645670        3.999359         Brendan Wenzel  \n",
       "8624   14553840        3.969571  Francesco Marciuliano  \n",
       "8828   12394068        3.959880            James Bowen  \n",
       "9080   15799936        3.949925          Matthew Inman  \n",
       "9578   29635545        3.939078            Kij Johnson  \n",
       "12006  17290708        3.500055        John   Bradshaw  "
      ],
      "text/html": "<div>\n<style scoped>\n    .dataframe tbody tr th:only-of-type {\n        vertical-align: middle;\n    }\n\n    .dataframe tbody tr th {\n        vertical-align: top;\n    }\n\n    .dataframe thead th {\n        text-align: right;\n    }\n</style>\n<table border=\"1\" class=\"dataframe\">\n  <thead>\n    <tr style=\"text-align: right;\">\n      <th></th>\n      <th>title</th>\n      <th>author</th>\n      <th>average_rating</th>\n      <th>ratings_count</th>\n      <th>text_reviews_count</th>\n      <th>description</th>\n      <th>shelf_1</th>\n      <th>book_id</th>\n      <th>weighted_score</th>\n      <th>name</th>\n    </tr>\n  </thead>\n  <tbody>\n    <tr>\n      <th>71</th>\n      <td>Saga, Vol. 2 (Saga, #2)</td>\n      <td>24514.0</td>\n      <td>4.56</td>\n      <td>58474.0</td>\n      <td>4591.0</td>\n      <td>From award-winning writer Brian K. Vaughan (Pr...</td>\n      <td>NaN</td>\n      <td>17131869</td>\n      <td>4.559449</td>\n      <td>Brian K. Vaughan</td>\n    </tr>\n    <tr>\n      <th>135</th>\n      <td>The Darkest Hour (Warriors, #6)</td>\n      <td>27498.0</td>\n      <td>4.52</td>\n      <td>27856.0</td>\n      <td>891.0</td>\n      <td>ThunderClan's darkest hour is upon them, as Ti...</td>\n      <td>warriors</td>\n      <td>49006</td>\n      <td>4.518915</td>\n      <td>Erin Hunter</td>\n    </tr>\n    <tr>\n      <th>1239</th>\n      <td>Pete the Cat: Rocking in My School Shoes</td>\n      <td>1644249.0</td>\n      <td>4.32</td>\n      <td>8567.0</td>\n      <td>540.0</td>\n      <td>Time to head back to school with this bestsell...</td>\n      <td>picture-books</td>\n      <td>9466024</td>\n      <td>4.317648</td>\n      <td>Eric Litwin</td>\n    </tr>\n    <tr>\n      <th>1548</th>\n      <td>Into the Wild (Warriors, #1)</td>\n      <td>27498.0</td>\n      <td>4.29</td>\n      <td>50490.0</td>\n      <td>3954.0</td>\n      <td>For generations, four Clans of wild cats have ...</td>\n      <td>currently-reading</td>\n      <td>111332</td>\n      <td>4.289629</td>\n      <td>Erin Hunter</td>\n    </tr>\n    <tr>\n      <th>1690</th>\n      <td>This Side of the Grave (Night Huntress, #5)</td>\n      <td>669810.0</td>\n      <td>4.28</td>\n      <td>46590.0</td>\n      <td>1978.0</td>\n      <td>Danger waits on both sides of the grave.\\nWith...</td>\n      <td>vampires</td>\n      <td>6871617</td>\n      <td>4.279609</td>\n      <td>Jeaniene Frost</td>\n    </tr>\n    <tr>\n      <th>2269</th>\n      <td>Saga, Vol. 1 (Saga, #1)</td>\n      <td>24514.0</td>\n      <td>4.24</td>\n      <td>142640.0</td>\n      <td>8700.0</td>\n      <td>When two soldiers from opposite sides of a nev...</td>\n      <td>NaN</td>\n      <td>15704307</td>\n      <td>4.239886</td>\n      <td>Brian K. Vaughan</td>\n    </tr>\n    <tr>\n      <th>3264</th>\n      <td>Calling on Dragons (Enchanted Forest Chronicle...</td>\n      <td>36122.0</td>\n      <td>4.19</td>\n      <td>34766.0</td>\n      <td>538.0</td>\n      <td>Those wicked wizards are back--and they've bec...</td>\n      <td>fantasy</td>\n      <td>169879</td>\n      <td>4.189605</td>\n      <td>Patricia C. Wrede</td>\n    </tr>\n    <tr>\n      <th>3376</th>\n      <td>Where is the Green Sheep?</td>\n      <td>2131.0</td>\n      <td>4.19</td>\n      <td>5483.0</td>\n      <td>326.0</td>\n      <td>Here is the blue sheep, and here is the red sh...</td>\n      <td>picture-book</td>\n      <td>378164</td>\n      <td>4.187512</td>\n      <td>Mem Fox</td>\n    </tr>\n    <tr>\n      <th>3432</th>\n      <td>Halfway to the Grave (Night Huntress, #1)</td>\n      <td>669810.0</td>\n      <td>4.18</td>\n      <td>108349.0</td>\n      <td>5496.0</td>\n      <td>Flirting with the Grave...Half-vampire Catheri...</td>\n      <td>NaN</td>\n      <td>1421990</td>\n      <td>4.179877</td>\n      <td>Jeaniene Frost</td>\n    </tr>\n    <tr>\n      <th>3530</th>\n      <td>Homer's Odyssey</td>\n      <td>179790.0</td>\n      <td>4.18</td>\n      <td>10086.0</td>\n      <td>1207.0</td>\n      <td>Once in nine lives, something extraordinary ha...</td>\n      <td>non-fiction</td>\n      <td>6261477</td>\n      <td>4.178691</td>\n      <td>Gwen Cooper</td>\n    </tr>\n    <tr>\n      <th>3645</th>\n      <td>P.S. I Still Love You (To All the Boys I've Lo...</td>\n      <td>151371.0</td>\n      <td>4.17</td>\n      <td>66898.0</td>\n      <td>9664.0</td>\n      <td>Lara Jean didn't expect to reallyfall for Pete...</td>\n      <td>favorites</td>\n      <td>20698530</td>\n      <td>4.169809</td>\n      <td>Jenny Han</td>\n    </tr>\n    <tr>\n      <th>4013</th>\n      <td>The Bronze Key (Magisterium,  #3)</td>\n      <td>25422.0</td>\n      <td>4.16</td>\n      <td>6288.0</td>\n      <td>917.0</td>\n      <td>Magic can save you.\\nMagic can kill you.\\nStud...</td>\n      <td>fantasy</td>\n      <td>13612965</td>\n      <td>4.158065</td>\n      <td>Holly Black</td>\n    </tr>\n    <tr>\n      <th>4096</th>\n      <td>The Cat in the Hat</td>\n      <td>61105.0</td>\n      <td>4.15</td>\n      <td>320728.0</td>\n      <td>4287.0</td>\n      <td>Poor Sally and her brother. It's cold and wet ...</td>\n      <td>children-s-books</td>\n      <td>233093</td>\n      <td>4.149963</td>\n      <td>Dr. Seuss</td>\n    </tr>\n    <tr>\n      <th>5110</th>\n      <td>Curran (Curran POV #1-2)</td>\n      <td>5767872.0</td>\n      <td>4.11</td>\n      <td>16064.0</td>\n      <td>429.0</td>\n      <td>Not short story, novella, or standalone, but c...</td>\n      <td>urban-fantasy</td>\n      <td>9394156</td>\n      <td>4.109394</td>\n      <td>Gordon Andrews</td>\n    </tr>\n    <tr>\n      <th>5266</th>\n      <td>Wallbanger (Cocktail, #1)</td>\n      <td>3379564.0</td>\n      <td>4.10</td>\n      <td>136476.0</td>\n      <td>10565.0</td>\n      <td>The first night after Caroline moves into her ...</td>\n      <td>to-read</td>\n      <td>15858248</td>\n      <td>4.099932</td>\n      <td>Alice Clayton</td>\n    </tr>\n    <tr>\n      <th>5343</th>\n      <td>Rogue (Shifters, #2)</td>\n      <td>415967.0</td>\n      <td>4.10</td>\n      <td>15841.0</td>\n      <td>654.0</td>\n      <td>Okay, so cats don't always land on their feet....</td>\n      <td>urban-fantasy</td>\n      <td>2314315</td>\n      <td>4.099417</td>\n      <td>Rachel Vincent</td>\n    </tr>\n    <tr>\n      <th>5574</th>\n      <td>Old Possum's Book of Practical Cats</td>\n      <td>18540.0</td>\n      <td>4.09</td>\n      <td>15716.0</td>\n      <td>626.0</td>\n      <td>T. S. Eliot's playful cat poems have delighted...</td>\n      <td>poetry</td>\n      <td>402128</td>\n      <td>4.089444</td>\n      <td>T.S. Eliot</td>\n    </tr>\n    <tr>\n      <th>5795</th>\n      <td>Kitten's First Full Moon</td>\n      <td>193.0</td>\n      <td>4.08</td>\n      <td>18825.0</td>\n      <td>1604.0</td>\n      <td>The nationally bestselling picture book about ...</td>\n      <td>picture-books</td>\n      <td>237665</td>\n      <td>4.079562</td>\n      <td>Kevin Henkes</td>\n    </tr>\n    <tr>\n      <th>5797</th>\n      <td>Written on the Body</td>\n      <td>9399.0</td>\n      <td>4.08</td>\n      <td>18524.0</td>\n      <td>1239.0</td>\n      <td>The most beguilingly seductive novel to date f...</td>\n      <td>favorites</td>\n      <td>15054</td>\n      <td>4.079555</td>\n      <td>Jeanette Winterson</td>\n    </tr>\n    <tr>\n      <th>6075</th>\n      <td>The Black Cat</td>\n      <td>4624490.0</td>\n      <td>4.07</td>\n      <td>16695.0</td>\n      <td>769.0</td>\n      <td>\"The Black Cat\" is one of Edgar Allan Poe's mo...</td>\n      <td>classics</td>\n      <td>391724</td>\n      <td>4.069536</td>\n      <td>Edgar Allan Poe</td>\n    </tr>\n    <tr>\n      <th>7085</th>\n      <td>Alice in Wonderland</td>\n      <td>34933.0</td>\n      <td>4.03</td>\n      <td>346530.0</td>\n      <td>4966.0</td>\n      <td>This is an adaptation. For the editions of the...</td>\n      <td>currently-reading</td>\n      <td>13023</td>\n      <td>4.029984</td>\n      <td>Jane Carruth</td>\n    </tr>\n    <tr>\n      <th>7872</th>\n      <td>Kitty Raises Hell (Kitty Norville, #6)</td>\n      <td>8988.0</td>\n      <td>4.00</td>\n      <td>10097.0</td>\n      <td>304.0</td>\n      <td>Sometimes what happens in Vegas doesn't stay i...</td>\n      <td>urban-fantasy</td>\n      <td>4894646</td>\n      <td>3.999580</td>\n      <td>Carrie Vaughn</td>\n    </tr>\n    <tr>\n      <th>7899</th>\n      <td>Kitty Goes to War (Kitty Norville, #8)</td>\n      <td>8988.0</td>\n      <td>4.00</td>\n      <td>7711.0</td>\n      <td>326.0</td>\n      <td>Kitty Norville, Alpha werewolf and host of The...</td>\n      <td>urban-fantasy</td>\n      <td>7662235</td>\n      <td>3.999451</td>\n      <td>Carrie Vaughn</td>\n    </tr>\n    <tr>\n      <th>7912</th>\n      <td>They All Saw a Cat</td>\n      <td>7126026.0</td>\n      <td>4.00</td>\n      <td>6601.0</td>\n      <td>766.0</td>\n      <td>The cat walked through the world, with its whi...</td>\n      <td>picture-books</td>\n      <td>28645670</td>\n      <td>3.999359</td>\n      <td>Brendan Wenzel</td>\n    </tr>\n    <tr>\n      <th>8624</th>\n      <td>I Could Pee on This: And Other Poems by Cats</td>\n      <td>6075654.0</td>\n      <td>3.97</td>\n      <td>6390.0</td>\n      <td>997.0</td>\n      <td>Cat lovers will laugh out loud at the quirkine...</td>\n      <td>poetry</td>\n      <td>14553840</td>\n      <td>3.969571</td>\n      <td>Francesco Marciuliano</td>\n    </tr>\n    <tr>\n      <th>8828</th>\n      <td>A Street Cat Named Bob: How One Man and His Ca...</td>\n      <td>5828897.0</td>\n      <td>3.96</td>\n      <td>18749.0</td>\n      <td>2412.0</td>\n      <td>The moving, uplifting true story of an unlikel...</td>\n      <td>non-fiction</td>\n      <td>12394068</td>\n      <td>3.959880</td>\n      <td>James Bowen</td>\n    </tr>\n    <tr>\n      <th>9080</th>\n      <td>How to Tell If Your Cat Is Plotting to Kill You</td>\n      <td>3409358.0</td>\n      <td>3.95</td>\n      <td>23340.0</td>\n      <td>1461.0</td>\n      <td>If your cat is kneading you, that's not a sign...</td>\n      <td>humor</td>\n      <td>15799936</td>\n      <td>3.949925</td>\n      <td>Matthew Inman</td>\n    </tr>\n    <tr>\n      <th>9578</th>\n      <td>The Dream-Quest of Vellitt Boe</td>\n      <td>110153.0</td>\n      <td>3.94</td>\n      <td>1321.0</td>\n      <td>339.0</td>\n      <td>Professor Vellitt Boe teaches at the prestigio...</td>\n      <td>fantasy</td>\n      <td>29635545</td>\n      <td>3.939078</td>\n      <td>Kij Johnson</td>\n    </tr>\n    <tr>\n      <th>12006</th>\n      <td>Cat Sense: How the New Feline Science Can Make...</td>\n      <td>14196952.0</td>\n      <td>3.49</td>\n      <td>2062.0</td>\n      <td>335.0</td>\n      <td>Cats have been popular household pets for thou...</td>\n      <td>currently-reading</td>\n      <td>17290708</td>\n      <td>3.500055</td>\n      <td>John   Bradshaw</td>\n    </tr>\n  </tbody>\n</table>\n</div>"
     },
     "metadata": {},
     "execution_count": 13
    }
   ],
   "source": [
    "books[books.book_id.isin(reviews[reviews.index.isin(top_n_indices)].book_id.tolist())]"
   ]
  },
  {
   "cell_type": "code",
   "execution_count": 15,
   "metadata": {},
   "outputs": [
    {
     "output_type": "error",
     "ename": "TypeError",
     "evalue": "cannot concatenate object of type '<class 'str'>'; only Series and DataFrame objs are valid",
     "traceback": [
      "\u001b[0;31m---------------------------------------------------------------------------\u001b[0m",
      "\u001b[0;31mTypeError\u001b[0m                                 Traceback (most recent call last)",
      "\u001b[0;32m<ipython-input-15-9ac6c3c7378b>\u001b[0m in \u001b[0;36m<module>\u001b[0;34m\u001b[0m\n\u001b[1;32m      2\u001b[0m \u001b[0;34m\u001b[0m\u001b[0m\n\u001b[1;32m      3\u001b[0m \u001b[0;32mfor\u001b[0m \u001b[0midx\u001b[0m\u001b[0;34m,\u001b[0m \u001b[0mi\u001b[0m \u001b[0;32min\u001b[0m \u001b[0menumerate\u001b[0m\u001b[0;34m(\u001b[0m\u001b[0mreviews\u001b[0m\u001b[0;34m.\u001b[0m\u001b[0miloc\u001b[0m\u001b[0;34m[\u001b[0m\u001b[0mtop_n_indices\u001b[0m\u001b[0;34m]\u001b[0m\u001b[0;34m.\u001b[0m\u001b[0mindex\u001b[0m\u001b[0;34m)\u001b[0m\u001b[0;34m:\u001b[0m\u001b[0;34m\u001b[0m\u001b[0;34m\u001b[0m\u001b[0m\n\u001b[0;32m----> 4\u001b[0;31m     \u001b[0mrec_df\u001b[0m\u001b[0;34m.\u001b[0m\u001b[0mappend\u001b[0m\u001b[0;34m(\u001b[0m\u001b[0mbook_recommends\u001b[0m\u001b[0;34m[\u001b[0m\u001b[0mbook_recommends\u001b[0m\u001b[0;34m.\u001b[0m\u001b[0mbook_id\u001b[0m \u001b[0;34m==\u001b[0m \u001b[0;34m(\u001b[0m\u001b[0mreviews\u001b[0m\u001b[0;34m[\u001b[0m\u001b[0mreviews\u001b[0m\u001b[0;34m.\u001b[0m\u001b[0mindex\u001b[0m \u001b[0;34m==\u001b[0m \u001b[0mi\u001b[0m\u001b[0;34m]\u001b[0m\u001b[0;34m.\u001b[0m\u001b[0mbook_id\u001b[0m\u001b[0;34m.\u001b[0m\u001b[0mtolist\u001b[0m\u001b[0;34m(\u001b[0m\u001b[0;34m)\u001b[0m\u001b[0;34m[\u001b[0m\u001b[0;36m0\u001b[0m\u001b[0;34m]\u001b[0m\u001b[0;34m)\u001b[0m\u001b[0;34m]\u001b[0m\u001b[0;34m.\u001b[0m\u001b[0mtitle\u001b[0m\u001b[0;34m.\u001b[0m\u001b[0mtolist\u001b[0m\u001b[0;34m(\u001b[0m\u001b[0;34m)\u001b[0m\u001b[0;34m[\u001b[0m\u001b[0;36m0\u001b[0m\u001b[0;34m]\u001b[0m\u001b[0;34m)\u001b[0m\u001b[0;34m\u001b[0m\u001b[0;34m\u001b[0m\u001b[0m\n\u001b[0m\u001b[1;32m      5\u001b[0m     \u001b[0mrec_df\u001b[0m\u001b[0;34m.\u001b[0m\u001b[0mappend\u001b[0m\u001b[0;34m(\u001b[0m\u001b[0mbook_recommends\u001b[0m\u001b[0;34m[\u001b[0m\u001b[0mbook_recommends\u001b[0m\u001b[0;34m.\u001b[0m\u001b[0mbook_id\u001b[0m \u001b[0;34m==\u001b[0m \u001b[0;34m(\u001b[0m\u001b[0mreviews\u001b[0m\u001b[0;34m[\u001b[0m\u001b[0mreviews\u001b[0m\u001b[0;34m.\u001b[0m\u001b[0mindex\u001b[0m \u001b[0;34m==\u001b[0m \u001b[0mi\u001b[0m\u001b[0;34m]\u001b[0m\u001b[0;34m.\u001b[0m\u001b[0mbook_id\u001b[0m\u001b[0;34m.\u001b[0m\u001b[0mtolist\u001b[0m\u001b[0;34m(\u001b[0m\u001b[0;34m)\u001b[0m\u001b[0;34m[\u001b[0m\u001b[0;36m0\u001b[0m\u001b[0;34m]\u001b[0m\u001b[0;34m)\u001b[0m\u001b[0;34m]\u001b[0m\u001b[0;34m.\u001b[0m\u001b[0mname\u001b[0m\u001b[0;34m.\u001b[0m\u001b[0mtolist\u001b[0m\u001b[0;34m(\u001b[0m\u001b[0;34m)\u001b[0m\u001b[0;34m[\u001b[0m\u001b[0;36m0\u001b[0m\u001b[0;34m]\u001b[0m\u001b[0;34m)\u001b[0m\u001b[0;34m\u001b[0m\u001b[0;34m\u001b[0m\u001b[0m\n\u001b[1;32m      6\u001b[0m     \u001b[0mrec_df\u001b[0m\u001b[0;34m.\u001b[0m\u001b[0mappend\u001b[0m\u001b[0;34m(\u001b[0m\u001b[0mround\u001b[0m\u001b[0;34m(\u001b[0m\u001b[0mbooks\u001b[0m\u001b[0;34m[\u001b[0m\u001b[0mbooks\u001b[0m\u001b[0;34m.\u001b[0m\u001b[0mbook_id\u001b[0m\u001b[0;34m.\u001b[0m\u001b[0misin\u001b[0m\u001b[0;34m(\u001b[0m\u001b[0mreviews\u001b[0m\u001b[0;34m[\u001b[0m\u001b[0mreviews\u001b[0m\u001b[0;34m.\u001b[0m\u001b[0mindex\u001b[0m \u001b[0;34m==\u001b[0m \u001b[0mi\u001b[0m\u001b[0;34m]\u001b[0m\u001b[0;34m.\u001b[0m\u001b[0mbook_id\u001b[0m\u001b[0;34m.\u001b[0m\u001b[0mtolist\u001b[0m\u001b[0;34m(\u001b[0m\u001b[0;34m)\u001b[0m\u001b[0;34m)\u001b[0m\u001b[0;34m]\u001b[0m\u001b[0;34m.\u001b[0m\u001b[0mweighted_score\u001b[0m\u001b[0;34m.\u001b[0m\u001b[0mtolist\u001b[0m\u001b[0;34m(\u001b[0m\u001b[0;34m)\u001b[0m\u001b[0;34m[\u001b[0m\u001b[0;36m0\u001b[0m\u001b[0;34m]\u001b[0m\u001b[0;34m,\u001b[0m \u001b[0;36m2\u001b[0m\u001b[0;34m)\u001b[0m\u001b[0;34m)\u001b[0m\u001b[0;34m\u001b[0m\u001b[0;34m\u001b[0m\u001b[0m\n",
      "\u001b[0;32m~/miniconda3/lib/python3.8/site-packages/pandas/core/frame.py\u001b[0m in \u001b[0;36mappend\u001b[0;34m(self, other, ignore_index, verify_integrity, sort)\u001b[0m\n\u001b[1;32m   7745\u001b[0m         \u001b[0;32melse\u001b[0m\u001b[0;34m:\u001b[0m\u001b[0;34m\u001b[0m\u001b[0;34m\u001b[0m\u001b[0m\n\u001b[1;32m   7746\u001b[0m             \u001b[0mto_concat\u001b[0m \u001b[0;34m=\u001b[0m \u001b[0;34m[\u001b[0m\u001b[0mself\u001b[0m\u001b[0;34m,\u001b[0m \u001b[0mother\u001b[0m\u001b[0;34m]\u001b[0m\u001b[0;34m\u001b[0m\u001b[0;34m\u001b[0m\u001b[0m\n\u001b[0;32m-> 7747\u001b[0;31m         return concat(\n\u001b[0m\u001b[1;32m   7748\u001b[0m             \u001b[0mto_concat\u001b[0m\u001b[0;34m,\u001b[0m\u001b[0;34m\u001b[0m\u001b[0;34m\u001b[0m\u001b[0m\n\u001b[1;32m   7749\u001b[0m             \u001b[0mignore_index\u001b[0m\u001b[0;34m=\u001b[0m\u001b[0mignore_index\u001b[0m\u001b[0;34m,\u001b[0m\u001b[0;34m\u001b[0m\u001b[0;34m\u001b[0m\u001b[0m\n",
      "\u001b[0;32m~/miniconda3/lib/python3.8/site-packages/pandas/core/reshape/concat.py\u001b[0m in \u001b[0;36mconcat\u001b[0;34m(objs, axis, join, ignore_index, keys, levels, names, verify_integrity, sort, copy)\u001b[0m\n\u001b[1;32m    272\u001b[0m     \u001b[0mValueError\u001b[0m\u001b[0;34m:\u001b[0m \u001b[0mIndexes\u001b[0m \u001b[0mhave\u001b[0m \u001b[0moverlapping\u001b[0m \u001b[0mvalues\u001b[0m\u001b[0;34m:\u001b[0m \u001b[0;34m[\u001b[0m\u001b[0;34m'a'\u001b[0m\u001b[0;34m]\u001b[0m\u001b[0;34m\u001b[0m\u001b[0;34m\u001b[0m\u001b[0m\n\u001b[1;32m    273\u001b[0m     \"\"\"\n\u001b[0;32m--> 274\u001b[0;31m     op = _Concatenator(\n\u001b[0m\u001b[1;32m    275\u001b[0m         \u001b[0mobjs\u001b[0m\u001b[0;34m,\u001b[0m\u001b[0;34m\u001b[0m\u001b[0;34m\u001b[0m\u001b[0m\n\u001b[1;32m    276\u001b[0m         \u001b[0maxis\u001b[0m\u001b[0;34m=\u001b[0m\u001b[0maxis\u001b[0m\u001b[0;34m,\u001b[0m\u001b[0;34m\u001b[0m\u001b[0;34m\u001b[0m\u001b[0m\n",
      "\u001b[0;32m~/miniconda3/lib/python3.8/site-packages/pandas/core/reshape/concat.py\u001b[0m in \u001b[0;36m__init__\u001b[0;34m(self, objs, axis, join, keys, levels, names, ignore_index, verify_integrity, copy, sort)\u001b[0m\n\u001b[1;32m    357\u001b[0m                     \u001b[0;34m\"only Series and DataFrame objs are valid\"\u001b[0m\u001b[0;34m\u001b[0m\u001b[0;34m\u001b[0m\u001b[0m\n\u001b[1;32m    358\u001b[0m                 )\n\u001b[0;32m--> 359\u001b[0;31m                 \u001b[0;32mraise\u001b[0m \u001b[0mTypeError\u001b[0m\u001b[0;34m(\u001b[0m\u001b[0mmsg\u001b[0m\u001b[0;34m)\u001b[0m\u001b[0;34m\u001b[0m\u001b[0;34m\u001b[0m\u001b[0m\n\u001b[0m\u001b[1;32m    360\u001b[0m \u001b[0;34m\u001b[0m\u001b[0m\n\u001b[1;32m    361\u001b[0m             \u001b[0;31m# consolidate\u001b[0m\u001b[0;34m\u001b[0m\u001b[0;34m\u001b[0m\u001b[0;34m\u001b[0m\u001b[0m\n",
      "\u001b[0;31mTypeError\u001b[0m: cannot concatenate object of type '<class 'str'>'; only Series and DataFrame objs are valid"
     ]
    }
   ],
   "source": [
    "rec_df = pd.DataFrame()\n",
    "\n",
    "for idx, i in enumerate(reviews.iloc[top_n_indices].index):\n",
    "    rec_df.append(book_recommends[book_recommends.book_id == (reviews[reviews.index == i].book_id.tolist()[0])].title.tolist()[0])\n",
    "    rec_df.append(book_recommends[book_recommends.book_id == (reviews[reviews.index == i].book_id.tolist()[0])].name.tolist()[0])\n",
    "    rec_df.append(round(books[books.book_id.isin(reviews[reviews.index == i].book_id.tolist())].weighted_score.tolist()[0], 2))\n",
    "    rec_df.append(reviews[reviews.index == i].review_text.tolist()[0])"
   ]
  },
  {
   "cell_type": "code",
   "execution_count": 93,
   "metadata": {},
   "outputs": [],
   "source": [
    "res = find_books('I love hard scifi', reviews, books, 15)"
   ]
  },
  {
   "cell_type": "code",
   "execution_count": null,
   "metadata": {},
   "outputs": [],
   "source": []
  },
  {
   "cell_type": "code",
   "execution_count": 103,
   "metadata": {},
   "outputs": [
    {
     "output_type": "stream",
     "name": "stdout",
     "text": [
      "0\n327691\nBook title: Ancillary Justice (Imperial Radch, #1)\nAuthor: Ann Leckie\nWeighted Score: 3.9699322483318085\nSimilar review: #wickedawesome I love me some epic sci-fi\nGoodreads Link: https://www.goodreads.com/book/show/17333324.Ancillary Justice \n\n\n\n1\n210875\nBook title: Ready Player One\nAuthor: Ernest Cline\nWeighted Score: 4.3094569028261365\nSimilar review: I love SciFi but could not get into this\nGoodreads Link: https://www.goodreads.com/book/show/20603758.Ready Player One\n\n\n\n2\n248678\nBook title: The Iron King (The Iron Fey, #1)\nAuthor: Julie Kagawa\nWeighted Score: 3.9199984214184576\nSimilar review: i like a little sci fi with my fantasy\nGoodreads Link: https://www.goodreads.com/book/show/6644117.The Iron King \n\n\n\n3\n107553\nBook title: The Door Into Summer\nAuthor: Robert A. Heinlein\nWeighted Score: 3.99972628465949\nSimilar review: One of my all time favorite sci-fi books and I'm not a sci-fi fan.\nGoodreads Link: https://www.goodreads.com/book/show/348.The Door Into Summer\n\n\n\n4\n164757\nBook title: Ender's Game (Ender's Saga, #1)\nAuthor: Orson Scott Card\nWeighted Score: 4.299976964549963\nSimilar review: Definitely a great sci fi. I'm not actually into sci-fi but I actually enjoyed this!\nGoodreads Link: https://www.goodreads.com/book/show/375802.Ender's Game \n\n\n\n5\n362901\nBook title: The Dispossessed\nAuthor: Ursula K. Le Guin\nWeighted Score: 4.179724820016062\nSimilar review: Just damn good science fiction.\nGoodreads Link: https://www.goodreads.com/book/show/13651.The Dispossessed\n\n\n\n6\n70857\nBook title: Ender's Game (Ender's Saga, #1)\nAuthor: Orson Scott Card\nWeighted Score: 4.299976964549963\nSimilar review: Interesting even though I'm not really into sci-fi.\nGoodreads Link: https://www.goodreads.com/book/show/375802.Ender's Game \n\n\n\n7\n9922\nBook title: Wool Omnibus (Silo, #1)\nAuthor: Hugh Howey\nWeighted Score: 4.239805338612142\nSimilar review: Really enjoyed this. Awesome sci-fi\nGoodreads Link: https://www.goodreads.com/book/show/13453029.Wool Omnibus \n\n\n\n8\n35875\nBook title: Spin (Spin, #1)\nAuthor: Robert Charles Wilson\nWeighted Score: 4.009820910234895\nSimilar review: I'm not usually one to love Hard Scifi, but I really liked this one.\nGoodreads Link: https://www.goodreads.com/book/show/910863.Spin \n\n\n\n9\n167832\nBook title: Hyperion (Hyperion Cantos, #1)\nAuthor: Dan Simmons\nWeighted Score: 4.20988223607639\nSimilar review: One of my favorite sci-fi series!\nGoodreads Link: https://www.goodreads.com/book/show/77566.Hyperion \n\n\n\n10\n121574\nBook title: Obsidian (Lux, #1)\nAuthor: Jennifer L. Armentrout\nWeighted Score: 4.229906314480184\nSimilar review: Such an interesting series. And i'm not even into Sci-fi!\nGoodreads Link: https://www.goodreads.com/book/show/12578077.Obsidian \n\n\n\n11\n358216\nBook title: Armor\nAuthor: John Steakley\nWeighted Score: 4.119244255458736\nSimilar review: My favorite sci-fi character-driven story.\nGoodreads Link: https://www.goodreads.com/book/show/102327.Armor\n\n\n\n12\n234563\nBook title: Stories of Your Life and Others\nAuthor: Ted Chiang\nWeighted Score: 4.269003040354569\nSimilar review: I COULDN'T PUT IT DOWN. \n I lalalalalalalalove good sci-fi\nGoodreads Link: https://www.goodreads.com/book/show/223380.Stories of Your Life and Others\n\n\n\n13\n228231\nBook title: Ender's Game (Ender's Saga, #1)\nAuthor: Orson Scott Card\nWeighted Score: 4.299976964549963\nSimilar review: One of my favorite science fiction books\nGoodreads Link: https://www.goodreads.com/book/show/375802.Ender's Game \n\n\n\n14\n167309\nBook title: The Martian\nAuthor: Andy Weir\nWeighted Score: 4.3899452969700405\nSimilar review: yay! my kind of sci fi novel. All sci fi no bullshit\nGoodreads Link: https://www.goodreads.com/book/show/18007564.The Martian\n\n\n\n15\n99875\nBook title: Winter's Heart (Wheel of Time, #9)\nAuthor: Robert Jordan\nWeighted Score: 3.9199964511233722\nSimilar review: i love fantasy and sci-fi.. but didn't much care for this book.\nGoodreads Link: https://www.goodreads.com/book/show/13891.Winter's Heart \n\n\n\n"
     ]
    }
   ],
   "source": [
    "top_n_indices = find_reviews('I love hard scifi', reviews, 15)\n",
    "book_recommends = find_books('I love hard scifi', reviews, books, 15)\n",
    "book_recommends['for_url'] = book_recommends['book_id'].astype(str) + '.' + book_recommends['title'].replace(r'\\(.*$', '', regex = True)\n",
    "\n",
    "for idx, i in enumerate(reviews.iloc[top_n_indices].index):\n",
    "    print(idx)\n",
    "    print(i)\n",
    "    print('Book title:', book_recommends[book_recommends.book_id == (reviews[reviews.index == i].book_id.tolist()[0])].title.tolist()[0])\n",
    "    print('Author:', book_recommends[book_recommends.book_id == (reviews[reviews.index == i].book_id.tolist()[0])].name.tolist()[0])\n",
    "    print('Weighted Score:', books[books.book_id.isin(reviews[reviews.index == i].book_id.tolist())].weighted_score.tolist()[0])\n",
    "    print('Similar review:', reviews[reviews.index == i].review_text.tolist()[0])\n",
    "    print('Goodreads Link:', 'https://www.goodreads.com/book/show/' + book_recommends[book_recommends.book_id == (reviews[reviews.index == i].book_id.tolist()[0])].for_url.tolist()[0])\n",
    "    print('\\n\\n')"
   ]
  },
  {
   "cell_type": "code",
   "execution_count": 61,
   "metadata": {},
   "outputs": [],
   "source": [
    "def find_url(query, revires, books, n_results=5):\n",
    "    book_data = find_books(query, reviews, books, n_results)[['title', 'book_id']]\n",
    "    book_data['for_url'] = book_data['book_id'].astype(str) + '.' + book_data['title'].replace(r'\\(.*$', '', regex = True)\n",
    "    return book_data\n",
    "url =  find_url('I love hard scifi', reviews, books, 10)"
   ]
  },
  {
   "cell_type": "code",
   "execution_count": 18,
   "metadata": {},
   "outputs": [],
   "source": [
    "def show_recommendations(query, reviews, books, n_results=5):\n",
    "    top_n_indices = find_reviews(query, reviews, 15)\n",
    "    book_recommends = find_books(query, reviews, books, 15)\n",
    "    book_recommends['for_url'] = book_recommends['book_id'].astype(str) + '.' + book_recommends['title'].replace(r'\\(.*$', '', regex = True)\n",
    "    common_titles = []\n",
    "    for idx, i in enumerate(reviews.iloc[top_n_indices].index):\n",
    "        common_titles.append(book_recommends[book_recommends.book_id == (reviews[reviews.index == i].book_id.tolist()[0])].title.tolist()[0])\n",
    "        print(idx)\n",
    "        print(i)\n",
    "        print('Book title:', book_recommends[book_recommends.book_id == (reviews[reviews.index == i].book_id.tolist()[0])].title.tolist()[0])\n",
    "        print('Author:', book_recommends[book_recommends.book_id == (reviews[reviews.index == i].book_id.tolist()[0])].name.tolist()[0])\n",
    "        print('Weighted Score:', books[books.book_id.isin(reviews[reviews.index == i].book_id.tolist())].weighted_score.tolist()[0])\n",
    "        print('Similar review:', reviews[reviews.index == i].review_text.tolist()[0])\n",
    "        print('Goodreads Link:', 'https://www.goodreads.com/book/show/' + book_recommends[book_recommends.book_id == (reviews[reviews.index == i].book_id.tolist()[0])].for_url.tolist()[0])\n",
    "        print('\\n\\n')\n",
    "    return common_titles"
   ]
  },
  {
   "cell_type": "code",
   "execution_count": 21,
   "metadata": {},
   "outputs": [
    {
     "output_type": "stream",
     "name": "stdout",
     "text": [
      "0\n386512\nBook title: This Side of the Grave (Night Huntress, #5)\nAuthor: Jeaniene Frost\nWeighted Score: 4.279608603987263\nSimilar review: Cat is particularly badass in this one.\nGoodreads Link: https://www.goodreads.com/book/show/6871617.This Side of the Grave \n\n\n\n1\n282434\nBook title: Into the Wild (Warriors, #1)\nAuthor: Erin Hunter\nWeighted Score: 4.289628682013339\nSimilar review: It was about cats. I love cats.\nGoodreads Link: https://www.goodreads.com/book/show/111332.Into the Wild \n\n\n\n2\n412833\nBook title: How to Tell If Your Cat Is Plotting to Kill You\nAuthor: Matthew Inman\nWeighted Score: 3.9499246100014016\nSimilar review: Cats are awesome, especially Bob Cats!\nGoodreads Link: https://www.goodreads.com/book/show/15799936.How to Tell If Your Cat Is Plotting to Kill You\n\n\n\n3\n310544\nBook title: Where is the Green Sheep?\nAuthor: Mem Fox\nWeighted Score: 4.187512349310434\nSimilar review: Cat introduced me to the green sheep! Thanks Cat!\nGoodreads Link: https://www.goodreads.com/book/show/378164.Where is the Green Sheep?\n\n\n\n4\n174246\nBook title: Rogue (Shifters, #2)\nAuthor: Rachel Vincent\nWeighted Score: 4.099416902918593\nSimilar review: cats doing cat things \n good audiobook\nGoodreads Link: https://www.goodreads.com/book/show/2314315.Rogue \n\n\n\n5\n337906\nBook title: How to Tell If Your Cat Is Plotting to Kill You\nAuthor: Matthew Inman\nWeighted Score: 3.9499246100014016\nSimilar review: My cat's behavior makes so much sense to me now!\nGoodreads Link: https://www.goodreads.com/book/show/15799936.How to Tell If Your Cat Is Plotting to Kill You\n\n\n\n6\n188133\nBook title: Wallbanger (Cocktail, #1)\nAuthor: Alice Clayton\nWeighted Score: 4.099932045907954\nSimilar review: The thing with the cat was just.....awkward.\nGoodreads Link: https://www.goodreads.com/book/show/15858248.Wallbanger \n\n\n\n7\n287921\nBook title: I Could Pee on This: And Other Poems by Cats\nAuthor: Francesco Marciuliano\nWeighted Score: 3.9695707605301584\nSimilar review: A great book for all cat lovers. And yes, I read a few aloud to my cat.\nGoodreads Link: https://www.goodreads.com/book/show/14553840.I Could Pee on This: And Other Poems by Cats\n\n\n\n8\n260802\nBook title: A Street Cat Named Bob: How One Man and His Cat Found Hope on the Streets\nAuthor: James Bowen\nWeighted Score: 3.9598795803081255\nSimilar review: People aren't purrfect, but cats are!\nGoodreads Link: https://www.goodreads.com/book/show/12394068.A Street Cat Named Bob: How One Man and His Cat Found Hope on the Streets\n\n\n\n9\n229620\nBook title: Curran (Curran POV #1-2)\nAuthor: Gordon Andrews\nWeighted Score: 4.109394170272449\nSimilar review: mmmmm curran.... here kitty kitty kitty\nGoodreads Link: https://www.goodreads.com/book/show/9394156.Curran \n\n\n\n10\n178847\nBook title: Alice in Wonderland\nAuthor: Jane Carruth\nWeighted Score: 4.029983577297831\nSimilar review: Fun. I really like the Chesire Cat. :)\nGoodreads Link: https://www.goodreads.com/book/show/13023.Alice in Wonderland\n\n\n\n11\n217631\nBook title: Into the Wild (Warriors, #1)\nAuthor: Erin Hunter\nWeighted Score: 4.289628682013339\nSimilar review: wonderful perpective of the world of cats!\nGoodreads Link: https://www.goodreads.com/book/show/111332.Into the Wild \n\n\n\n12\n351720\nBook title: The Cat in the Hat\nAuthor: Dr. Seuss\nWeighted Score: 4.149963420502655\nSimilar review: CAT IN THE HAT NO DOUBT ABOUT THAT LOL\nGoodreads Link: https://www.goodreads.com/book/show/233093.The Cat in the Hat\n\n\n\n13\n114322\nBook title: I Could Pee on This: And Other Poems by Cats\nAuthor: Francesco Marciuliano\nWeighted Score: 3.9695707605301584\nSimilar review: Have a cat? Then you will love. \n Meow.\nGoodreads Link: https://www.goodreads.com/book/show/14553840.I Could Pee on This: And Other Poems by Cats\n\n\n\n14\n144464\nBook title: How to Tell If Your Cat Is Plotting to Kill You\nAuthor: Matthew Inman\nWeighted Score: 3.9499246100014016\nSimilar review: This might be funny if I had a cat.\nGoodreads Link: https://www.goodreads.com/book/show/15799936.How to Tell If Your Cat Is Plotting to Kill You\n\n\n\n15\n66026\nBook title: Homer's Odyssey\nAuthor: Gwen Cooper\nWeighted Score: 4.178691178336445\nSimilar review: Found thru LibraryCyn. Amazing cat...?\nGoodreads Link: https://www.goodreads.com/book/show/6261477.Homer's Odyssey\n\n\n\n"
     ]
    }
   ],
   "source": [
    "common_titles = show_recommendations('cat', reviews, books, 50)"
   ]
  },
  {
   "cell_type": "code",
   "execution_count": 31,
   "metadata": {},
   "outputs": [
    {
     "output_type": "stream",
     "name": "stdout",
     "text": [
      "Title: How to Tell If Your Cat Is Plotting to Kill You, \nAppeared: 3 times\nTitle: Into the Wild (Warriors, #1), \nAppeared: 2 times\nTitle: I Could Pee on This: And Other Poems by Cats, \nAppeared: 2 times\n"
     ]
    }
   ],
   "source": [
    "most_common = Counter(common_titles).most_common(15)\n",
    "for title, rank in most_common:\n",
    "    if rank > 1:\n",
    "        print(f'Title: {title}, \\nAppeared: {rank} times')\n",
    "    "
   ]
  },
  {
   "cell_type": "code",
   "execution_count": 44,
   "metadata": {},
   "outputs": [
    {
     "output_type": "execute_result",
     "data": {
      "text/plain": [
       "3"
      ]
     },
     "metadata": {},
     "execution_count": 44
    }
   ],
   "source": [
    "sidetable = pd.DataFrame(most_common, index=[x + 1 for x in range(len(most_common))]).rename(columns={0:'Title', 1:'No. of appearences'})\n",
    "sidetable.iloc[0]['No. of appearences']"
   ]
  },
  {
   "cell_type": "code",
   "execution_count": null,
   "metadata": {},
   "outputs": [],
   "source": [
    "def common_results(most_common):\n",
    "    for title, rank in most_common:\n",
    "        if rank > 1:\n",
    "            a"
   ]
  },
  {
   "cell_type": "code",
   "execution_count": 17,
   "metadata": {},
   "outputs": [
    {
     "output_type": "error",
     "ename": "NameError",
     "evalue": "name 'find_url' is not defined",
     "traceback": [
      "\u001b[0;31m---------------------------------------------------------------------------\u001b[0m",
      "\u001b[0;31mNameError\u001b[0m                                 Traceback (most recent call last)",
      "\u001b[0;32m<ipython-input-17-bd74524b40ae>\u001b[0m in \u001b[0;36m<module>\u001b[0;34m\u001b[0m\n\u001b[1;32m      1\u001b[0m \u001b[0mtop_n_indices\u001b[0m \u001b[0;34m=\u001b[0m \u001b[0mfind_reviews\u001b[0m\u001b[0;34m(\u001b[0m\u001b[0;34m'I love hard scifi'\u001b[0m\u001b[0;34m,\u001b[0m \u001b[0mreviews\u001b[0m\u001b[0;34m,\u001b[0m \u001b[0;36m10\u001b[0m\u001b[0;34m)\u001b[0m\u001b[0;34m\u001b[0m\u001b[0;34m\u001b[0m\u001b[0m\n\u001b[0;32m----> 2\u001b[0;31m \u001b[0murl\u001b[0m \u001b[0;34m=\u001b[0m \u001b[0mfind_url\u001b[0m\u001b[0;34m(\u001b[0m\u001b[0;34m'I love hard scifi'\u001b[0m\u001b[0;34m,\u001b[0m \u001b[0mreviews\u001b[0m\u001b[0;34m,\u001b[0m \u001b[0mbooks\u001b[0m\u001b[0;34m,\u001b[0m \u001b[0;36m10\u001b[0m\u001b[0;34m)\u001b[0m\u001b[0;34m\u001b[0m\u001b[0;34m\u001b[0m\u001b[0m\n\u001b[0m\u001b[1;32m      3\u001b[0m \u001b[0mcommon_titles\u001b[0m \u001b[0;34m=\u001b[0m \u001b[0;34m[\u001b[0m\u001b[0;34m]\u001b[0m\u001b[0;34m\u001b[0m\u001b[0;34m\u001b[0m\u001b[0m\n\u001b[1;32m      4\u001b[0m \u001b[0;32mfor\u001b[0m \u001b[0mi\u001b[0m \u001b[0;32min\u001b[0m \u001b[0mreviews\u001b[0m\u001b[0;34m.\u001b[0m\u001b[0miloc\u001b[0m\u001b[0;34m[\u001b[0m\u001b[0mtop_n_indices\u001b[0m\u001b[0;34m]\u001b[0m\u001b[0;34m.\u001b[0m\u001b[0mindex\u001b[0m\u001b[0;34m:\u001b[0m\u001b[0;34m\u001b[0m\u001b[0;34m\u001b[0m\u001b[0m\n\u001b[1;32m      5\u001b[0m     \u001b[0mcommon_titles\u001b[0m\u001b[0;34m.\u001b[0m\u001b[0mappend\u001b[0m\u001b[0;34m(\u001b[0m\u001b[0mbook_recommends\u001b[0m\u001b[0;34m[\u001b[0m\u001b[0mbook_recommends\u001b[0m\u001b[0;34m.\u001b[0m\u001b[0mbook_id\u001b[0m \u001b[0;34m==\u001b[0m \u001b[0;34m(\u001b[0m\u001b[0mreviews\u001b[0m\u001b[0;34m[\u001b[0m\u001b[0mreviews\u001b[0m\u001b[0;34m.\u001b[0m\u001b[0mindex\u001b[0m \u001b[0;34m==\u001b[0m \u001b[0mi\u001b[0m\u001b[0;34m]\u001b[0m\u001b[0;34m.\u001b[0m\u001b[0mbook_id\u001b[0m\u001b[0;34m.\u001b[0m\u001b[0mtolist\u001b[0m\u001b[0;34m(\u001b[0m\u001b[0;34m)\u001b[0m\u001b[0;34m[\u001b[0m\u001b[0;36m0\u001b[0m\u001b[0;34m]\u001b[0m\u001b[0;34m)\u001b[0m\u001b[0;34m]\u001b[0m\u001b[0;34m.\u001b[0m\u001b[0mtitle\u001b[0m\u001b[0;34m.\u001b[0m\u001b[0mtolist\u001b[0m\u001b[0;34m(\u001b[0m\u001b[0;34m)\u001b[0m\u001b[0;34m[\u001b[0m\u001b[0;36m0\u001b[0m\u001b[0;34m]\u001b[0m\u001b[0;34m)\u001b[0m\u001b[0;34m\u001b[0m\u001b[0;34m\u001b[0m\u001b[0m\n",
      "\u001b[0;31mNameError\u001b[0m: name 'find_url' is not defined"
     ]
    }
   ],
   "source": [
    "top_n_indices = find_reviews('I love hard scifi', reviews, 10)\n",
    "url = find_url('I love hard scifi', reviews, books, 10)\n",
    "common_titles = []\n",
    "for i in reviews.iloc[top_n_indices].index:\n",
    "    common_titles.append(book_recommends[book_recommends.book_id == (reviews[reviews.index == i].book_id.tolist()[0])].title.tolist()[0])a\n",
    "    print('Book title:', res[res.book_id == (reviews[reviews.index == i].book_id.tolist()[0])].title.tolist()[0])\n",
    "    print('Author:', res[res.book_id == (reviews[reviews.index == i].book_id.tolist()[0])].name.tolist()[0])\n",
    "    print('Weighted Score:', books[books.book_id.isin(reviews[reviews.index == i].book_id.tolist())].weighted_score.tolist()[0])\n",
    "    print('Similar review:', reviews[reviews.index == i].review_text.tolist()[0])\n",
    "    print('Goodreads Link:', 'https://www.goodreads.com/book/show/' + url[url.book_id == (reviews[reviews.index == i].book_id.tolist()[0])].for_url.tolist()[0])\n",
    "    print('\\n\\n')"
   ]
  },
  {
   "cell_type": "code",
   "execution_count": 40,
   "metadata": {},
   "outputs": [],
   "source": [
    "res['for_url'] = res['book_id'].astype(str) + '.' + res['title'].replace(r'\\(.*$', '', regex = True)"
   ]
  },
  {
   "cell_type": "code",
   "execution_count": 41,
   "metadata": {},
   "outputs": [
    {
     "output_type": "execute_result",
     "data": {
      "text/plain": [
       "                                    title                    name  \\\n",
       "0                        Ready Player One            Ernest Cline   \n",
       "1         Ender's Game (Ender's Saga, #1)        Orson Scott Card   \n",
       "2                 Wool Omnibus (Silo, #1)              Hugh Howey   \n",
       "3                      Obsidian (Lux, #1)  Jennifer L. Armentrout   \n",
       "4          Hyperion (Hyperion Cantos, #1)             Dan Simmons   \n",
       "5                        The Dispossessed       Ursula K. Le Guin   \n",
       "6                         Spin (Spin, #1)   Robert Charles Wilson   \n",
       "7                    The Door Into Summer      Robert A. Heinlein   \n",
       "8  Ancillary Justice (Imperial Radch, #1)              Ann Leckie   \n",
       "9        The Iron King (The Iron Fey, #1)            Julie Kagawa   \n",
       "\n",
       "                                         description  weighted_score  \\\n",
       "0  A world at stake.\\nA quest for the ultimate pr...        4.309457   \n",
       "1  Andrew \"Ender\" Wiggin thinks he is playing com...        4.299977   \n",
       "2  This Omnibus Edition collects the five Wool bo...        4.239805   \n",
       "3  Starting over sucks.\\nWhen we moved to West Vi...        4.229906   \n",
       "4  On the world called Hyperion, beyond the law o...        4.209882   \n",
       "5  Shevek, a brilliant physicist, decides to take...        4.179725   \n",
       "6  One night in October when he was ten years old...        4.009821   \n",
       "7  It is 1970, and electronics engineer Dan Davis...        3.999726   \n",
       "8  On a remote, icy planet, the soldier known as ...        3.969932   \n",
       "9  Meghan Chase has a secret destiny; one she cou...        3.919998   \n",
       "\n",
       "    book_id                      for_url  \n",
       "0  20603758    20603758.Ready Player One  \n",
       "1    375802         375802.Ender's Game   \n",
       "2  13453029       13453029.Wool Omnibus   \n",
       "3  12578077           12578077.Obsidian   \n",
       "4     77566              77566.Hyperion   \n",
       "5     13651       13651.The Dispossessed  \n",
       "6    910863                 910863.Spin   \n",
       "7       348     348.The Door Into Summer  \n",
       "8  17333324  17333324.Ancillary Justice   \n",
       "9   6644117       6644117.The Iron King   "
      ],
      "text/html": "<div>\n<style scoped>\n    .dataframe tbody tr th:only-of-type {\n        vertical-align: middle;\n    }\n\n    .dataframe tbody tr th {\n        vertical-align: top;\n    }\n\n    .dataframe thead th {\n        text-align: right;\n    }\n</style>\n<table border=\"1\" class=\"dataframe\">\n  <thead>\n    <tr style=\"text-align: right;\">\n      <th></th>\n      <th>title</th>\n      <th>name</th>\n      <th>description</th>\n      <th>weighted_score</th>\n      <th>book_id</th>\n      <th>for_url</th>\n    </tr>\n  </thead>\n  <tbody>\n    <tr>\n      <th>0</th>\n      <td>Ready Player One</td>\n      <td>Ernest Cline</td>\n      <td>A world at stake.\\nA quest for the ultimate pr...</td>\n      <td>4.309457</td>\n      <td>20603758</td>\n      <td>20603758.Ready Player One</td>\n    </tr>\n    <tr>\n      <th>1</th>\n      <td>Ender's Game (Ender's Saga, #1)</td>\n      <td>Orson Scott Card</td>\n      <td>Andrew \"Ender\" Wiggin thinks he is playing com...</td>\n      <td>4.299977</td>\n      <td>375802</td>\n      <td>375802.Ender's Game</td>\n    </tr>\n    <tr>\n      <th>2</th>\n      <td>Wool Omnibus (Silo, #1)</td>\n      <td>Hugh Howey</td>\n      <td>This Omnibus Edition collects the five Wool bo...</td>\n      <td>4.239805</td>\n      <td>13453029</td>\n      <td>13453029.Wool Omnibus</td>\n    </tr>\n    <tr>\n      <th>3</th>\n      <td>Obsidian (Lux, #1)</td>\n      <td>Jennifer L. Armentrout</td>\n      <td>Starting over sucks.\\nWhen we moved to West Vi...</td>\n      <td>4.229906</td>\n      <td>12578077</td>\n      <td>12578077.Obsidian</td>\n    </tr>\n    <tr>\n      <th>4</th>\n      <td>Hyperion (Hyperion Cantos, #1)</td>\n      <td>Dan Simmons</td>\n      <td>On the world called Hyperion, beyond the law o...</td>\n      <td>4.209882</td>\n      <td>77566</td>\n      <td>77566.Hyperion</td>\n    </tr>\n    <tr>\n      <th>5</th>\n      <td>The Dispossessed</td>\n      <td>Ursula K. Le Guin</td>\n      <td>Shevek, a brilliant physicist, decides to take...</td>\n      <td>4.179725</td>\n      <td>13651</td>\n      <td>13651.The Dispossessed</td>\n    </tr>\n    <tr>\n      <th>6</th>\n      <td>Spin (Spin, #1)</td>\n      <td>Robert Charles Wilson</td>\n      <td>One night in October when he was ten years old...</td>\n      <td>4.009821</td>\n      <td>910863</td>\n      <td>910863.Spin</td>\n    </tr>\n    <tr>\n      <th>7</th>\n      <td>The Door Into Summer</td>\n      <td>Robert A. Heinlein</td>\n      <td>It is 1970, and electronics engineer Dan Davis...</td>\n      <td>3.999726</td>\n      <td>348</td>\n      <td>348.The Door Into Summer</td>\n    </tr>\n    <tr>\n      <th>8</th>\n      <td>Ancillary Justice (Imperial Radch, #1)</td>\n      <td>Ann Leckie</td>\n      <td>On a remote, icy planet, the soldier known as ...</td>\n      <td>3.969932</td>\n      <td>17333324</td>\n      <td>17333324.Ancillary Justice</td>\n    </tr>\n    <tr>\n      <th>9</th>\n      <td>The Iron King (The Iron Fey, #1)</td>\n      <td>Julie Kagawa</td>\n      <td>Meghan Chase has a secret destiny; one she cou...</td>\n      <td>3.919998</td>\n      <td>6644117</td>\n      <td>6644117.The Iron King</td>\n    </tr>\n  </tbody>\n</table>\n</div>"
     },
     "metadata": {},
     "execution_count": 41
    }
   ],
   "source": [
    "res"
   ]
  },
  {
   "cell_type": "code",
   "execution_count": 9,
   "metadata": {},
   "outputs": [
    {
     "output_type": "stream",
     "name": "stdout",
     "text": [
      "              title          name\n0  Ready Player One  Ernest Cline\n                             title              name\n1  Ender's Game (Ender's Saga, #1)  Orson Scott Card\n                     title        name\n2  Wool Omnibus (Silo, #1)  Hugh Howey\n                title                    name\n3  Obsidian (Lux, #1)  Jennifer L. Armentrout\n                            title         name\n4  Hyperion (Hyperion Cantos, #1)  Dan Simmons\n              title               name\n5  The Dispossessed  Ursula K. Le Guin\n             title                   name\n6  Spin (Spin, #1)  Robert Charles Wilson\n                  title                name\n7  The Door Into Summer  Robert A. Heinlein\n                                    title        name\n8  Ancillary Justice (Imperial Radch, #1)  Ann Leckie\n                              title          name\n9  The Iron King (The Iron Fey, #1)  Julie Kagawa\n"
     ]
    }
   ],
   "source": [
    "for idx, i in enumerate(res.book_id):\n",
    "    print(res[res.book_id==i][['title','name']])"
   ]
  },
  {
   "source": [
    "import pandas as pd\n",
    "test = pd.read_json('/media/einhard/Seagate Expansion Drive/3380_data/data/Filtered books/20603758.Ready Player One.json')"
   ],
   "cell_type": "markdown",
   "metadata": {}
  },
  {
   "cell_type": "code",
   "execution_count": 16,
   "metadata": {},
   "outputs": [],
   "source": [
    "from collections import Counter"
   ]
  },
  {
   "source": [
    "# Creating cluster function"
   ],
   "cell_type": "markdown",
   "metadata": {}
  },
  {
   "cell_type": "code",
   "execution_count": 1,
   "metadata": {},
   "outputs": [
    {
     "output_type": "error",
     "ename": "NameError",
     "evalue": "name 'books' is not defined",
     "traceback": [
      "\u001b[0;31m---------------------------------------------------------------------------\u001b[0m",
      "\u001b[0;31mNameError\u001b[0m                                 Traceback (most recent call last)",
      "\u001b[0;32m<ipython-input-1-bd06900fc420>\u001b[0m in \u001b[0;36m<module>\u001b[0;34m\u001b[0m\n\u001b[0;32m----> 1\u001b[0;31m \u001b[0mbooks\u001b[0m\u001b[0;34m[\u001b[0m\u001b[0mbooks\u001b[0m\u001b[0;34m.\u001b[0m\u001b[0mtitle\u001b[0m\u001b[0;34m.\u001b[0m\u001b[0misin\u001b[0m\u001b[0;34m(\u001b[0m\u001b[0;34m[\u001b[0m\u001b[0;34m'Children of Time'\u001b[0m\u001b[0;34m]\u001b[0m\u001b[0;34m)\u001b[0m\u001b[0;34m]\u001b[0m\u001b[0;34m.\u001b[0m\u001b[0mbook_id\u001b[0m\u001b[0;34m.\u001b[0m\u001b[0mtolist\u001b[0m\u001b[0;34m(\u001b[0m\u001b[0;34m)\u001b[0m\u001b[0;34m\u001b[0m\u001b[0;34m\u001b[0m\u001b[0m\n\u001b[0m",
      "\u001b[0;31mNameError\u001b[0m: name 'books' is not defined"
     ]
    }
   ],
   "source": [
    "books[books.title.isin(['Children of Time'])].book_id.tolist()"
   ]
  },
  {
   "cell_type": "code",
   "execution_count": 9,
   "metadata": {},
   "outputs": [],
   "source": [
    "from sklearn.cluster import KMeans"
   ]
  },
  {
   "cell_type": "code",
   "execution_count": 3,
   "metadata": {},
   "outputs": [
    {
     "output_type": "error",
     "ename": "NameError",
     "evalue": "name 'reviews' is not defined",
     "traceback": [
      "\u001b[0;31m---------------------------------------------------------------------------\u001b[0m",
      "\u001b[0;31mNameError\u001b[0m                                 Traceback (most recent call last)",
      "\u001b[0;32m<ipython-input-3-62b6485f3efb>\u001b[0m in \u001b[0;36m<module>\u001b[0;34m\u001b[0m\n\u001b[1;32m      1\u001b[0m \u001b[0mtitles_list\u001b[0m \u001b[0;34m=\u001b[0m \u001b[0;34m[\u001b[0m\u001b[0;34m'Children of Time'\u001b[0m\u001b[0;34m]\u001b[0m\u001b[0;34m\u001b[0m\u001b[0;34m\u001b[0m\u001b[0m\n\u001b[0;32m----> 2\u001b[0;31m \u001b[0minput_books\u001b[0m \u001b[0;34m=\u001b[0m \u001b[0mreviews\u001b[0m\u001b[0;34m[\u001b[0m\u001b[0mreviews\u001b[0m\u001b[0;34m.\u001b[0m\u001b[0mbook_id\u001b[0m\u001b[0;34m.\u001b[0m\u001b[0misin\u001b[0m\u001b[0;34m(\u001b[0m\u001b[0mbooks\u001b[0m\u001b[0;34m[\u001b[0m\u001b[0mbooks\u001b[0m\u001b[0;34m.\u001b[0m\u001b[0mtitle\u001b[0m\u001b[0;34m.\u001b[0m\u001b[0misin\u001b[0m\u001b[0;34m(\u001b[0m\u001b[0mtitles_list\u001b[0m\u001b[0;34m)\u001b[0m\u001b[0;34m]\u001b[0m\u001b[0;34m.\u001b[0m\u001b[0mbook_id\u001b[0m\u001b[0;34m.\u001b[0m\u001b[0mtolist\u001b[0m\u001b[0;34m(\u001b[0m\u001b[0;34m)\u001b[0m\u001b[0;34m)\u001b[0m\u001b[0;34m]\u001b[0m\u001b[0;34m\u001b[0m\u001b[0;34m\u001b[0m\u001b[0m\n\u001b[0m",
      "\u001b[0;31mNameError\u001b[0m: name 'reviews' is not defined"
     ]
    }
   ],
   "source": [
    "titles_list = ['Children of Time']\n",
    "input_books = reviews[reviews.book_id.isin(books[books.title.isin(titles_list)].book_id.tolist())]"
   ]
  },
  {
   "cell_type": "code",
   "execution_count": 2,
   "metadata": {},
   "outputs": [
    {
     "output_type": "error",
     "ename": "NameError",
     "evalue": "name 'input_books' is not defined",
     "traceback": [
      "\u001b[0;31m---------------------------------------------------------------------------\u001b[0m",
      "\u001b[0;31mNameError\u001b[0m                                 Traceback (most recent call last)",
      "\u001b[0;32m<ipython-input-2-3895e3ead7ce>\u001b[0m in \u001b[0;36m<module>\u001b[0;34m\u001b[0m\n\u001b[0;32m----> 1\u001b[0;31m \u001b[0minput_books\u001b[0m\u001b[0;34m\u001b[0m\u001b[0;34m\u001b[0m\u001b[0m\n\u001b[0m",
      "\u001b[0;31mNameError\u001b[0m: name 'input_books' is not defined"
     ]
    }
   ],
   "source": [
    "input_books"
   ]
  },
  {
   "cell_type": "code",
   "execution_count": 47,
   "metadata": {},
   "outputs": [
    {
     "output_type": "execute_result",
     "data": {
      "text/plain": [
       "                                 user_id  book_id  \\\n",
       "0       8842281e1d1347389f2ab93d60773d4d   831635   \n",
       "1       8842281e1d1347389f2ab93d60773d4d    27539   \n",
       "2       8842281e1d1347389f2ab93d60773d4d   259028   \n",
       "3       8842281e1d1347389f2ab93d60773d4d     5558   \n",
       "4       8842281e1d1347389f2ab93d60773d4d     1202   \n",
       "...                                  ...      ...   \n",
       "429621  349751201c57bc3b652590c6c90d894c    12067   \n",
       "429622  349751201c57bc3b652590c6c90d894c     5907   \n",
       "429623  621c5857e423b0f2283a22604d1796a0    47956   \n",
       "429624  2c2733058db98a841851789c132e0334     5139   \n",
       "429625  819394055f0c3e4fb166802f6d71c3ab  2429135   \n",
       "\n",
       "                               review_id  rating  \\\n",
       "0       549bc8e5f48d65e981cf2abb3ff7ee6f       0   \n",
       "1       b45353478a136de0a3e93077d47b1d6b       0   \n",
       "2       fb4acc8a30bac6bf1414a03303d43c26       0   \n",
       "3       3c01b327de615dc96910130797da1224       0   \n",
       "4       8458284a7dcf85d90b3c55bd6b4523d4       4   \n",
       "...                                  ...     ...   \n",
       "429621  cf4da327f4a32c6325eca4f8c52ff11c       4   \n",
       "429622  ac0e9d4b8b2ab0144402c22d90ba1df3       5   \n",
       "429623  50b83b9ea55af86f2561fa35ba1ff483       5   \n",
       "429624  200307bd0e38a59982a77a89157771d9       4   \n",
       "429625  c4234cfa2bb1b444cf31dfe63b4b88f9       0   \n",
       "\n",
       "                                              review_text  \\\n",
       "0                         Recommended by our pediatrician   \n",
       "1       6 of my smartest friends rated this 4 or highe...   \n",
       "2                If steve recommends it, it must be good!   \n",
       "3       elizabeth got this for free at work... anyone ...   \n",
       "4                I loved the abortion cured crime theory.   \n",
       "...                                                   ...   \n",
       "429621  Lots of fun. I'll have to try some more Terry ...   \n",
       "429622  What can I say about Tolkien? Just read his wo...   \n",
       "429623  This book is an exhilarating book of magic and...   \n",
       "429624  Really enjoyed this book. Crazy, fast paced fa...   \n",
       "429625               I lost interest and stopped reading.   \n",
       "\n",
       "                            date_added  n_votes  n_comments  \n",
       "0       Mon May 16 12:29:47 -0700 2011        0          12  \n",
       "1       Sun Nov 15 20:28:29 -0800 2009        0           2  \n",
       "2       Thu Jan 18 11:09:48 -0800 2007        2           2  \n",
       "3       Thu Dec 07 16:43:16 -0800 2006        0           0  \n",
       "4       Mon Nov 13 12:31:32 -0800 2006        6           2  \n",
       "...                                ...      ...         ...  \n",
       "429621  Wed Sep 10 20:54:42 -0700 2008        0           0  \n",
       "429622  Wed Jul 30 18:50:48 -0700 2008        0           0  \n",
       "429623  Wed Jul 30 20:59:21 -0700 2008        0           0  \n",
       "429624  Mon Mar 03 04:22:30 -0800 2014        0           0  \n",
       "429625  Tue Oct 04 18:39:04 -0700 2011        0           0  \n",
       "\n",
       "[429626 rows x 8 columns]"
      ],
      "text/html": "<div>\n<style scoped>\n    .dataframe tbody tr th:only-of-type {\n        vertical-align: middle;\n    }\n\n    .dataframe tbody tr th {\n        vertical-align: top;\n    }\n\n    .dataframe thead th {\n        text-align: right;\n    }\n</style>\n<table border=\"1\" class=\"dataframe\">\n  <thead>\n    <tr style=\"text-align: right;\">\n      <th></th>\n      <th>user_id</th>\n      <th>book_id</th>\n      <th>review_id</th>\n      <th>rating</th>\n      <th>review_text</th>\n      <th>date_added</th>\n      <th>n_votes</th>\n      <th>n_comments</th>\n    </tr>\n  </thead>\n  <tbody>\n    <tr>\n      <th>0</th>\n      <td>8842281e1d1347389f2ab93d60773d4d</td>\n      <td>831635</td>\n      <td>549bc8e5f48d65e981cf2abb3ff7ee6f</td>\n      <td>0</td>\n      <td>Recommended by our pediatrician</td>\n      <td>Mon May 16 12:29:47 -0700 2011</td>\n      <td>0</td>\n      <td>12</td>\n    </tr>\n    <tr>\n      <th>1</th>\n      <td>8842281e1d1347389f2ab93d60773d4d</td>\n      <td>27539</td>\n      <td>b45353478a136de0a3e93077d47b1d6b</td>\n      <td>0</td>\n      <td>6 of my smartest friends rated this 4 or highe...</td>\n      <td>Sun Nov 15 20:28:29 -0800 2009</td>\n      <td>0</td>\n      <td>2</td>\n    </tr>\n    <tr>\n      <th>2</th>\n      <td>8842281e1d1347389f2ab93d60773d4d</td>\n      <td>259028</td>\n      <td>fb4acc8a30bac6bf1414a03303d43c26</td>\n      <td>0</td>\n      <td>If steve recommends it, it must be good!</td>\n      <td>Thu Jan 18 11:09:48 -0800 2007</td>\n      <td>2</td>\n      <td>2</td>\n    </tr>\n    <tr>\n      <th>3</th>\n      <td>8842281e1d1347389f2ab93d60773d4d</td>\n      <td>5558</td>\n      <td>3c01b327de615dc96910130797da1224</td>\n      <td>0</td>\n      <td>elizabeth got this for free at work... anyone ...</td>\n      <td>Thu Dec 07 16:43:16 -0800 2006</td>\n      <td>0</td>\n      <td>0</td>\n    </tr>\n    <tr>\n      <th>4</th>\n      <td>8842281e1d1347389f2ab93d60773d4d</td>\n      <td>1202</td>\n      <td>8458284a7dcf85d90b3c55bd6b4523d4</td>\n      <td>4</td>\n      <td>I loved the abortion cured crime theory.</td>\n      <td>Mon Nov 13 12:31:32 -0800 2006</td>\n      <td>6</td>\n      <td>2</td>\n    </tr>\n    <tr>\n      <th>...</th>\n      <td>...</td>\n      <td>...</td>\n      <td>...</td>\n      <td>...</td>\n      <td>...</td>\n      <td>...</td>\n      <td>...</td>\n      <td>...</td>\n    </tr>\n    <tr>\n      <th>429621</th>\n      <td>349751201c57bc3b652590c6c90d894c</td>\n      <td>12067</td>\n      <td>cf4da327f4a32c6325eca4f8c52ff11c</td>\n      <td>4</td>\n      <td>Lots of fun. I'll have to try some more Terry ...</td>\n      <td>Wed Sep 10 20:54:42 -0700 2008</td>\n      <td>0</td>\n      <td>0</td>\n    </tr>\n    <tr>\n      <th>429622</th>\n      <td>349751201c57bc3b652590c6c90d894c</td>\n      <td>5907</td>\n      <td>ac0e9d4b8b2ab0144402c22d90ba1df3</td>\n      <td>5</td>\n      <td>What can I say about Tolkien? Just read his wo...</td>\n      <td>Wed Jul 30 18:50:48 -0700 2008</td>\n      <td>0</td>\n      <td>0</td>\n    </tr>\n    <tr>\n      <th>429623</th>\n      <td>621c5857e423b0f2283a22604d1796a0</td>\n      <td>47956</td>\n      <td>50b83b9ea55af86f2561fa35ba1ff483</td>\n      <td>5</td>\n      <td>This book is an exhilarating book of magic and...</td>\n      <td>Wed Jul 30 20:59:21 -0700 2008</td>\n      <td>0</td>\n      <td>0</td>\n    </tr>\n    <tr>\n      <th>429624</th>\n      <td>2c2733058db98a841851789c132e0334</td>\n      <td>5139</td>\n      <td>200307bd0e38a59982a77a89157771d9</td>\n      <td>4</td>\n      <td>Really enjoyed this book. Crazy, fast paced fa...</td>\n      <td>Mon Mar 03 04:22:30 -0800 2014</td>\n      <td>0</td>\n      <td>0</td>\n    </tr>\n    <tr>\n      <th>429625</th>\n      <td>819394055f0c3e4fb166802f6d71c3ab</td>\n      <td>2429135</td>\n      <td>c4234cfa2bb1b444cf31dfe63b4b88f9</td>\n      <td>0</td>\n      <td>I lost interest and stopped reading.</td>\n      <td>Tue Oct 04 18:39:04 -0700 2011</td>\n      <td>0</td>\n      <td>0</td>\n    </tr>\n  </tbody>\n</table>\n<p>429626 rows × 8 columns</p>\n</div>"
     },
     "metadata": {},
     "execution_count": 47
    }
   ],
   "source": [
    "reviews"
   ]
  },
  {
   "cell_type": "code",
   "execution_count": 50,
   "metadata": {},
   "outputs": [],
   "source": [
    "book_title = 'Children of Time'\n",
    "review_sentences = reviews[reviews.book_id.isin(books[books.title.isin([book_title])].book_id.tolist())]"
   ]
  },
  {
   "cell_type": "code",
   "execution_count": 51,
   "metadata": {},
   "outputs": [
    {
     "output_type": "execute_result",
     "data": {
      "text/plain": [
       "                                 user_id   book_id  \\\n",
       "25743   e4521937c11019458c255a2b0e2b4478  25499718   \n",
       "30878   dea045d73d8f99ce94b9a553db883adc  25499718   \n",
       "31678   8338c8c8200fe91ea3003b266178e5e6  25499718   \n",
       "76169   47fae68ca65e21b07f87d41011959a38  25499718   \n",
       "79342   2a3861c918a64eebd8df90d73b15b1d1  25499718   \n",
       "92377   d8b2e3c0dda7aff9960c3152d0736866  25499718   \n",
       "117367  25eb1bd04399b96a2fd34ceed7415136  25499718   \n",
       "132593  73fa6167cab90e3a5a9b9264ff79a54b  25499718   \n",
       "139035  360cbcc37573e09cb6662da5c1837d4f  25499718   \n",
       "150883  d7b8e12475810415abe85902c56d8a14  25499718   \n",
       "157642  f5723eca46e3fb9735df6958dbbedaf9  25499718   \n",
       "186069  dfd55a8ef97f89714e7f0432fa109d9b  25499718   \n",
       "194830  04604be16685fa452da6b61472fdc9a6  25499718   \n",
       "206205  fe2fbc86a2f331fc15fe79cfccc1b5a6  25499718   \n",
       "220905  6d623e3ff4dc97dfa48292b561e5f090  25499718   \n",
       "299113  dfb3d28166f9db01c6af2735595ae1c6  25499718   \n",
       "344076  4c711f007cccbde69f9daafd48b138cb  25499718   \n",
       "379859  1354f93c5f5215bfa00375b455ea34ba  25499718   \n",
       "\n",
       "                               review_id  rating  \\\n",
       "25743   5d905af5b0c38ce50b774a27201b16bb       5   \n",
       "30878   a90dcd0aab1ec39a8510eda6e3599222       5   \n",
       "31678   ca84f1ba114f8a8e80c4498065db5962       5   \n",
       "76169   d5e7e630b91becc8a7ec4d4c7d5f9bd6       4   \n",
       "79342   0e3d1a17405c1fc41881b4abf637ec85       4   \n",
       "92377   0efb2d7f53bbf0035305e88226bc0c05       5   \n",
       "117367  7a194c2ad2e070181b702eb8c9141bde       4   \n",
       "132593  2654f9623501fa19b95f0812f27752ad       4   \n",
       "139035  a5d0faac62ec0fa50cc86a7be3c45531       4   \n",
       "150883  6b888359ce288026a2fa4d07783351d6       4   \n",
       "157642  0f46ecc15d1dd03859c580e7632d9cdb       5   \n",
       "186069  a3e98af4cbf3e2bd4f78735ccaaa98d5       5   \n",
       "194830  3ce1549f8f5c904bccf544184c594cff       5   \n",
       "206205  0cfa9845369a08e4a1e05f20c24dbaec       5   \n",
       "220905  0a2a2fdfaf1f11206ce4b57c480602d3       5   \n",
       "299113  329c646db6e1852ad2d3b6218d317996       5   \n",
       "344076  cf84747307f29d2c8e6317cb6dfe3987       5   \n",
       "379859  9fecbd0e13ebe2075186eb3d375b1861       5   \n",
       "\n",
       "                                              review_text  \\\n",
       "25743         Really liked this one. Great world building   \n",
       "30878             Fantastic and original science fiction.   \n",
       "31678   Very enjoyable book. Unexpected ending. Settin...   \n",
       "76169   I was surprised at how good this was. \\n That ...   \n",
       "79342   Excellent novel, interesting concepts that mak...   \n",
       "92377               A very unique and well written story.   \n",
       "117367  Very imaginative. Well crafted and original. H...   \n",
       "132593  Good read, reminded me of Vernor Vinge and his...   \n",
       "139035         Spiders are better than people. I love it.   \n",
       "150883  ** spoiler alert ** \\n Meet Porcia \\n Spider W...   \n",
       "157642  Lovely theme of a different evolutionary outco...   \n",
       "186069  Excellent! Can't wait to read more books by th...   \n",
       "194830  Wheeeeeeeeeeeeeeeeeeeeeeeeeeeeeeeeeeeeeeeeeeee...   \n",
       "206205            Stunning. Hugo award winner in waiting.   \n",
       "220905              Brilliant! I wish there were sequels!   \n",
       "299113                   A great story, a very quick read   \n",
       "344076  Pretty much blew my mind and got me thinking a...   \n",
       "379859  Up there with Banks and Hamilton for me. Just ...   \n",
       "\n",
       "                            date_added  n_votes  n_comments  \n",
       "25743   Fri May 26 14:16:55 -0700 2017        0           0  \n",
       "30878   Mon Aug 07 14:29:40 -0700 2017        2           0  \n",
       "31678   Fri Aug 25 14:37:04 -0700 2017        0           0  \n",
       "76169   Sun Jun 14 03:19:04 -0700 2015        0           0  \n",
       "79342   Thu Aug 13 07:19:29 -0700 2015        0           0  \n",
       "92377   Mon May 08 04:11:52 -0700 2017        0           0  \n",
       "117367  Sat Jan 07 07:28:10 -0800 2017        0           0  \n",
       "132593  Sun Sep 17 03:53:44 -0700 2017        0           0  \n",
       "139035  Wed Jun 28 14:21:03 -0700 2017        0           0  \n",
       "150883  Mon Dec 19 02:59:02 -0800 2016        0           0  \n",
       "157642  Sat Sep 24 02:30:25 -0700 2016        0           0  \n",
       "186069  Sat Aug 26 12:25:46 -0700 2017        0           0  \n",
       "194830  Wed Sep 06 04:25:38 -0700 2017        1           0  \n",
       "206205  Sat Jun 03 18:29:06 -0700 2017        0           0  \n",
       "220905  Sat Jun 17 05:09:28 -0700 2017        2           0  \n",
       "299113  Thu Aug 03 05:14:56 -0700 2017        0           0  \n",
       "344076  Fri May 12 04:21:54 -0700 2017        0           0  \n",
       "379859  Sun Jun 07 21:57:55 -0700 2015        0           0  "
      ],
      "text/html": "<div>\n<style scoped>\n    .dataframe tbody tr th:only-of-type {\n        vertical-align: middle;\n    }\n\n    .dataframe tbody tr th {\n        vertical-align: top;\n    }\n\n    .dataframe thead th {\n        text-align: right;\n    }\n</style>\n<table border=\"1\" class=\"dataframe\">\n  <thead>\n    <tr style=\"text-align: right;\">\n      <th></th>\n      <th>user_id</th>\n      <th>book_id</th>\n      <th>review_id</th>\n      <th>rating</th>\n      <th>review_text</th>\n      <th>date_added</th>\n      <th>n_votes</th>\n      <th>n_comments</th>\n    </tr>\n  </thead>\n  <tbody>\n    <tr>\n      <th>25743</th>\n      <td>e4521937c11019458c255a2b0e2b4478</td>\n      <td>25499718</td>\n      <td>5d905af5b0c38ce50b774a27201b16bb</td>\n      <td>5</td>\n      <td>Really liked this one. Great world building</td>\n      <td>Fri May 26 14:16:55 -0700 2017</td>\n      <td>0</td>\n      <td>0</td>\n    </tr>\n    <tr>\n      <th>30878</th>\n      <td>dea045d73d8f99ce94b9a553db883adc</td>\n      <td>25499718</td>\n      <td>a90dcd0aab1ec39a8510eda6e3599222</td>\n      <td>5</td>\n      <td>Fantastic and original science fiction.</td>\n      <td>Mon Aug 07 14:29:40 -0700 2017</td>\n      <td>2</td>\n      <td>0</td>\n    </tr>\n    <tr>\n      <th>31678</th>\n      <td>8338c8c8200fe91ea3003b266178e5e6</td>\n      <td>25499718</td>\n      <td>ca84f1ba114f8a8e80c4498065db5962</td>\n      <td>5</td>\n      <td>Very enjoyable book. Unexpected ending. Settin...</td>\n      <td>Fri Aug 25 14:37:04 -0700 2017</td>\n      <td>0</td>\n      <td>0</td>\n    </tr>\n    <tr>\n      <th>76169</th>\n      <td>47fae68ca65e21b07f87d41011959a38</td>\n      <td>25499718</td>\n      <td>d5e7e630b91becc8a7ec4d4c7d5f9bd6</td>\n      <td>4</td>\n      <td>I was surprised at how good this was. \\n That ...</td>\n      <td>Sun Jun 14 03:19:04 -0700 2015</td>\n      <td>0</td>\n      <td>0</td>\n    </tr>\n    <tr>\n      <th>79342</th>\n      <td>2a3861c918a64eebd8df90d73b15b1d1</td>\n      <td>25499718</td>\n      <td>0e3d1a17405c1fc41881b4abf637ec85</td>\n      <td>4</td>\n      <td>Excellent novel, interesting concepts that mak...</td>\n      <td>Thu Aug 13 07:19:29 -0700 2015</td>\n      <td>0</td>\n      <td>0</td>\n    </tr>\n    <tr>\n      <th>92377</th>\n      <td>d8b2e3c0dda7aff9960c3152d0736866</td>\n      <td>25499718</td>\n      <td>0efb2d7f53bbf0035305e88226bc0c05</td>\n      <td>5</td>\n      <td>A very unique and well written story.</td>\n      <td>Mon May 08 04:11:52 -0700 2017</td>\n      <td>0</td>\n      <td>0</td>\n    </tr>\n    <tr>\n      <th>117367</th>\n      <td>25eb1bd04399b96a2fd34ceed7415136</td>\n      <td>25499718</td>\n      <td>7a194c2ad2e070181b702eb8c9141bde</td>\n      <td>4</td>\n      <td>Very imaginative. Well crafted and original. H...</td>\n      <td>Sat Jan 07 07:28:10 -0800 2017</td>\n      <td>0</td>\n      <td>0</td>\n    </tr>\n    <tr>\n      <th>132593</th>\n      <td>73fa6167cab90e3a5a9b9264ff79a54b</td>\n      <td>25499718</td>\n      <td>2654f9623501fa19b95f0812f27752ad</td>\n      <td>4</td>\n      <td>Good read, reminded me of Vernor Vinge and his...</td>\n      <td>Sun Sep 17 03:53:44 -0700 2017</td>\n      <td>0</td>\n      <td>0</td>\n    </tr>\n    <tr>\n      <th>139035</th>\n      <td>360cbcc37573e09cb6662da5c1837d4f</td>\n      <td>25499718</td>\n      <td>a5d0faac62ec0fa50cc86a7be3c45531</td>\n      <td>4</td>\n      <td>Spiders are better than people. I love it.</td>\n      <td>Wed Jun 28 14:21:03 -0700 2017</td>\n      <td>0</td>\n      <td>0</td>\n    </tr>\n    <tr>\n      <th>150883</th>\n      <td>d7b8e12475810415abe85902c56d8a14</td>\n      <td>25499718</td>\n      <td>6b888359ce288026a2fa4d07783351d6</td>\n      <td>4</td>\n      <td>** spoiler alert ** \\n Meet Porcia \\n Spider W...</td>\n      <td>Mon Dec 19 02:59:02 -0800 2016</td>\n      <td>0</td>\n      <td>0</td>\n    </tr>\n    <tr>\n      <th>157642</th>\n      <td>f5723eca46e3fb9735df6958dbbedaf9</td>\n      <td>25499718</td>\n      <td>0f46ecc15d1dd03859c580e7632d9cdb</td>\n      <td>5</td>\n      <td>Lovely theme of a different evolutionary outco...</td>\n      <td>Sat Sep 24 02:30:25 -0700 2016</td>\n      <td>0</td>\n      <td>0</td>\n    </tr>\n    <tr>\n      <th>186069</th>\n      <td>dfd55a8ef97f89714e7f0432fa109d9b</td>\n      <td>25499718</td>\n      <td>a3e98af4cbf3e2bd4f78735ccaaa98d5</td>\n      <td>5</td>\n      <td>Excellent! Can't wait to read more books by th...</td>\n      <td>Sat Aug 26 12:25:46 -0700 2017</td>\n      <td>0</td>\n      <td>0</td>\n    </tr>\n    <tr>\n      <th>194830</th>\n      <td>04604be16685fa452da6b61472fdc9a6</td>\n      <td>25499718</td>\n      <td>3ce1549f8f5c904bccf544184c594cff</td>\n      <td>5</td>\n      <td>Wheeeeeeeeeeeeeeeeeeeeeeeeeeeeeeeeeeeeeeeeeeee...</td>\n      <td>Wed Sep 06 04:25:38 -0700 2017</td>\n      <td>1</td>\n      <td>0</td>\n    </tr>\n    <tr>\n      <th>206205</th>\n      <td>fe2fbc86a2f331fc15fe79cfccc1b5a6</td>\n      <td>25499718</td>\n      <td>0cfa9845369a08e4a1e05f20c24dbaec</td>\n      <td>5</td>\n      <td>Stunning. Hugo award winner in waiting.</td>\n      <td>Sat Jun 03 18:29:06 -0700 2017</td>\n      <td>0</td>\n      <td>0</td>\n    </tr>\n    <tr>\n      <th>220905</th>\n      <td>6d623e3ff4dc97dfa48292b561e5f090</td>\n      <td>25499718</td>\n      <td>0a2a2fdfaf1f11206ce4b57c480602d3</td>\n      <td>5</td>\n      <td>Brilliant! I wish there were sequels!</td>\n      <td>Sat Jun 17 05:09:28 -0700 2017</td>\n      <td>2</td>\n      <td>0</td>\n    </tr>\n    <tr>\n      <th>299113</th>\n      <td>dfb3d28166f9db01c6af2735595ae1c6</td>\n      <td>25499718</td>\n      <td>329c646db6e1852ad2d3b6218d317996</td>\n      <td>5</td>\n      <td>A great story, a very quick read</td>\n      <td>Thu Aug 03 05:14:56 -0700 2017</td>\n      <td>0</td>\n      <td>0</td>\n    </tr>\n    <tr>\n      <th>344076</th>\n      <td>4c711f007cccbde69f9daafd48b138cb</td>\n      <td>25499718</td>\n      <td>cf84747307f29d2c8e6317cb6dfe3987</td>\n      <td>5</td>\n      <td>Pretty much blew my mind and got me thinking a...</td>\n      <td>Fri May 12 04:21:54 -0700 2017</td>\n      <td>0</td>\n      <td>0</td>\n    </tr>\n    <tr>\n      <th>379859</th>\n      <td>1354f93c5f5215bfa00375b455ea34ba</td>\n      <td>25499718</td>\n      <td>9fecbd0e13ebe2075186eb3d375b1861</td>\n      <td>5</td>\n      <td>Up there with Banks and Hamilton for me. Just ...</td>\n      <td>Sun Jun 07 21:57:55 -0700 2015</td>\n      <td>0</td>\n      <td>0</td>\n    </tr>\n  </tbody>\n</table>\n</div>"
     },
     "metadata": {},
     "execution_count": 51
    }
   ],
   "source": [
    "review_sentences"
   ]
  },
  {
   "cell_type": "code",
   "execution_count": 66,
   "metadata": {},
   "outputs": [],
   "source": [
    "def load_sentences(book_title):\n",
    "    '''\n",
    "    Function to load and embed a book's sentences\n",
    "    '''\n",
    "    # Copy sentence column to new variable\n",
    "    sentences = reviews[reviews.book_id.isin(books[books.title.isin([book_title])].book_id.tolist())]['review_text']\n",
    "\n",
    "    # Vectorize sentences\n",
    "    sentence_vectors = embed(sentences)\n",
    "    \n",
    "    return sentences, sentence_vectors\n",
    "\n",
    "def get_clusters(sentences, sentence_vectors, k, n):\n",
    "    '''\n",
    "    Function to extract the n most representative sentences from k clusters\n",
    "    '''\n",
    "\n",
    "    # Instantiate the model\n",
    "    kmeans_model = KMeans(n_clusters=k)\n",
    "\n",
    "    # Fit the model\n",
    "    kmeans_model.fit(sentence_array)\n",
    "    \n",
    "    # Loop through number of clusters\n",
    "    clusters = pd.DataFrame()\n",
    "    for i in range(k):\n",
    "\n",
    "        # Define cluster centre\n",
    "        centre = kmeans_model.cluster_centers_[i]\n",
    "\n",
    "        # Calculate inner product of cluster centre and sentence vectors\n",
    "        ips = np.inner(centre, sentence_vectors)\n",
    "\n",
    "        # Find the sentences with the highest inner products\n",
    "        top_indices = pd.Series(ips).nlargest(n).index\n",
    "        top_sentences = list(sentences.iloc[top_indices])\n",
    "\n",
    "        to_append = pd.Series([top_sentences, k])\n",
    "        print(to_append)\n",
    "        clusters.append(to_append, ignore_index=True)\n",
    "    return clusters"
   ]
  },
  {
   "cell_type": "code",
   "execution_count": 67,
   "metadata": {},
   "outputs": [],
   "source": [
    "from sklearn.cluster import KMeans"
   ]
  },
  {
   "cell_type": "code",
   "execution_count": 68,
   "metadata": {},
   "outputs": [],
   "source": [
    "sentences, sentence_vectors = load_sentences(book_title)"
   ]
  },
  {
   "cell_type": "code",
   "execution_count": 74,
   "metadata": {},
   "outputs": [
    {
     "output_type": "execute_result",
     "data": {
      "text/plain": [
       "25743           Really liked this one. Great world building\n",
       "30878               Fantastic and original science fiction.\n",
       "31678     Very enjoyable book. Unexpected ending. Settin...\n",
       "76169     I was surprised at how good this was. \\n That ...\n",
       "79342     Excellent novel, interesting concepts that mak...\n",
       "92377                 A very unique and well written story.\n",
       "117367    Very imaginative. Well crafted and original. H...\n",
       "132593    Good read, reminded me of Vernor Vinge and his...\n",
       "139035           Spiders are better than people. I love it.\n",
       "150883    ** spoiler alert ** \\n Meet Porcia \\n Spider W...\n",
       "157642    Lovely theme of a different evolutionary outco...\n",
       "186069    Excellent! Can't wait to read more books by th...\n",
       "194830    Wheeeeeeeeeeeeeeeeeeeeeeeeeeeeeeeeeeeeeeeeeeee...\n",
       "206205              Stunning. Hugo award winner in waiting.\n",
       "220905                Brilliant! I wish there were sequels!\n",
       "299113                     A great story, a very quick read\n",
       "344076    Pretty much blew my mind and got me thinking a...\n",
       "379859    Up there with Banks and Hamilton for me. Just ...\n",
       "Name: review_text, dtype: object"
      ]
     },
     "metadata": {},
     "execution_count": 74
    }
   ],
   "source": [
    "sentences"
   ]
  },
  {
   "cell_type": "code",
   "execution_count": 73,
   "metadata": {},
   "outputs": [],
   "source": [
    "data = get_clusters(sentences, sentence_vectors, k=2, n=1)"
   ]
  },
  {
   "cell_type": "code",
   "execution_count": 72,
   "metadata": {},
   "outputs": [
    {
     "output_type": "execute_result",
     "data": {
      "text/plain": [
       "Empty DataFrame\n",
       "Columns: []\n",
       "Index: []"
      ],
      "text/html": "<div>\n<style scoped>\n    .dataframe tbody tr th:only-of-type {\n        vertical-align: middle;\n    }\n\n    .dataframe tbody tr th {\n        vertical-align: top;\n    }\n\n    .dataframe thead th {\n        text-align: right;\n    }\n</style>\n<table border=\"1\" class=\"dataframe\">\n  <thead>\n    <tr style=\"text-align: right;\">\n      <th></th>\n    </tr>\n  </thead>\n  <tbody>\n  </tbody>\n</table>\n</div>"
     },
     "metadata": {},
     "execution_count": 72
    }
   ],
   "source": [
    "data"
   ]
  },
  {
   "cell_type": "code",
   "execution_count": 45,
   "metadata": {},
   "outputs": [],
   "source": [
    "def load_sentences(book_title):\n",
    "    '''\n",
    "    Function to load and embed a book's sentences\n",
    "    '''\n",
    "    # Copy sentence column to new variable\n",
    "    sentences = input_books['review_text']\n",
    "\n",
    "    # Vectorize sentences\n",
    "    sentence_vectors = embed(sentences)\n",
    "    \n",
    "    return sentences, sentence_vectors\n",
    "\n",
    "def get_clusters(sentences, sentence_vectors, k, n):\n",
    "    '''\n",
    "    Function to extract the n most representative sentences from k clusters\n",
    "    '''\n",
    "\n",
    "    # Instantiate the model\n",
    "    kmeans_model = KMeans(n_clusters=k)\n",
    "\n",
    "    # Fit the model\n",
    "    kmeans_model.fit(sentence_array)\n",
    "    \n",
    "    # Loop through number of clusters\n",
    "    for i in range(k):\n",
    "\n",
    "        # Define cluster centre\n",
    "        centre = kmeans_model.cluster_centers_[i]\n",
    "\n",
    "        # Calculate inner product of cluster centre and sentence vectors\n",
    "        ips = np.inner(centre, sentence_vectors)\n",
    "\n",
    "        # Find the sentences with the highest inner products\n",
    "        top_indices = pd.Series(ips).nlargest(n).index\n",
    "        top_sentences = list(sentences.iloc[top_indices])"
   ]
  },
  {
   "cell_type": "code",
   "execution_count": 28,
   "metadata": {},
   "outputs": [],
   "source": [
    "book_sentences, book_review_vectors = load_sentences(input_books)"
   ]
  },
  {
   "cell_type": "code",
   "execution_count": 31,
   "metadata": {},
   "outputs": [
    {
     "output_type": "stream",
     "name": "stdout",
     "text": [
      "Cluster #1 sentences:\n\nReally liked this one. Great world building\n\nVery enjoyable book. Unexpected ending. Setting the stage for more.\n\nBrilliant! I wish there were sequels!\n\nPretty much blew my mind and got me thinking about everything I thought I knew...\n\nA very unique and well written story.\n\nA great story, a very quick read\n\nI was surprised at how good this was. \n That is not something I experience very often.\n\nExcellent! Can't wait to read more books by this author!!\n\n\nCluster #2 sentences:\n\nExcellent! Can't wait to read more books by this author!!\n\nBrilliant! I wish there were sequels!\n\nGood read, reminded me of Vernor Vinge and his Zones of thought series.\n\nVery enjoyable book. Unexpected ending. Setting the stage for more.\n\nReally liked this one. Great world building\n\nExcellent novel, interesting concepts that make you think.\n\nA very unique and well written story.\n\nA great story, a very quick read\n\n\nCluster #3 sentences:\n\nExcellent! Can't wait to read more books by this author!!\n\nGood read, reminded me of Vernor Vinge and his Zones of thought series.\n\nA great story, a very quick read\n\nExcellent novel, interesting concepts that make you think.\n\nVery enjoyable book. Unexpected ending. Setting the stage for more.\n\nReally liked this one. Great world building\n\nA very unique and well written story.\n\nBrilliant! I wish there were sequels!\n\n\nCluster #4 sentences:\n\nA very unique and well written story.\n\nA great story, a very quick read\n\nReally liked this one. Great world building\n\nVery enjoyable book. Unexpected ending. Setting the stage for more.\n\nExcellent novel, interesting concepts that make you think.\n\nVery imaginative. Well crafted and original. Highly recommended.\n\nExcellent! Can't wait to read more books by this author!!\n\nGood read, reminded me of Vernor Vinge and his Zones of thought series.\n\n\nCluster #5 sentences:\n\nExcellent! Can't wait to read more books by this author!!\n\nBrilliant! I wish there were sequels!\n\nReally liked this one. Great world building\n\nVery enjoyable book. Unexpected ending. Setting the stage for more.\n\nWheeeeeeeeeeeeeeeeeeeeeeeeeeeeeeeeeeeeeeeeeeeeeeeeeeeeee!!!! \n Need I say more?\n\nA very unique and well written story.\n\nExcellent novel, interesting concepts that make you think.\n\nA great story, a very quick read\n\n\n"
     ]
    }
   ],
   "source": [
    "get_clusters(book_sentences, book_review_vectors, k=5, n=8)"
   ]
  },
  {
   "cell_type": "code",
   "execution_count": null,
   "metadata": {},
   "outputs": [],
   "source": []
  }
 ]
}
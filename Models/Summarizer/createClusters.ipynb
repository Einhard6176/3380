{
 "metadata": {
  "language_info": {
   "codemirror_mode": {
    "name": "ipython",
    "version": 3
   },
   "file_extension": ".py",
   "mimetype": "text/x-python",
   "name": "python",
   "nbconvert_exporter": "python",
   "pygments_lexer": "ipython3",
   "version": "3.8.3-final"
  },
  "orig_nbformat": 2,
  "kernelspec": {
   "name": "python3",
   "display_name": "Python 3"
  }
 },
 "nbformat": 4,
 "nbformat_minor": 2,
 "cells": [
  {
   "cell_type": "code",
   "execution_count": 1,
   "metadata": {},
   "outputs": [],
   "source": [
    "import numpy as np\n",
    "import pandas as pd\n",
    "\n",
    "# To process embeddings\n",
    "import tensorflow as tf\n",
    "import tensorflow_hub as hub\n",
    "\n",
    "# To silence warnings from TensorFlow\n",
    "import os\n",
    "import logging\n",
    "import warnings;\n",
    "warnings.filterwarnings('ignore')\n",
    "os.environ['TF_CPP_MIN_LOG_LEVEL'] = '3'  # FATAL\n",
    "logging.getLogger('tensorflow').setLevel(logging.FATAL)\n",
    "\n",
    "# To load saved embeddings\n",
    "import joblib\n",
    "\n",
    "# To create webapp\n",
    "import psutil\n",
    "\n",
    "\n",
    "#######################################################################################\n",
    "                            # Load functions\n",
    "#######################################################################################\n",
    "\n",
    "def load_embeddings():\n",
    "    # Path to USE\n",
    "    embed = hub.load('/media/einhard/Seagate Expansion Drive/3380_data/data/tensorflow_hub/universal-sentence-encoder_4')\n",
    "\n",
    "    # Load pre-trained sentence arrays\n",
    "    sentence_array = joblib.load('/media/einhard/Seagate Expansion Drive/3380_data/data/Models/reviewEmbeddings.pkl')\n",
    "    descriptions_array = joblib.load('/media/einhard/Seagate Expansion Drive/3380_data/data/Models/descriptionEmbeddings.pkl')\n",
    "    return embed, sentence_array, descriptions_array\n",
    "\n",
    "def data_loader(datapath, books_file, reviews_file):\n",
    "    books = pd.read_csv(datapath + books_file).drop('Unnamed: 0', axis=1)\n",
    "    reviews = pd.read_csv(datapath + reviews_file).drop('Unnamed: 0', axis=1)\n",
    "    return books, reviews\n",
    "\n",
    "\n",
    "                    # Return recommendations based on reviews\n",
    "def find_reviews(query,reviews, n_results=5):\n",
    "    # Create vector from query and compare with global embedding\n",
    "    sentence = [query]\n",
    "    sentence_vector = np.array(embed(sentence))\n",
    "    inner_product = np.inner(sentence_vector, sentence_array)[0]\n",
    "\n",
    "    # Find sentences with highest inner products\n",
    "    top_n_sentences = pd.Series(inner_product).nlargest(n_results+1)\n",
    "    top_n_indices = top_n_sentences.index.tolist()\n",
    "    top_n_list = list(reviews.review_text.iloc[top_n_indices][1:])\n",
    "\n",
    "    #print(f'Input sentence: \"{query}\"\\n')\n",
    "    #print(f'{n_results} most semantically similar reviews: \\n\\n')\n",
    "    #print(*top_n_list, sep='\\n\\n')\n",
    "    #print(top_n_indices)\n",
    "    return top_n_indices\n",
    "\n",
    "def find_books(query, reviews, books, n_results=5):\n",
    "    top_n_indices = find_reviews(query, reviews, n_results)\n",
    "    return books[books.book_id.isin(reviews.iloc[top_n_indices].book_id.tolist())][['title', 'name','description', 'weighted_score', 'book_id']].fillna('').reset_index().drop('index', axis=1)\n",
    "\n",
    "                    # Return recommendations based on descriptions\n",
    "\n",
    "def find_description(query, books, n_results=10):\n",
    "    # Create vector from query and compare with global embedding\n",
    "    sentence = [query]\n",
    "    sentence_vector = np.array(embed(sentence))\n",
    "    inner_product = np.inner(sentence_vector, descriptions_array)[0]\n",
    "\n",
    "    # Find sentences with highest inner products\n",
    "    top_n_sentences = pd.Series(inner_product).nlargest(n_results)\n",
    "    top_n_indices = top_n_sentences.index.tolist()\n",
    "    top_n_list = list(books.description.iloc[top_n_indices][1:])\n",
    "\n",
    "    #print(f'Input sentence: \"{query}\"\\n')\n",
    "    #print(f'{n_results} most semantically similar book descriptions: \\n\\n')\n",
    "    #print(*top_n_list, sep='\\n\\n')\n",
    "    return top_n_indices\n",
    "\n",
    "def find_books_description(query, reviews, books):\n",
    "    top_n_indices = find_description(query)\n",
    "    return books[books.book_id.isin(books.iloc[top_n_indices].book_id.tolist())][['title', 'name','description', 'weighted_score', 'book_id']].fillna('')\n",
    "\n",
    "\n",
    "\n",
    "#######################################################################################\n",
    "                            # Load variables and data\n",
    "#######################################################################################\n",
    "\n",
    "# Path to books and reviews DataFrames\n",
    "datapath = '/media/einhard/Seagate Expansion Drive/3380_data/data/Filtered books/'\n",
    "\n",
    "# Books and reviews file names and loading\n",
    "books_file = 'filtered_books.csv'\n",
    "reviews_file = 'filtered_reviews.csv'\n",
    "\n",
    "books, reviews = data_loader(datapath, books_file, reviews_file)\n",
    "embed, sentence_array, descriptions_array = load_embeddings()\n",
    "\n",
    "\n",
    "#######################################################################################\n",
    "                                # Web App\n",
    "#######################################################################################"
   ]
  },
  {
   "cell_type": "code",
   "execution_count": 25,
   "metadata": {},
   "outputs": [],
   "source": [
    "res = find_books('I love hard scifi', reviews, books, 10)"
   ]
  },
  {
   "cell_type": "code",
   "execution_count": 26,
   "metadata": {},
   "outputs": [
    {
     "output_type": "execute_result",
     "data": {
      "text/plain": [
       "                                    title                    name  \\\n",
       "0                        Ready Player One            Ernest Cline   \n",
       "1         Ender's Game (Ender's Saga, #1)        Orson Scott Card   \n",
       "2                 Wool Omnibus (Silo, #1)              Hugh Howey   \n",
       "3                      Obsidian (Lux, #1)  Jennifer L. Armentrout   \n",
       "4          Hyperion (Hyperion Cantos, #1)             Dan Simmons   \n",
       "5                        The Dispossessed       Ursula K. Le Guin   \n",
       "6                         Spin (Spin, #1)   Robert Charles Wilson   \n",
       "7                    The Door Into Summer      Robert A. Heinlein   \n",
       "8  Ancillary Justice (Imperial Radch, #1)              Ann Leckie   \n",
       "9        The Iron King (The Iron Fey, #1)            Julie Kagawa   \n",
       "\n",
       "                                         description  weighted_score   book_id  \n",
       "0  A world at stake.\\nA quest for the ultimate pr...        4.309457  20603758  \n",
       "1  Andrew \"Ender\" Wiggin thinks he is playing com...        4.299977    375802  \n",
       "2  This Omnibus Edition collects the five Wool bo...        4.239805  13453029  \n",
       "3  Starting over sucks.\\nWhen we moved to West Vi...        4.229906  12578077  \n",
       "4  On the world called Hyperion, beyond the law o...        4.209882     77566  \n",
       "5  Shevek, a brilliant physicist, decides to take...        4.179725     13651  \n",
       "6  One night in October when he was ten years old...        4.009821    910863  \n",
       "7  It is 1970, and electronics engineer Dan Davis...        3.999726       348  \n",
       "8  On a remote, icy planet, the soldier known as ...        3.969932  17333324  \n",
       "9  Meghan Chase has a secret destiny; one she cou...        3.919998   6644117  "
      ],
      "text/html": "<div>\n<style scoped>\n    .dataframe tbody tr th:only-of-type {\n        vertical-align: middle;\n    }\n\n    .dataframe tbody tr th {\n        vertical-align: top;\n    }\n\n    .dataframe thead th {\n        text-align: right;\n    }\n</style>\n<table border=\"1\" class=\"dataframe\">\n  <thead>\n    <tr style=\"text-align: right;\">\n      <th></th>\n      <th>title</th>\n      <th>name</th>\n      <th>description</th>\n      <th>weighted_score</th>\n      <th>book_id</th>\n    </tr>\n  </thead>\n  <tbody>\n    <tr>\n      <th>0</th>\n      <td>Ready Player One</td>\n      <td>Ernest Cline</td>\n      <td>A world at stake.\\nA quest for the ultimate pr...</td>\n      <td>4.309457</td>\n      <td>20603758</td>\n    </tr>\n    <tr>\n      <th>1</th>\n      <td>Ender's Game (Ender's Saga, #1)</td>\n      <td>Orson Scott Card</td>\n      <td>Andrew \"Ender\" Wiggin thinks he is playing com...</td>\n      <td>4.299977</td>\n      <td>375802</td>\n    </tr>\n    <tr>\n      <th>2</th>\n      <td>Wool Omnibus (Silo, #1)</td>\n      <td>Hugh Howey</td>\n      <td>This Omnibus Edition collects the five Wool bo...</td>\n      <td>4.239805</td>\n      <td>13453029</td>\n    </tr>\n    <tr>\n      <th>3</th>\n      <td>Obsidian (Lux, #1)</td>\n      <td>Jennifer L. Armentrout</td>\n      <td>Starting over sucks.\\nWhen we moved to West Vi...</td>\n      <td>4.229906</td>\n      <td>12578077</td>\n    </tr>\n    <tr>\n      <th>4</th>\n      <td>Hyperion (Hyperion Cantos, #1)</td>\n      <td>Dan Simmons</td>\n      <td>On the world called Hyperion, beyond the law o...</td>\n      <td>4.209882</td>\n      <td>77566</td>\n    </tr>\n    <tr>\n      <th>5</th>\n      <td>The Dispossessed</td>\n      <td>Ursula K. Le Guin</td>\n      <td>Shevek, a brilliant physicist, decides to take...</td>\n      <td>4.179725</td>\n      <td>13651</td>\n    </tr>\n    <tr>\n      <th>6</th>\n      <td>Spin (Spin, #1)</td>\n      <td>Robert Charles Wilson</td>\n      <td>One night in October when he was ten years old...</td>\n      <td>4.009821</td>\n      <td>910863</td>\n    </tr>\n    <tr>\n      <th>7</th>\n      <td>The Door Into Summer</td>\n      <td>Robert A. Heinlein</td>\n      <td>It is 1970, and electronics engineer Dan Davis...</td>\n      <td>3.999726</td>\n      <td>348</td>\n    </tr>\n    <tr>\n      <th>8</th>\n      <td>Ancillary Justice (Imperial Radch, #1)</td>\n      <td>Ann Leckie</td>\n      <td>On a remote, icy planet, the soldier known as ...</td>\n      <td>3.969932</td>\n      <td>17333324</td>\n    </tr>\n    <tr>\n      <th>9</th>\n      <td>The Iron King (The Iron Fey, #1)</td>\n      <td>Julie Kagawa</td>\n      <td>Meghan Chase has a secret destiny; one she cou...</td>\n      <td>3.919998</td>\n      <td>6644117</td>\n    </tr>\n  </tbody>\n</table>\n</div>"
     },
     "metadata": {},
     "execution_count": 26
    }
   ],
   "source": [
    "res"
   ]
  },
  {
   "source": [
    "# Getting book_id.title format for scrapper"
   ],
   "cell_type": "markdown",
   "metadata": {}
  },
  {
   "cell_type": "code",
   "execution_count": 27,
   "metadata": {},
   "outputs": [],
   "source": [
    "res['for_url'] = res['book_id'].astype('str') + '.' + res['title'].str.replace(r\"\\(.*$\", '')"
   ]
  },
  {
   "cell_type": "code",
   "execution_count": 32,
   "metadata": {},
   "outputs": [],
   "source": [
    "res.for_url.to_csv(datapath + 'book_ids', header=None, index=None, mode='a')"
   ]
  },
  {
   "cell_type": "code",
   "execution_count": null,
   "metadata": {},
   "outputs": [],
   "source": [
    "!python get_reviews.py --book_ids_path goodreads_classics_sample.txt \\\n",
    "--output_directory_path classic_book_reviews --sort_order default --browser chrome"
   ]
  },
  {
   "cell_type": "code",
   "execution_count": 7,
   "metadata": {},
   "outputs": [],
   "source": [
    "def filter_scraped_reviews(reviews_df):\n",
    "    reviews_df.text.dropna(inplace=True)\n",
    "    # reviews_df = reviews_df[(reviews_df.text.str.len() < max_review_length)]\n",
    "\n",
    "    # Remove reviews that specify rating in body of text\n",
    "    reviews_df = reviews_df[~reviews_df.text.str.contains(r'\\d\\sstar', case=False, regex=True, na=False)]\n",
    "    reviews_df = reviews_df[~reviews_df.text.str.contains(r'\\d\\/\\d', case=False, regex=True, na=False)]\n",
    "    reviews_df = reviews_df[~reviews_df.text.str.contains(r'\\d\\.\\d', case=False, regex=True, na=False)]\n",
    "    reviews_df = reviews_df[~reviews_df.text.str.contains(r'\\d\\S+\\D', case=False, regex=True, na=False)]\n",
    "\n",
    "    # Remove reviews that contain link to other websites\n",
    "    reviews_df = reviews_df[~reviews_df.text.str.contains(r'http\\S+', case=False, regex=True, na=False)]\n",
    "    reviews_df = reviews_df[~reviews_df.text.str.contains(r'www\\S+', case=False, regex=True, na=False)]\n",
    "    return reviews_df.text"
   ]
  },
  {
   "cell_type": "code",
   "execution_count": 8,
   "metadata": {},
   "outputs": [],
   "source": [
    "import pandas as pd\n",
    "test = pd.read_json('/media/einhard/Seagate Expansion Drive/3380_data/data/Filtered books/20603758.Ready Player One.json')"
   ]
  },
  {
   "cell_type": "code",
   "execution_count": 9,
   "metadata": {},
   "outputs": [
    {
     "output_type": "execute_result",
     "data": {
      "text/plain": [
       "                 book_id_title   book_id        book_title  \\\n",
       "0    20603758.Ready Player One  20603758  Ready Player One   \n",
       "1    20603758.Ready Player One  20603758  Ready Player One   \n",
       "2    20603758.Ready Player One  20603758  Ready Player One   \n",
       "3    20603758.Ready Player One  20603758  Ready Player One   \n",
       "4    20603758.Ready Player One  20603758  Ready Player One   \n",
       "..                         ...       ...               ...   \n",
       "145  20603758.Ready Player One  20603758  Ready Player One   \n",
       "146  20603758.Ready Player One  20603758  Ready Player One   \n",
       "147  20603758.Ready Player One  20603758  Ready Player One   \n",
       "148  20603758.Ready Player One  20603758  Ready Player One   \n",
       "149  20603758.Ready Player One  20603758  Ready Player One   \n",
       "\n",
       "                                           review_url   review_id       date  \\\n",
       "0     https://www.goodreads.com/review/show/200552364   200552364 2011-08-20   \n",
       "1    https://www.goodreads.com/review/show/1464451121  1464451121 2015-12-09   \n",
       "2     https://www.goodreads.com/review/show/205484356   205484356 2011-09-05   \n",
       "3     https://www.goodreads.com/review/show/264022073   264022073 2012-01-18   \n",
       "4     https://www.goodreads.com/review/show/171002486   171002486 2011-05-25   \n",
       "..                                                ...         ...        ...   \n",
       "145  https://www.goodreads.com/review/show/2169363535  2169363535 2017-11-03   \n",
       "146  https://www.goodreads.com/review/show/1089443319  1089443319 2014-10-26   \n",
       "147  https://www.goodreads.com/review/show/3107648613  3107648613 2019-12-30   \n",
       "148  https://www.goodreads.com/review/show/1348220177  1348220177 2015-07-28   \n",
       "149  https://www.goodreads.com/review/show/2005957518  2005957518 2017-10-21   \n",
       "\n",
       "    rating                                    user_name  \\\n",
       "0        1                                       Kemper   \n",
       "1        4  Khanh, first of her name, mother of bunnies   \n",
       "2        2                                William Cline   \n",
       "3        1                              Melissa McShane   \n",
       "4        5                                      Patrick   \n",
       "..     ...                                          ...   \n",
       "145      5                                       Dennis   \n",
       "146      5                                        Kaora   \n",
       "147      1                                   Zitong Ren   \n",
       "148      4                                   Glenn Sumi   \n",
       "149      5                                        Fares   \n",
       "\n",
       "                                              user_url  \\\n",
       "0                             /user/show/405390-kemper   \n",
       "1    /user/show/4527753-khanh-first-of-her-name-mot...   \n",
       "2                     /user/show/5006423-william-cline   \n",
       "3                   /user/show/1329059-melissa-mcshane   \n",
       "4                            /user/show/922495-patrick   \n",
       "..                                                 ...   \n",
       "145                         /user/show/67496521-dennis   \n",
       "146                           /user/show/7983564-kaora   \n",
       "147                     /user/show/77983193-zitong-ren   \n",
       "148                     /user/show/28854579-glenn-sumi   \n",
       "149                          /user/show/58818027-fares   \n",
       "\n",
       "                                                  text  num_likes sort_order  \\\n",
       "0    I originally gave this book 3 stars as harmles...       2560    default   \n",
       "1    This book is a geek fantasy. A nerd utopia. Sp...        764    default   \n",
       "2    For most of the first half of this book, I was...       2054    default   \n",
       "3    ETA: At the risk of getting this more attentio...        775    default   \n",
       "4    I got to read an ARC of this, and it appealed ...       1389    default   \n",
       "..                                                 ...        ...        ...   \n",
       "145  5/5 stars!!!\\nReady Player One\\n was the ride ...         62    default   \n",
       "146  My husband and I are HUGE nerds. We have a nin...         62    default   \n",
       "147  What a sad way to end the year and decade.This...         59    default   \n",
       "148  UPDATE: March 2018, after watching Steven Spie...         59    default   \n",
       "149  I honestly can't remember most of this book an...         61    default   \n",
       "\n",
       "                                               shelves  \n",
       "0    [2011, cyber, sci-fi, future-is-now, humor, dy...  \n",
       "1                                                   []  \n",
       "2                                                   []  \n",
       "3    [science-fiction, did-not-finish, dystopian, f...  \n",
       "4                                                   []  \n",
       "..                                                 ...  \n",
       "145                     [sci-fi, dystopian, 2017-read]  \n",
       "146                                                 []  \n",
       "147  [diverse, dystopian, action, young-adult, 2019...  \n",
       "148                                                 []  \n",
       "149                               [4-and-a-half-stars]  \n",
       "\n",
       "[150 rows x 13 columns]"
      ],
      "text/html": "<div>\n<style scoped>\n    .dataframe tbody tr th:only-of-type {\n        vertical-align: middle;\n    }\n\n    .dataframe tbody tr th {\n        vertical-align: top;\n    }\n\n    .dataframe thead th {\n        text-align: right;\n    }\n</style>\n<table border=\"1\" class=\"dataframe\">\n  <thead>\n    <tr style=\"text-align: right;\">\n      <th></th>\n      <th>book_id_title</th>\n      <th>book_id</th>\n      <th>book_title</th>\n      <th>review_url</th>\n      <th>review_id</th>\n      <th>date</th>\n      <th>rating</th>\n      <th>user_name</th>\n      <th>user_url</th>\n      <th>text</th>\n      <th>num_likes</th>\n      <th>sort_order</th>\n      <th>shelves</th>\n    </tr>\n  </thead>\n  <tbody>\n    <tr>\n      <th>0</th>\n      <td>20603758.Ready Player One</td>\n      <td>20603758</td>\n      <td>Ready Player One</td>\n      <td>https://www.goodreads.com/review/show/200552364</td>\n      <td>200552364</td>\n      <td>2011-08-20</td>\n      <td>1</td>\n      <td>Kemper</td>\n      <td>/user/show/405390-kemper</td>\n      <td>I originally gave this book 3 stars as harmles...</td>\n      <td>2560</td>\n      <td>default</td>\n      <td>[2011, cyber, sci-fi, future-is-now, humor, dy...</td>\n    </tr>\n    <tr>\n      <th>1</th>\n      <td>20603758.Ready Player One</td>\n      <td>20603758</td>\n      <td>Ready Player One</td>\n      <td>https://www.goodreads.com/review/show/1464451121</td>\n      <td>1464451121</td>\n      <td>2015-12-09</td>\n      <td>4</td>\n      <td>Khanh, first of her name, mother of bunnies</td>\n      <td>/user/show/4527753-khanh-first-of-her-name-mot...</td>\n      <td>This book is a geek fantasy. A nerd utopia. Sp...</td>\n      <td>764</td>\n      <td>default</td>\n      <td>[]</td>\n    </tr>\n    <tr>\n      <th>2</th>\n      <td>20603758.Ready Player One</td>\n      <td>20603758</td>\n      <td>Ready Player One</td>\n      <td>https://www.goodreads.com/review/show/205484356</td>\n      <td>205484356</td>\n      <td>2011-09-05</td>\n      <td>2</td>\n      <td>William Cline</td>\n      <td>/user/show/5006423-william-cline</td>\n      <td>For most of the first half of this book, I was...</td>\n      <td>2054</td>\n      <td>default</td>\n      <td>[]</td>\n    </tr>\n    <tr>\n      <th>3</th>\n      <td>20603758.Ready Player One</td>\n      <td>20603758</td>\n      <td>Ready Player One</td>\n      <td>https://www.goodreads.com/review/show/264022073</td>\n      <td>264022073</td>\n      <td>2012-01-18</td>\n      <td>1</td>\n      <td>Melissa McShane</td>\n      <td>/user/show/1329059-melissa-mcshane</td>\n      <td>ETA: At the risk of getting this more attentio...</td>\n      <td>775</td>\n      <td>default</td>\n      <td>[science-fiction, did-not-finish, dystopian, f...</td>\n    </tr>\n    <tr>\n      <th>4</th>\n      <td>20603758.Ready Player One</td>\n      <td>20603758</td>\n      <td>Ready Player One</td>\n      <td>https://www.goodreads.com/review/show/171002486</td>\n      <td>171002486</td>\n      <td>2011-05-25</td>\n      <td>5</td>\n      <td>Patrick</td>\n      <td>/user/show/922495-patrick</td>\n      <td>I got to read an ARC of this, and it appealed ...</td>\n      <td>1389</td>\n      <td>default</td>\n      <td>[]</td>\n    </tr>\n    <tr>\n      <th>...</th>\n      <td>...</td>\n      <td>...</td>\n      <td>...</td>\n      <td>...</td>\n      <td>...</td>\n      <td>...</td>\n      <td>...</td>\n      <td>...</td>\n      <td>...</td>\n      <td>...</td>\n      <td>...</td>\n      <td>...</td>\n      <td>...</td>\n    </tr>\n    <tr>\n      <th>145</th>\n      <td>20603758.Ready Player One</td>\n      <td>20603758</td>\n      <td>Ready Player One</td>\n      <td>https://www.goodreads.com/review/show/2169363535</td>\n      <td>2169363535</td>\n      <td>2017-11-03</td>\n      <td>5</td>\n      <td>Dennis</td>\n      <td>/user/show/67496521-dennis</td>\n      <td>5/5 stars!!!\\nReady Player One\\n was the ride ...</td>\n      <td>62</td>\n      <td>default</td>\n      <td>[sci-fi, dystopian, 2017-read]</td>\n    </tr>\n    <tr>\n      <th>146</th>\n      <td>20603758.Ready Player One</td>\n      <td>20603758</td>\n      <td>Ready Player One</td>\n      <td>https://www.goodreads.com/review/show/1089443319</td>\n      <td>1089443319</td>\n      <td>2014-10-26</td>\n      <td>5</td>\n      <td>Kaora</td>\n      <td>/user/show/7983564-kaora</td>\n      <td>My husband and I are HUGE nerds. We have a nin...</td>\n      <td>62</td>\n      <td>default</td>\n      <td>[]</td>\n    </tr>\n    <tr>\n      <th>147</th>\n      <td>20603758.Ready Player One</td>\n      <td>20603758</td>\n      <td>Ready Player One</td>\n      <td>https://www.goodreads.com/review/show/3107648613</td>\n      <td>3107648613</td>\n      <td>2019-12-30</td>\n      <td>1</td>\n      <td>Zitong Ren</td>\n      <td>/user/show/77983193-zitong-ren</td>\n      <td>What a sad way to end the year and decade.This...</td>\n      <td>59</td>\n      <td>default</td>\n      <td>[diverse, dystopian, action, young-adult, 2019...</td>\n    </tr>\n    <tr>\n      <th>148</th>\n      <td>20603758.Ready Player One</td>\n      <td>20603758</td>\n      <td>Ready Player One</td>\n      <td>https://www.goodreads.com/review/show/1348220177</td>\n      <td>1348220177</td>\n      <td>2015-07-28</td>\n      <td>4</td>\n      <td>Glenn Sumi</td>\n      <td>/user/show/28854579-glenn-sumi</td>\n      <td>UPDATE: March 2018, after watching Steven Spie...</td>\n      <td>59</td>\n      <td>default</td>\n      <td>[]</td>\n    </tr>\n    <tr>\n      <th>149</th>\n      <td>20603758.Ready Player One</td>\n      <td>20603758</td>\n      <td>Ready Player One</td>\n      <td>https://www.goodreads.com/review/show/2005957518</td>\n      <td>2005957518</td>\n      <td>2017-10-21</td>\n      <td>5</td>\n      <td>Fares</td>\n      <td>/user/show/58818027-fares</td>\n      <td>I honestly can't remember most of this book an...</td>\n      <td>61</td>\n      <td>default</td>\n      <td>[4-and-a-half-stars]</td>\n    </tr>\n  </tbody>\n</table>\n<p>150 rows × 13 columns</p>\n</div>"
     },
     "metadata": {},
     "execution_count": 9
    }
   ],
   "source": [
    "test"
   ]
  },
  {
   "cell_type": "code",
   "execution_count": 10,
   "metadata": {},
   "outputs": [
    {
     "output_type": "execute_result",
     "data": {
      "text/plain": [
       "4      I got to read an ARC of this, and it appealed ...\n",
       "8      ladies and gentlemen, from this day this book ...\n",
       "15     This reached into the gamer part of my heart a...\n",
       "17     I just kinda wanna cry right now. I'll have a ...\n",
       "29     THIS IS POSSIBLY THE BEST BOOK IN EXISTENCE. L...\n",
       "33     I had the feeling while reading this book that...\n",
       "38     THAT WAS SO TOTALLY AWESOME, WOW! I have not e...\n",
       "40     Loved this! I know many people also loved this...\n",
       "43                    This book was so much fun to read.\n",
       "45     \\n\\nit's like Ernest Cline decided to do somet...\n",
       "46     *had to bump this up a star after watching the...\n",
       "48     I loved this book, but mostly because I read W...\n",
       "49     I enjoyed this book, although with all the hyp...\n",
       "61     This book. I approve of this book.So I found o...\n",
       "71     I think I would have liked this a lot more if ...\n",
       "75     Such a refreshingly unique dystopian novel. Lo...\n",
       "76     Oh. My. God. This. Book. Let me be clear by sa...\n",
       "81     I wish I could give this book ten stars! Brill...\n",
       "92                                I'm finally doing it! \n",
       "98     I really want to buy Ernest Cline a beer after...\n",
       "99     A novel so modern (all attention span- and pop...\n",
       "149    I honestly can't remember most of this book an...\n",
       "Name: text, dtype: object"
      ]
     },
     "metadata": {},
     "execution_count": 10
    }
   ],
   "source": [
    "filter_scraped_reviews(test)"
   ]
  },
  {
   "source": [
    "# Creating cluster function"
   ],
   "cell_type": "markdown",
   "metadata": {}
  },
  {
   "cell_type": "code",
   "execution_count": 8,
   "metadata": {},
   "outputs": [
    {
     "output_type": "execute_result",
     "data": {
      "text/plain": [
       "[25499718]"
      ]
     },
     "metadata": {},
     "execution_count": 8
    }
   ],
   "source": [
    "books[books.title.isin(['Children of Time'])].book_id.tolist()"
   ]
  },
  {
   "cell_type": "code",
   "execution_count": 9,
   "metadata": {},
   "outputs": [],
   "source": [
    "from sklearn.cluster import KMeans"
   ]
  },
  {
   "cell_type": "code",
   "execution_count": 3,
   "metadata": {},
   "outputs": [
    {
     "output_type": "error",
     "ename": "NameError",
     "evalue": "name 'reviews' is not defined",
     "traceback": [
      "\u001b[0;31m---------------------------------------------------------------------------\u001b[0m",
      "\u001b[0;31mNameError\u001b[0m                                 Traceback (most recent call last)",
      "\u001b[0;32m<ipython-input-3-62b6485f3efb>\u001b[0m in \u001b[0;36m<module>\u001b[0;34m\u001b[0m\n\u001b[1;32m      1\u001b[0m \u001b[0mtitles_list\u001b[0m \u001b[0;34m=\u001b[0m \u001b[0;34m[\u001b[0m\u001b[0;34m'Children of Time'\u001b[0m\u001b[0;34m]\u001b[0m\u001b[0;34m\u001b[0m\u001b[0;34m\u001b[0m\u001b[0m\n\u001b[0;32m----> 2\u001b[0;31m \u001b[0minput_books\u001b[0m \u001b[0;34m=\u001b[0m \u001b[0mreviews\u001b[0m\u001b[0;34m[\u001b[0m\u001b[0mreviews\u001b[0m\u001b[0;34m.\u001b[0m\u001b[0mbook_id\u001b[0m\u001b[0;34m.\u001b[0m\u001b[0misin\u001b[0m\u001b[0;34m(\u001b[0m\u001b[0mbooks\u001b[0m\u001b[0;34m[\u001b[0m\u001b[0mbooks\u001b[0m\u001b[0;34m.\u001b[0m\u001b[0mtitle\u001b[0m\u001b[0;34m.\u001b[0m\u001b[0misin\u001b[0m\u001b[0;34m(\u001b[0m\u001b[0mtitles_list\u001b[0m\u001b[0;34m)\u001b[0m\u001b[0;34m]\u001b[0m\u001b[0;34m.\u001b[0m\u001b[0mbook_id\u001b[0m\u001b[0;34m.\u001b[0m\u001b[0mtolist\u001b[0m\u001b[0;34m(\u001b[0m\u001b[0;34m)\u001b[0m\u001b[0;34m)\u001b[0m\u001b[0;34m]\u001b[0m\u001b[0;34m\u001b[0m\u001b[0;34m\u001b[0m\u001b[0m\n\u001b[0m",
      "\u001b[0;31mNameError\u001b[0m: name 'reviews' is not defined"
     ]
    }
   ],
   "source": [
    "titles_list = ['Children of Time']\n",
    "input_books = reviews[reviews.book_id.isin(books[books.title.isin(titles_list)].book_id.tolist())]"
   ]
  },
  {
   "cell_type": "code",
   "execution_count": 2,
   "metadata": {},
   "outputs": [
    {
     "output_type": "error",
     "ename": "NameError",
     "evalue": "name 'input_books' is not defined",
     "traceback": [
      "\u001b[0;31m---------------------------------------------------------------------------\u001b[0m",
      "\u001b[0;31mNameError\u001b[0m                                 Traceback (most recent call last)",
      "\u001b[0;32m<ipython-input-2-3895e3ead7ce>\u001b[0m in \u001b[0;36m<module>\u001b[0;34m\u001b[0m\n\u001b[0;32m----> 1\u001b[0;31m \u001b[0minput_books\u001b[0m\u001b[0;34m\u001b[0m\u001b[0;34m\u001b[0m\u001b[0m\n\u001b[0m",
      "\u001b[0;31mNameError\u001b[0m: name 'input_books' is not defined"
     ]
    }
   ],
   "source": [
    "input_books"
   ]
  },
  {
   "cell_type": "code",
   "execution_count": 29,
   "metadata": {},
   "outputs": [],
   "source": [
    "def load_sentences(review_texts):\n",
    "    '''\n",
    "    Function to load and embed a book's sentences\n",
    "    '''\n",
    "    # Copy sentence column to new variable\n",
    "    sentences = input_books['review_text']\n",
    "\n",
    "    # Vectorize sentences\n",
    "    sentence_vectors = embed(sentences)\n",
    "    \n",
    "    return sentences, sentence_vectors\n",
    "\n",
    "def get_clusters(sentences, sentence_vectors, k, n):\n",
    "    '''\n",
    "    Function to extract the n most representative sentences from k clusters\n",
    "    '''\n",
    "\n",
    "    # Instantiate the model\n",
    "    kmeans_model = KMeans(n_clusters=k)\n",
    "\n",
    "    # Fit the model\n",
    "    kmeans_model.fit(sentence_array)\n",
    "    \n",
    "    # Loop through number of clusters\n",
    "    for i in range(k):\n",
    "\n",
    "        # Define cluster centre\n",
    "        centre = kmeans_model.cluster_centers_[i]\n",
    "\n",
    "        # Calculate inner product of cluster centre and sentence vectors\n",
    "        ips = np.inner(centre, sentence_vectors)\n",
    "\n",
    "        # Find the sentences with the highest inner products\n",
    "        top_indices = pd.Series(ips).nlargest(n).index\n",
    "        top_sentences = list(sentences.iloc[top_indices])\n",
    "\n",
    "        print(f'Cluster #{i+1} sentences:\\n')\n",
    "        print(*top_sentences, sep='\\n\\n')\n",
    "        print('\\n')"
   ]
  },
  {
   "cell_type": "code",
   "execution_count": 28,
   "metadata": {},
   "outputs": [],
   "source": [
    "book_sentences, book_review_vectors = load_sentences(input_books)"
   ]
  },
  {
   "cell_type": "code",
   "execution_count": 31,
   "metadata": {},
   "outputs": [
    {
     "output_type": "stream",
     "name": "stdout",
     "text": [
      "Cluster #1 sentences:\n\nReally liked this one. Great world building\n\nVery enjoyable book. Unexpected ending. Setting the stage for more.\n\nBrilliant! I wish there were sequels!\n\nPretty much blew my mind and got me thinking about everything I thought I knew...\n\nA very unique and well written story.\n\nA great story, a very quick read\n\nI was surprised at how good this was. \n That is not something I experience very often.\n\nExcellent! Can't wait to read more books by this author!!\n\n\nCluster #2 sentences:\n\nExcellent! Can't wait to read more books by this author!!\n\nBrilliant! I wish there were sequels!\n\nGood read, reminded me of Vernor Vinge and his Zones of thought series.\n\nVery enjoyable book. Unexpected ending. Setting the stage for more.\n\nReally liked this one. Great world building\n\nExcellent novel, interesting concepts that make you think.\n\nA very unique and well written story.\n\nA great story, a very quick read\n\n\nCluster #3 sentences:\n\nExcellent! Can't wait to read more books by this author!!\n\nGood read, reminded me of Vernor Vinge and his Zones of thought series.\n\nA great story, a very quick read\n\nExcellent novel, interesting concepts that make you think.\n\nVery enjoyable book. Unexpected ending. Setting the stage for more.\n\nReally liked this one. Great world building\n\nA very unique and well written story.\n\nBrilliant! I wish there were sequels!\n\n\nCluster #4 sentences:\n\nA very unique and well written story.\n\nA great story, a very quick read\n\nReally liked this one. Great world building\n\nVery enjoyable book. Unexpected ending. Setting the stage for more.\n\nExcellent novel, interesting concepts that make you think.\n\nVery imaginative. Well crafted and original. Highly recommended.\n\nExcellent! Can't wait to read more books by this author!!\n\nGood read, reminded me of Vernor Vinge and his Zones of thought series.\n\n\nCluster #5 sentences:\n\nExcellent! Can't wait to read more books by this author!!\n\nBrilliant! I wish there were sequels!\n\nReally liked this one. Great world building\n\nVery enjoyable book. Unexpected ending. Setting the stage for more.\n\nWheeeeeeeeeeeeeeeeeeeeeeeeeeeeeeeeeeeeeeeeeeeeeeeeeeeeee!!!! \n Need I say more?\n\nA very unique and well written story.\n\nExcellent novel, interesting concepts that make you think.\n\nA great story, a very quick read\n\n\n"
     ]
    }
   ],
   "source": [
    "get_clusters(book_sentences, book_review_vectors, k=5, n=8)"
   ]
  },
  {
   "cell_type": "code",
   "execution_count": null,
   "metadata": {},
   "outputs": [],
   "source": []
  }
 ]
}
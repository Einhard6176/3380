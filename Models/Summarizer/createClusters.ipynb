{
 "metadata": {
  "language_info": {
   "codemirror_mode": {
    "name": "ipython",
    "version": 3
   },
   "file_extension": ".py",
   "mimetype": "text/x-python",
   "name": "python",
   "nbconvert_exporter": "python",
   "pygments_lexer": "ipython3",
   "version": "3.8.3-final"
  },
  "orig_nbformat": 2,
  "kernelspec": {
   "name": "python3",
   "display_name": "Python 3"
  }
 },
 "nbformat": 4,
 "nbformat_minor": 2,
 "cells": [
  {
   "source": [
    "import numpy as np\n",
    "import pandas as pd\n",
    "\n",
    "# To process embeddings\n",
    "import tensorflow as tf\n",
    "import tensorflow_hub as hub\n",
    "\n",
    "# To silence warnings from TensorFlow\n",
    "import os\n",
    "import logging\n",
    "import warnings;\n",
    "warnings.filterwarnings('ignore')\n",
    "os.environ['TF_CPP_MIN_LOG_LEVEL'] = '3'  # FATAL\n",
    "logging.getLogger('tensorflow').setLevel(logging.FATAL)\n",
    "\n",
    "# To load saved embeddings\n",
    "import joblib\n",
    "\n",
    "# To create webapp\n",
    "import psutil\n",
    "\n",
    "\n",
    "#######################################################################################\n",
    "                            # Load functions\n",
    "#######################################################################################\n",
    "\n",
    "def load_embeddings():\n",
    "    # Path to USE\n",
    "    embed = hub.load('/media/einhard/Seagate Expansion Drive/3380_data/data/tensorflow_hub/universal-sentence-encoder_4')\n",
    "\n",
    "    # Load pre-trained sentence arrays\n",
    "    sentence_array = joblib.load('/media/einhard/Seagate Expansion Drive/3380_data/data/Models/reviewEmbeddings.pkl')\n",
    "    descriptions_array = joblib.load('/media/einhard/Seagate Expansion Drive/3380_data/data/Models/descriptionEmbeddings.pkl')\n",
    "    return embed, sentence_array, descriptions_array\n",
    "\n",
    "def data_loader(datapath, books_file, reviews_file):\n",
    "    books = pd.read_csv(datapath + books_file).drop('Unnamed: 0', axis=1).fillna('')\n",
    "    reviews = pd.read_csv(datapath + reviews_file).drop('Unnamed: 0', axis=1)\n",
    "    return books, reviews\n",
    "\n",
    "\n",
    "                    # Return recommendations based on reviews\n",
    "def find_reviews(query,reviews, n_results=5):\n",
    "    # Create vector from query and compare with global embedding\n",
    "    sentence = [query]\n",
    "    sentence_vector = np.array(embed(sentence))\n",
    "    inner_product = np.inner(sentence_vector, sentence_array)[0]\n",
    "\n",
    "    # Find sentences with highest inner products\n",
    "    top_n_sentences = pd.Series(inner_product).nlargest(n_results+1)\n",
    "    top_n_indices = top_n_sentences.index.tolist()\n",
    "    top_n_list = list(reviews.review_text.iloc[top_n_indices][1:])\n",
    "\n",
    "    #print(f'Input sentence: \"{query}\"\\n')\n",
    "    #print(f'{n_results} most semantically similar reviews: \\n\\n')\n",
    "    #print(*top_n_list, sep='\\n\\n')\n",
    "    #print(top_n_indices)\n",
    "    return top_n_indices\n",
    "\n",
    "def find_books(query, reviews, books, n_results=5):\n",
    "    top_n_indices = find_reviews(query, reviews, n_results)\n",
    "    return books[books.book_id.isin(reviews.iloc[top_n_indices].book_id.tolist())][['title', 'name','description', 'weighted_score', 'book_id']].fillna('').reset_index().drop('index', axis=1)\n",
    "\n",
    "\n",
    "                    # Return recommendations based on descriptions\n",
    "\n",
    "def find_description(query, books, n_results=10):\n",
    "    # Create vector from query and compare with global embedding\n",
    "    sentence = [query]\n",
    "    sentence_vector = np.array(embed(sentence))\n",
    "    inner_product = np.inner(sentence_vector, descriptions_array)[0]\n",
    "\n",
    "    # Find sentences with highest inner products\n",
    "    top_n_sentences = pd.Series(inner_product).nlargest(n_results)\n",
    "    top_n_indices = top_n_sentences.index.tolist()\n",
    "    top_n_list = list(books.description.iloc[top_n_indices][1:])\n",
    "\n",
    "    #print(f'Input sentence: \"{query}\"\\n')\n",
    "    #print(f'{n_results} most semantically similar book descriptions: \\n\\n')\n",
    "    #print(*top_n_list, sep='\\n\\n')\n",
    "    return top_n_indices\n",
    "\n",
    "def find_books_description(query, reviews, books):\n",
    "    top_n_indices = find_description(query)\n",
    "    return books[books.book_id.isin(books.iloc[top_n_indices].book_id.tolist())][['title', 'name','description', 'weighted_score', 'book_id']].fillna('')\n",
    "\n",
    "def show_recommendations(query, reviews, books, n_results=5):\n",
    "    top_n_indices = find_reviews(query, reviews, n_results)\n",
    "    book_recommends = find_books(query, reviews, books, n_results)\n",
    "    book_recommends['for_url'] = book_recommends['book_id'].astype(str) + '.' + book_recommends['title'].replace(r'\\(.*$', '', regex = True)\n",
    "    return top_n_indices, book_recommends\n",
    "\n",
    "\n",
    "\n",
    "#######################################################################################\n",
    "                            # Load variables and data\n",
    "#######################################################################################\n",
    "\n",
    "# Path to books and reviews DataFrames\n",
    "datapath = '/media/einhard/Seagate Expansion Drive/3380_data/data/Filtered books/'\n",
    "\n",
    "# Books and reviews file names and loading\n",
    "books_file = 'clean_filtered_books.csv'\n",
    "reviews_file = 'clean_filtered_reviews.csv'\n",
    "reviewClusters = pd.read_csv('/media/einhard/Seagate Expansion Drive/3380_data/data/Processed/reviews_for_cluster.csv').drop('Unnamed: 0', axis=1)\n",
    "\n",
    "# Base URL for goodreads\n",
    "goodreadsURL = 'https://www.goodreads.com/book/show/'\n",
    "\n",
    "books, reviews = data_loader(datapath, books_file, reviews_file)\n",
    "embed, sentence_array, descriptions_array = load_embeddings()\n",
    "\n",
    "\n",
    "#######################################################################################\n",
    "                                # Web App\n",
    "#######################################################################################"
   ],
   "cell_type": "code",
   "metadata": {},
   "execution_count": 2,
   "outputs": [
    {
     "output_type": "error",
     "ename": "FileNotFoundError",
     "evalue": "[Errno 2] No such file or directory: '/media/einhard/Seagate Expansion Drive/3380_data/data/Processed/reviews_for_cluster.csv'",
     "traceback": [
      "\u001b[0;31m---------------------------------------------------------------------------\u001b[0m",
      "\u001b[0;31mFileNotFoundError\u001b[0m                         Traceback (most recent call last)",
      "\u001b[0;32m<ipython-input-2-0e05a774544a>\u001b[0m in \u001b[0;36m<module>\u001b[0;34m\u001b[0m\n\u001b[1;32m    103\u001b[0m \u001b[0mbooks_file\u001b[0m \u001b[0;34m=\u001b[0m \u001b[0;34m'clean_filtered_books.csv'\u001b[0m\u001b[0;34m\u001b[0m\u001b[0;34m\u001b[0m\u001b[0m\n\u001b[1;32m    104\u001b[0m \u001b[0mreviews_file\u001b[0m \u001b[0;34m=\u001b[0m \u001b[0;34m'clean_filtered_reviews.csv'\u001b[0m\u001b[0;34m\u001b[0m\u001b[0;34m\u001b[0m\u001b[0m\n\u001b[0;32m--> 105\u001b[0;31m \u001b[0mreviewClusters\u001b[0m \u001b[0;34m=\u001b[0m \u001b[0mpd\u001b[0m\u001b[0;34m.\u001b[0m\u001b[0mread_csv\u001b[0m\u001b[0;34m(\u001b[0m\u001b[0;34m'/media/einhard/Seagate Expansion Drive/3380_data/data/Processed/reviews_for_cluster.csv'\u001b[0m\u001b[0;34m)\u001b[0m\u001b[0;34m.\u001b[0m\u001b[0mdrop\u001b[0m\u001b[0;34m(\u001b[0m\u001b[0;34m'Unnamed: 0'\u001b[0m\u001b[0;34m,\u001b[0m \u001b[0maxis\u001b[0m\u001b[0;34m=\u001b[0m\u001b[0;36m1\u001b[0m\u001b[0;34m)\u001b[0m\u001b[0;34m\u001b[0m\u001b[0;34m\u001b[0m\u001b[0m\n\u001b[0m\u001b[1;32m    106\u001b[0m \u001b[0;34m\u001b[0m\u001b[0m\n\u001b[1;32m    107\u001b[0m \u001b[0;31m# Base URL for goodreads\u001b[0m\u001b[0;34m\u001b[0m\u001b[0;34m\u001b[0m\u001b[0;34m\u001b[0m\u001b[0m\n",
      "\u001b[0;32m~/miniconda3/lib/python3.8/site-packages/pandas/io/parsers.py\u001b[0m in \u001b[0;36mread_csv\u001b[0;34m(filepath_or_buffer, sep, delimiter, header, names, index_col, usecols, squeeze, prefix, mangle_dupe_cols, dtype, engine, converters, true_values, false_values, skipinitialspace, skiprows, skipfooter, nrows, na_values, keep_default_na, na_filter, verbose, skip_blank_lines, parse_dates, infer_datetime_format, keep_date_col, date_parser, dayfirst, cache_dates, iterator, chunksize, compression, thousands, decimal, lineterminator, quotechar, quoting, doublequote, escapechar, comment, encoding, dialect, error_bad_lines, warn_bad_lines, delim_whitespace, low_memory, memory_map, float_precision)\u001b[0m\n\u001b[1;32m    686\u001b[0m     )\n\u001b[1;32m    687\u001b[0m \u001b[0;34m\u001b[0m\u001b[0m\n\u001b[0;32m--> 688\u001b[0;31m     \u001b[0;32mreturn\u001b[0m \u001b[0m_read\u001b[0m\u001b[0;34m(\u001b[0m\u001b[0mfilepath_or_buffer\u001b[0m\u001b[0;34m,\u001b[0m \u001b[0mkwds\u001b[0m\u001b[0;34m)\u001b[0m\u001b[0;34m\u001b[0m\u001b[0;34m\u001b[0m\u001b[0m\n\u001b[0m\u001b[1;32m    689\u001b[0m \u001b[0;34m\u001b[0m\u001b[0m\n\u001b[1;32m    690\u001b[0m \u001b[0;34m\u001b[0m\u001b[0m\n",
      "\u001b[0;32m~/miniconda3/lib/python3.8/site-packages/pandas/io/parsers.py\u001b[0m in \u001b[0;36m_read\u001b[0;34m(filepath_or_buffer, kwds)\u001b[0m\n\u001b[1;32m    452\u001b[0m \u001b[0;34m\u001b[0m\u001b[0m\n\u001b[1;32m    453\u001b[0m     \u001b[0;31m# Create the parser.\u001b[0m\u001b[0;34m\u001b[0m\u001b[0;34m\u001b[0m\u001b[0;34m\u001b[0m\u001b[0m\n\u001b[0;32m--> 454\u001b[0;31m     \u001b[0mparser\u001b[0m \u001b[0;34m=\u001b[0m \u001b[0mTextFileReader\u001b[0m\u001b[0;34m(\u001b[0m\u001b[0mfp_or_buf\u001b[0m\u001b[0;34m,\u001b[0m \u001b[0;34m**\u001b[0m\u001b[0mkwds\u001b[0m\u001b[0;34m)\u001b[0m\u001b[0;34m\u001b[0m\u001b[0;34m\u001b[0m\u001b[0m\n\u001b[0m\u001b[1;32m    455\u001b[0m \u001b[0;34m\u001b[0m\u001b[0m\n\u001b[1;32m    456\u001b[0m     \u001b[0;32mif\u001b[0m \u001b[0mchunksize\u001b[0m \u001b[0;32mor\u001b[0m \u001b[0miterator\u001b[0m\u001b[0;34m:\u001b[0m\u001b[0;34m\u001b[0m\u001b[0;34m\u001b[0m\u001b[0m\n",
      "\u001b[0;32m~/miniconda3/lib/python3.8/site-packages/pandas/io/parsers.py\u001b[0m in \u001b[0;36m__init__\u001b[0;34m(self, f, engine, **kwds)\u001b[0m\n\u001b[1;32m    946\u001b[0m             \u001b[0mself\u001b[0m\u001b[0;34m.\u001b[0m\u001b[0moptions\u001b[0m\u001b[0;34m[\u001b[0m\u001b[0;34m\"has_index_names\"\u001b[0m\u001b[0;34m]\u001b[0m \u001b[0;34m=\u001b[0m \u001b[0mkwds\u001b[0m\u001b[0;34m[\u001b[0m\u001b[0;34m\"has_index_names\"\u001b[0m\u001b[0;34m]\u001b[0m\u001b[0;34m\u001b[0m\u001b[0;34m\u001b[0m\u001b[0m\n\u001b[1;32m    947\u001b[0m \u001b[0;34m\u001b[0m\u001b[0m\n\u001b[0;32m--> 948\u001b[0;31m         \u001b[0mself\u001b[0m\u001b[0;34m.\u001b[0m\u001b[0m_make_engine\u001b[0m\u001b[0;34m(\u001b[0m\u001b[0mself\u001b[0m\u001b[0;34m.\u001b[0m\u001b[0mengine\u001b[0m\u001b[0;34m)\u001b[0m\u001b[0;34m\u001b[0m\u001b[0;34m\u001b[0m\u001b[0m\n\u001b[0m\u001b[1;32m    949\u001b[0m \u001b[0;34m\u001b[0m\u001b[0m\n\u001b[1;32m    950\u001b[0m     \u001b[0;32mdef\u001b[0m \u001b[0mclose\u001b[0m\u001b[0;34m(\u001b[0m\u001b[0mself\u001b[0m\u001b[0;34m)\u001b[0m\u001b[0;34m:\u001b[0m\u001b[0;34m\u001b[0m\u001b[0;34m\u001b[0m\u001b[0m\n",
      "\u001b[0;32m~/miniconda3/lib/python3.8/site-packages/pandas/io/parsers.py\u001b[0m in \u001b[0;36m_make_engine\u001b[0;34m(self, engine)\u001b[0m\n\u001b[1;32m   1178\u001b[0m     \u001b[0;32mdef\u001b[0m \u001b[0m_make_engine\u001b[0m\u001b[0;34m(\u001b[0m\u001b[0mself\u001b[0m\u001b[0;34m,\u001b[0m \u001b[0mengine\u001b[0m\u001b[0;34m=\u001b[0m\u001b[0;34m\"c\"\u001b[0m\u001b[0;34m)\u001b[0m\u001b[0;34m:\u001b[0m\u001b[0;34m\u001b[0m\u001b[0;34m\u001b[0m\u001b[0m\n\u001b[1;32m   1179\u001b[0m         \u001b[0;32mif\u001b[0m \u001b[0mengine\u001b[0m \u001b[0;34m==\u001b[0m \u001b[0;34m\"c\"\u001b[0m\u001b[0;34m:\u001b[0m\u001b[0;34m\u001b[0m\u001b[0;34m\u001b[0m\u001b[0m\n\u001b[0;32m-> 1180\u001b[0;31m             \u001b[0mself\u001b[0m\u001b[0;34m.\u001b[0m\u001b[0m_engine\u001b[0m \u001b[0;34m=\u001b[0m \u001b[0mCParserWrapper\u001b[0m\u001b[0;34m(\u001b[0m\u001b[0mself\u001b[0m\u001b[0;34m.\u001b[0m\u001b[0mf\u001b[0m\u001b[0;34m,\u001b[0m \u001b[0;34m**\u001b[0m\u001b[0mself\u001b[0m\u001b[0;34m.\u001b[0m\u001b[0moptions\u001b[0m\u001b[0;34m)\u001b[0m\u001b[0;34m\u001b[0m\u001b[0;34m\u001b[0m\u001b[0m\n\u001b[0m\u001b[1;32m   1181\u001b[0m         \u001b[0;32melse\u001b[0m\u001b[0;34m:\u001b[0m\u001b[0;34m\u001b[0m\u001b[0;34m\u001b[0m\u001b[0m\n\u001b[1;32m   1182\u001b[0m             \u001b[0;32mif\u001b[0m \u001b[0mengine\u001b[0m \u001b[0;34m==\u001b[0m \u001b[0;34m\"python\"\u001b[0m\u001b[0;34m:\u001b[0m\u001b[0;34m\u001b[0m\u001b[0;34m\u001b[0m\u001b[0m\n",
      "\u001b[0;32m~/miniconda3/lib/python3.8/site-packages/pandas/io/parsers.py\u001b[0m in \u001b[0;36m__init__\u001b[0;34m(self, src, **kwds)\u001b[0m\n\u001b[1;32m   2008\u001b[0m         \u001b[0mkwds\u001b[0m\u001b[0;34m[\u001b[0m\u001b[0;34m\"usecols\"\u001b[0m\u001b[0;34m]\u001b[0m \u001b[0;34m=\u001b[0m \u001b[0mself\u001b[0m\u001b[0;34m.\u001b[0m\u001b[0musecols\u001b[0m\u001b[0;34m\u001b[0m\u001b[0;34m\u001b[0m\u001b[0m\n\u001b[1;32m   2009\u001b[0m \u001b[0;34m\u001b[0m\u001b[0m\n\u001b[0;32m-> 2010\u001b[0;31m         \u001b[0mself\u001b[0m\u001b[0;34m.\u001b[0m\u001b[0m_reader\u001b[0m \u001b[0;34m=\u001b[0m \u001b[0mparsers\u001b[0m\u001b[0;34m.\u001b[0m\u001b[0mTextReader\u001b[0m\u001b[0;34m(\u001b[0m\u001b[0msrc\u001b[0m\u001b[0;34m,\u001b[0m \u001b[0;34m**\u001b[0m\u001b[0mkwds\u001b[0m\u001b[0;34m)\u001b[0m\u001b[0;34m\u001b[0m\u001b[0;34m\u001b[0m\u001b[0m\n\u001b[0m\u001b[1;32m   2011\u001b[0m         \u001b[0mself\u001b[0m\u001b[0;34m.\u001b[0m\u001b[0munnamed_cols\u001b[0m \u001b[0;34m=\u001b[0m \u001b[0mself\u001b[0m\u001b[0;34m.\u001b[0m\u001b[0m_reader\u001b[0m\u001b[0;34m.\u001b[0m\u001b[0munnamed_cols\u001b[0m\u001b[0;34m\u001b[0m\u001b[0;34m\u001b[0m\u001b[0m\n\u001b[1;32m   2012\u001b[0m \u001b[0;34m\u001b[0m\u001b[0m\n",
      "\u001b[0;32mpandas/_libs/parsers.pyx\u001b[0m in \u001b[0;36mpandas._libs.parsers.TextReader.__cinit__\u001b[0;34m()\u001b[0m\n",
      "\u001b[0;32mpandas/_libs/parsers.pyx\u001b[0m in \u001b[0;36mpandas._libs.parsers.TextReader._setup_parser_source\u001b[0;34m()\u001b[0m\n",
      "\u001b[0;31mFileNotFoundError\u001b[0m: [Errno 2] No such file or directory: '/media/einhard/Seagate Expansion Drive/3380_data/data/Processed/reviews_for_cluster.csv'"
     ]
    }
   ]
  },
  {
   "cell_type": "code",
   "execution_count": 1,
   "metadata": {},
   "outputs": [],
   "source": [
    "import re\n",
    "from sklearn.cluster import KMeans\n",
    "\n",
    "def embedSentences(book_title):\n",
    "    sentences = reviews_for_cluster[reviews_for_cluster.book_id.isin(books[books.title.isin([book_title])].book_id.tolist())]['review_text']\n",
    "    sentence_vectors = embed(sentences)\n",
    "    return sentences, sentence_vectors\n",
    "\n",
    "def findClusters(sentences, sentence_vectors, book_title, k, n_results):\n",
    "    kmeans = KMeans(n_clusters=k)\n",
    "    kmeans.fit(sentence_vectors)\n",
    "    for i in range(k):\n",
    "        centre = kmeans.cluster_centers_[i]\n",
    "        ips = np.inner(centre, sentence_vectors)\n",
    "        idx = pd.Series(ips).nlargest(n_results).index\n",
    "        clusteredSentences = list(sentences.iloc[idx])\n",
    "\n",
    "        #'---'\n",
    "        #st.write(f'**Cluster #{i+1} reviews:** \\n\\n*Book title: {book_title}*')\n",
    "        #for sent in clusteredSentences:\n",
    "        #    st.write(sent)\n",
    "        print(f'**Cluster #{i+1} reviews:** \\n\\n*Book title: {book_title}*')\n",
    "        for sent in clusteredSentences:\n",
    "            print(sent)"
   ]
  },
  {
   "cell_type": "code",
   "execution_count": 2,
   "metadata": {},
   "outputs": [
    {
     "output_type": "execute_result",
     "data": {
      "text/plain": [
       "7080    19288043\n",
       "Name: book_id, dtype: int64"
      ]
     },
     "metadata": {},
     "execution_count": 2
    }
   ],
   "source": [
    "books[books.title.isin(['Gone Girl'])].book_id"
   ]
  },
  {
   "cell_type": "code",
   "execution_count": 11,
   "metadata": {},
   "outputs": [],
   "source": [
    "bookID = 19288043\n",
    "review_max_len = 50\n",
    "input_book_id = books[books.book_id.isin(bookID)].book_id.tolist()\n",
    "input_sentences = reviewClusters[reviewClusters.book_id.isin(input_book_id)].review_text\n",
    "input_sentences = input_sentences[input_sentences.str.len() <= review_max_len]\n",
    "\n",
    "input_vectors = embed(input_sentences)\n",
    "\n",
    "#sentences = reviewsClusters[reviewsClusters.book_id.isin(books[books.title.isin([book_title])]#.book_id.tolist())]['review_text']\n",
    "#sentences[sentences.str.len() < 50]"
   ]
  },
  {
   "cell_type": "code",
   "execution_count": 16,
   "metadata": {},
   "outputs": [
    {
     "output_type": "error",
     "ename": "ResourceExhaustedError",
     "evalue": " OOM when allocating tensor with shape[83239685,320] and type float on /job:localhost/replica:0/task:0/device:CPU:0 by allocator cpu\n\t [[{{node StatefulPartitionedCall/StatefulPartitionedCall/EncoderDNN/EmbeddingLookup/EmbeddingLookupUnique/GatherV2}}]]\nHint: If you want to see a list of allocated tensors when OOM happens, add report_tensor_allocations_upon_oom to RunOptions for current allocation info.\n [Op:__inference_restored_function_body_5647]\n\nFunction call stack:\nrestored_function_body\n",
     "traceback": [
      "\u001b[0;31m---------------------------------------------------------------------------\u001b[0m",
      "\u001b[0;31mResourceExhaustedError\u001b[0m                    Traceback (most recent call last)",
      "\u001b[0;32m<ipython-input-16-8f8efa159532>\u001b[0m in \u001b[0;36m<module>\u001b[0;34m\u001b[0m\n\u001b[0;32m----> 1\u001b[0;31m \u001b[0membeddedReviewClusters\u001b[0m \u001b[0;34m=\u001b[0m \u001b[0membed\u001b[0m\u001b[0;34m(\u001b[0m\u001b[0mreviewClusters\u001b[0m\u001b[0;34m.\u001b[0m\u001b[0mreview_text\u001b[0m\u001b[0;34m)\u001b[0m\u001b[0;34m\u001b[0m\u001b[0;34m\u001b[0m\u001b[0m\n\u001b[0m",
      "\u001b[0;32m~/miniconda3/lib/python3.8/site-packages/tensorflow/python/saved_model/load.py\u001b[0m in \u001b[0;36m_call_attribute\u001b[0;34m(instance, *args, **kwargs)\u001b[0m\n\u001b[1;32m    507\u001b[0m \u001b[0;34m\u001b[0m\u001b[0m\n\u001b[1;32m    508\u001b[0m \u001b[0;32mdef\u001b[0m \u001b[0m_call_attribute\u001b[0m\u001b[0;34m(\u001b[0m\u001b[0minstance\u001b[0m\u001b[0;34m,\u001b[0m \u001b[0;34m*\u001b[0m\u001b[0margs\u001b[0m\u001b[0;34m,\u001b[0m \u001b[0;34m**\u001b[0m\u001b[0mkwargs\u001b[0m\u001b[0;34m)\u001b[0m\u001b[0;34m:\u001b[0m\u001b[0;34m\u001b[0m\u001b[0;34m\u001b[0m\u001b[0m\n\u001b[0;32m--> 509\u001b[0;31m   \u001b[0;32mreturn\u001b[0m \u001b[0minstance\u001b[0m\u001b[0;34m.\u001b[0m\u001b[0m__call__\u001b[0m\u001b[0;34m(\u001b[0m\u001b[0;34m*\u001b[0m\u001b[0margs\u001b[0m\u001b[0;34m,\u001b[0m \u001b[0;34m**\u001b[0m\u001b[0mkwargs\u001b[0m\u001b[0;34m)\u001b[0m\u001b[0;34m\u001b[0m\u001b[0;34m\u001b[0m\u001b[0m\n\u001b[0m\u001b[1;32m    510\u001b[0m \u001b[0;34m\u001b[0m\u001b[0m\n\u001b[1;32m    511\u001b[0m \u001b[0;34m\u001b[0m\u001b[0m\n",
      "\u001b[0;32m~/miniconda3/lib/python3.8/site-packages/tensorflow/python/eager/def_function.py\u001b[0m in \u001b[0;36m__call__\u001b[0;34m(self, *args, **kwds)\u001b[0m\n\u001b[1;32m    778\u001b[0m       \u001b[0;32melse\u001b[0m\u001b[0;34m:\u001b[0m\u001b[0;34m\u001b[0m\u001b[0;34m\u001b[0m\u001b[0m\n\u001b[1;32m    779\u001b[0m         \u001b[0mcompiler\u001b[0m \u001b[0;34m=\u001b[0m \u001b[0;34m\"nonXla\"\u001b[0m\u001b[0;34m\u001b[0m\u001b[0;34m\u001b[0m\u001b[0m\n\u001b[0;32m--> 780\u001b[0;31m         \u001b[0mresult\u001b[0m \u001b[0;34m=\u001b[0m \u001b[0mself\u001b[0m\u001b[0;34m.\u001b[0m\u001b[0m_call\u001b[0m\u001b[0;34m(\u001b[0m\u001b[0;34m*\u001b[0m\u001b[0margs\u001b[0m\u001b[0;34m,\u001b[0m \u001b[0;34m**\u001b[0m\u001b[0mkwds\u001b[0m\u001b[0;34m)\u001b[0m\u001b[0;34m\u001b[0m\u001b[0;34m\u001b[0m\u001b[0m\n\u001b[0m\u001b[1;32m    781\u001b[0m \u001b[0;34m\u001b[0m\u001b[0m\n\u001b[1;32m    782\u001b[0m       \u001b[0mnew_tracing_count\u001b[0m \u001b[0;34m=\u001b[0m \u001b[0mself\u001b[0m\u001b[0;34m.\u001b[0m\u001b[0m_get_tracing_count\u001b[0m\u001b[0;34m(\u001b[0m\u001b[0;34m)\u001b[0m\u001b[0;34m\u001b[0m\u001b[0;34m\u001b[0m\u001b[0m\n",
      "\u001b[0;32m~/miniconda3/lib/python3.8/site-packages/tensorflow/python/eager/def_function.py\u001b[0m in \u001b[0;36m_call\u001b[0;34m(self, *args, **kwds)\u001b[0m\n\u001b[1;32m    812\u001b[0m       \u001b[0;31m# In this case we have not created variables on the first call. So we can\u001b[0m\u001b[0;34m\u001b[0m\u001b[0;34m\u001b[0m\u001b[0;34m\u001b[0m\u001b[0m\n\u001b[1;32m    813\u001b[0m       \u001b[0;31m# run the first trace but we should fail if variables are created.\u001b[0m\u001b[0;34m\u001b[0m\u001b[0;34m\u001b[0m\u001b[0;34m\u001b[0m\u001b[0m\n\u001b[0;32m--> 814\u001b[0;31m       \u001b[0mresults\u001b[0m \u001b[0;34m=\u001b[0m \u001b[0mself\u001b[0m\u001b[0;34m.\u001b[0m\u001b[0m_stateful_fn\u001b[0m\u001b[0;34m(\u001b[0m\u001b[0;34m*\u001b[0m\u001b[0margs\u001b[0m\u001b[0;34m,\u001b[0m \u001b[0;34m**\u001b[0m\u001b[0mkwds\u001b[0m\u001b[0;34m)\u001b[0m\u001b[0;34m\u001b[0m\u001b[0;34m\u001b[0m\u001b[0m\n\u001b[0m\u001b[1;32m    815\u001b[0m       \u001b[0;32mif\u001b[0m \u001b[0mself\u001b[0m\u001b[0;34m.\u001b[0m\u001b[0m_created_variables\u001b[0m\u001b[0;34m:\u001b[0m\u001b[0;34m\u001b[0m\u001b[0;34m\u001b[0m\u001b[0m\n\u001b[1;32m    816\u001b[0m         raise ValueError(\"Creating variables on a non-first call to a function\"\n",
      "\u001b[0;32m~/miniconda3/lib/python3.8/site-packages/tensorflow/python/eager/function.py\u001b[0m in \u001b[0;36m__call__\u001b[0;34m(self, *args, **kwargs)\u001b[0m\n\u001b[1;32m   2827\u001b[0m     \u001b[0;32mwith\u001b[0m \u001b[0mself\u001b[0m\u001b[0;34m.\u001b[0m\u001b[0m_lock\u001b[0m\u001b[0;34m:\u001b[0m\u001b[0;34m\u001b[0m\u001b[0;34m\u001b[0m\u001b[0m\n\u001b[1;32m   2828\u001b[0m       \u001b[0mgraph_function\u001b[0m\u001b[0;34m,\u001b[0m \u001b[0margs\u001b[0m\u001b[0;34m,\u001b[0m \u001b[0mkwargs\u001b[0m \u001b[0;34m=\u001b[0m \u001b[0mself\u001b[0m\u001b[0;34m.\u001b[0m\u001b[0m_maybe_define_function\u001b[0m\u001b[0;34m(\u001b[0m\u001b[0margs\u001b[0m\u001b[0;34m,\u001b[0m \u001b[0mkwargs\u001b[0m\u001b[0;34m)\u001b[0m\u001b[0;34m\u001b[0m\u001b[0;34m\u001b[0m\u001b[0m\n\u001b[0;32m-> 2829\u001b[0;31m     \u001b[0;32mreturn\u001b[0m \u001b[0mgraph_function\u001b[0m\u001b[0;34m.\u001b[0m\u001b[0m_filtered_call\u001b[0m\u001b[0;34m(\u001b[0m\u001b[0margs\u001b[0m\u001b[0;34m,\u001b[0m \u001b[0mkwargs\u001b[0m\u001b[0;34m)\u001b[0m  \u001b[0;31m# pylint: disable=protected-access\u001b[0m\u001b[0;34m\u001b[0m\u001b[0;34m\u001b[0m\u001b[0m\n\u001b[0m\u001b[1;32m   2830\u001b[0m \u001b[0;34m\u001b[0m\u001b[0m\n\u001b[1;32m   2831\u001b[0m   \u001b[0;34m@\u001b[0m\u001b[0mproperty\u001b[0m\u001b[0;34m\u001b[0m\u001b[0;34m\u001b[0m\u001b[0m\n",
      "\u001b[0;32m~/miniconda3/lib/python3.8/site-packages/tensorflow/python/eager/function.py\u001b[0m in \u001b[0;36m_filtered_call\u001b[0;34m(self, args, kwargs, cancellation_manager)\u001b[0m\n\u001b[1;32m   1841\u001b[0m       \u001b[0;31m`\u001b[0m\u001b[0margs\u001b[0m\u001b[0;31m`\u001b[0m \u001b[0;32mand\u001b[0m\u001b[0;31m \u001b[0m\u001b[0;31m`\u001b[0m\u001b[0mkwargs\u001b[0m\u001b[0;31m`\u001b[0m\u001b[0;34m.\u001b[0m\u001b[0;34m\u001b[0m\u001b[0;34m\u001b[0m\u001b[0m\n\u001b[1;32m   1842\u001b[0m     \"\"\"\n\u001b[0;32m-> 1843\u001b[0;31m     return self._call_flat(\n\u001b[0m\u001b[1;32m   1844\u001b[0m         [t for t in nest.flatten((args, kwargs), expand_composites=True)\n\u001b[1;32m   1845\u001b[0m          if isinstance(t, (ops.Tensor,\n",
      "\u001b[0;32m~/miniconda3/lib/python3.8/site-packages/tensorflow/python/eager/function.py\u001b[0m in \u001b[0;36m_call_flat\u001b[0;34m(self, args, captured_inputs, cancellation_manager)\u001b[0m\n\u001b[1;32m   1921\u001b[0m         and executing_eagerly):\n\u001b[1;32m   1922\u001b[0m       \u001b[0;31m# No tape is watching; skip to running the function.\u001b[0m\u001b[0;34m\u001b[0m\u001b[0;34m\u001b[0m\u001b[0;34m\u001b[0m\u001b[0m\n\u001b[0;32m-> 1923\u001b[0;31m       return self._build_call_outputs(self._inference_function.call(\n\u001b[0m\u001b[1;32m   1924\u001b[0m           ctx, args, cancellation_manager=cancellation_manager))\n\u001b[1;32m   1925\u001b[0m     forward_backward = self._select_forward_and_backward_functions(\n",
      "\u001b[0;32m~/miniconda3/lib/python3.8/site-packages/tensorflow/python/eager/function.py\u001b[0m in \u001b[0;36mcall\u001b[0;34m(self, ctx, args, cancellation_manager)\u001b[0m\n\u001b[1;32m    543\u001b[0m       \u001b[0;32mwith\u001b[0m \u001b[0m_InterpolateFunctionError\u001b[0m\u001b[0;34m(\u001b[0m\u001b[0mself\u001b[0m\u001b[0;34m)\u001b[0m\u001b[0;34m:\u001b[0m\u001b[0;34m\u001b[0m\u001b[0;34m\u001b[0m\u001b[0m\n\u001b[1;32m    544\u001b[0m         \u001b[0;32mif\u001b[0m \u001b[0mcancellation_manager\u001b[0m \u001b[0;32mis\u001b[0m \u001b[0;32mNone\u001b[0m\u001b[0;34m:\u001b[0m\u001b[0;34m\u001b[0m\u001b[0;34m\u001b[0m\u001b[0m\n\u001b[0;32m--> 545\u001b[0;31m           outputs = execute.execute(\n\u001b[0m\u001b[1;32m    546\u001b[0m               \u001b[0mstr\u001b[0m\u001b[0;34m(\u001b[0m\u001b[0mself\u001b[0m\u001b[0;34m.\u001b[0m\u001b[0msignature\u001b[0m\u001b[0;34m.\u001b[0m\u001b[0mname\u001b[0m\u001b[0;34m)\u001b[0m\u001b[0;34m,\u001b[0m\u001b[0;34m\u001b[0m\u001b[0;34m\u001b[0m\u001b[0m\n\u001b[1;32m    547\u001b[0m               \u001b[0mnum_outputs\u001b[0m\u001b[0;34m=\u001b[0m\u001b[0mself\u001b[0m\u001b[0;34m.\u001b[0m\u001b[0m_num_outputs\u001b[0m\u001b[0;34m,\u001b[0m\u001b[0;34m\u001b[0m\u001b[0;34m\u001b[0m\u001b[0m\n",
      "\u001b[0;32m~/miniconda3/lib/python3.8/site-packages/tensorflow/python/eager/execute.py\u001b[0m in \u001b[0;36mquick_execute\u001b[0;34m(op_name, num_outputs, inputs, attrs, ctx, name)\u001b[0m\n\u001b[1;32m     57\u001b[0m   \u001b[0;32mtry\u001b[0m\u001b[0;34m:\u001b[0m\u001b[0;34m\u001b[0m\u001b[0;34m\u001b[0m\u001b[0m\n\u001b[1;32m     58\u001b[0m     \u001b[0mctx\u001b[0m\u001b[0;34m.\u001b[0m\u001b[0mensure_initialized\u001b[0m\u001b[0;34m(\u001b[0m\u001b[0;34m)\u001b[0m\u001b[0;34m\u001b[0m\u001b[0;34m\u001b[0m\u001b[0m\n\u001b[0;32m---> 59\u001b[0;31m     tensors = pywrap_tfe.TFE_Py_Execute(ctx._handle, device_name, op_name,\n\u001b[0m\u001b[1;32m     60\u001b[0m                                         inputs, attrs, num_outputs)\n\u001b[1;32m     61\u001b[0m   \u001b[0;32mexcept\u001b[0m \u001b[0mcore\u001b[0m\u001b[0;34m.\u001b[0m\u001b[0m_NotOkStatusException\u001b[0m \u001b[0;32mas\u001b[0m \u001b[0me\u001b[0m\u001b[0;34m:\u001b[0m\u001b[0;34m\u001b[0m\u001b[0;34m\u001b[0m\u001b[0m\n",
      "\u001b[0;31mResourceExhaustedError\u001b[0m:  OOM when allocating tensor with shape[83239685,320] and type float on /job:localhost/replica:0/task:0/device:CPU:0 by allocator cpu\n\t [[{{node StatefulPartitionedCall/StatefulPartitionedCall/EncoderDNN/EmbeddingLookup/EmbeddingLookupUnique/GatherV2}}]]\nHint: If you want to see a list of allocated tensors when OOM happens, add report_tensor_allocations_upon_oom to RunOptions for current allocation info.\n [Op:__inference_restored_function_body_5647]\n\nFunction call stack:\nrestored_function_body\n"
     ]
    }
   ],
   "source": [
    "embeddedReviewClusters = embed(reviewClusters.review_text)"
   ]
  },
  {
   "cell_type": "code",
   "execution_count": 13,
   "metadata": {},
   "outputs": [
    {
     "output_type": "execute_result",
     "data": {
      "text/plain": [
       "(9936             Why did I put off reading this for so long!\n",
       " 76948           One of the best science fiction novels ever.\n",
       " 94460                      The Godfather of science fiction!\n",
       " 106924                       Holy crap this book is awesome!\n",
       " 131745                      One of the best books i've read.\n",
       "                                  ...                        \n",
       " 1291104         an interesting scifi story superbly written.\n",
       " 1328807            I did enjoy this, more so than the movie.\n",
       " 1359573           Read the Jacqui's Room Notes on Dune here.\n",
       " 1380716    This continues to be my favorite book of all t...\n",
       " 1386570                      I enjoyed the whole Dune series\n",
       " Name: review_text, Length: 92, dtype: object,\n",
       " <tf.Tensor: shape=(92, 512), dtype=float32, numpy=\n",
       " array([[ 0.00718922, -0.01291069, -0.00347207, ...,  0.00870479,\n",
       "          0.03012627, -0.00029959],\n",
       "        [-0.01894443,  0.01617449, -0.02430125, ..., -0.04384046,\n",
       "          0.0977076 ,  0.04950066],\n",
       "        [ 0.00410285, -0.0233193 , -0.04958474, ..., -0.05305131,\n",
       "          0.08932839,  0.06151798],\n",
       "        ...,\n",
       "        [ 0.00059611,  0.08811161,  0.03411211, ...,  0.06125131,\n",
       "          0.10349108,  0.04311986],\n",
       "        [ 0.01519689,  0.00224619,  0.04249254, ...,  0.00415409,\n",
       "          0.11116897,  0.02409974],\n",
       "        [ 0.0330251 ,  0.0207536 , -0.01000573, ..., -0.02139598,\n",
       "          0.10650306,  0.00928115]], dtype=float32)>)"
      ]
     },
     "metadata": {},
     "execution_count": 13
    }
   ],
   "source": [
    "def embedAuthorSentences(book_title, review_max_len):\n",
    "    book_names = books[books.name == book_title].book_id.tolist()\n",
    "    sentences = reviews_for_cluster[reviews_for_cluster.book_id.isin(book_names)]['review_text']\n",
    "    sentences = sentences[sentences.str.len() <= review_max_len]\n",
    "    sentence_vectors = embed(sentences)\n",
    "    return sentences, sentence_vectors\n",
    "\n",
    "embedAuthorSentences(book_title, 50)"
   ]
  },
  {
   "cell_type": "code",
   "execution_count": 12,
   "metadata": {},
   "outputs": [
    {
     "output_type": "execute_result",
     "data": {
      "text/plain": [
       "Series([], Name: review_text, dtype: object)"
      ]
     },
     "metadata": {},
     "execution_count": 12
    }
   ],
   "source": [
    "reviews_for_cluster[reviews_for_cluster.book_id.isin(books[books.title.isin([book_title])].book_id.tolist())]['review_text']"
   ]
  },
  {
   "cell_type": "code",
   "execution_count": 9,
   "metadata": {},
   "outputs": [
    {
     "output_type": "execute_result",
     "data": {
      "text/plain": [
       "                           title  \\\n",
       "3213  Dune (Dune Chronicles, #1)   \n",
       "\n",
       "                                            description  book_id  \\\n",
       "3213  Here is the novel that will be forever conside...      104   \n",
       "\n",
       "      weighted_score           name  \n",
       "3213        4.195643  Frank Herbert  "
      ],
      "text/html": "<div>\n<style scoped>\n    .dataframe tbody tr th:only-of-type {\n        vertical-align: middle;\n    }\n\n    .dataframe tbody tr th {\n        vertical-align: top;\n    }\n\n    .dataframe thead th {\n        text-align: right;\n    }\n</style>\n<table border=\"1\" class=\"dataframe\">\n  <thead>\n    <tr style=\"text-align: right;\">\n      <th></th>\n      <th>title</th>\n      <th>description</th>\n      <th>book_id</th>\n      <th>weighted_score</th>\n      <th>name</th>\n    </tr>\n  </thead>\n  <tbody>\n    <tr>\n      <th>3213</th>\n      <td>Dune (Dune Chronicles, #1)</td>\n      <td>Here is the novel that will be forever conside...</td>\n      <td>104</td>\n      <td>4.195643</td>\n      <td>Frank Herbert</td>\n    </tr>\n  </tbody>\n</table>\n</div>"
     },
     "metadata": {},
     "execution_count": 9
    }
   ],
   "source": [
    "books[books.book_id.isin([104])]"
   ]
  },
  {
   "cell_type": "code",
   "execution_count": 14,
   "metadata": {},
   "outputs": [],
   "source": [
    "author_name = books[books.name.str.contains('Frank Herbert', case=False)].name.tolist()"
   ]
  },
  {
   "cell_type": "code",
   "execution_count": 21,
   "metadata": {},
   "outputs": [
    {
     "output_type": "stream",
     "name": "stdout",
     "text": [
      "Dune (Dune Chronicles #1)\nFrank Herbert\nDune\nFrank Herbert\nDune (Dune Chronicles, #1)\nFrank Herbert\nChapterhouse: Dune (Dune Chronicles #6)\nFrank Herbert\n"
     ]
    }
   ],
   "source": [
    "for idx, authorName in enumerate(author_name):\n",
    "    info = books[books.name == authorName]\n",
    "    print(info.title.tolist()[idx])\n",
    "    print(info.name.tolist()[idx])"
   ]
  },
  {
   "cell_type": "code",
   "execution_count": 16,
   "metadata": {},
   "outputs": [
    {
     "output_type": "execute_result",
     "data": {
      "text/plain": [
       "23"
      ]
     },
     "metadata": {},
     "execution_count": 16
    }
   ],
   "source": [
    "books.name.isna().sum()"
   ]
  },
  {
   "cell_type": "code",
   "execution_count": 12,
   "metadata": {},
   "outputs": [
    {
     "output_type": "execute_result",
     "data": {
      "text/plain": [
       "        book_id                                        review_text\n",
       "0        831635                    Recommended by our pediatrician\n",
       "1         27539  6 of my smartest friends rated this 4 or highe...\n",
       "2        259028           If steve recommends it, it must be good!\n",
       "3          5558  elizabeth got this for free at work... anyone ...\n",
       "4          1202           I loved the abortion cured crime theory.\n",
       "...         ...                                                ...\n",
       "429621    12067  Lots of fun. I'll have to try some more Terry ...\n",
       "429622     5907  What can I say about Tolkien? Just read his wo...\n",
       "429623    47956  This book is an exhilarating book of magic and...\n",
       "429624     5139  Really enjoyed this book. Crazy, fast paced fa...\n",
       "429625  2429135               I lost interest and stopped reading.\n",
       "\n",
       "[429626 rows x 2 columns]"
      ],
      "text/html": "<div>\n<style scoped>\n    .dataframe tbody tr th:only-of-type {\n        vertical-align: middle;\n    }\n\n    .dataframe tbody tr th {\n        vertical-align: top;\n    }\n\n    .dataframe thead th {\n        text-align: right;\n    }\n</style>\n<table border=\"1\" class=\"dataframe\">\n  <thead>\n    <tr style=\"text-align: right;\">\n      <th></th>\n      <th>book_id</th>\n      <th>review_text</th>\n    </tr>\n  </thead>\n  <tbody>\n    <tr>\n      <th>0</th>\n      <td>831635</td>\n      <td>Recommended by our pediatrician</td>\n    </tr>\n    <tr>\n      <th>1</th>\n      <td>27539</td>\n      <td>6 of my smartest friends rated this 4 or highe...</td>\n    </tr>\n    <tr>\n      <th>2</th>\n      <td>259028</td>\n      <td>If steve recommends it, it must be good!</td>\n    </tr>\n    <tr>\n      <th>3</th>\n      <td>5558</td>\n      <td>elizabeth got this for free at work... anyone ...</td>\n    </tr>\n    <tr>\n      <th>4</th>\n      <td>1202</td>\n      <td>I loved the abortion cured crime theory.</td>\n    </tr>\n    <tr>\n      <th>...</th>\n      <td>...</td>\n      <td>...</td>\n    </tr>\n    <tr>\n      <th>429621</th>\n      <td>12067</td>\n      <td>Lots of fun. I'll have to try some more Terry ...</td>\n    </tr>\n    <tr>\n      <th>429622</th>\n      <td>5907</td>\n      <td>What can I say about Tolkien? Just read his wo...</td>\n    </tr>\n    <tr>\n      <th>429623</th>\n      <td>47956</td>\n      <td>This book is an exhilarating book of magic and...</td>\n    </tr>\n    <tr>\n      <th>429624</th>\n      <td>5139</td>\n      <td>Really enjoyed this book. Crazy, fast paced fa...</td>\n    </tr>\n    <tr>\n      <th>429625</th>\n      <td>2429135</td>\n      <td>I lost interest and stopped reading.</td>\n    </tr>\n  </tbody>\n</table>\n<p>429626 rows × 2 columns</p>\n</div>"
     },
     "metadata": {},
     "execution_count": 12
    }
   ],
   "source": [
    "reviews"
   ]
  },
  {
   "cell_type": "code",
   "execution_count": 13,
   "metadata": {},
   "outputs": [
    {
     "output_type": "execute_result",
     "data": {
      "text/plain": [
       "         book_id                                        review_text\n",
       "0         831635                    Recommended by our pediatrician\n",
       "1          27539  6 of my smartest friends rated this 4 or highe...\n",
       "2          54499  A great finish to the D'Artagnan series - defi...\n",
       "3          77566  Seven amazing stories. Each one you think can'...\n",
       "4         361459  Highly recommended if you are curious about Ma...\n",
       "...          ...                                                ...\n",
       "1392328   170210  I loved this book. The author's politics are a...\n",
       "1392329   140082  I loved this book. The author's politics are a...\n",
       "1392330   110494  I loved this book. The author's politics are a...\n",
       "1392331   301082  I loved this book. The author's politics are a...\n",
       "1392332   136251  I loved this last book in the series! I laughe...\n",
       "\n",
       "[1392333 rows x 2 columns]"
      ],
      "text/html": "<div>\n<style scoped>\n    .dataframe tbody tr th:only-of-type {\n        vertical-align: middle;\n    }\n\n    .dataframe tbody tr th {\n        vertical-align: top;\n    }\n\n    .dataframe thead th {\n        text-align: right;\n    }\n</style>\n<table border=\"1\" class=\"dataframe\">\n  <thead>\n    <tr style=\"text-align: right;\">\n      <th></th>\n      <th>book_id</th>\n      <th>review_text</th>\n    </tr>\n  </thead>\n  <tbody>\n    <tr>\n      <th>0</th>\n      <td>831635</td>\n      <td>Recommended by our pediatrician</td>\n    </tr>\n    <tr>\n      <th>1</th>\n      <td>27539</td>\n      <td>6 of my smartest friends rated this 4 or highe...</td>\n    </tr>\n    <tr>\n      <th>2</th>\n      <td>54499</td>\n      <td>A great finish to the D'Artagnan series - defi...</td>\n    </tr>\n    <tr>\n      <th>3</th>\n      <td>77566</td>\n      <td>Seven amazing stories. Each one you think can'...</td>\n    </tr>\n    <tr>\n      <th>4</th>\n      <td>361459</td>\n      <td>Highly recommended if you are curious about Ma...</td>\n    </tr>\n    <tr>\n      <th>...</th>\n      <td>...</td>\n      <td>...</td>\n    </tr>\n    <tr>\n      <th>1392328</th>\n      <td>170210</td>\n      <td>I loved this book. The author's politics are a...</td>\n    </tr>\n    <tr>\n      <th>1392329</th>\n      <td>140082</td>\n      <td>I loved this book. The author's politics are a...</td>\n    </tr>\n    <tr>\n      <th>1392330</th>\n      <td>110494</td>\n      <td>I loved this book. The author's politics are a...</td>\n    </tr>\n    <tr>\n      <th>1392331</th>\n      <td>301082</td>\n      <td>I loved this book. The author's politics are a...</td>\n    </tr>\n    <tr>\n      <th>1392332</th>\n      <td>136251</td>\n      <td>I loved this last book in the series! I laughe...</td>\n    </tr>\n  </tbody>\n</table>\n<p>1392333 rows × 2 columns</p>\n</div>"
     },
     "metadata": {},
     "execution_count": 13
    }
   ],
   "source": [
    "reviewClusters"
   ]
  },
  {
   "source": [
    "# Creating title search"
   ],
   "cell_type": "markdown",
   "metadata": {}
  },
  {
   "cell_type": "code",
   "execution_count": 151,
   "metadata": {},
   "outputs": [],
   "source": [
    "books = books[['title','description', 'book_id', 'weighted_score','name']]\n",
    "books.fillna('', inplace=True)"
   ]
  },
  {
   "cell_type": "code",
   "execution_count": 154,
   "metadata": {},
   "outputs": [],
   "source": [
    "books.to_csv(datapath+'clean_filtered_books.csv')"
   ]
  },
  {
   "cell_type": "code",
   "execution_count": 161,
   "metadata": {},
   "outputs": [],
   "source": [
    "reviews = reviews[['book_id','review_text']]\n",
    "reviews.to_csv(datapath+'clean_filtered_reviews.csv')"
   ]
  },
  {
   "cell_type": "code",
   "execution_count": 157,
   "metadata": {},
   "outputs": [
    {
     "output_type": "execute_result",
     "data": {
      "text/plain": [
       "                                 user_id  book_id  \\\n",
       "0       8842281e1d1347389f2ab93d60773d4d   831635   \n",
       "1       8842281e1d1347389f2ab93d60773d4d    27539   \n",
       "2       8842281e1d1347389f2ab93d60773d4d   259028   \n",
       "3       8842281e1d1347389f2ab93d60773d4d     5558   \n",
       "4       8842281e1d1347389f2ab93d60773d4d     1202   \n",
       "...                                  ...      ...   \n",
       "429621  349751201c57bc3b652590c6c90d894c    12067   \n",
       "429622  349751201c57bc3b652590c6c90d894c     5907   \n",
       "429623  621c5857e423b0f2283a22604d1796a0    47956   \n",
       "429624  2c2733058db98a841851789c132e0334     5139   \n",
       "429625  819394055f0c3e4fb166802f6d71c3ab  2429135   \n",
       "\n",
       "                               review_id  rating  \\\n",
       "0       549bc8e5f48d65e981cf2abb3ff7ee6f       0   \n",
       "1       b45353478a136de0a3e93077d47b1d6b       0   \n",
       "2       fb4acc8a30bac6bf1414a03303d43c26       0   \n",
       "3       3c01b327de615dc96910130797da1224       0   \n",
       "4       8458284a7dcf85d90b3c55bd6b4523d4       4   \n",
       "...                                  ...     ...   \n",
       "429621  cf4da327f4a32c6325eca4f8c52ff11c       4   \n",
       "429622  ac0e9d4b8b2ab0144402c22d90ba1df3       5   \n",
       "429623  50b83b9ea55af86f2561fa35ba1ff483       5   \n",
       "429624  200307bd0e38a59982a77a89157771d9       4   \n",
       "429625  c4234cfa2bb1b444cf31dfe63b4b88f9       0   \n",
       "\n",
       "                                              review_text  \\\n",
       "0                         Recommended by our pediatrician   \n",
       "1       6 of my smartest friends rated this 4 or highe...   \n",
       "2                If steve recommends it, it must be good!   \n",
       "3       elizabeth got this for free at work... anyone ...   \n",
       "4                I loved the abortion cured crime theory.   \n",
       "...                                                   ...   \n",
       "429621  Lots of fun. I'll have to try some more Terry ...   \n",
       "429622  What can I say about Tolkien? Just read his wo...   \n",
       "429623  This book is an exhilarating book of magic and...   \n",
       "429624  Really enjoyed this book. Crazy, fast paced fa...   \n",
       "429625               I lost interest and stopped reading.   \n",
       "\n",
       "                            date_added  n_votes  n_comments  \n",
       "0       Mon May 16 12:29:47 -0700 2011        0          12  \n",
       "1       Sun Nov 15 20:28:29 -0800 2009        0           2  \n",
       "2       Thu Jan 18 11:09:48 -0800 2007        2           2  \n",
       "3       Thu Dec 07 16:43:16 -0800 2006        0           0  \n",
       "4       Mon Nov 13 12:31:32 -0800 2006        6           2  \n",
       "...                                ...      ...         ...  \n",
       "429621  Wed Sep 10 20:54:42 -0700 2008        0           0  \n",
       "429622  Wed Jul 30 18:50:48 -0700 2008        0           0  \n",
       "429623  Wed Jul 30 20:59:21 -0700 2008        0           0  \n",
       "429624  Mon Mar 03 04:22:30 -0800 2014        0           0  \n",
       "429625  Tue Oct 04 18:39:04 -0700 2011        0           0  \n",
       "\n",
       "[429626 rows x 8 columns]"
      ],
      "text/html": "<div>\n<style scoped>\n    .dataframe tbody tr th:only-of-type {\n        vertical-align: middle;\n    }\n\n    .dataframe tbody tr th {\n        vertical-align: top;\n    }\n\n    .dataframe thead th {\n        text-align: right;\n    }\n</style>\n<table border=\"1\" class=\"dataframe\">\n  <thead>\n    <tr style=\"text-align: right;\">\n      <th></th>\n      <th>user_id</th>\n      <th>book_id</th>\n      <th>review_id</th>\n      <th>rating</th>\n      <th>review_text</th>\n      <th>date_added</th>\n      <th>n_votes</th>\n      <th>n_comments</th>\n    </tr>\n  </thead>\n  <tbody>\n    <tr>\n      <th>0</th>\n      <td>8842281e1d1347389f2ab93d60773d4d</td>\n      <td>831635</td>\n      <td>549bc8e5f48d65e981cf2abb3ff7ee6f</td>\n      <td>0</td>\n      <td>Recommended by our pediatrician</td>\n      <td>Mon May 16 12:29:47 -0700 2011</td>\n      <td>0</td>\n      <td>12</td>\n    </tr>\n    <tr>\n      <th>1</th>\n      <td>8842281e1d1347389f2ab93d60773d4d</td>\n      <td>27539</td>\n      <td>b45353478a136de0a3e93077d47b1d6b</td>\n      <td>0</td>\n      <td>6 of my smartest friends rated this 4 or highe...</td>\n      <td>Sun Nov 15 20:28:29 -0800 2009</td>\n      <td>0</td>\n      <td>2</td>\n    </tr>\n    <tr>\n      <th>2</th>\n      <td>8842281e1d1347389f2ab93d60773d4d</td>\n      <td>259028</td>\n      <td>fb4acc8a30bac6bf1414a03303d43c26</td>\n      <td>0</td>\n      <td>If steve recommends it, it must be good!</td>\n      <td>Thu Jan 18 11:09:48 -0800 2007</td>\n      <td>2</td>\n      <td>2</td>\n    </tr>\n    <tr>\n      <th>3</th>\n      <td>8842281e1d1347389f2ab93d60773d4d</td>\n      <td>5558</td>\n      <td>3c01b327de615dc96910130797da1224</td>\n      <td>0</td>\n      <td>elizabeth got this for free at work... anyone ...</td>\n      <td>Thu Dec 07 16:43:16 -0800 2006</td>\n      <td>0</td>\n      <td>0</td>\n    </tr>\n    <tr>\n      <th>4</th>\n      <td>8842281e1d1347389f2ab93d60773d4d</td>\n      <td>1202</td>\n      <td>8458284a7dcf85d90b3c55bd6b4523d4</td>\n      <td>4</td>\n      <td>I loved the abortion cured crime theory.</td>\n      <td>Mon Nov 13 12:31:32 -0800 2006</td>\n      <td>6</td>\n      <td>2</td>\n    </tr>\n    <tr>\n      <th>...</th>\n      <td>...</td>\n      <td>...</td>\n      <td>...</td>\n      <td>...</td>\n      <td>...</td>\n      <td>...</td>\n      <td>...</td>\n      <td>...</td>\n    </tr>\n    <tr>\n      <th>429621</th>\n      <td>349751201c57bc3b652590c6c90d894c</td>\n      <td>12067</td>\n      <td>cf4da327f4a32c6325eca4f8c52ff11c</td>\n      <td>4</td>\n      <td>Lots of fun. I'll have to try some more Terry ...</td>\n      <td>Wed Sep 10 20:54:42 -0700 2008</td>\n      <td>0</td>\n      <td>0</td>\n    </tr>\n    <tr>\n      <th>429622</th>\n      <td>349751201c57bc3b652590c6c90d894c</td>\n      <td>5907</td>\n      <td>ac0e9d4b8b2ab0144402c22d90ba1df3</td>\n      <td>5</td>\n      <td>What can I say about Tolkien? Just read his wo...</td>\n      <td>Wed Jul 30 18:50:48 -0700 2008</td>\n      <td>0</td>\n      <td>0</td>\n    </tr>\n    <tr>\n      <th>429623</th>\n      <td>621c5857e423b0f2283a22604d1796a0</td>\n      <td>47956</td>\n      <td>50b83b9ea55af86f2561fa35ba1ff483</td>\n      <td>5</td>\n      <td>This book is an exhilarating book of magic and...</td>\n      <td>Wed Jul 30 20:59:21 -0700 2008</td>\n      <td>0</td>\n      <td>0</td>\n    </tr>\n    <tr>\n      <th>429624</th>\n      <td>2c2733058db98a841851789c132e0334</td>\n      <td>5139</td>\n      <td>200307bd0e38a59982a77a89157771d9</td>\n      <td>4</td>\n      <td>Really enjoyed this book. Crazy, fast paced fa...</td>\n      <td>Mon Mar 03 04:22:30 -0800 2014</td>\n      <td>0</td>\n      <td>0</td>\n    </tr>\n    <tr>\n      <th>429625</th>\n      <td>819394055f0c3e4fb166802f6d71c3ab</td>\n      <td>2429135</td>\n      <td>c4234cfa2bb1b444cf31dfe63b4b88f9</td>\n      <td>0</td>\n      <td>I lost interest and stopped reading.</td>\n      <td>Tue Oct 04 18:39:04 -0700 2011</td>\n      <td>0</td>\n      <td>0</td>\n    </tr>\n  </tbody>\n</table>\n<p>429626 rows × 8 columns</p>\n</div>"
     },
     "metadata": {},
     "execution_count": 157
    }
   ],
   "source": [
    "reviews"
   ]
  },
  {
   "cell_type": "code",
   "execution_count": 141,
   "metadata": {},
   "outputs": [
    {
     "output_type": "execute_result",
     "data": {
      "text/plain": [
       "23"
      ]
     },
     "metadata": {},
     "execution_count": 141
    }
   ],
   "source": [
    "books.name.isna().sum()"
   ]
  },
  {
   "cell_type": "code",
   "execution_count": 110,
   "metadata": {},
   "outputs": [],
   "source": [
    "sentence = 'title: Century'"
   ]
  },
  {
   "cell_type": "code",
   "execution_count": 9,
   "metadata": {},
   "outputs": [],
   "source": [
    "book_title = books[books.title.str.match(sentence, case=False)].title.tolist()\n",
    "#for i in range(len(book_title))\n",
    "#    sentences, sentence_vectors = embedSentences(book_title[i])"
   ]
  },
  {
   "cell_type": "code",
   "execution_count": 25,
   "metadata": {},
   "outputs": [],
   "source": [
    "test = re.search(r'\\\"[\\s\\S]*\\\"', sentence)"
   ]
  },
  {
   "cell_type": "code",
   "execution_count": 29,
   "metadata": {},
   "outputs": [
    {
     "output_type": "error",
     "ename": "AttributeError",
     "evalue": "'StringMethods' object has no attribute 'search'",
     "traceback": [
      "\u001b[0;31m---------------------------------------------------------------------------\u001b[0m",
      "\u001b[0;31mAttributeError\u001b[0m                            Traceback (most recent call last)",
      "\u001b[0;32m<ipython-input-29-6d9a996b8dc3>\u001b[0m in \u001b[0;36m<module>\u001b[0;34m\u001b[0m\n\u001b[0;32m----> 1\u001b[0;31m \u001b[0mbook_title\u001b[0m \u001b[0;34m=\u001b[0m \u001b[0mbooks\u001b[0m\u001b[0;34m[\u001b[0m\u001b[0mbooks\u001b[0m\u001b[0;34m.\u001b[0m\u001b[0mtitle\u001b[0m\u001b[0;34m.\u001b[0m\u001b[0mstr\u001b[0m\u001b[0;34m.\u001b[0m\u001b[0msearch\u001b[0m\u001b[0;34m(\u001b[0m\u001b[0msentence\u001b[0m\u001b[0;34m,\u001b[0m \u001b[0mcase\u001b[0m\u001b[0;34m=\u001b[0m\u001b[0;32mFalse\u001b[0m\u001b[0;34m)\u001b[0m\u001b[0;34m]\u001b[0m\u001b[0;34m.\u001b[0m\u001b[0mtitle\u001b[0m\u001b[0;34m.\u001b[0m\u001b[0mtolist\u001b[0m\u001b[0;34m(\u001b[0m\u001b[0;34m)\u001b[0m\u001b[0;34m\u001b[0m\u001b[0;34m\u001b[0m\u001b[0m\n\u001b[0m\u001b[1;32m      2\u001b[0m \u001b[0mbook_title\u001b[0m\u001b[0;34m\u001b[0m\u001b[0;34m\u001b[0m\u001b[0m\n",
      "\u001b[0;31mAttributeError\u001b[0m: 'StringMethods' object has no attribute 'search'"
     ]
    }
   ],
   "source": [
    "book_title = books[books.title.contains(sentence, case=False)].title.tolist()\n",
    "book_title"
   ]
  },
  {
   "cell_type": "code",
   "execution_count": 111,
   "metadata": {},
   "outputs": [],
   "source": [
    "sentence = 'title: Wolf Children: Ame & Yuki'\n",
    "sentence = sentence.replace('title: ', '')\n",
    "book_title = books[books.title.isin([sentence])].title.tolist()[0]"
   ]
  },
  {
   "cell_type": "code",
   "execution_count": 113,
   "metadata": {},
   "outputs": [
    {
     "output_type": "execute_result",
     "data": {
      "text/plain": [
       "                                         title  author  average_rating  \\\n",
       "3023                 Dune (Dune Chronicles #1)    58.0            4.20   \n",
       "3154                                      Dune    58.0            4.20   \n",
       "3213                Dune (Dune Chronicles, #1)    58.0            4.20   \n",
       "10352  Chapterhouse: Dune (Dune Chronicles #6)    58.0            3.89   \n",
       "\n",
       "       ratings_count  text_reviews_count  \\\n",
       "3023        494553.0              9982.0   \n",
       "3154          8645.0               750.0   \n",
       "3213          3224.0               360.0   \n",
       "10352        35448.0               476.0   \n",
       "\n",
       "                                             description            shelf_1  \\\n",
       "3023   This book was mistakenly published under \u0001.\\nS...  currently-reading   \n",
       "3154   Librarian's note: There are Alternate Cover Ed...  currently-reading   \n",
       "3213   Here is the novel that will be forever conside...  currently-reading   \n",
       "10352  The desert planet Arrakis, called Dune, has be...             sci-fi   \n",
       "\n",
       "       book_id  weighted_score           name  \n",
       "3023    234225        4.199971  Frank Herbert  \n",
       "3154     53732        4.198359  Frank Herbert  \n",
       "3213       104        4.195643  Frank Herbert  \n",
       "10352      105        3.890035  Frank Herbert  "
      ],
      "text/html": "<div>\n<style scoped>\n    .dataframe tbody tr th:only-of-type {\n        vertical-align: middle;\n    }\n\n    .dataframe tbody tr th {\n        vertical-align: top;\n    }\n\n    .dataframe thead th {\n        text-align: right;\n    }\n</style>\n<table border=\"1\" class=\"dataframe\">\n  <thead>\n    <tr style=\"text-align: right;\">\n      <th></th>\n      <th>title</th>\n      <th>author</th>\n      <th>average_rating</th>\n      <th>ratings_count</th>\n      <th>text_reviews_count</th>\n      <th>description</th>\n      <th>shelf_1</th>\n      <th>book_id</th>\n      <th>weighted_score</th>\n      <th>name</th>\n    </tr>\n  </thead>\n  <tbody>\n    <tr>\n      <th>3023</th>\n      <td>Dune (Dune Chronicles #1)</td>\n      <td>58.0</td>\n      <td>4.20</td>\n      <td>494553.0</td>\n      <td>9982.0</td>\n      <td>This book was mistakenly published under \u0001.\\nS...</td>\n      <td>currently-reading</td>\n      <td>234225</td>\n      <td>4.199971</td>\n      <td>Frank Herbert</td>\n    </tr>\n    <tr>\n      <th>3154</th>\n      <td>Dune</td>\n      <td>58.0</td>\n      <td>4.20</td>\n      <td>8645.0</td>\n      <td>750.0</td>\n      <td>Librarian's note: There are Alternate Cover Ed...</td>\n      <td>currently-reading</td>\n      <td>53732</td>\n      <td>4.198359</td>\n      <td>Frank Herbert</td>\n    </tr>\n    <tr>\n      <th>3213</th>\n      <td>Dune (Dune Chronicles, #1)</td>\n      <td>58.0</td>\n      <td>4.20</td>\n      <td>3224.0</td>\n      <td>360.0</td>\n      <td>Here is the novel that will be forever conside...</td>\n      <td>currently-reading</td>\n      <td>104</td>\n      <td>4.195643</td>\n      <td>Frank Herbert</td>\n    </tr>\n    <tr>\n      <th>10352</th>\n      <td>Chapterhouse: Dune (Dune Chronicles #6)</td>\n      <td>58.0</td>\n      <td>3.89</td>\n      <td>35448.0</td>\n      <td>476.0</td>\n      <td>The desert planet Arrakis, called Dune, has be...</td>\n      <td>sci-fi</td>\n      <td>105</td>\n      <td>3.890035</td>\n      <td>Frank Herbert</td>\n    </tr>\n  </tbody>\n</table>\n</div>"
     },
     "metadata": {},
     "execution_count": 113
    }
   ],
   "source": [
    "books[books.name == 'Frank Herbert']"
   ]
  },
  {
   "cell_type": "code",
   "execution_count": 114,
   "metadata": {},
   "outputs": [
    {
     "output_type": "error",
     "ename": "ValueError",
     "evalue": "Cannot mask with non-boolean array containing NA / NaN values",
     "traceback": [
      "\u001b[0;31m---------------------------------------------------------------------------\u001b[0m",
      "\u001b[0;31mValueError\u001b[0m                                Traceback (most recent call last)",
      "\u001b[0;32m<ipython-input-114-8a6d2a69e8fc>\u001b[0m in \u001b[0;36m<module>\u001b[0;34m\u001b[0m\n\u001b[0;32m----> 1\u001b[0;31m \u001b[0mauthor_name\u001b[0m \u001b[0;34m=\u001b[0m \u001b[0mbooks\u001b[0m\u001b[0;34m[\u001b[0m\u001b[0mbooks\u001b[0m\u001b[0;34m.\u001b[0m\u001b[0mname\u001b[0m\u001b[0;34m.\u001b[0m\u001b[0mstr\u001b[0m\u001b[0;34m.\u001b[0m\u001b[0mmatch\u001b[0m\u001b[0;34m(\u001b[0m\u001b[0;34m'Frank Herbert'\u001b[0m\u001b[0;34m)\u001b[0m\u001b[0;34m]\u001b[0m\u001b[0;34m.\u001b[0m\u001b[0mname\u001b[0m\u001b[0;34m.\u001b[0m\u001b[0mtolist\u001b[0m\u001b[0;34m(\u001b[0m\u001b[0;34m)\u001b[0m\u001b[0;34m\u001b[0m\u001b[0;34m\u001b[0m\u001b[0m\n\u001b[0m",
      "\u001b[0;32m~/miniconda3/lib/python3.8/site-packages/pandas/core/frame.py\u001b[0m in \u001b[0;36m__getitem__\u001b[0;34m(self, key)\u001b[0m\n\u001b[1;32m   2894\u001b[0m \u001b[0;34m\u001b[0m\u001b[0m\n\u001b[1;32m   2895\u001b[0m         \u001b[0;31m# Do we have a (boolean) 1d indexer?\u001b[0m\u001b[0;34m\u001b[0m\u001b[0;34m\u001b[0m\u001b[0;34m\u001b[0m\u001b[0m\n\u001b[0;32m-> 2896\u001b[0;31m         \u001b[0;32mif\u001b[0m \u001b[0mcom\u001b[0m\u001b[0;34m.\u001b[0m\u001b[0mis_bool_indexer\u001b[0m\u001b[0;34m(\u001b[0m\u001b[0mkey\u001b[0m\u001b[0;34m)\u001b[0m\u001b[0;34m:\u001b[0m\u001b[0;34m\u001b[0m\u001b[0;34m\u001b[0m\u001b[0m\n\u001b[0m\u001b[1;32m   2897\u001b[0m             \u001b[0;32mreturn\u001b[0m \u001b[0mself\u001b[0m\u001b[0;34m.\u001b[0m\u001b[0m_getitem_bool_array\u001b[0m\u001b[0;34m(\u001b[0m\u001b[0mkey\u001b[0m\u001b[0;34m)\u001b[0m\u001b[0;34m\u001b[0m\u001b[0;34m\u001b[0m\u001b[0m\n\u001b[1;32m   2898\u001b[0m \u001b[0;34m\u001b[0m\u001b[0m\n",
      "\u001b[0;32m~/miniconda3/lib/python3.8/site-packages/pandas/core/common.py\u001b[0m in \u001b[0;36mis_bool_indexer\u001b[0;34m(key)\u001b[0m\n\u001b[1;32m    132\u001b[0m                 \u001b[0mna_msg\u001b[0m \u001b[0;34m=\u001b[0m \u001b[0;34m\"Cannot mask with non-boolean array containing NA / NaN values\"\u001b[0m\u001b[0;34m\u001b[0m\u001b[0;34m\u001b[0m\u001b[0m\n\u001b[1;32m    133\u001b[0m                 \u001b[0;32mif\u001b[0m \u001b[0misna\u001b[0m\u001b[0;34m(\u001b[0m\u001b[0mkey\u001b[0m\u001b[0;34m)\u001b[0m\u001b[0;34m.\u001b[0m\u001b[0many\u001b[0m\u001b[0;34m(\u001b[0m\u001b[0;34m)\u001b[0m\u001b[0;34m:\u001b[0m\u001b[0;34m\u001b[0m\u001b[0;34m\u001b[0m\u001b[0m\n\u001b[0;32m--> 134\u001b[0;31m                     \u001b[0;32mraise\u001b[0m \u001b[0mValueError\u001b[0m\u001b[0;34m(\u001b[0m\u001b[0mna_msg\u001b[0m\u001b[0;34m)\u001b[0m\u001b[0;34m\u001b[0m\u001b[0;34m\u001b[0m\u001b[0m\n\u001b[0m\u001b[1;32m    135\u001b[0m                 \u001b[0;32mreturn\u001b[0m \u001b[0;32mFalse\u001b[0m\u001b[0;34m\u001b[0m\u001b[0;34m\u001b[0m\u001b[0m\n\u001b[1;32m    136\u001b[0m             \u001b[0;32mreturn\u001b[0m \u001b[0;32mTrue\u001b[0m\u001b[0;34m\u001b[0m\u001b[0;34m\u001b[0m\u001b[0m\n",
      "\u001b[0;31mValueError\u001b[0m: Cannot mask with non-boolean array containing NA / NaN values"
     ]
    }
   ],
   "source": [
    "author_name = books[books.name.str.match('Frank Herbert')].name.tolist()"
   ]
  },
  {
   "cell_type": "code",
   "execution_count": 123,
   "metadata": {},
   "outputs": [
    {
     "output_type": "error",
     "ename": "ValueError",
     "evalue": "Cannot mask with non-boolean array containing NA / NaN values",
     "traceback": [
      "\u001b[0;31m---------------------------------------------------------------------------\u001b[0m",
      "\u001b[0;31mValueError\u001b[0m                                Traceback (most recent call last)",
      "\u001b[0;32m<ipython-input-123-388e9f272901>\u001b[0m in \u001b[0;36m<module>\u001b[0;34m\u001b[0m\n\u001b[1;32m      1\u001b[0m \u001b[0mbooks\u001b[0m\u001b[0;34m.\u001b[0m\u001b[0mname\u001b[0m\u001b[0;34m.\u001b[0m\u001b[0mstr\u001b[0m\u001b[0;34m.\u001b[0m\u001b[0mcontains\u001b[0m\u001b[0;34m(\u001b[0m\u001b[0;34m'Frank Herbert'\u001b[0m\u001b[0;34m)\u001b[0m\u001b[0;34m\u001b[0m\u001b[0;34m\u001b[0m\u001b[0m\n\u001b[0;32m----> 2\u001b[0;31m \u001b[0mbooks\u001b[0m\u001b[0;34m[\u001b[0m\u001b[0mbooks\u001b[0m\u001b[0;34m.\u001b[0m\u001b[0mname\u001b[0m\u001b[0;34m.\u001b[0m\u001b[0mstr\u001b[0m\u001b[0;34m.\u001b[0m\u001b[0mcontains\u001b[0m\u001b[0;34m(\u001b[0m\u001b[0;34m'Frank Herbert'\u001b[0m\u001b[0;34m)\u001b[0m\u001b[0;34m]\u001b[0m\u001b[0;34m.\u001b[0m\u001b[0mname\u001b[0m\u001b[0;34m.\u001b[0m\u001b[0mtolist\u001b[0m\u001b[0;34m(\u001b[0m\u001b[0;34m)\u001b[0m\u001b[0;34m\u001b[0m\u001b[0;34m\u001b[0m\u001b[0m\n\u001b[0m",
      "\u001b[0;32m~/miniconda3/lib/python3.8/site-packages/pandas/core/frame.py\u001b[0m in \u001b[0;36m__getitem__\u001b[0;34m(self, key)\u001b[0m\n\u001b[1;32m   2894\u001b[0m \u001b[0;34m\u001b[0m\u001b[0m\n\u001b[1;32m   2895\u001b[0m         \u001b[0;31m# Do we have a (boolean) 1d indexer?\u001b[0m\u001b[0;34m\u001b[0m\u001b[0;34m\u001b[0m\u001b[0;34m\u001b[0m\u001b[0m\n\u001b[0;32m-> 2896\u001b[0;31m         \u001b[0;32mif\u001b[0m \u001b[0mcom\u001b[0m\u001b[0;34m.\u001b[0m\u001b[0mis_bool_indexer\u001b[0m\u001b[0;34m(\u001b[0m\u001b[0mkey\u001b[0m\u001b[0;34m)\u001b[0m\u001b[0;34m:\u001b[0m\u001b[0;34m\u001b[0m\u001b[0;34m\u001b[0m\u001b[0m\n\u001b[0m\u001b[1;32m   2897\u001b[0m             \u001b[0;32mreturn\u001b[0m \u001b[0mself\u001b[0m\u001b[0;34m.\u001b[0m\u001b[0m_getitem_bool_array\u001b[0m\u001b[0;34m(\u001b[0m\u001b[0mkey\u001b[0m\u001b[0;34m)\u001b[0m\u001b[0;34m\u001b[0m\u001b[0;34m\u001b[0m\u001b[0m\n\u001b[1;32m   2898\u001b[0m \u001b[0;34m\u001b[0m\u001b[0m\n",
      "\u001b[0;32m~/miniconda3/lib/python3.8/site-packages/pandas/core/common.py\u001b[0m in \u001b[0;36mis_bool_indexer\u001b[0;34m(key)\u001b[0m\n\u001b[1;32m    132\u001b[0m                 \u001b[0mna_msg\u001b[0m \u001b[0;34m=\u001b[0m \u001b[0;34m\"Cannot mask with non-boolean array containing NA / NaN values\"\u001b[0m\u001b[0;34m\u001b[0m\u001b[0;34m\u001b[0m\u001b[0m\n\u001b[1;32m    133\u001b[0m                 \u001b[0;32mif\u001b[0m \u001b[0misna\u001b[0m\u001b[0;34m(\u001b[0m\u001b[0mkey\u001b[0m\u001b[0;34m)\u001b[0m\u001b[0;34m.\u001b[0m\u001b[0many\u001b[0m\u001b[0;34m(\u001b[0m\u001b[0;34m)\u001b[0m\u001b[0;34m:\u001b[0m\u001b[0;34m\u001b[0m\u001b[0;34m\u001b[0m\u001b[0m\n\u001b[0;32m--> 134\u001b[0;31m                     \u001b[0;32mraise\u001b[0m \u001b[0mValueError\u001b[0m\u001b[0;34m(\u001b[0m\u001b[0mna_msg\u001b[0m\u001b[0;34m)\u001b[0m\u001b[0;34m\u001b[0m\u001b[0;34m\u001b[0m\u001b[0m\n\u001b[0m\u001b[1;32m    135\u001b[0m                 \u001b[0;32mreturn\u001b[0m \u001b[0;32mFalse\u001b[0m\u001b[0;34m\u001b[0m\u001b[0;34m\u001b[0m\u001b[0m\n\u001b[1;32m    136\u001b[0m             \u001b[0;32mreturn\u001b[0m \u001b[0;32mTrue\u001b[0m\u001b[0;34m\u001b[0m\u001b[0;34m\u001b[0m\u001b[0m\n",
      "\u001b[0;31mValueError\u001b[0m: Cannot mask with non-boolean array containing NA / NaN values"
     ]
    }
   ],
   "source": [
    "books.name.str.contains('Frank Herbert')\n",
    "books[books.name.str.contains('Frank Herbert')].name.tolist()"
   ]
  },
  {
   "cell_type": "code",
   "execution_count": 127,
   "metadata": {},
   "outputs": [
    {
     "output_type": "error",
     "ename": "IndexingError",
     "evalue": "Unalignable boolean Series provided as indexer (index of the boolean Series and of the indexed object do not match).",
     "traceback": [
      "\u001b[0;31m---------------------------------------------------------------------------\u001b[0m",
      "\u001b[0;31mIndexingError\u001b[0m                             Traceback (most recent call last)",
      "\u001b[0;32m<ipython-input-127-fc0c0e98c49b>\u001b[0m in \u001b[0;36m<module>\u001b[0;34m\u001b[0m\n\u001b[0;32m----> 1\u001b[0;31m \u001b[0mbooks\u001b[0m\u001b[0;34m[\u001b[0m\u001b[0mbooks\u001b[0m\u001b[0;34m.\u001b[0m\u001b[0mname\u001b[0m\u001b[0;34m.\u001b[0m\u001b[0mstr\u001b[0m\u001b[0;34m.\u001b[0m\u001b[0mcontains\u001b[0m\u001b[0;34m(\u001b[0m\u001b[0;34m'Frank Herbert'\u001b[0m\u001b[0;34m)\u001b[0m\u001b[0;34m.\u001b[0m\u001b[0mdropna\u001b[0m\u001b[0;34m(\u001b[0m\u001b[0;34m)\u001b[0m\u001b[0;34m]\u001b[0m\u001b[0;34m\u001b[0m\u001b[0;34m\u001b[0m\u001b[0m\n\u001b[0m",
      "\u001b[0;32m~/miniconda3/lib/python3.8/site-packages/pandas/core/frame.py\u001b[0m in \u001b[0;36m__getitem__\u001b[0;34m(self, key)\u001b[0m\n\u001b[1;32m   2895\u001b[0m         \u001b[0;31m# Do we have a (boolean) 1d indexer?\u001b[0m\u001b[0;34m\u001b[0m\u001b[0;34m\u001b[0m\u001b[0;34m\u001b[0m\u001b[0m\n\u001b[1;32m   2896\u001b[0m         \u001b[0;32mif\u001b[0m \u001b[0mcom\u001b[0m\u001b[0;34m.\u001b[0m\u001b[0mis_bool_indexer\u001b[0m\u001b[0;34m(\u001b[0m\u001b[0mkey\u001b[0m\u001b[0;34m)\u001b[0m\u001b[0;34m:\u001b[0m\u001b[0;34m\u001b[0m\u001b[0;34m\u001b[0m\u001b[0m\n\u001b[0;32m-> 2897\u001b[0;31m             \u001b[0;32mreturn\u001b[0m \u001b[0mself\u001b[0m\u001b[0;34m.\u001b[0m\u001b[0m_getitem_bool_array\u001b[0m\u001b[0;34m(\u001b[0m\u001b[0mkey\u001b[0m\u001b[0;34m)\u001b[0m\u001b[0;34m\u001b[0m\u001b[0;34m\u001b[0m\u001b[0m\n\u001b[0m\u001b[1;32m   2898\u001b[0m \u001b[0;34m\u001b[0m\u001b[0m\n\u001b[1;32m   2899\u001b[0m         \u001b[0;31m# We are left with two options: a single key, and a collection of keys,\u001b[0m\u001b[0;34m\u001b[0m\u001b[0;34m\u001b[0m\u001b[0;34m\u001b[0m\u001b[0m\n",
      "\u001b[0;32m~/miniconda3/lib/python3.8/site-packages/pandas/core/frame.py\u001b[0m in \u001b[0;36m_getitem_bool_array\u001b[0;34m(self, key)\u001b[0m\n\u001b[1;32m   2947\u001b[0m         \u001b[0;31m# check_bool_indexer will throw exception if Series key cannot\u001b[0m\u001b[0;34m\u001b[0m\u001b[0;34m\u001b[0m\u001b[0;34m\u001b[0m\u001b[0m\n\u001b[1;32m   2948\u001b[0m         \u001b[0;31m# be reindexed to match DataFrame rows\u001b[0m\u001b[0;34m\u001b[0m\u001b[0;34m\u001b[0m\u001b[0;34m\u001b[0m\u001b[0m\n\u001b[0;32m-> 2949\u001b[0;31m         \u001b[0mkey\u001b[0m \u001b[0;34m=\u001b[0m \u001b[0mcheck_bool_indexer\u001b[0m\u001b[0;34m(\u001b[0m\u001b[0mself\u001b[0m\u001b[0;34m.\u001b[0m\u001b[0mindex\u001b[0m\u001b[0;34m,\u001b[0m \u001b[0mkey\u001b[0m\u001b[0;34m)\u001b[0m\u001b[0;34m\u001b[0m\u001b[0;34m\u001b[0m\u001b[0m\n\u001b[0m\u001b[1;32m   2950\u001b[0m         \u001b[0mindexer\u001b[0m \u001b[0;34m=\u001b[0m \u001b[0mkey\u001b[0m\u001b[0;34m.\u001b[0m\u001b[0mnonzero\u001b[0m\u001b[0;34m(\u001b[0m\u001b[0;34m)\u001b[0m\u001b[0;34m[\u001b[0m\u001b[0;36m0\u001b[0m\u001b[0;34m]\u001b[0m\u001b[0;34m\u001b[0m\u001b[0;34m\u001b[0m\u001b[0m\n\u001b[1;32m   2951\u001b[0m         \u001b[0;32mreturn\u001b[0m \u001b[0mself\u001b[0m\u001b[0;34m.\u001b[0m\u001b[0m_take_with_is_copy\u001b[0m\u001b[0;34m(\u001b[0m\u001b[0mindexer\u001b[0m\u001b[0;34m,\u001b[0m \u001b[0maxis\u001b[0m\u001b[0;34m=\u001b[0m\u001b[0;36m0\u001b[0m\u001b[0;34m)\u001b[0m\u001b[0;34m\u001b[0m\u001b[0;34m\u001b[0m\u001b[0m\n",
      "\u001b[0;32m~/miniconda3/lib/python3.8/site-packages/pandas/core/indexing.py\u001b[0m in \u001b[0;36mcheck_bool_indexer\u001b[0;34m(index, key)\u001b[0m\n\u001b[1;32m   2180\u001b[0m         \u001b[0mmask\u001b[0m \u001b[0;34m=\u001b[0m \u001b[0misna\u001b[0m\u001b[0;34m(\u001b[0m\u001b[0mresult\u001b[0m\u001b[0;34m.\u001b[0m\u001b[0m_values\u001b[0m\u001b[0;34m)\u001b[0m\u001b[0;34m\u001b[0m\u001b[0;34m\u001b[0m\u001b[0m\n\u001b[1;32m   2181\u001b[0m         \u001b[0;32mif\u001b[0m \u001b[0mmask\u001b[0m\u001b[0;34m.\u001b[0m\u001b[0many\u001b[0m\u001b[0;34m(\u001b[0m\u001b[0;34m)\u001b[0m\u001b[0;34m:\u001b[0m\u001b[0;34m\u001b[0m\u001b[0;34m\u001b[0m\u001b[0m\n\u001b[0;32m-> 2182\u001b[0;31m             raise IndexingError(\n\u001b[0m\u001b[1;32m   2183\u001b[0m                 \u001b[0;34m\"Unalignable boolean Series provided as \"\u001b[0m\u001b[0;34m\u001b[0m\u001b[0;34m\u001b[0m\u001b[0m\n\u001b[1;32m   2184\u001b[0m                 \u001b[0;34m\"indexer (index of the boolean Series and of \"\u001b[0m\u001b[0;34m\u001b[0m\u001b[0;34m\u001b[0m\u001b[0m\n",
      "\u001b[0;31mIndexingError\u001b[0m: Unalignable boolean Series provided as indexer (index of the boolean Series and of the indexed object do not match)."
     ]
    }
   ],
   "source": [
    "books[books.name.str.contains('Frank Herbert').dropna()]"
   ]
  },
  {
   "cell_type": "code",
   "execution_count": 126,
   "metadata": {},
   "outputs": [
    {
     "output_type": "execute_result",
     "data": {
      "text/plain": [
       "title                    0\n",
       "author                  23\n",
       "average_rating           0\n",
       "ratings_count            0\n",
       "text_reviews_count       0\n",
       "description            258\n",
       "shelf_1               1863\n",
       "book_id                  0\n",
       "weighted_score           0\n",
       "name                    23\n",
       "dtype: int64"
      ]
     },
     "metadata": {},
     "execution_count": 126
    }
   ],
   "source": [
    "books.isna().sum()"
   ]
  },
  {
   "cell_type": "code",
   "execution_count": null,
   "metadata": {},
   "outputs": [],
   "source": []
  },
  {
   "cell_type": "code",
   "execution_count": 83,
   "metadata": {},
   "outputs": [],
   "source": [
    "sentence = 'title: Children'\n",
    "re.match(r'title: ', sentence)\n",
    "sentence = sentence.replace('title: ', '')\n",
    "book_title = books[books.title.str.match(sentence)].title.tolist()\n",
    "for idx, bookTitle in enumerate(book_title):\n",
    "    info = books[books.title == bookTitle]"
   ]
  },
  {
   "cell_type": "code",
   "execution_count": 100,
   "metadata": {},
   "outputs": [
    {
     "output_type": "execute_result",
     "data": {
      "text/plain": [
       "'16130324.Children of the Jacaranda Tree'"
      ]
     },
     "metadata": {},
     "execution_count": 100
    }
   ],
   "source": [
    "'.'.join([info.book_id.astype(str).tolist()[0], info.title.replace(r'\\(.*$', '', regex = True).tolist()[0]])"
   ]
  },
  {
   "cell_type": "code",
   "execution_count": 103,
   "metadata": {},
   "outputs": [
    {
     "output_type": "execute_result",
     "data": {
      "text/plain": [
       "'Children'"
      ]
     },
     "metadata": {},
     "execution_count": 103
    }
   ],
   "source": [
    "sentence"
   ]
  },
  {
   "cell_type": "code",
   "execution_count": 106,
   "metadata": {},
   "outputs": [
    {
     "output_type": "error",
     "ename": "TypeError",
     "evalue": "unhashable type: 'list'",
     "traceback": [
      "\u001b[0;31m---------------------------------------------------------------------------\u001b[0m",
      "\u001b[0;31mTypeError\u001b[0m                                 Traceback (most recent call last)",
      "\u001b[0;32m<ipython-input-106-ff8a189c5d97>\u001b[0m in \u001b[0;36m<module>\u001b[0;34m\u001b[0m\n\u001b[0;32m----> 1\u001b[0;31m \u001b[0mbooks\u001b[0m\u001b[0;34m[\u001b[0m\u001b[0mbooks\u001b[0m\u001b[0;34m.\u001b[0m\u001b[0mtitle\u001b[0m\u001b[0;34m.\u001b[0m\u001b[0mstr\u001b[0m\u001b[0;34m.\u001b[0m\u001b[0mfindall\u001b[0m\u001b[0;34m(\u001b[0m\u001b[0msentence\u001b[0m\u001b[0;34m)\u001b[0m\u001b[0;34m]\u001b[0m\u001b[0;34m.\u001b[0m\u001b[0mtitle\u001b[0m\u001b[0;34m.\u001b[0m\u001b[0mtolist\u001b[0m\u001b[0;34m(\u001b[0m\u001b[0;34m)\u001b[0m\u001b[0;34m\u001b[0m\u001b[0;34m\u001b[0m\u001b[0m\n\u001b[0m",
      "\u001b[0;32m~/miniconda3/lib/python3.8/site-packages/pandas/core/frame.py\u001b[0m in \u001b[0;36m__getitem__\u001b[0;34m(self, key)\u001b[0m\n\u001b[1;32m   2910\u001b[0m             \u001b[0;32mif\u001b[0m \u001b[0mis_iterator\u001b[0m\u001b[0;34m(\u001b[0m\u001b[0mkey\u001b[0m\u001b[0;34m)\u001b[0m\u001b[0;34m:\u001b[0m\u001b[0;34m\u001b[0m\u001b[0;34m\u001b[0m\u001b[0m\n\u001b[1;32m   2911\u001b[0m                 \u001b[0mkey\u001b[0m \u001b[0;34m=\u001b[0m \u001b[0mlist\u001b[0m\u001b[0;34m(\u001b[0m\u001b[0mkey\u001b[0m\u001b[0;34m)\u001b[0m\u001b[0;34m\u001b[0m\u001b[0;34m\u001b[0m\u001b[0m\n\u001b[0;32m-> 2912\u001b[0;31m             \u001b[0mindexer\u001b[0m \u001b[0;34m=\u001b[0m \u001b[0mself\u001b[0m\u001b[0;34m.\u001b[0m\u001b[0mloc\u001b[0m\u001b[0;34m.\u001b[0m\u001b[0m_get_listlike_indexer\u001b[0m\u001b[0;34m(\u001b[0m\u001b[0mkey\u001b[0m\u001b[0;34m,\u001b[0m \u001b[0maxis\u001b[0m\u001b[0;34m=\u001b[0m\u001b[0;36m1\u001b[0m\u001b[0;34m,\u001b[0m \u001b[0mraise_missing\u001b[0m\u001b[0;34m=\u001b[0m\u001b[0;32mTrue\u001b[0m\u001b[0;34m)\u001b[0m\u001b[0;34m[\u001b[0m\u001b[0;36m1\u001b[0m\u001b[0;34m]\u001b[0m\u001b[0;34m\u001b[0m\u001b[0;34m\u001b[0m\u001b[0m\n\u001b[0m\u001b[1;32m   2913\u001b[0m \u001b[0;34m\u001b[0m\u001b[0m\n\u001b[1;32m   2914\u001b[0m         \u001b[0;31m# take() does not accept boolean indexers\u001b[0m\u001b[0;34m\u001b[0m\u001b[0;34m\u001b[0m\u001b[0;34m\u001b[0m\u001b[0m\n",
      "\u001b[0;32m~/miniconda3/lib/python3.8/site-packages/pandas/core/indexing.py\u001b[0m in \u001b[0;36m_get_listlike_indexer\u001b[0;34m(self, key, axis, raise_missing)\u001b[0m\n\u001b[1;32m   1247\u001b[0m \u001b[0;34m\u001b[0m\u001b[0m\n\u001b[1;32m   1248\u001b[0m         \u001b[0;32mif\u001b[0m \u001b[0max\u001b[0m\u001b[0;34m.\u001b[0m\u001b[0mis_unique\u001b[0m \u001b[0;32mand\u001b[0m \u001b[0;32mnot\u001b[0m \u001b[0mgetattr\u001b[0m\u001b[0;34m(\u001b[0m\u001b[0max\u001b[0m\u001b[0;34m,\u001b[0m \u001b[0;34m\"is_overlapping\"\u001b[0m\u001b[0;34m,\u001b[0m \u001b[0;32mFalse\u001b[0m\u001b[0;34m)\u001b[0m\u001b[0;34m:\u001b[0m\u001b[0;34m\u001b[0m\u001b[0;34m\u001b[0m\u001b[0m\n\u001b[0;32m-> 1249\u001b[0;31m             \u001b[0mindexer\u001b[0m \u001b[0;34m=\u001b[0m \u001b[0max\u001b[0m\u001b[0;34m.\u001b[0m\u001b[0mget_indexer_for\u001b[0m\u001b[0;34m(\u001b[0m\u001b[0mkeyarr\u001b[0m\u001b[0;34m)\u001b[0m\u001b[0;34m\u001b[0m\u001b[0;34m\u001b[0m\u001b[0m\n\u001b[0m\u001b[1;32m   1250\u001b[0m             \u001b[0mkeyarr\u001b[0m \u001b[0;34m=\u001b[0m \u001b[0max\u001b[0m\u001b[0;34m.\u001b[0m\u001b[0mreindex\u001b[0m\u001b[0;34m(\u001b[0m\u001b[0mkeyarr\u001b[0m\u001b[0;34m)\u001b[0m\u001b[0;34m[\u001b[0m\u001b[0;36m0\u001b[0m\u001b[0;34m]\u001b[0m\u001b[0;34m\u001b[0m\u001b[0;34m\u001b[0m\u001b[0m\n\u001b[1;32m   1251\u001b[0m         \u001b[0;32melse\u001b[0m\u001b[0;34m:\u001b[0m\u001b[0;34m\u001b[0m\u001b[0;34m\u001b[0m\u001b[0m\n",
      "\u001b[0;32m~/miniconda3/lib/python3.8/site-packages/pandas/core/indexes/base.py\u001b[0m in \u001b[0;36mget_indexer_for\u001b[0;34m(self, target, **kwargs)\u001b[0m\n\u001b[1;32m   4711\u001b[0m         \"\"\"\n\u001b[1;32m   4712\u001b[0m         \u001b[0;32mif\u001b[0m \u001b[0mself\u001b[0m\u001b[0;34m.\u001b[0m\u001b[0mis_unique\u001b[0m\u001b[0;34m:\u001b[0m\u001b[0;34m\u001b[0m\u001b[0;34m\u001b[0m\u001b[0m\n\u001b[0;32m-> 4713\u001b[0;31m             \u001b[0;32mreturn\u001b[0m \u001b[0mself\u001b[0m\u001b[0;34m.\u001b[0m\u001b[0mget_indexer\u001b[0m\u001b[0;34m(\u001b[0m\u001b[0mtarget\u001b[0m\u001b[0;34m,\u001b[0m \u001b[0;34m**\u001b[0m\u001b[0mkwargs\u001b[0m\u001b[0;34m)\u001b[0m\u001b[0;34m\u001b[0m\u001b[0;34m\u001b[0m\u001b[0m\n\u001b[0m\u001b[1;32m   4714\u001b[0m         \u001b[0mindexer\u001b[0m\u001b[0;34m,\u001b[0m \u001b[0m_\u001b[0m \u001b[0;34m=\u001b[0m \u001b[0mself\u001b[0m\u001b[0;34m.\u001b[0m\u001b[0mget_indexer_non_unique\u001b[0m\u001b[0;34m(\u001b[0m\u001b[0mtarget\u001b[0m\u001b[0;34m,\u001b[0m \u001b[0;34m**\u001b[0m\u001b[0mkwargs\u001b[0m\u001b[0;34m)\u001b[0m\u001b[0;34m\u001b[0m\u001b[0;34m\u001b[0m\u001b[0m\n\u001b[1;32m   4715\u001b[0m         \u001b[0;32mreturn\u001b[0m \u001b[0mindexer\u001b[0m\u001b[0;34m\u001b[0m\u001b[0;34m\u001b[0m\u001b[0m\n",
      "\u001b[0;32m~/miniconda3/lib/python3.8/site-packages/pandas/core/indexes/base.py\u001b[0m in \u001b[0;36mget_indexer\u001b[0;34m(self, target, method, limit, tolerance)\u001b[0m\n\u001b[1;32m   3004\u001b[0m                 )\n\u001b[1;32m   3005\u001b[0m \u001b[0;34m\u001b[0m\u001b[0m\n\u001b[0;32m-> 3006\u001b[0;31m             \u001b[0mindexer\u001b[0m \u001b[0;34m=\u001b[0m \u001b[0mself\u001b[0m\u001b[0;34m.\u001b[0m\u001b[0m_engine\u001b[0m\u001b[0;34m.\u001b[0m\u001b[0mget_indexer\u001b[0m\u001b[0;34m(\u001b[0m\u001b[0mtarget\u001b[0m\u001b[0;34m.\u001b[0m\u001b[0m_get_engine_target\u001b[0m\u001b[0;34m(\u001b[0m\u001b[0;34m)\u001b[0m\u001b[0;34m)\u001b[0m\u001b[0;34m\u001b[0m\u001b[0;34m\u001b[0m\u001b[0m\n\u001b[0m\u001b[1;32m   3007\u001b[0m \u001b[0;34m\u001b[0m\u001b[0m\n\u001b[1;32m   3008\u001b[0m         \u001b[0;32mreturn\u001b[0m \u001b[0mensure_platform_int\u001b[0m\u001b[0;34m(\u001b[0m\u001b[0mindexer\u001b[0m\u001b[0;34m)\u001b[0m\u001b[0;34m\u001b[0m\u001b[0;34m\u001b[0m\u001b[0m\n",
      "\u001b[0;32mpandas/_libs/index.pyx\u001b[0m in \u001b[0;36mpandas._libs.index.IndexEngine.get_indexer\u001b[0;34m()\u001b[0m\n",
      "\u001b[0;32mpandas/_libs/hashtable_class_helper.pxi\u001b[0m in \u001b[0;36mpandas._libs.hashtable.PyObjectHashTable.lookup\u001b[0;34m()\u001b[0m\n",
      "\u001b[0;31mTypeError\u001b[0m: unhashable type: 'list'"
     ]
    }
   ],
   "source": [
    "books[books.title.str.findall(sentence)].title.tolist()"
   ]
  },
  {
   "cell_type": "code",
   "execution_count": 109,
   "metadata": {},
   "outputs": [
    {
     "output_type": "error",
     "ename": "ValueError",
     "evalue": "pattern contains no capture groups",
     "traceback": [
      "\u001b[0;31m---------------------------------------------------------------------------\u001b[0m",
      "\u001b[0;31mValueError\u001b[0m                                Traceback (most recent call last)",
      "\u001b[0;32m<ipython-input-109-ac212a48a072>\u001b[0m in \u001b[0;36m<module>\u001b[0;34m\u001b[0m\n\u001b[0;32m----> 1\u001b[0;31m \u001b[0mbooks\u001b[0m\u001b[0;34m.\u001b[0m\u001b[0mtitle\u001b[0m\u001b[0;34m.\u001b[0m\u001b[0mstr\u001b[0m\u001b[0;34m.\u001b[0m\u001b[0mextract\u001b[0m\u001b[0;34m(\u001b[0m\u001b[0msentence\u001b[0m\u001b[0;34m,\u001b[0m \u001b[0mexpand\u001b[0m\u001b[0;34m=\u001b[0m\u001b[0;32mTrue\u001b[0m\u001b[0;34m)\u001b[0m\u001b[0;34m\u001b[0m\u001b[0;34m\u001b[0m\u001b[0m\n\u001b[0m",
      "\u001b[0;32m~/miniconda3/lib/python3.8/site-packages/pandas/core/strings.py\u001b[0m in \u001b[0;36mwrapper\u001b[0;34m(self, *args, **kwargs)\u001b[0m\n\u001b[1;32m   1999\u001b[0m                 )\n\u001b[1;32m   2000\u001b[0m                 \u001b[0;32mraise\u001b[0m \u001b[0mTypeError\u001b[0m\u001b[0;34m(\u001b[0m\u001b[0mmsg\u001b[0m\u001b[0;34m)\u001b[0m\u001b[0;34m\u001b[0m\u001b[0;34m\u001b[0m\u001b[0m\n\u001b[0;32m-> 2001\u001b[0;31m             \u001b[0;32mreturn\u001b[0m \u001b[0mfunc\u001b[0m\u001b[0;34m(\u001b[0m\u001b[0mself\u001b[0m\u001b[0;34m,\u001b[0m \u001b[0;34m*\u001b[0m\u001b[0margs\u001b[0m\u001b[0;34m,\u001b[0m \u001b[0;34m**\u001b[0m\u001b[0mkwargs\u001b[0m\u001b[0;34m)\u001b[0m\u001b[0;34m\u001b[0m\u001b[0;34m\u001b[0m\u001b[0m\n\u001b[0m\u001b[1;32m   2002\u001b[0m \u001b[0;34m\u001b[0m\u001b[0m\n\u001b[1;32m   2003\u001b[0m         \u001b[0mwrapper\u001b[0m\u001b[0;34m.\u001b[0m\u001b[0m__name__\u001b[0m \u001b[0;34m=\u001b[0m \u001b[0mfunc_name\u001b[0m\u001b[0;34m\u001b[0m\u001b[0;34m\u001b[0m\u001b[0m\n",
      "\u001b[0;32m~/miniconda3/lib/python3.8/site-packages/pandas/core/strings.py\u001b[0m in \u001b[0;36mextract\u001b[0;34m(self, pat, flags, expand)\u001b[0m\n\u001b[1;32m   3117\u001b[0m     \u001b[0;34m@\u001b[0m\u001b[0mforbid_nonstring_types\u001b[0m\u001b[0;34m(\u001b[0m\u001b[0;34m[\u001b[0m\u001b[0;34m\"bytes\"\u001b[0m\u001b[0;34m]\u001b[0m\u001b[0;34m)\u001b[0m\u001b[0;34m\u001b[0m\u001b[0;34m\u001b[0m\u001b[0m\n\u001b[1;32m   3118\u001b[0m     \u001b[0;32mdef\u001b[0m \u001b[0mextract\u001b[0m\u001b[0;34m(\u001b[0m\u001b[0mself\u001b[0m\u001b[0;34m,\u001b[0m \u001b[0mpat\u001b[0m\u001b[0;34m,\u001b[0m \u001b[0mflags\u001b[0m\u001b[0;34m=\u001b[0m\u001b[0;36m0\u001b[0m\u001b[0;34m,\u001b[0m \u001b[0mexpand\u001b[0m\u001b[0;34m=\u001b[0m\u001b[0;32mTrue\u001b[0m\u001b[0;34m)\u001b[0m\u001b[0;34m:\u001b[0m\u001b[0;34m\u001b[0m\u001b[0;34m\u001b[0m\u001b[0m\n\u001b[0;32m-> 3119\u001b[0;31m         \u001b[0;32mreturn\u001b[0m \u001b[0mstr_extract\u001b[0m\u001b[0;34m(\u001b[0m\u001b[0mself\u001b[0m\u001b[0;34m,\u001b[0m \u001b[0mpat\u001b[0m\u001b[0;34m,\u001b[0m \u001b[0mflags\u001b[0m\u001b[0;34m=\u001b[0m\u001b[0mflags\u001b[0m\u001b[0;34m,\u001b[0m \u001b[0mexpand\u001b[0m\u001b[0;34m=\u001b[0m\u001b[0mexpand\u001b[0m\u001b[0;34m)\u001b[0m\u001b[0;34m\u001b[0m\u001b[0;34m\u001b[0m\u001b[0m\n\u001b[0m\u001b[1;32m   3120\u001b[0m \u001b[0;34m\u001b[0m\u001b[0m\n\u001b[1;32m   3121\u001b[0m     \u001b[0;34m@\u001b[0m\u001b[0mcopy\u001b[0m\u001b[0;34m(\u001b[0m\u001b[0mstr_extractall\u001b[0m\u001b[0;34m)\u001b[0m\u001b[0;34m\u001b[0m\u001b[0;34m\u001b[0m\u001b[0m\n",
      "\u001b[0;32m~/miniconda3/lib/python3.8/site-packages/pandas/core/strings.py\u001b[0m in \u001b[0;36mstr_extract\u001b[0;34m(arr, pat, flags, expand)\u001b[0m\n\u001b[1;32m   1056\u001b[0m         \u001b[0;32mraise\u001b[0m \u001b[0mValueError\u001b[0m\u001b[0;34m(\u001b[0m\u001b[0;34m\"expand must be True or False\"\u001b[0m\u001b[0;34m)\u001b[0m\u001b[0;34m\u001b[0m\u001b[0;34m\u001b[0m\u001b[0m\n\u001b[1;32m   1057\u001b[0m     \u001b[0;32mif\u001b[0m \u001b[0mexpand\u001b[0m\u001b[0;34m:\u001b[0m\u001b[0;34m\u001b[0m\u001b[0;34m\u001b[0m\u001b[0m\n\u001b[0;32m-> 1058\u001b[0;31m         \u001b[0;32mreturn\u001b[0m \u001b[0m_str_extract_frame\u001b[0m\u001b[0;34m(\u001b[0m\u001b[0marr\u001b[0m\u001b[0;34m.\u001b[0m\u001b[0m_orig\u001b[0m\u001b[0;34m,\u001b[0m \u001b[0mpat\u001b[0m\u001b[0;34m,\u001b[0m \u001b[0mflags\u001b[0m\u001b[0;34m=\u001b[0m\u001b[0mflags\u001b[0m\u001b[0;34m)\u001b[0m\u001b[0;34m\u001b[0m\u001b[0;34m\u001b[0m\u001b[0m\n\u001b[0m\u001b[1;32m   1059\u001b[0m     \u001b[0;32melse\u001b[0m\u001b[0;34m:\u001b[0m\u001b[0;34m\u001b[0m\u001b[0;34m\u001b[0m\u001b[0m\n\u001b[1;32m   1060\u001b[0m         \u001b[0mresult\u001b[0m\u001b[0;34m,\u001b[0m \u001b[0mname\u001b[0m \u001b[0;34m=\u001b[0m \u001b[0m_str_extract_noexpand\u001b[0m\u001b[0;34m(\u001b[0m\u001b[0marr\u001b[0m\u001b[0;34m.\u001b[0m\u001b[0m_parent\u001b[0m\u001b[0;34m,\u001b[0m \u001b[0mpat\u001b[0m\u001b[0;34m,\u001b[0m \u001b[0mflags\u001b[0m\u001b[0;34m=\u001b[0m\u001b[0mflags\u001b[0m\u001b[0;34m)\u001b[0m\u001b[0;34m\u001b[0m\u001b[0;34m\u001b[0m\u001b[0m\n",
      "\u001b[0;32m~/miniconda3/lib/python3.8/site-packages/pandas/core/strings.py\u001b[0m in \u001b[0;36m_str_extract_frame\u001b[0;34m(arr, pat, flags)\u001b[0m\n\u001b[1;32m    953\u001b[0m \u001b[0;34m\u001b[0m\u001b[0m\n\u001b[1;32m    954\u001b[0m     \u001b[0mregex\u001b[0m \u001b[0;34m=\u001b[0m \u001b[0mre\u001b[0m\u001b[0;34m.\u001b[0m\u001b[0mcompile\u001b[0m\u001b[0;34m(\u001b[0m\u001b[0mpat\u001b[0m\u001b[0;34m,\u001b[0m \u001b[0mflags\u001b[0m\u001b[0;34m=\u001b[0m\u001b[0mflags\u001b[0m\u001b[0;34m)\u001b[0m\u001b[0;34m\u001b[0m\u001b[0;34m\u001b[0m\u001b[0m\n\u001b[0;32m--> 955\u001b[0;31m     \u001b[0mgroups_or_na\u001b[0m \u001b[0;34m=\u001b[0m \u001b[0m_groups_or_na_fun\u001b[0m\u001b[0;34m(\u001b[0m\u001b[0mregex\u001b[0m\u001b[0;34m)\u001b[0m\u001b[0;34m\u001b[0m\u001b[0;34m\u001b[0m\u001b[0m\n\u001b[0m\u001b[1;32m    956\u001b[0m     \u001b[0mnames\u001b[0m \u001b[0;34m=\u001b[0m \u001b[0mdict\u001b[0m\u001b[0;34m(\u001b[0m\u001b[0mzip\u001b[0m\u001b[0;34m(\u001b[0m\u001b[0mregex\u001b[0m\u001b[0;34m.\u001b[0m\u001b[0mgroupindex\u001b[0m\u001b[0;34m.\u001b[0m\u001b[0mvalues\u001b[0m\u001b[0;34m(\u001b[0m\u001b[0;34m)\u001b[0m\u001b[0;34m,\u001b[0m \u001b[0mregex\u001b[0m\u001b[0;34m.\u001b[0m\u001b[0mgroupindex\u001b[0m\u001b[0;34m.\u001b[0m\u001b[0mkeys\u001b[0m\u001b[0;34m(\u001b[0m\u001b[0;34m)\u001b[0m\u001b[0;34m)\u001b[0m\u001b[0;34m)\u001b[0m\u001b[0;34m\u001b[0m\u001b[0;34m\u001b[0m\u001b[0m\n\u001b[1;32m    957\u001b[0m     \u001b[0mcolumns\u001b[0m \u001b[0;34m=\u001b[0m \u001b[0;34m[\u001b[0m\u001b[0mnames\u001b[0m\u001b[0;34m.\u001b[0m\u001b[0mget\u001b[0m\u001b[0;34m(\u001b[0m\u001b[0;36m1\u001b[0m \u001b[0;34m+\u001b[0m \u001b[0mi\u001b[0m\u001b[0;34m,\u001b[0m \u001b[0mi\u001b[0m\u001b[0;34m)\u001b[0m \u001b[0;32mfor\u001b[0m \u001b[0mi\u001b[0m \u001b[0;32min\u001b[0m \u001b[0mrange\u001b[0m\u001b[0;34m(\u001b[0m\u001b[0mregex\u001b[0m\u001b[0;34m.\u001b[0m\u001b[0mgroups\u001b[0m\u001b[0;34m)\u001b[0m\u001b[0;34m]\u001b[0m\u001b[0;34m\u001b[0m\u001b[0;34m\u001b[0m\u001b[0m\n",
      "\u001b[0;32m~/miniconda3/lib/python3.8/site-packages/pandas/core/strings.py\u001b[0m in \u001b[0;36m_groups_or_na_fun\u001b[0;34m(regex)\u001b[0m\n\u001b[1;32m    883\u001b[0m     \u001b[0;34m\"\"\"Used in both extract_noexpand and extract_frame\"\"\"\u001b[0m\u001b[0;34m\u001b[0m\u001b[0;34m\u001b[0m\u001b[0m\n\u001b[1;32m    884\u001b[0m     \u001b[0;32mif\u001b[0m \u001b[0mregex\u001b[0m\u001b[0;34m.\u001b[0m\u001b[0mgroups\u001b[0m \u001b[0;34m==\u001b[0m \u001b[0;36m0\u001b[0m\u001b[0;34m:\u001b[0m\u001b[0;34m\u001b[0m\u001b[0;34m\u001b[0m\u001b[0m\n\u001b[0;32m--> 885\u001b[0;31m         \u001b[0;32mraise\u001b[0m \u001b[0mValueError\u001b[0m\u001b[0;34m(\u001b[0m\u001b[0;34m\"pattern contains no capture groups\"\u001b[0m\u001b[0;34m)\u001b[0m\u001b[0;34m\u001b[0m\u001b[0;34m\u001b[0m\u001b[0m\n\u001b[0m\u001b[1;32m    886\u001b[0m     \u001b[0mempty_row\u001b[0m \u001b[0;34m=\u001b[0m \u001b[0;34m[\u001b[0m\u001b[0mnp\u001b[0m\u001b[0;34m.\u001b[0m\u001b[0mnan\u001b[0m\u001b[0;34m]\u001b[0m \u001b[0;34m*\u001b[0m \u001b[0mregex\u001b[0m\u001b[0;34m.\u001b[0m\u001b[0mgroups\u001b[0m\u001b[0;34m\u001b[0m\u001b[0;34m\u001b[0m\u001b[0m\n\u001b[1;32m    887\u001b[0m \u001b[0;34m\u001b[0m\u001b[0m\n",
      "\u001b[0;31mValueError\u001b[0m: pattern contains no capture groups"
     ]
    }
   ],
   "source": [
    "books.title.str.extract(sentence)"
   ]
  },
  {
   "cell_type": "code",
   "execution_count": 65,
   "metadata": {},
   "outputs": [
    {
     "output_type": "stream",
     "name": "stdout",
     "text": [
      "                         title     author  average_rating  ratings_count  \\\n404  Wolf Children: Ame & Yuki  5049973.0            4.44         2431.0   \n\n     text_reviews_count                                        description  \\\n404               351.0  When Hana falls in love with a young interlope...   \n\n    shelf_1   book_id  weighted_score           name  \n404   manga  18170149        4.429414  Mamoru Hosoda  \n"
     ]
    }
   ],
   "source": [
    "book_title = books[books.title.isin([sentence])].title.tolist()\n",
    "for idx, bookTitle in enumerate(book_title):\n",
    "    info = books[books.title == bookTitle]\n",
    "    print(info)"
   ]
  },
  {
   "cell_type": "code",
   "execution_count": 51,
   "metadata": {},
   "outputs": [
    {
     "output_type": "execute_result",
     "data": {
      "text/plain": [
       "'Wolf Children: Ame & Yuki'"
      ]
     },
     "metadata": {},
     "execution_count": 51
    }
   ],
   "source": [
    "sentencea"
   ]
  },
  {
   "cell_type": "code",
   "execution_count": 47,
   "metadata": {},
   "outputs": [
    {
     "output_type": "stream",
     "name": "stdout",
     "text": [
      "<re.Match object; span=(0, 6), match='title:'>\n"
     ]
    }
   ],
   "source": [
    "print(re.match(r'title:', sentence))"
   ]
  },
  {
   "cell_type": "code",
   "execution_count": 26,
   "metadata": {},
   "outputs": [],
   "source": [
    "if test:\n",
    "    print('YAS')"
   ]
  },
  {
   "cell_type": "code",
   "execution_count": 10,
   "metadata": {},
   "outputs": [],
   "source": [
    "query = 'The Tournament at Gorlan'\n",
    "\n",
    "def show_books(sentence):\n",
    "    book_title = books[books.title.str.contains(sentence, case=False)].title.tolist()\n",
    "    for idx, bookTitle in enumerate(book_title):\n",
    "        info = books[books.title == bookTitle]\n",
    "        print(info.title.tolist()[0])\n",
    "        print(info.name.tolist()[0])\n",
    "        print(info.weighted_score.tolist()[0])\n",
    "\n",
    "        showClusters = st.button(label='Show review clusters for this book?', key=idx)\n",
    "        if showClusters:\n",
    "            with clusters:\n",
    "                sentences, sentence_vectors = embedSentences(bookTitle)\n",
    "                findClusters(sentences, sentence_vectors, bookTitle, k=2, n_results=2)\n",
    "    if links:\n",
    "        good_reads_link = goodreadsURL + book_recommends[book_recommends.book_id == (reviews[reviews.index == i].book_id.tolist() [0])].for_url.tolist()[0].replace(r'\\s', '\\\\')\n",
    "        good_reads_link"
   ]
  },
  {
   "cell_type": "code",
   "execution_count": 11,
   "metadata": {},
   "outputs": [
    {
     "output_type": "stream",
     "name": "stdout",
     "text": [
      "The Tournament at Gorlan (Ranger’s Apprentice: The Early Years, #1)\nJohn Flanagan\n4.41308019439314\n"
     ]
    },
    {
     "output_type": "error",
     "ename": "NameError",
     "evalue": "name 'st' is not defined",
     "traceback": [
      "\u001b[0;31m---------------------------------------------------------------------------\u001b[0m",
      "\u001b[0;31mNameError\u001b[0m                                 Traceback (most recent call last)",
      "\u001b[0;32m<ipython-input-11-c1398aeb5512>\u001b[0m in \u001b[0;36m<module>\u001b[0;34m\u001b[0m\n\u001b[0;32m----> 1\u001b[0;31m \u001b[0mshow_books\u001b[0m\u001b[0;34m(\u001b[0m\u001b[0mquery\u001b[0m\u001b[0;34m)\u001b[0m\u001b[0;34m\u001b[0m\u001b[0;34m\u001b[0m\u001b[0m\n\u001b[0m",
      "\u001b[0;32m<ipython-input-10-0b1ddb378bea>\u001b[0m in \u001b[0;36mshow_books\u001b[0;34m(sentence)\u001b[0m\n\u001b[1;32m      9\u001b[0m         \u001b[0mprint\u001b[0m\u001b[0;34m(\u001b[0m\u001b[0minfo\u001b[0m\u001b[0;34m.\u001b[0m\u001b[0mweighted_score\u001b[0m\u001b[0;34m.\u001b[0m\u001b[0mtolist\u001b[0m\u001b[0;34m(\u001b[0m\u001b[0;34m)\u001b[0m\u001b[0;34m[\u001b[0m\u001b[0;36m0\u001b[0m\u001b[0;34m]\u001b[0m\u001b[0;34m)\u001b[0m\u001b[0;34m\u001b[0m\u001b[0;34m\u001b[0m\u001b[0m\n\u001b[1;32m     10\u001b[0m \u001b[0;34m\u001b[0m\u001b[0m\n\u001b[0;32m---> 11\u001b[0;31m         \u001b[0mshowClusters\u001b[0m \u001b[0;34m=\u001b[0m \u001b[0mst\u001b[0m\u001b[0;34m.\u001b[0m\u001b[0mbutton\u001b[0m\u001b[0;34m(\u001b[0m\u001b[0mlabel\u001b[0m\u001b[0;34m=\u001b[0m\u001b[0;34m'Show review clusters for this book?'\u001b[0m\u001b[0;34m,\u001b[0m \u001b[0mkey\u001b[0m\u001b[0;34m=\u001b[0m\u001b[0midx\u001b[0m\u001b[0;34m)\u001b[0m\u001b[0;34m\u001b[0m\u001b[0;34m\u001b[0m\u001b[0m\n\u001b[0m\u001b[1;32m     12\u001b[0m         \u001b[0;32mif\u001b[0m \u001b[0mshowClusters\u001b[0m\u001b[0;34m:\u001b[0m\u001b[0;34m\u001b[0m\u001b[0;34m\u001b[0m\u001b[0m\n\u001b[1;32m     13\u001b[0m             \u001b[0;32mwith\u001b[0m \u001b[0mclusters\u001b[0m\u001b[0;34m:\u001b[0m\u001b[0;34m\u001b[0m\u001b[0;34m\u001b[0m\u001b[0m\n",
      "\u001b[0;31mNameError\u001b[0m: name 'st' is not defined"
     ]
    }
   ],
   "source": [
    "show_books(query)"
   ]
  },
  {
   "cell_type": "code",
   "execution_count": 35,
   "metadata": {},
   "outputs": [
    {
     "output_type": "execute_result",
     "data": {
      "text/plain": [
       "Series([], Name: review_text, dtype: object)"
      ]
     },
     "metadata": {},
     "execution_count": 35
    }
   ],
   "source": [
    "sentences"
   ]
  },
  {
   "cell_type": "code",
   "execution_count": 24,
   "metadata": {},
   "outputs": [
    {
     "output_type": "execute_result",
     "data": {
      "text/plain": [
       "[25499718, 25938417, 7949530, 16948, 29430620, 10922889, 4140, 16130324]"
      ]
     },
     "metadata": {},
     "execution_count": 24
    }
   ],
   "source": [
    "books[books.title.str.match('children', case=False)].book_id.tolist()"
   ]
  },
  {
   "cell_type": "code",
   "execution_count": 7,
   "metadata": {},
   "outputs": [],
   "source": [
    "top_n_indices, book_recommends = show_recommendations('cat', reviews, books, 50)"
   ]
  },
  {
   "cell_type": "code",
   "execution_count": 8,
   "metadata": {},
   "outputs": [
    {
     "output_type": "execute_result",
     "data": {
      "text/plain": [
       "                                                title                   name  \\\n",
       "0                             Saga, Vol. 2 (Saga, #2)       Brian K. Vaughan   \n",
       "1                     The Darkest Hour (Warriors, #6)            Erin Hunter   \n",
       "2            Pete the Cat: Rocking in My School Shoes            Eric Litwin   \n",
       "3                        Into the Wild (Warriors, #1)            Erin Hunter   \n",
       "4         This Side of the Grave (Night Huntress, #5)         Jeaniene Frost   \n",
       "5                             Saga, Vol. 1 (Saga, #1)       Brian K. Vaughan   \n",
       "6   Calling on Dragons (Enchanted Forest Chronicle...      Patricia C. Wrede   \n",
       "7                           Where is the Green Sheep?                Mem Fox   \n",
       "8           Halfway to the Grave (Night Huntress, #1)         Jeaniene Frost   \n",
       "9                                     Homer's Odyssey            Gwen Cooper   \n",
       "10  P.S. I Still Love You (To All the Boys I've Lo...              Jenny Han   \n",
       "11                  The Bronze Key (Magisterium,  #3)            Holly Black   \n",
       "12                                 The Cat in the Hat              Dr. Seuss   \n",
       "13                           Curran (Curran POV #1-2)         Gordon Andrews   \n",
       "14                          Wallbanger (Cocktail, #1)          Alice Clayton   \n",
       "15                               Rogue (Shifters, #2)         Rachel Vincent   \n",
       "16                Old Possum's Book of Practical Cats             T.S. Eliot   \n",
       "17                           Kitten's First Full Moon           Kevin Henkes   \n",
       "18                                Written on the Body     Jeanette Winterson   \n",
       "19                                      The Black Cat        Edgar Allan Poe   \n",
       "20                                Alice in Wonderland           Jane Carruth   \n",
       "21             Kitty Raises Hell (Kitty Norville, #6)          Carrie Vaughn   \n",
       "22             Kitty Goes to War (Kitty Norville, #8)          Carrie Vaughn   \n",
       "23                                 They All Saw a Cat         Brendan Wenzel   \n",
       "24       I Could Pee on This: And Other Poems by Cats  Francesco Marciuliano   \n",
       "25  A Street Cat Named Bob: How One Man and His Ca...            James Bowen   \n",
       "26    How to Tell If Your Cat Is Plotting to Kill You          Matthew Inman   \n",
       "27                     The Dream-Quest of Vellitt Boe            Kij Johnson   \n",
       "28  Cat Sense: How the New Feline Science Can Make...        John   Bradshaw   \n",
       "\n",
       "                                          description  weighted_score  \\\n",
       "0   From award-winning writer Brian K. Vaughan (Pr...        4.559449   \n",
       "1   ThunderClan's darkest hour is upon them, as Ti...        4.518915   \n",
       "2   Time to head back to school with this bestsell...        4.317648   \n",
       "3   For generations, four Clans of wild cats have ...        4.289629   \n",
       "4   Danger waits on both sides of the grave.\\nWith...        4.279609   \n",
       "5   When two soldiers from opposite sides of a nev...        4.239886   \n",
       "6   Those wicked wizards are back--and they've bec...        4.189605   \n",
       "7   Here is the blue sheep, and here is the red sh...        4.187512   \n",
       "8   Flirting with the Grave...Half-vampire Catheri...        4.179877   \n",
       "9   Once in nine lives, something extraordinary ha...        4.178691   \n",
       "10  Lara Jean didn't expect to reallyfall for Pete...        4.169809   \n",
       "11  Magic can save you.\\nMagic can kill you.\\nStud...        4.158065   \n",
       "12  Poor Sally and her brother. It's cold and wet ...        4.149963   \n",
       "13  Not short story, novella, or standalone, but c...        4.109394   \n",
       "14  The first night after Caroline moves into her ...        4.099932   \n",
       "15  Okay, so cats don't always land on their feet....        4.099417   \n",
       "16  T. S. Eliot's playful cat poems have delighted...        4.089444   \n",
       "17  The nationally bestselling picture book about ...        4.079562   \n",
       "18  The most beguilingly seductive novel to date f...        4.079555   \n",
       "19  \"The Black Cat\" is one of Edgar Allan Poe's mo...        4.069536   \n",
       "20  This is an adaptation. For the editions of the...        4.029984   \n",
       "21  Sometimes what happens in Vegas doesn't stay i...        3.999580   \n",
       "22  Kitty Norville, Alpha werewolf and host of The...        3.999451   \n",
       "23  The cat walked through the world, with its whi...        3.999359   \n",
       "24  Cat lovers will laugh out loud at the quirkine...        3.969571   \n",
       "25  The moving, uplifting true story of an unlikel...        3.959880   \n",
       "26  If your cat is kneading you, that's not a sign...        3.949925   \n",
       "27  Professor Vellitt Boe teaches at the prestigio...        3.939078   \n",
       "28  Cats have been popular household pets for thou...        3.500055   \n",
       "\n",
       "     book_id                                            for_url  \n",
       "0   17131869                             17131869.Saga, Vol. 2   \n",
       "1      49006                            49006.The Darkest Hour   \n",
       "2    9466024   9466024.Pete the Cat: Rocking in My School Shoes  \n",
       "3     111332                              111332.Into the Wild   \n",
       "4    6871617                    6871617.This Side of the Grave   \n",
       "5   15704307                             15704307.Saga, Vol. 1   \n",
       "6     169879                         169879.Calling on Dragons   \n",
       "7     378164                   378164.Where is the Green Sheep?  \n",
       "8    1421990                      1421990.Halfway to the Grave   \n",
       "9    6261477                            6261477.Homer's Odyssey  \n",
       "10  20698530                    20698530.P.S. I Still Love You   \n",
       "11  13612965                           13612965.The Bronze Key   \n",
       "12    233093                          233093.The Cat in the Hat  \n",
       "13   9394156                                    9394156.Curran   \n",
       "14  15858248                               15858248.Wallbanger   \n",
       "15   2314315                                     2314315.Rogue   \n",
       "16    402128         402128.Old Possum's Book of Practical Cats  \n",
       "17    237665                    237665.Kitten's First Full Moon  \n",
       "18     15054                          15054.Written on the Body  \n",
       "19    391724                               391724.The Black Cat  \n",
       "20     13023                          13023.Alice in Wonderland  \n",
       "21   4894646                         4894646.Kitty Raises Hell   \n",
       "22   7662235                         7662235.Kitty Goes to War   \n",
       "23  28645670                        28645670.They All Saw a Cat  \n",
       "24  14553840  14553840.I Could Pee on This: And Other Poems ...  \n",
       "25  12394068  12394068.A Street Cat Named Bob: How One Man a...  \n",
       "26  15799936  15799936.How to Tell If Your Cat Is Plotting t...  \n",
       "27  29635545            29635545.The Dream-Quest of Vellitt Boe  \n",
       "28  17290708  17290708.Cat Sense: How the New Feline Science...  "
      ],
      "text/html": "<div>\n<style scoped>\n    .dataframe tbody tr th:only-of-type {\n        vertical-align: middle;\n    }\n\n    .dataframe tbody tr th {\n        vertical-align: top;\n    }\n\n    .dataframe thead th {\n        text-align: right;\n    }\n</style>\n<table border=\"1\" class=\"dataframe\">\n  <thead>\n    <tr style=\"text-align: right;\">\n      <th></th>\n      <th>title</th>\n      <th>name</th>\n      <th>description</th>\n      <th>weighted_score</th>\n      <th>book_id</th>\n      <th>for_url</th>\n    </tr>\n  </thead>\n  <tbody>\n    <tr>\n      <th>0</th>\n      <td>Saga, Vol. 2 (Saga, #2)</td>\n      <td>Brian K. Vaughan</td>\n      <td>From award-winning writer Brian K. Vaughan (Pr...</td>\n      <td>4.559449</td>\n      <td>17131869</td>\n      <td>17131869.Saga, Vol. 2</td>\n    </tr>\n    <tr>\n      <th>1</th>\n      <td>The Darkest Hour (Warriors, #6)</td>\n      <td>Erin Hunter</td>\n      <td>ThunderClan's darkest hour is upon them, as Ti...</td>\n      <td>4.518915</td>\n      <td>49006</td>\n      <td>49006.The Darkest Hour</td>\n    </tr>\n    <tr>\n      <th>2</th>\n      <td>Pete the Cat: Rocking in My School Shoes</td>\n      <td>Eric Litwin</td>\n      <td>Time to head back to school with this bestsell...</td>\n      <td>4.317648</td>\n      <td>9466024</td>\n      <td>9466024.Pete the Cat: Rocking in My School Shoes</td>\n    </tr>\n    <tr>\n      <th>3</th>\n      <td>Into the Wild (Warriors, #1)</td>\n      <td>Erin Hunter</td>\n      <td>For generations, four Clans of wild cats have ...</td>\n      <td>4.289629</td>\n      <td>111332</td>\n      <td>111332.Into the Wild</td>\n    </tr>\n    <tr>\n      <th>4</th>\n      <td>This Side of the Grave (Night Huntress, #5)</td>\n      <td>Jeaniene Frost</td>\n      <td>Danger waits on both sides of the grave.\\nWith...</td>\n      <td>4.279609</td>\n      <td>6871617</td>\n      <td>6871617.This Side of the Grave</td>\n    </tr>\n    <tr>\n      <th>5</th>\n      <td>Saga, Vol. 1 (Saga, #1)</td>\n      <td>Brian K. Vaughan</td>\n      <td>When two soldiers from opposite sides of a nev...</td>\n      <td>4.239886</td>\n      <td>15704307</td>\n      <td>15704307.Saga, Vol. 1</td>\n    </tr>\n    <tr>\n      <th>6</th>\n      <td>Calling on Dragons (Enchanted Forest Chronicle...</td>\n      <td>Patricia C. Wrede</td>\n      <td>Those wicked wizards are back--and they've bec...</td>\n      <td>4.189605</td>\n      <td>169879</td>\n      <td>169879.Calling on Dragons</td>\n    </tr>\n    <tr>\n      <th>7</th>\n      <td>Where is the Green Sheep?</td>\n      <td>Mem Fox</td>\n      <td>Here is the blue sheep, and here is the red sh...</td>\n      <td>4.187512</td>\n      <td>378164</td>\n      <td>378164.Where is the Green Sheep?</td>\n    </tr>\n    <tr>\n      <th>8</th>\n      <td>Halfway to the Grave (Night Huntress, #1)</td>\n      <td>Jeaniene Frost</td>\n      <td>Flirting with the Grave...Half-vampire Catheri...</td>\n      <td>4.179877</td>\n      <td>1421990</td>\n      <td>1421990.Halfway to the Grave</td>\n    </tr>\n    <tr>\n      <th>9</th>\n      <td>Homer's Odyssey</td>\n      <td>Gwen Cooper</td>\n      <td>Once in nine lives, something extraordinary ha...</td>\n      <td>4.178691</td>\n      <td>6261477</td>\n      <td>6261477.Homer's Odyssey</td>\n    </tr>\n    <tr>\n      <th>10</th>\n      <td>P.S. I Still Love You (To All the Boys I've Lo...</td>\n      <td>Jenny Han</td>\n      <td>Lara Jean didn't expect to reallyfall for Pete...</td>\n      <td>4.169809</td>\n      <td>20698530</td>\n      <td>20698530.P.S. I Still Love You</td>\n    </tr>\n    <tr>\n      <th>11</th>\n      <td>The Bronze Key (Magisterium,  #3)</td>\n      <td>Holly Black</td>\n      <td>Magic can save you.\\nMagic can kill you.\\nStud...</td>\n      <td>4.158065</td>\n      <td>13612965</td>\n      <td>13612965.The Bronze Key</td>\n    </tr>\n    <tr>\n      <th>12</th>\n      <td>The Cat in the Hat</td>\n      <td>Dr. Seuss</td>\n      <td>Poor Sally and her brother. It's cold and wet ...</td>\n      <td>4.149963</td>\n      <td>233093</td>\n      <td>233093.The Cat in the Hat</td>\n    </tr>\n    <tr>\n      <th>13</th>\n      <td>Curran (Curran POV #1-2)</td>\n      <td>Gordon Andrews</td>\n      <td>Not short story, novella, or standalone, but c...</td>\n      <td>4.109394</td>\n      <td>9394156</td>\n      <td>9394156.Curran</td>\n    </tr>\n    <tr>\n      <th>14</th>\n      <td>Wallbanger (Cocktail, #1)</td>\n      <td>Alice Clayton</td>\n      <td>The first night after Caroline moves into her ...</td>\n      <td>4.099932</td>\n      <td>15858248</td>\n      <td>15858248.Wallbanger</td>\n    </tr>\n    <tr>\n      <th>15</th>\n      <td>Rogue (Shifters, #2)</td>\n      <td>Rachel Vincent</td>\n      <td>Okay, so cats don't always land on their feet....</td>\n      <td>4.099417</td>\n      <td>2314315</td>\n      <td>2314315.Rogue</td>\n    </tr>\n    <tr>\n      <th>16</th>\n      <td>Old Possum's Book of Practical Cats</td>\n      <td>T.S. Eliot</td>\n      <td>T. S. Eliot's playful cat poems have delighted...</td>\n      <td>4.089444</td>\n      <td>402128</td>\n      <td>402128.Old Possum's Book of Practical Cats</td>\n    </tr>\n    <tr>\n      <th>17</th>\n      <td>Kitten's First Full Moon</td>\n      <td>Kevin Henkes</td>\n      <td>The nationally bestselling picture book about ...</td>\n      <td>4.079562</td>\n      <td>237665</td>\n      <td>237665.Kitten's First Full Moon</td>\n    </tr>\n    <tr>\n      <th>18</th>\n      <td>Written on the Body</td>\n      <td>Jeanette Winterson</td>\n      <td>The most beguilingly seductive novel to date f...</td>\n      <td>4.079555</td>\n      <td>15054</td>\n      <td>15054.Written on the Body</td>\n    </tr>\n    <tr>\n      <th>19</th>\n      <td>The Black Cat</td>\n      <td>Edgar Allan Poe</td>\n      <td>\"The Black Cat\" is one of Edgar Allan Poe's mo...</td>\n      <td>4.069536</td>\n      <td>391724</td>\n      <td>391724.The Black Cat</td>\n    </tr>\n    <tr>\n      <th>20</th>\n      <td>Alice in Wonderland</td>\n      <td>Jane Carruth</td>\n      <td>This is an adaptation. For the editions of the...</td>\n      <td>4.029984</td>\n      <td>13023</td>\n      <td>13023.Alice in Wonderland</td>\n    </tr>\n    <tr>\n      <th>21</th>\n      <td>Kitty Raises Hell (Kitty Norville, #6)</td>\n      <td>Carrie Vaughn</td>\n      <td>Sometimes what happens in Vegas doesn't stay i...</td>\n      <td>3.999580</td>\n      <td>4894646</td>\n      <td>4894646.Kitty Raises Hell</td>\n    </tr>\n    <tr>\n      <th>22</th>\n      <td>Kitty Goes to War (Kitty Norville, #8)</td>\n      <td>Carrie Vaughn</td>\n      <td>Kitty Norville, Alpha werewolf and host of The...</td>\n      <td>3.999451</td>\n      <td>7662235</td>\n      <td>7662235.Kitty Goes to War</td>\n    </tr>\n    <tr>\n      <th>23</th>\n      <td>They All Saw a Cat</td>\n      <td>Brendan Wenzel</td>\n      <td>The cat walked through the world, with its whi...</td>\n      <td>3.999359</td>\n      <td>28645670</td>\n      <td>28645670.They All Saw a Cat</td>\n    </tr>\n    <tr>\n      <th>24</th>\n      <td>I Could Pee on This: And Other Poems by Cats</td>\n      <td>Francesco Marciuliano</td>\n      <td>Cat lovers will laugh out loud at the quirkine...</td>\n      <td>3.969571</td>\n      <td>14553840</td>\n      <td>14553840.I Could Pee on This: And Other Poems ...</td>\n    </tr>\n    <tr>\n      <th>25</th>\n      <td>A Street Cat Named Bob: How One Man and His Ca...</td>\n      <td>James Bowen</td>\n      <td>The moving, uplifting true story of an unlikel...</td>\n      <td>3.959880</td>\n      <td>12394068</td>\n      <td>12394068.A Street Cat Named Bob: How One Man a...</td>\n    </tr>\n    <tr>\n      <th>26</th>\n      <td>How to Tell If Your Cat Is Plotting to Kill You</td>\n      <td>Matthew Inman</td>\n      <td>If your cat is kneading you, that's not a sign...</td>\n      <td>3.949925</td>\n      <td>15799936</td>\n      <td>15799936.How to Tell If Your Cat Is Plotting t...</td>\n    </tr>\n    <tr>\n      <th>27</th>\n      <td>The Dream-Quest of Vellitt Boe</td>\n      <td>Kij Johnson</td>\n      <td>Professor Vellitt Boe teaches at the prestigio...</td>\n      <td>3.939078</td>\n      <td>29635545</td>\n      <td>29635545.The Dream-Quest of Vellitt Boe</td>\n    </tr>\n    <tr>\n      <th>28</th>\n      <td>Cat Sense: How the New Feline Science Can Make...</td>\n      <td>John   Bradshaw</td>\n      <td>Cats have been popular household pets for thou...</td>\n      <td>3.500055</td>\n      <td>17290708</td>\n      <td>17290708.Cat Sense: How the New Feline Science...</td>\n    </tr>\n  </tbody>\n</table>\n</div>"
     },
     "metadata": {},
     "execution_count": 8
    }
   ],
   "source": [
    "book_recommends"
   ]
  },
  {
   "cell_type": "code",
   "execution_count": 13,
   "metadata": {},
   "outputs": [
    {
     "output_type": "execute_result",
     "data": {
      "text/plain": [
       "                                                   title      author  \\\n",
       "71                               Saga, Vol. 2 (Saga, #2)     24514.0   \n",
       "135                      The Darkest Hour (Warriors, #6)     27498.0   \n",
       "1239            Pete the Cat: Rocking in My School Shoes   1644249.0   \n",
       "1548                        Into the Wild (Warriors, #1)     27498.0   \n",
       "1690         This Side of the Grave (Night Huntress, #5)    669810.0   \n",
       "2269                             Saga, Vol. 1 (Saga, #1)     24514.0   \n",
       "3264   Calling on Dragons (Enchanted Forest Chronicle...     36122.0   \n",
       "3376                           Where is the Green Sheep?      2131.0   \n",
       "3432           Halfway to the Grave (Night Huntress, #1)    669810.0   \n",
       "3530                                     Homer's Odyssey    179790.0   \n",
       "3645   P.S. I Still Love You (To All the Boys I've Lo...    151371.0   \n",
       "4013                   The Bronze Key (Magisterium,  #3)     25422.0   \n",
       "4096                                  The Cat in the Hat     61105.0   \n",
       "5110                            Curran (Curran POV #1-2)   5767872.0   \n",
       "5266                           Wallbanger (Cocktail, #1)   3379564.0   \n",
       "5343                                Rogue (Shifters, #2)    415967.0   \n",
       "5574                 Old Possum's Book of Practical Cats     18540.0   \n",
       "5795                            Kitten's First Full Moon       193.0   \n",
       "5797                                 Written on the Body      9399.0   \n",
       "6075                                       The Black Cat   4624490.0   \n",
       "7085                                 Alice in Wonderland     34933.0   \n",
       "7872              Kitty Raises Hell (Kitty Norville, #6)      8988.0   \n",
       "7899              Kitty Goes to War (Kitty Norville, #8)      8988.0   \n",
       "7912                                  They All Saw a Cat   7126026.0   \n",
       "8624        I Could Pee on This: And Other Poems by Cats   6075654.0   \n",
       "8828   A Street Cat Named Bob: How One Man and His Ca...   5828897.0   \n",
       "9080     How to Tell If Your Cat Is Plotting to Kill You   3409358.0   \n",
       "9578                      The Dream-Quest of Vellitt Boe    110153.0   \n",
       "12006  Cat Sense: How the New Feline Science Can Make...  14196952.0   \n",
       "\n",
       "       average_rating  ratings_count  text_reviews_count  \\\n",
       "71               4.56        58474.0              4591.0   \n",
       "135              4.52        27856.0               891.0   \n",
       "1239             4.32         8567.0               540.0   \n",
       "1548             4.29        50490.0              3954.0   \n",
       "1690             4.28        46590.0              1978.0   \n",
       "2269             4.24       142640.0              8700.0   \n",
       "3264             4.19        34766.0               538.0   \n",
       "3376             4.19         5483.0               326.0   \n",
       "3432             4.18       108349.0              5496.0   \n",
       "3530             4.18        10086.0              1207.0   \n",
       "3645             4.17        66898.0              9664.0   \n",
       "4013             4.16         6288.0               917.0   \n",
       "4096             4.15       320728.0              4287.0   \n",
       "5110             4.11        16064.0               429.0   \n",
       "5266             4.10       136476.0             10565.0   \n",
       "5343             4.10        15841.0               654.0   \n",
       "5574             4.09        15716.0               626.0   \n",
       "5795             4.08        18825.0              1604.0   \n",
       "5797             4.08        18524.0              1239.0   \n",
       "6075             4.07        16695.0               769.0   \n",
       "7085             4.03       346530.0              4966.0   \n",
       "7872             4.00        10097.0               304.0   \n",
       "7899             4.00         7711.0               326.0   \n",
       "7912             4.00         6601.0               766.0   \n",
       "8624             3.97         6390.0               997.0   \n",
       "8828             3.96        18749.0              2412.0   \n",
       "9080             3.95        23340.0              1461.0   \n",
       "9578             3.94         1321.0               339.0   \n",
       "12006            3.49         2062.0               335.0   \n",
       "\n",
       "                                             description            shelf_1  \\\n",
       "71     From award-winning writer Brian K. Vaughan (Pr...                NaN   \n",
       "135    ThunderClan's darkest hour is upon them, as Ti...           warriors   \n",
       "1239   Time to head back to school with this bestsell...      picture-books   \n",
       "1548   For generations, four Clans of wild cats have ...  currently-reading   \n",
       "1690   Danger waits on both sides of the grave.\\nWith...           vampires   \n",
       "2269   When two soldiers from opposite sides of a nev...                NaN   \n",
       "3264   Those wicked wizards are back--and they've bec...            fantasy   \n",
       "3376   Here is the blue sheep, and here is the red sh...       picture-book   \n",
       "3432   Flirting with the Grave...Half-vampire Catheri...                NaN   \n",
       "3530   Once in nine lives, something extraordinary ha...        non-fiction   \n",
       "3645   Lara Jean didn't expect to reallyfall for Pete...          favorites   \n",
       "4013   Magic can save you.\\nMagic can kill you.\\nStud...            fantasy   \n",
       "4096   Poor Sally and her brother. It's cold and wet ...   children-s-books   \n",
       "5110   Not short story, novella, or standalone, but c...      urban-fantasy   \n",
       "5266   The first night after Caroline moves into her ...            to-read   \n",
       "5343   Okay, so cats don't always land on their feet....      urban-fantasy   \n",
       "5574   T. S. Eliot's playful cat poems have delighted...             poetry   \n",
       "5795   The nationally bestselling picture book about ...      picture-books   \n",
       "5797   The most beguilingly seductive novel to date f...          favorites   \n",
       "6075   \"The Black Cat\" is one of Edgar Allan Poe's mo...           classics   \n",
       "7085   This is an adaptation. For the editions of the...  currently-reading   \n",
       "7872   Sometimes what happens in Vegas doesn't stay i...      urban-fantasy   \n",
       "7899   Kitty Norville, Alpha werewolf and host of The...      urban-fantasy   \n",
       "7912   The cat walked through the world, with its whi...      picture-books   \n",
       "8624   Cat lovers will laugh out loud at the quirkine...             poetry   \n",
       "8828   The moving, uplifting true story of an unlikel...        non-fiction   \n",
       "9080   If your cat is kneading you, that's not a sign...              humor   \n",
       "9578   Professor Vellitt Boe teaches at the prestigio...            fantasy   \n",
       "12006  Cats have been popular household pets for thou...  currently-reading   \n",
       "\n",
       "        book_id  weighted_score                   name  \n",
       "71     17131869        4.559449       Brian K. Vaughan  \n",
       "135       49006        4.518915            Erin Hunter  \n",
       "1239    9466024        4.317648            Eric Litwin  \n",
       "1548     111332        4.289629            Erin Hunter  \n",
       "1690    6871617        4.279609         Jeaniene Frost  \n",
       "2269   15704307        4.239886       Brian K. Vaughan  \n",
       "3264     169879        4.189605      Patricia C. Wrede  \n",
       "3376     378164        4.187512                Mem Fox  \n",
       "3432    1421990        4.179877         Jeaniene Frost  \n",
       "3530    6261477        4.178691            Gwen Cooper  \n",
       "3645   20698530        4.169809              Jenny Han  \n",
       "4013   13612965        4.158065            Holly Black  \n",
       "4096     233093        4.149963              Dr. Seuss  \n",
       "5110    9394156        4.109394         Gordon Andrews  \n",
       "5266   15858248        4.099932          Alice Clayton  \n",
       "5343    2314315        4.099417         Rachel Vincent  \n",
       "5574     402128        4.089444             T.S. Eliot  \n",
       "5795     237665        4.079562           Kevin Henkes  \n",
       "5797      15054        4.079555     Jeanette Winterson  \n",
       "6075     391724        4.069536        Edgar Allan Poe  \n",
       "7085      13023        4.029984           Jane Carruth  \n",
       "7872    4894646        3.999580          Carrie Vaughn  \n",
       "7899    7662235        3.999451          Carrie Vaughn  \n",
       "7912   28645670        3.999359         Brendan Wenzel  \n",
       "8624   14553840        3.969571  Francesco Marciuliano  \n",
       "8828   12394068        3.959880            James Bowen  \n",
       "9080   15799936        3.949925          Matthew Inman  \n",
       "9578   29635545        3.939078            Kij Johnson  \n",
       "12006  17290708        3.500055        John   Bradshaw  "
      ],
      "text/html": "<div>\n<style scoped>\n    .dataframe tbody tr th:only-of-type {\n        vertical-align: middle;\n    }\n\n    .dataframe tbody tr th {\n        vertical-align: top;\n    }\n\n    .dataframe thead th {\n        text-align: right;\n    }\n</style>\n<table border=\"1\" class=\"dataframe\">\n  <thead>\n    <tr style=\"text-align: right;\">\n      <th></th>\n      <th>title</th>\n      <th>author</th>\n      <th>average_rating</th>\n      <th>ratings_count</th>\n      <th>text_reviews_count</th>\n      <th>description</th>\n      <th>shelf_1</th>\n      <th>book_id</th>\n      <th>weighted_score</th>\n      <th>name</th>\n    </tr>\n  </thead>\n  <tbody>\n    <tr>\n      <th>71</th>\n      <td>Saga, Vol. 2 (Saga, #2)</td>\n      <td>24514.0</td>\n      <td>4.56</td>\n      <td>58474.0</td>\n      <td>4591.0</td>\n      <td>From award-winning writer Brian K. Vaughan (Pr...</td>\n      <td>NaN</td>\n      <td>17131869</td>\n      <td>4.559449</td>\n      <td>Brian K. Vaughan</td>\n    </tr>\n    <tr>\n      <th>135</th>\n      <td>The Darkest Hour (Warriors, #6)</td>\n      <td>27498.0</td>\n      <td>4.52</td>\n      <td>27856.0</td>\n      <td>891.0</td>\n      <td>ThunderClan's darkest hour is upon them, as Ti...</td>\n      <td>warriors</td>\n      <td>49006</td>\n      <td>4.518915</td>\n      <td>Erin Hunter</td>\n    </tr>\n    <tr>\n      <th>1239</th>\n      <td>Pete the Cat: Rocking in My School Shoes</td>\n      <td>1644249.0</td>\n      <td>4.32</td>\n      <td>8567.0</td>\n      <td>540.0</td>\n      <td>Time to head back to school with this bestsell...</td>\n      <td>picture-books</td>\n      <td>9466024</td>\n      <td>4.317648</td>\n      <td>Eric Litwin</td>\n    </tr>\n    <tr>\n      <th>1548</th>\n      <td>Into the Wild (Warriors, #1)</td>\n      <td>27498.0</td>\n      <td>4.29</td>\n      <td>50490.0</td>\n      <td>3954.0</td>\n      <td>For generations, four Clans of wild cats have ...</td>\n      <td>currently-reading</td>\n      <td>111332</td>\n      <td>4.289629</td>\n      <td>Erin Hunter</td>\n    </tr>\n    <tr>\n      <th>1690</th>\n      <td>This Side of the Grave (Night Huntress, #5)</td>\n      <td>669810.0</td>\n      <td>4.28</td>\n      <td>46590.0</td>\n      <td>1978.0</td>\n      <td>Danger waits on both sides of the grave.\\nWith...</td>\n      <td>vampires</td>\n      <td>6871617</td>\n      <td>4.279609</td>\n      <td>Jeaniene Frost</td>\n    </tr>\n    <tr>\n      <th>2269</th>\n      <td>Saga, Vol. 1 (Saga, #1)</td>\n      <td>24514.0</td>\n      <td>4.24</td>\n      <td>142640.0</td>\n      <td>8700.0</td>\n      <td>When two soldiers from opposite sides of a nev...</td>\n      <td>NaN</td>\n      <td>15704307</td>\n      <td>4.239886</td>\n      <td>Brian K. Vaughan</td>\n    </tr>\n    <tr>\n      <th>3264</th>\n      <td>Calling on Dragons (Enchanted Forest Chronicle...</td>\n      <td>36122.0</td>\n      <td>4.19</td>\n      <td>34766.0</td>\n      <td>538.0</td>\n      <td>Those wicked wizards are back--and they've bec...</td>\n      <td>fantasy</td>\n      <td>169879</td>\n      <td>4.189605</td>\n      <td>Patricia C. Wrede</td>\n    </tr>\n    <tr>\n      <th>3376</th>\n      <td>Where is the Green Sheep?</td>\n      <td>2131.0</td>\n      <td>4.19</td>\n      <td>5483.0</td>\n      <td>326.0</td>\n      <td>Here is the blue sheep, and here is the red sh...</td>\n      <td>picture-book</td>\n      <td>378164</td>\n      <td>4.187512</td>\n      <td>Mem Fox</td>\n    </tr>\n    <tr>\n      <th>3432</th>\n      <td>Halfway to the Grave (Night Huntress, #1)</td>\n      <td>669810.0</td>\n      <td>4.18</td>\n      <td>108349.0</td>\n      <td>5496.0</td>\n      <td>Flirting with the Grave...Half-vampire Catheri...</td>\n      <td>NaN</td>\n      <td>1421990</td>\n      <td>4.179877</td>\n      <td>Jeaniene Frost</td>\n    </tr>\n    <tr>\n      <th>3530</th>\n      <td>Homer's Odyssey</td>\n      <td>179790.0</td>\n      <td>4.18</td>\n      <td>10086.0</td>\n      <td>1207.0</td>\n      <td>Once in nine lives, something extraordinary ha...</td>\n      <td>non-fiction</td>\n      <td>6261477</td>\n      <td>4.178691</td>\n      <td>Gwen Cooper</td>\n    </tr>\n    <tr>\n      <th>3645</th>\n      <td>P.S. I Still Love You (To All the Boys I've Lo...</td>\n      <td>151371.0</td>\n      <td>4.17</td>\n      <td>66898.0</td>\n      <td>9664.0</td>\n      <td>Lara Jean didn't expect to reallyfall for Pete...</td>\n      <td>favorites</td>\n      <td>20698530</td>\n      <td>4.169809</td>\n      <td>Jenny Han</td>\n    </tr>\n    <tr>\n      <th>4013</th>\n      <td>The Bronze Key (Magisterium,  #3)</td>\n      <td>25422.0</td>\n      <td>4.16</td>\n      <td>6288.0</td>\n      <td>917.0</td>\n      <td>Magic can save you.\\nMagic can kill you.\\nStud...</td>\n      <td>fantasy</td>\n      <td>13612965</td>\n      <td>4.158065</td>\n      <td>Holly Black</td>\n    </tr>\n    <tr>\n      <th>4096</th>\n      <td>The Cat in the Hat</td>\n      <td>61105.0</td>\n      <td>4.15</td>\n      <td>320728.0</td>\n      <td>4287.0</td>\n      <td>Poor Sally and her brother. It's cold and wet ...</td>\n      <td>children-s-books</td>\n      <td>233093</td>\n      <td>4.149963</td>\n      <td>Dr. Seuss</td>\n    </tr>\n    <tr>\n      <th>5110</th>\n      <td>Curran (Curran POV #1-2)</td>\n      <td>5767872.0</td>\n      <td>4.11</td>\n      <td>16064.0</td>\n      <td>429.0</td>\n      <td>Not short story, novella, or standalone, but c...</td>\n      <td>urban-fantasy</td>\n      <td>9394156</td>\n      <td>4.109394</td>\n      <td>Gordon Andrews</td>\n    </tr>\n    <tr>\n      <th>5266</th>\n      <td>Wallbanger (Cocktail, #1)</td>\n      <td>3379564.0</td>\n      <td>4.10</td>\n      <td>136476.0</td>\n      <td>10565.0</td>\n      <td>The first night after Caroline moves into her ...</td>\n      <td>to-read</td>\n      <td>15858248</td>\n      <td>4.099932</td>\n      <td>Alice Clayton</td>\n    </tr>\n    <tr>\n      <th>5343</th>\n      <td>Rogue (Shifters, #2)</td>\n      <td>415967.0</td>\n      <td>4.10</td>\n      <td>15841.0</td>\n      <td>654.0</td>\n      <td>Okay, so cats don't always land on their feet....</td>\n      <td>urban-fantasy</td>\n      <td>2314315</td>\n      <td>4.099417</td>\n      <td>Rachel Vincent</td>\n    </tr>\n    <tr>\n      <th>5574</th>\n      <td>Old Possum's Book of Practical Cats</td>\n      <td>18540.0</td>\n      <td>4.09</td>\n      <td>15716.0</td>\n      <td>626.0</td>\n      <td>T. S. Eliot's playful cat poems have delighted...</td>\n      <td>poetry</td>\n      <td>402128</td>\n      <td>4.089444</td>\n      <td>T.S. Eliot</td>\n    </tr>\n    <tr>\n      <th>5795</th>\n      <td>Kitten's First Full Moon</td>\n      <td>193.0</td>\n      <td>4.08</td>\n      <td>18825.0</td>\n      <td>1604.0</td>\n      <td>The nationally bestselling picture book about ...</td>\n      <td>picture-books</td>\n      <td>237665</td>\n      <td>4.079562</td>\n      <td>Kevin Henkes</td>\n    </tr>\n    <tr>\n      <th>5797</th>\n      <td>Written on the Body</td>\n      <td>9399.0</td>\n      <td>4.08</td>\n      <td>18524.0</td>\n      <td>1239.0</td>\n      <td>The most beguilingly seductive novel to date f...</td>\n      <td>favorites</td>\n      <td>15054</td>\n      <td>4.079555</td>\n      <td>Jeanette Winterson</td>\n    </tr>\n    <tr>\n      <th>6075</th>\n      <td>The Black Cat</td>\n      <td>4624490.0</td>\n      <td>4.07</td>\n      <td>16695.0</td>\n      <td>769.0</td>\n      <td>\"The Black Cat\" is one of Edgar Allan Poe's mo...</td>\n      <td>classics</td>\n      <td>391724</td>\n      <td>4.069536</td>\n      <td>Edgar Allan Poe</td>\n    </tr>\n    <tr>\n      <th>7085</th>\n      <td>Alice in Wonderland</td>\n      <td>34933.0</td>\n      <td>4.03</td>\n      <td>346530.0</td>\n      <td>4966.0</td>\n      <td>This is an adaptation. For the editions of the...</td>\n      <td>currently-reading</td>\n      <td>13023</td>\n      <td>4.029984</td>\n      <td>Jane Carruth</td>\n    </tr>\n    <tr>\n      <th>7872</th>\n      <td>Kitty Raises Hell (Kitty Norville, #6)</td>\n      <td>8988.0</td>\n      <td>4.00</td>\n      <td>10097.0</td>\n      <td>304.0</td>\n      <td>Sometimes what happens in Vegas doesn't stay i...</td>\n      <td>urban-fantasy</td>\n      <td>4894646</td>\n      <td>3.999580</td>\n      <td>Carrie Vaughn</td>\n    </tr>\n    <tr>\n      <th>7899</th>\n      <td>Kitty Goes to War (Kitty Norville, #8)</td>\n      <td>8988.0</td>\n      <td>4.00</td>\n      <td>7711.0</td>\n      <td>326.0</td>\n      <td>Kitty Norville, Alpha werewolf and host of The...</td>\n      <td>urban-fantasy</td>\n      <td>7662235</td>\n      <td>3.999451</td>\n      <td>Carrie Vaughn</td>\n    </tr>\n    <tr>\n      <th>7912</th>\n      <td>They All Saw a Cat</td>\n      <td>7126026.0</td>\n      <td>4.00</td>\n      <td>6601.0</td>\n      <td>766.0</td>\n      <td>The cat walked through the world, with its whi...</td>\n      <td>picture-books</td>\n      <td>28645670</td>\n      <td>3.999359</td>\n      <td>Brendan Wenzel</td>\n    </tr>\n    <tr>\n      <th>8624</th>\n      <td>I Could Pee on This: And Other Poems by Cats</td>\n      <td>6075654.0</td>\n      <td>3.97</td>\n      <td>6390.0</td>\n      <td>997.0</td>\n      <td>Cat lovers will laugh out loud at the quirkine...</td>\n      <td>poetry</td>\n      <td>14553840</td>\n      <td>3.969571</td>\n      <td>Francesco Marciuliano</td>\n    </tr>\n    <tr>\n      <th>8828</th>\n      <td>A Street Cat Named Bob: How One Man and His Ca...</td>\n      <td>5828897.0</td>\n      <td>3.96</td>\n      <td>18749.0</td>\n      <td>2412.0</td>\n      <td>The moving, uplifting true story of an unlikel...</td>\n      <td>non-fiction</td>\n      <td>12394068</td>\n      <td>3.959880</td>\n      <td>James Bowen</td>\n    </tr>\n    <tr>\n      <th>9080</th>\n      <td>How to Tell If Your Cat Is Plotting to Kill You</td>\n      <td>3409358.0</td>\n      <td>3.95</td>\n      <td>23340.0</td>\n      <td>1461.0</td>\n      <td>If your cat is kneading you, that's not a sign...</td>\n      <td>humor</td>\n      <td>15799936</td>\n      <td>3.949925</td>\n      <td>Matthew Inman</td>\n    </tr>\n    <tr>\n      <th>9578</th>\n      <td>The Dream-Quest of Vellitt Boe</td>\n      <td>110153.0</td>\n      <td>3.94</td>\n      <td>1321.0</td>\n      <td>339.0</td>\n      <td>Professor Vellitt Boe teaches at the prestigio...</td>\n      <td>fantasy</td>\n      <td>29635545</td>\n      <td>3.939078</td>\n      <td>Kij Johnson</td>\n    </tr>\n    <tr>\n      <th>12006</th>\n      <td>Cat Sense: How the New Feline Science Can Make...</td>\n      <td>14196952.0</td>\n      <td>3.49</td>\n      <td>2062.0</td>\n      <td>335.0</td>\n      <td>Cats have been popular household pets for thou...</td>\n      <td>currently-reading</td>\n      <td>17290708</td>\n      <td>3.500055</td>\n      <td>John   Bradshaw</td>\n    </tr>\n  </tbody>\n</table>\n</div>"
     },
     "metadata": {},
     "execution_count": 13
    }
   ],
   "source": [
    "books[books.book_id.isin(reviews[reviews.index.isin(top_n_indices)].book_id.tolist())]"
   ]
  },
  {
   "cell_type": "code",
   "execution_count": 15,
   "metadata": {},
   "outputs": [
    {
     "output_type": "error",
     "ename": "TypeError",
     "evalue": "cannot concatenate object of type '<class 'str'>'; only Series and DataFrame objs are valid",
     "traceback": [
      "\u001b[0;31m---------------------------------------------------------------------------\u001b[0m",
      "\u001b[0;31mTypeError\u001b[0m                                 Traceback (most recent call last)",
      "\u001b[0;32m<ipython-input-15-9ac6c3c7378b>\u001b[0m in \u001b[0;36m<module>\u001b[0;34m\u001b[0m\n\u001b[1;32m      2\u001b[0m \u001b[0;34m\u001b[0m\u001b[0m\n\u001b[1;32m      3\u001b[0m \u001b[0;32mfor\u001b[0m \u001b[0midx\u001b[0m\u001b[0;34m,\u001b[0m \u001b[0mi\u001b[0m \u001b[0;32min\u001b[0m \u001b[0menumerate\u001b[0m\u001b[0;34m(\u001b[0m\u001b[0mreviews\u001b[0m\u001b[0;34m.\u001b[0m\u001b[0miloc\u001b[0m\u001b[0;34m[\u001b[0m\u001b[0mtop_n_indices\u001b[0m\u001b[0;34m]\u001b[0m\u001b[0;34m.\u001b[0m\u001b[0mindex\u001b[0m\u001b[0;34m)\u001b[0m\u001b[0;34m:\u001b[0m\u001b[0;34m\u001b[0m\u001b[0;34m\u001b[0m\u001b[0m\n\u001b[0;32m----> 4\u001b[0;31m     \u001b[0mrec_df\u001b[0m\u001b[0;34m.\u001b[0m\u001b[0mappend\u001b[0m\u001b[0;34m(\u001b[0m\u001b[0mbook_recommends\u001b[0m\u001b[0;34m[\u001b[0m\u001b[0mbook_recommends\u001b[0m\u001b[0;34m.\u001b[0m\u001b[0mbook_id\u001b[0m \u001b[0;34m==\u001b[0m \u001b[0;34m(\u001b[0m\u001b[0mreviews\u001b[0m\u001b[0;34m[\u001b[0m\u001b[0mreviews\u001b[0m\u001b[0;34m.\u001b[0m\u001b[0mindex\u001b[0m \u001b[0;34m==\u001b[0m \u001b[0mi\u001b[0m\u001b[0;34m]\u001b[0m\u001b[0;34m.\u001b[0m\u001b[0mbook_id\u001b[0m\u001b[0;34m.\u001b[0m\u001b[0mtolist\u001b[0m\u001b[0;34m(\u001b[0m\u001b[0;34m)\u001b[0m\u001b[0;34m[\u001b[0m\u001b[0;36m0\u001b[0m\u001b[0;34m]\u001b[0m\u001b[0;34m)\u001b[0m\u001b[0;34m]\u001b[0m\u001b[0;34m.\u001b[0m\u001b[0mtitle\u001b[0m\u001b[0;34m.\u001b[0m\u001b[0mtolist\u001b[0m\u001b[0;34m(\u001b[0m\u001b[0;34m)\u001b[0m\u001b[0;34m[\u001b[0m\u001b[0;36m0\u001b[0m\u001b[0;34m]\u001b[0m\u001b[0;34m)\u001b[0m\u001b[0;34m\u001b[0m\u001b[0;34m\u001b[0m\u001b[0m\n\u001b[0m\u001b[1;32m      5\u001b[0m     \u001b[0mrec_df\u001b[0m\u001b[0;34m.\u001b[0m\u001b[0mappend\u001b[0m\u001b[0;34m(\u001b[0m\u001b[0mbook_recommends\u001b[0m\u001b[0;34m[\u001b[0m\u001b[0mbook_recommends\u001b[0m\u001b[0;34m.\u001b[0m\u001b[0mbook_id\u001b[0m \u001b[0;34m==\u001b[0m \u001b[0;34m(\u001b[0m\u001b[0mreviews\u001b[0m\u001b[0;34m[\u001b[0m\u001b[0mreviews\u001b[0m\u001b[0;34m.\u001b[0m\u001b[0mindex\u001b[0m \u001b[0;34m==\u001b[0m \u001b[0mi\u001b[0m\u001b[0;34m]\u001b[0m\u001b[0;34m.\u001b[0m\u001b[0mbook_id\u001b[0m\u001b[0;34m.\u001b[0m\u001b[0mtolist\u001b[0m\u001b[0;34m(\u001b[0m\u001b[0;34m)\u001b[0m\u001b[0;34m[\u001b[0m\u001b[0;36m0\u001b[0m\u001b[0;34m]\u001b[0m\u001b[0;34m)\u001b[0m\u001b[0;34m]\u001b[0m\u001b[0;34m.\u001b[0m\u001b[0mname\u001b[0m\u001b[0;34m.\u001b[0m\u001b[0mtolist\u001b[0m\u001b[0;34m(\u001b[0m\u001b[0;34m)\u001b[0m\u001b[0;34m[\u001b[0m\u001b[0;36m0\u001b[0m\u001b[0;34m]\u001b[0m\u001b[0;34m)\u001b[0m\u001b[0;34m\u001b[0m\u001b[0;34m\u001b[0m\u001b[0m\n\u001b[1;32m      6\u001b[0m     \u001b[0mrec_df\u001b[0m\u001b[0;34m.\u001b[0m\u001b[0mappend\u001b[0m\u001b[0;34m(\u001b[0m\u001b[0mround\u001b[0m\u001b[0;34m(\u001b[0m\u001b[0mbooks\u001b[0m\u001b[0;34m[\u001b[0m\u001b[0mbooks\u001b[0m\u001b[0;34m.\u001b[0m\u001b[0mbook_id\u001b[0m\u001b[0;34m.\u001b[0m\u001b[0misin\u001b[0m\u001b[0;34m(\u001b[0m\u001b[0mreviews\u001b[0m\u001b[0;34m[\u001b[0m\u001b[0mreviews\u001b[0m\u001b[0;34m.\u001b[0m\u001b[0mindex\u001b[0m \u001b[0;34m==\u001b[0m \u001b[0mi\u001b[0m\u001b[0;34m]\u001b[0m\u001b[0;34m.\u001b[0m\u001b[0mbook_id\u001b[0m\u001b[0;34m.\u001b[0m\u001b[0mtolist\u001b[0m\u001b[0;34m(\u001b[0m\u001b[0;34m)\u001b[0m\u001b[0;34m)\u001b[0m\u001b[0;34m]\u001b[0m\u001b[0;34m.\u001b[0m\u001b[0mweighted_score\u001b[0m\u001b[0;34m.\u001b[0m\u001b[0mtolist\u001b[0m\u001b[0;34m(\u001b[0m\u001b[0;34m)\u001b[0m\u001b[0;34m[\u001b[0m\u001b[0;36m0\u001b[0m\u001b[0;34m]\u001b[0m\u001b[0;34m,\u001b[0m \u001b[0;36m2\u001b[0m\u001b[0;34m)\u001b[0m\u001b[0;34m)\u001b[0m\u001b[0;34m\u001b[0m\u001b[0;34m\u001b[0m\u001b[0m\n",
      "\u001b[0;32m~/miniconda3/lib/python3.8/site-packages/pandas/core/frame.py\u001b[0m in \u001b[0;36mappend\u001b[0;34m(self, other, ignore_index, verify_integrity, sort)\u001b[0m\n\u001b[1;32m   7745\u001b[0m         \u001b[0;32melse\u001b[0m\u001b[0;34m:\u001b[0m\u001b[0;34m\u001b[0m\u001b[0;34m\u001b[0m\u001b[0m\n\u001b[1;32m   7746\u001b[0m             \u001b[0mto_concat\u001b[0m \u001b[0;34m=\u001b[0m \u001b[0;34m[\u001b[0m\u001b[0mself\u001b[0m\u001b[0;34m,\u001b[0m \u001b[0mother\u001b[0m\u001b[0;34m]\u001b[0m\u001b[0;34m\u001b[0m\u001b[0;34m\u001b[0m\u001b[0m\n\u001b[0;32m-> 7747\u001b[0;31m         return concat(\n\u001b[0m\u001b[1;32m   7748\u001b[0m             \u001b[0mto_concat\u001b[0m\u001b[0;34m,\u001b[0m\u001b[0;34m\u001b[0m\u001b[0;34m\u001b[0m\u001b[0m\n\u001b[1;32m   7749\u001b[0m             \u001b[0mignore_index\u001b[0m\u001b[0;34m=\u001b[0m\u001b[0mignore_index\u001b[0m\u001b[0;34m,\u001b[0m\u001b[0;34m\u001b[0m\u001b[0;34m\u001b[0m\u001b[0m\n",
      "\u001b[0;32m~/miniconda3/lib/python3.8/site-packages/pandas/core/reshape/concat.py\u001b[0m in \u001b[0;36mconcat\u001b[0;34m(objs, axis, join, ignore_index, keys, levels, names, verify_integrity, sort, copy)\u001b[0m\n\u001b[1;32m    272\u001b[0m     \u001b[0mValueError\u001b[0m\u001b[0;34m:\u001b[0m \u001b[0mIndexes\u001b[0m \u001b[0mhave\u001b[0m \u001b[0moverlapping\u001b[0m \u001b[0mvalues\u001b[0m\u001b[0;34m:\u001b[0m \u001b[0;34m[\u001b[0m\u001b[0;34m'a'\u001b[0m\u001b[0;34m]\u001b[0m\u001b[0;34m\u001b[0m\u001b[0;34m\u001b[0m\u001b[0m\n\u001b[1;32m    273\u001b[0m     \"\"\"\n\u001b[0;32m--> 274\u001b[0;31m     op = _Concatenator(\n\u001b[0m\u001b[1;32m    275\u001b[0m         \u001b[0mobjs\u001b[0m\u001b[0;34m,\u001b[0m\u001b[0;34m\u001b[0m\u001b[0;34m\u001b[0m\u001b[0m\n\u001b[1;32m    276\u001b[0m         \u001b[0maxis\u001b[0m\u001b[0;34m=\u001b[0m\u001b[0maxis\u001b[0m\u001b[0;34m,\u001b[0m\u001b[0;34m\u001b[0m\u001b[0;34m\u001b[0m\u001b[0m\n",
      "\u001b[0;32m~/miniconda3/lib/python3.8/site-packages/pandas/core/reshape/concat.py\u001b[0m in \u001b[0;36m__init__\u001b[0;34m(self, objs, axis, join, keys, levels, names, ignore_index, verify_integrity, copy, sort)\u001b[0m\n\u001b[1;32m    357\u001b[0m                     \u001b[0;34m\"only Series and DataFrame objs are valid\"\u001b[0m\u001b[0;34m\u001b[0m\u001b[0;34m\u001b[0m\u001b[0m\n\u001b[1;32m    358\u001b[0m                 )\n\u001b[0;32m--> 359\u001b[0;31m                 \u001b[0;32mraise\u001b[0m \u001b[0mTypeError\u001b[0m\u001b[0;34m(\u001b[0m\u001b[0mmsg\u001b[0m\u001b[0;34m)\u001b[0m\u001b[0;34m\u001b[0m\u001b[0;34m\u001b[0m\u001b[0m\n\u001b[0m\u001b[1;32m    360\u001b[0m \u001b[0;34m\u001b[0m\u001b[0m\n\u001b[1;32m    361\u001b[0m             \u001b[0;31m# consolidate\u001b[0m\u001b[0;34m\u001b[0m\u001b[0;34m\u001b[0m\u001b[0;34m\u001b[0m\u001b[0m\n",
      "\u001b[0;31mTypeError\u001b[0m: cannot concatenate object of type '<class 'str'>'; only Series and DataFrame objs are valid"
     ]
    }
   ],
   "source": [
    "rec_df = pd.DataFrame()\n",
    "\n",
    "for idx, i in enumerate(reviews.iloc[top_n_indices].index):\n",
    "    rec_df.append(book_recommends[book_recommends.book_id == (reviews[reviews.index == i].book_id.tolist()[0])].title.tolist()[0])\n",
    "    rec_df.append(book_recommends[book_recommends.book_id == (reviews[reviews.index == i].book_id.tolist()[0])].name.tolist()[0])\n",
    "    rec_df.append(round(books[books.book_id.isin(reviews[reviews.index == i].book_id.tolist())].weighted_score.tolist()[0], 2))\n",
    "    rec_df.append(reviews[reviews.index == i].review_text.tolist()[0])"
   ]
  },
  {
   "cell_type": "code",
   "execution_count": 93,
   "metadata": {},
   "outputs": [],
   "source": [
    "res = find_books('I love hard scifi', reviews, books, 15)"
   ]
  },
  {
   "cell_type": "code",
   "execution_count": null,
   "metadata": {},
   "outputs": [],
   "source": []
  },
  {
   "cell_type": "code",
   "execution_count": 103,
   "metadata": {},
   "outputs": [
    {
     "output_type": "stream",
     "name": "stdout",
     "text": [
      "0\n327691\nBook title: Ancillary Justice (Imperial Radch, #1)\nAuthor: Ann Leckie\nWeighted Score: 3.9699322483318085\nSimilar review: #wickedawesome I love me some epic sci-fi\nGoodreads Link: https://www.goodreads.com/book/show/17333324.Ancillary Justice \n\n\n\n1\n210875\nBook title: Ready Player One\nAuthor: Ernest Cline\nWeighted Score: 4.3094569028261365\nSimilar review: I love SciFi but could not get into this\nGoodreads Link: https://www.goodreads.com/book/show/20603758.Ready Player One\n\n\n\n2\n248678\nBook title: The Iron King (The Iron Fey, #1)\nAuthor: Julie Kagawa\nWeighted Score: 3.9199984214184576\nSimilar review: i like a little sci fi with my fantasy\nGoodreads Link: https://www.goodreads.com/book/show/6644117.The Iron King \n\n\n\n3\n107553\nBook title: The Door Into Summer\nAuthor: Robert A. Heinlein\nWeighted Score: 3.99972628465949\nSimilar review: One of my all time favorite sci-fi books and I'm not a sci-fi fan.\nGoodreads Link: https://www.goodreads.com/book/show/348.The Door Into Summer\n\n\n\n4\n164757\nBook title: Ender's Game (Ender's Saga, #1)\nAuthor: Orson Scott Card\nWeighted Score: 4.299976964549963\nSimilar review: Definitely a great sci fi. I'm not actually into sci-fi but I actually enjoyed this!\nGoodreads Link: https://www.goodreads.com/book/show/375802.Ender's Game \n\n\n\n5\n362901\nBook title: The Dispossessed\nAuthor: Ursula K. Le Guin\nWeighted Score: 4.179724820016062\nSimilar review: Just damn good science fiction.\nGoodreads Link: https://www.goodreads.com/book/show/13651.The Dispossessed\n\n\n\n6\n70857\nBook title: Ender's Game (Ender's Saga, #1)\nAuthor: Orson Scott Card\nWeighted Score: 4.299976964549963\nSimilar review: Interesting even though I'm not really into sci-fi.\nGoodreads Link: https://www.goodreads.com/book/show/375802.Ender's Game \n\n\n\n7\n9922\nBook title: Wool Omnibus (Silo, #1)\nAuthor: Hugh Howey\nWeighted Score: 4.239805338612142\nSimilar review: Really enjoyed this. Awesome sci-fi\nGoodreads Link: https://www.goodreads.com/book/show/13453029.Wool Omnibus \n\n\n\n8\n35875\nBook title: Spin (Spin, #1)\nAuthor: Robert Charles Wilson\nWeighted Score: 4.009820910234895\nSimilar review: I'm not usually one to love Hard Scifi, but I really liked this one.\nGoodreads Link: https://www.goodreads.com/book/show/910863.Spin \n\n\n\n9\n167832\nBook title: Hyperion (Hyperion Cantos, #1)\nAuthor: Dan Simmons\nWeighted Score: 4.20988223607639\nSimilar review: One of my favorite sci-fi series!\nGoodreads Link: https://www.goodreads.com/book/show/77566.Hyperion \n\n\n\n10\n121574\nBook title: Obsidian (Lux, #1)\nAuthor: Jennifer L. Armentrout\nWeighted Score: 4.229906314480184\nSimilar review: Such an interesting series. And i'm not even into Sci-fi!\nGoodreads Link: https://www.goodreads.com/book/show/12578077.Obsidian \n\n\n\n11\n358216\nBook title: Armor\nAuthor: John Steakley\nWeighted Score: 4.119244255458736\nSimilar review: My favorite sci-fi character-driven story.\nGoodreads Link: https://www.goodreads.com/book/show/102327.Armor\n\n\n\n12\n234563\nBook title: Stories of Your Life and Others\nAuthor: Ted Chiang\nWeighted Score: 4.269003040354569\nSimilar review: I COULDN'T PUT IT DOWN. \n I lalalalalalalalove good sci-fi\nGoodreads Link: https://www.goodreads.com/book/show/223380.Stories of Your Life and Others\n\n\n\n13\n228231\nBook title: Ender's Game (Ender's Saga, #1)\nAuthor: Orson Scott Card\nWeighted Score: 4.299976964549963\nSimilar review: One of my favorite science fiction books\nGoodreads Link: https://www.goodreads.com/book/show/375802.Ender's Game \n\n\n\n14\n167309\nBook title: The Martian\nAuthor: Andy Weir\nWeighted Score: 4.3899452969700405\nSimilar review: yay! my kind of sci fi novel. All sci fi no bullshit\nGoodreads Link: https://www.goodreads.com/book/show/18007564.The Martian\n\n\n\n15\n99875\nBook title: Winter's Heart (Wheel of Time, #9)\nAuthor: Robert Jordan\nWeighted Score: 3.9199964511233722\nSimilar review: i love fantasy and sci-fi.. but didn't much care for this book.\nGoodreads Link: https://www.goodreads.com/book/show/13891.Winter's Heart \n\n\n\n"
     ]
    }
   ],
   "source": [
    "top_n_indices = find_reviews('I love hard scifi', reviews, 15)\n",
    "book_recommends = find_books('I love hard scifi', reviews, books, 15)\n",
    "book_recommends['for_url'] = book_recommends['book_id'].astype(str) + '.' + book_recommends['title'].replace(r'\\(.*$', '', regex = True)\n",
    "\n",
    "for idx, i in enumerate(reviews.iloc[top_n_indices].index):\n",
    "    print(idx)\n",
    "    print(i)\n",
    "    print('Book title:', book_recommends[book_recommends.book_id == (reviews[reviews.index == i].book_id.tolist()[0])].title.tolist()[0])\n",
    "    print('Author:', book_recommends[book_recommends.book_id == (reviews[reviews.index == i].book_id.tolist()[0])].name.tolist()[0])\n",
    "    print('Weighted Score:', books[books.book_id.isin(reviews[reviews.index == i].book_id.tolist())].weighted_score.tolist()[0])\n",
    "    print('Similar review:', reviews[reviews.index == i].review_text.tolist()[0])\n",
    "    print('Goodreads Link:', 'https://www.goodreads.com/book/show/' + book_recommends[book_recommends.book_id == (reviews[reviews.index == i].book_id.tolist()[0])].for_url.tolist()[0])\n",
    "    print('\\n\\n')"
   ]
  },
  {
   "cell_type": "code",
   "execution_count": 61,
   "metadata": {},
   "outputs": [],
   "source": [
    "def find_url(query, revires, books, n_results=5):\n",
    "    book_data = find_books(query, reviews, books, n_results)[['title', 'book_id']]\n",
    "    book_data['for_url'] = book_data['book_id'].astype(str) + '.' + book_data['title'].replace(r'\\(.*$', '', regex = True)\n",
    "    return book_data\n",
    "url =  find_url('I love hard scifi', reviews, books, 10)"
   ]
  },
  {
   "cell_type": "code",
   "execution_count": 18,
   "metadata": {},
   "outputs": [],
   "source": [
    "def show_recommendations(query, reviews, books, n_results=5):\n",
    "    top_n_indices = find_reviews(query, reviews, 15)\n",
    "    book_recommends = find_books(query, reviews, books, 15)\n",
    "    book_recommends['for_url'] = book_recommends['book_id'].astype(str) + '.' + book_recommends['title'].replace(r'\\(.*$', '', regex = True)\n",
    "    common_titles = []\n",
    "    for idx, i in enumerate(reviews.iloc[top_n_indices].index):\n",
    "        common_titles.append(book_recommends[book_recommends.book_id == (reviews[reviews.index == i].book_id.tolist()[0])].title.tolist()[0])\n",
    "        print(idx)\n",
    "        print(i)\n",
    "        print('Book title:', book_recommends[book_recommends.book_id == (reviews[reviews.index == i].book_id.tolist()[0])].title.tolist()[0])\n",
    "        print('Author:', book_recommends[book_recommends.book_id == (reviews[reviews.index == i].book_id.tolist()[0])].name.tolist()[0])\n",
    "        print('Weighted Score:', books[books.book_id.isin(reviews[reviews.index == i].book_id.tolist())].weighted_score.tolist()[0])\n",
    "        print('Similar review:', reviews[reviews.index == i].review_text.tolist()[0])\n",
    "        print('Goodreads Link:', 'https://www.goodreads.com/book/show/' + book_recommends[book_recommends.book_id == (reviews[reviews.index == i].book_id.tolist()[0])].for_url.tolist()[0])\n",
    "        print('\\n\\n')\n",
    "    return common_titles"
   ]
  },
  {
   "cell_type": "code",
   "execution_count": 21,
   "metadata": {},
   "outputs": [
    {
     "output_type": "stream",
     "name": "stdout",
     "text": [
      "0\n386512\nBook title: This Side of the Grave (Night Huntress, #5)\nAuthor: Jeaniene Frost\nWeighted Score: 4.279608603987263\nSimilar review: Cat is particularly badass in this one.\nGoodreads Link: https://www.goodreads.com/book/show/6871617.This Side of the Grave \n\n\n\n1\n282434\nBook title: Into the Wild (Warriors, #1)\nAuthor: Erin Hunter\nWeighted Score: 4.289628682013339\nSimilar review: It was about cats. I love cats.\nGoodreads Link: https://www.goodreads.com/book/show/111332.Into the Wild \n\n\n\n2\n412833\nBook title: How to Tell If Your Cat Is Plotting to Kill You\nAuthor: Matthew Inman\nWeighted Score: 3.9499246100014016\nSimilar review: Cats are awesome, especially Bob Cats!\nGoodreads Link: https://www.goodreads.com/book/show/15799936.How to Tell If Your Cat Is Plotting to Kill You\n\n\n\n3\n310544\nBook title: Where is the Green Sheep?\nAuthor: Mem Fox\nWeighted Score: 4.187512349310434\nSimilar review: Cat introduced me to the green sheep! Thanks Cat!\nGoodreads Link: https://www.goodreads.com/book/show/378164.Where is the Green Sheep?\n\n\n\n4\n174246\nBook title: Rogue (Shifters, #2)\nAuthor: Rachel Vincent\nWeighted Score: 4.099416902918593\nSimilar review: cats doing cat things \n good audiobook\nGoodreads Link: https://www.goodreads.com/book/show/2314315.Rogue \n\n\n\n5\n337906\nBook title: How to Tell If Your Cat Is Plotting to Kill You\nAuthor: Matthew Inman\nWeighted Score: 3.9499246100014016\nSimilar review: My cat's behavior makes so much sense to me now!\nGoodreads Link: https://www.goodreads.com/book/show/15799936.How to Tell If Your Cat Is Plotting to Kill You\n\n\n\n6\n188133\nBook title: Wallbanger (Cocktail, #1)\nAuthor: Alice Clayton\nWeighted Score: 4.099932045907954\nSimilar review: The thing with the cat was just.....awkward.\nGoodreads Link: https://www.goodreads.com/book/show/15858248.Wallbanger \n\n\n\n7\n287921\nBook title: I Could Pee on This: And Other Poems by Cats\nAuthor: Francesco Marciuliano\nWeighted Score: 3.9695707605301584\nSimilar review: A great book for all cat lovers. And yes, I read a few aloud to my cat.\nGoodreads Link: https://www.goodreads.com/book/show/14553840.I Could Pee on This: And Other Poems by Cats\n\n\n\n8\n260802\nBook title: A Street Cat Named Bob: How One Man and His Cat Found Hope on the Streets\nAuthor: James Bowen\nWeighted Score: 3.9598795803081255\nSimilar review: People aren't purrfect, but cats are!\nGoodreads Link: https://www.goodreads.com/book/show/12394068.A Street Cat Named Bob: How One Man and His Cat Found Hope on the Streets\n\n\n\n9\n229620\nBook title: Curran (Curran POV #1-2)\nAuthor: Gordon Andrews\nWeighted Score: 4.109394170272449\nSimilar review: mmmmm curran.... here kitty kitty kitty\nGoodreads Link: https://www.goodreads.com/book/show/9394156.Curran \n\n\n\n10\n178847\nBook title: Alice in Wonderland\nAuthor: Jane Carruth\nWeighted Score: 4.029983577297831\nSimilar review: Fun. I really like the Chesire Cat. :)\nGoodreads Link: https://www.goodreads.com/book/show/13023.Alice in Wonderland\n\n\n\n11\n217631\nBook title: Into the Wild (Warriors, #1)\nAuthor: Erin Hunter\nWeighted Score: 4.289628682013339\nSimilar review: wonderful perpective of the world of cats!\nGoodreads Link: https://www.goodreads.com/book/show/111332.Into the Wild \n\n\n\n12\n351720\nBook title: The Cat in the Hat\nAuthor: Dr. Seuss\nWeighted Score: 4.149963420502655\nSimilar review: CAT IN THE HAT NO DOUBT ABOUT THAT LOL\nGoodreads Link: https://www.goodreads.com/book/show/233093.The Cat in the Hat\n\n\n\n13\n114322\nBook title: I Could Pee on This: And Other Poems by Cats\nAuthor: Francesco Marciuliano\nWeighted Score: 3.9695707605301584\nSimilar review: Have a cat? Then you will love. \n Meow.\nGoodreads Link: https://www.goodreads.com/book/show/14553840.I Could Pee on This: And Other Poems by Cats\n\n\n\n14\n144464\nBook title: How to Tell If Your Cat Is Plotting to Kill You\nAuthor: Matthew Inman\nWeighted Score: 3.9499246100014016\nSimilar review: This might be funny if I had a cat.\nGoodreads Link: https://www.goodreads.com/book/show/15799936.How to Tell If Your Cat Is Plotting to Kill You\n\n\n\n15\n66026\nBook title: Homer's Odyssey\nAuthor: Gwen Cooper\nWeighted Score: 4.178691178336445\nSimilar review: Found thru LibraryCyn. Amazing cat...?\nGoodreads Link: https://www.goodreads.com/book/show/6261477.Homer's Odyssey\n\n\n\n"
     ]
    }
   ],
   "source": [
    "common_titles = show_recommendations('cat', reviews, books, 50)"
   ]
  },
  {
   "cell_type": "code",
   "execution_count": 31,
   "metadata": {},
   "outputs": [
    {
     "output_type": "stream",
     "name": "stdout",
     "text": [
      "Title: How to Tell If Your Cat Is Plotting to Kill You, \nAppeared: 3 times\nTitle: Into the Wild (Warriors, #1), \nAppeared: 2 times\nTitle: I Could Pee on This: And Other Poems by Cats, \nAppeared: 2 times\n"
     ]
    }
   ],
   "source": [
    "most_common = Counter(common_titles).most_common(15)\n",
    "for title, rank in most_common:\n",
    "    if rank > 1:\n",
    "        print(f'Title: {title}, \\nAppeared: {rank} times')\n",
    "    "
   ]
  },
  {
   "cell_type": "code",
   "execution_count": 44,
   "metadata": {},
   "outputs": [
    {
     "output_type": "execute_result",
     "data": {
      "text/plain": [
       "3"
      ]
     },
     "metadata": {},
     "execution_count": 44
    }
   ],
   "source": [
    "sidetable = pd.DataFrame(most_common, index=[x + 1 for x in range(len(most_common))]).rename(columns={0:'Title', 1:'No. of appearences'})\n",
    "sidetable.iloc[0]['No. of appearences']"
   ]
  },
  {
   "cell_type": "code",
   "execution_count": null,
   "metadata": {},
   "outputs": [],
   "source": [
    "def common_results(most_common):\n",
    "    for title, rank in most_common:\n",
    "        if rank > 1:\n",
    "            a"
   ]
  },
  {
   "cell_type": "code",
   "execution_count": 17,
   "metadata": {},
   "outputs": [
    {
     "output_type": "error",
     "ename": "NameError",
     "evalue": "name 'find_url' is not defined",
     "traceback": [
      "\u001b[0;31m---------------------------------------------------------------------------\u001b[0m",
      "\u001b[0;31mNameError\u001b[0m                                 Traceback (most recent call last)",
      "\u001b[0;32m<ipython-input-17-bd74524b40ae>\u001b[0m in \u001b[0;36m<module>\u001b[0;34m\u001b[0m\n\u001b[1;32m      1\u001b[0m \u001b[0mtop_n_indices\u001b[0m \u001b[0;34m=\u001b[0m \u001b[0mfind_reviews\u001b[0m\u001b[0;34m(\u001b[0m\u001b[0;34m'I love hard scifi'\u001b[0m\u001b[0;34m,\u001b[0m \u001b[0mreviews\u001b[0m\u001b[0;34m,\u001b[0m \u001b[0;36m10\u001b[0m\u001b[0;34m)\u001b[0m\u001b[0;34m\u001b[0m\u001b[0;34m\u001b[0m\u001b[0m\n\u001b[0;32m----> 2\u001b[0;31m \u001b[0murl\u001b[0m \u001b[0;34m=\u001b[0m \u001b[0mfind_url\u001b[0m\u001b[0;34m(\u001b[0m\u001b[0;34m'I love hard scifi'\u001b[0m\u001b[0;34m,\u001b[0m \u001b[0mreviews\u001b[0m\u001b[0;34m,\u001b[0m \u001b[0mbooks\u001b[0m\u001b[0;34m,\u001b[0m \u001b[0;36m10\u001b[0m\u001b[0;34m)\u001b[0m\u001b[0;34m\u001b[0m\u001b[0;34m\u001b[0m\u001b[0m\n\u001b[0m\u001b[1;32m      3\u001b[0m \u001b[0mcommon_titles\u001b[0m \u001b[0;34m=\u001b[0m \u001b[0;34m[\u001b[0m\u001b[0;34m]\u001b[0m\u001b[0;34m\u001b[0m\u001b[0;34m\u001b[0m\u001b[0m\n\u001b[1;32m      4\u001b[0m \u001b[0;32mfor\u001b[0m \u001b[0mi\u001b[0m \u001b[0;32min\u001b[0m \u001b[0mreviews\u001b[0m\u001b[0;34m.\u001b[0m\u001b[0miloc\u001b[0m\u001b[0;34m[\u001b[0m\u001b[0mtop_n_indices\u001b[0m\u001b[0;34m]\u001b[0m\u001b[0;34m.\u001b[0m\u001b[0mindex\u001b[0m\u001b[0;34m:\u001b[0m\u001b[0;34m\u001b[0m\u001b[0;34m\u001b[0m\u001b[0m\n\u001b[1;32m      5\u001b[0m     \u001b[0mcommon_titles\u001b[0m\u001b[0;34m.\u001b[0m\u001b[0mappend\u001b[0m\u001b[0;34m(\u001b[0m\u001b[0mbook_recommends\u001b[0m\u001b[0;34m[\u001b[0m\u001b[0mbook_recommends\u001b[0m\u001b[0;34m.\u001b[0m\u001b[0mbook_id\u001b[0m \u001b[0;34m==\u001b[0m \u001b[0;34m(\u001b[0m\u001b[0mreviews\u001b[0m\u001b[0;34m[\u001b[0m\u001b[0mreviews\u001b[0m\u001b[0;34m.\u001b[0m\u001b[0mindex\u001b[0m \u001b[0;34m==\u001b[0m \u001b[0mi\u001b[0m\u001b[0;34m]\u001b[0m\u001b[0;34m.\u001b[0m\u001b[0mbook_id\u001b[0m\u001b[0;34m.\u001b[0m\u001b[0mtolist\u001b[0m\u001b[0;34m(\u001b[0m\u001b[0;34m)\u001b[0m\u001b[0;34m[\u001b[0m\u001b[0;36m0\u001b[0m\u001b[0;34m]\u001b[0m\u001b[0;34m)\u001b[0m\u001b[0;34m]\u001b[0m\u001b[0;34m.\u001b[0m\u001b[0mtitle\u001b[0m\u001b[0;34m.\u001b[0m\u001b[0mtolist\u001b[0m\u001b[0;34m(\u001b[0m\u001b[0;34m)\u001b[0m\u001b[0;34m[\u001b[0m\u001b[0;36m0\u001b[0m\u001b[0;34m]\u001b[0m\u001b[0;34m)\u001b[0m\u001b[0;34m\u001b[0m\u001b[0;34m\u001b[0m\u001b[0m\n",
      "\u001b[0;31mNameError\u001b[0m: name 'find_url' is not defined"
     ]
    }
   ],
   "source": [
    "top_n_indices = find_reviews('I love hard scifi', reviews, 10)\n",
    "url = find_url('I love hard scifi', reviews, books, 10)\n",
    "common_titles = []\n",
    "for i in reviews.iloc[top_n_indices].index:\n",
    "    common_titles.append(book_recommends[book_recommends.book_id == (reviews[reviews.index == i].book_id.tolist()[0])].title.tolist()[0])a\n",
    "    print('Book title:', res[res.book_id == (reviews[reviews.index == i].book_id.tolist()[0])].title.tolist()[0])\n",
    "    print('Author:', res[res.book_id == (reviews[reviews.index == i].book_id.tolist()[0])].name.tolist()[0])\n",
    "    print('Weighted Score:', books[books.book_id.isin(reviews[reviews.index == i].book_id.tolist())].weighted_score.tolist()[0])\n",
    "    print('Similar review:', reviews[reviews.index == i].review_text.tolist()[0])\n",
    "    print('Goodreads Link:', 'https://www.goodreads.com/book/show/' + url[url.book_id == (reviews[reviews.index == i].book_id.tolist()[0])].for_url.tolist()[0])\n",
    "    print('\\n\\n')"
   ]
  },
  {
   "cell_type": "code",
   "execution_count": 40,
   "metadata": {},
   "outputs": [],
   "source": [
    "res['for_url'] = res['book_id'].astype(str) + '.' + res['title'].replace(r'\\(.*$', '', regex = True)"
   ]
  },
  {
   "cell_type": "code",
   "execution_count": 2,
   "metadata": {},
   "outputs": [],
   "source": [
    "reviews_for_cluster = pd.read_csv('/media/einhard/Seagate Expansion Drive/3380_data/data/Processed/reviews_EDA.csv').drop('Unnamed: 0', axis=1)"
   ]
  },
  {
   "cell_type": "code",
   "execution_count": 3,
   "metadata": {},
   "outputs": [],
   "source": [
    "reviews_for_cluster = reviews_for_cluster[['book_id', 'review_text']]"
   ]
  },
  {
   "cell_type": "code",
   "execution_count": 9,
   "metadata": {},
   "outputs": [
    {
     "output_type": "stream",
     "name": "stdout",
     "text": [
      "              title          name\n0  Ready Player One  Ernest Cline\n                             title              name\n1  Ender's Game (Ender's Saga, #1)  Orson Scott Card\n                     title        name\n2  Wool Omnibus (Silo, #1)  Hugh Howey\n                title                    name\n3  Obsidian (Lux, #1)  Jennifer L. Armentrout\n                            title         name\n4  Hyperion (Hyperion Cantos, #1)  Dan Simmons\n              title               name\n5  The Dispossessed  Ursula K. Le Guin\n             title                   name\n6  Spin (Spin, #1)  Robert Charles Wilson\n                  title                name\n7  The Door Into Summer  Robert A. Heinlein\n                                    title        name\n8  Ancillary Justice (Imperial Radch, #1)  Ann Leckie\n                              title          name\n9  The Iron King (The Iron Fey, #1)  Julie Kagawa\n"
     ]
    }
   ],
   "source": [
    "for idx, i in enumerate(res.book_id):\n",
    "    print(res[res.book_id==i][['title','name']])"
   ]
  },
  {
   "source": [
    "import pandas as pd\n",
    "test = pd.read_json('/media/einhard/Seagate Expansion Drive/3380_data/data/Filtered books/20603758.Ready Player One.json')"
   ],
   "cell_type": "markdown",
   "metadata": {}
  },
  {
   "cell_type": "code",
   "execution_count": 16,
   "metadata": {},
   "outputs": [],
   "source": [
    "from collections import Counter"
   ]
  },
  {
   "source": [
    "# Creating cluster function"
   ],
   "cell_type": "markdown",
   "metadata": {}
  },
  {
   "cell_type": "code",
   "execution_count": 1,
   "metadata": {},
   "outputs": [
    {
     "output_type": "execute_result",
     "data": {
      "text/plain": [
       "         831635                    Recommended by our pediatrician\n",
       "0         27539  6 of my smartest friends rated this 4 or highe...\n",
       "1         54499  A great finish to the D'Artagnan series - defi...\n",
       "2         77566  Seven amazing stories. Each one you think can'...\n",
       "3        361459  Highly recommended if you are curious about Ma...\n",
       "4        256008  Despite having a name that sounds like its a c...\n",
       "...         ...                                                ...\n",
       "1392327  170210  I loved this book. The author's politics are a...\n",
       "1392328  140082  I loved this book. The author's politics are a...\n",
       "1392329  110494  I loved this book. The author's politics are a...\n",
       "1392330  301082  I loved this book. The author's politics are a...\n",
       "1392331  136251  I loved this last book in the series! I laughe...\n",
       "\n",
       "[1392332 rows x 2 columns]"
      ],
      "text/html": "<div>\n<style scoped>\n    .dataframe tbody tr th:only-of-type {\n        vertical-align: middle;\n    }\n\n    .dataframe tbody tr th {\n        vertical-align: top;\n    }\n\n    .dataframe thead th {\n        text-align: right;\n    }\n</style>\n<table border=\"1\" class=\"dataframe\">\n  <thead>\n    <tr style=\"text-align: right;\">\n      <th></th>\n      <th>831635</th>\n      <th>Recommended by our pediatrician</th>\n    </tr>\n  </thead>\n  <tbody>\n    <tr>\n      <th>0</th>\n      <td>27539</td>\n      <td>6 of my smartest friends rated this 4 or highe...</td>\n    </tr>\n    <tr>\n      <th>1</th>\n      <td>54499</td>\n      <td>A great finish to the D'Artagnan series - defi...</td>\n    </tr>\n    <tr>\n      <th>2</th>\n      <td>77566</td>\n      <td>Seven amazing stories. Each one you think can'...</td>\n    </tr>\n    <tr>\n      <th>3</th>\n      <td>361459</td>\n      <td>Highly recommended if you are curious about Ma...</td>\n    </tr>\n    <tr>\n      <th>4</th>\n      <td>256008</td>\n      <td>Despite having a name that sounds like its a c...</td>\n    </tr>\n    <tr>\n      <th>...</th>\n      <td>...</td>\n      <td>...</td>\n    </tr>\n    <tr>\n      <th>1392327</th>\n      <td>170210</td>\n      <td>I loved this book. The author's politics are a...</td>\n    </tr>\n    <tr>\n      <th>1392328</th>\n      <td>140082</td>\n      <td>I loved this book. The author's politics are a...</td>\n    </tr>\n    <tr>\n      <th>1392329</th>\n      <td>110494</td>\n      <td>I loved this book. The author's politics are a...</td>\n    </tr>\n    <tr>\n      <th>1392330</th>\n      <td>301082</td>\n      <td>I loved this book. The author's politics are a...</td>\n    </tr>\n    <tr>\n      <th>1392331</th>\n      <td>136251</td>\n      <td>I loved this last book in the series! I laughe...</td>\n    </tr>\n  </tbody>\n</table>\n<p>1392332 rows × 2 columns</p>\n</div>"
     },
     "metadata": {},
     "execution_count": 1
    }
   ],
   "source": [
    "import pandas as pd\n",
    "pd.read_csv('/media/einhard/Seagate Expansion Drive/3380_data/data/Processed/reviews_for_cluster.csv')"
   ]
  },
  {
   "cell_type": "code",
   "execution_count": 79,
   "metadata": {},
   "outputs": [
    {
     "output_type": "execute_result",
     "data": {
      "text/plain": [
       "[25499718]"
      ]
     },
     "metadata": {},
     "execution_count": 79
    }
   ],
   "source": [
    "books[books.title.isin(['Children of Time'])].book_id.tolist()"
   ]
  },
  {
   "cell_type": "code",
   "execution_count": 4,
   "metadata": {},
   "outputs": [],
   "source": [
    "def filter_reviews(reviews_df, books_df, min_review_length=30, max_review_length=90):\n",
    "    reviews_df.review_text.dropna(inplace=True)\n",
    "    reviews_df = reviews_df[reviews_df.book_id.isin(books_df.book_id)]\n",
    "    reviews_df = reviews_df[(reviews_df.review_text.str.len() < max_review_length) & (reviews_df.review_text.str.len() > min_review_length)]\n",
    "\n",
    "    # Remove reviews that specify rating in body of text\n",
    "    reviews_df = reviews_df[~reviews_df.review_text.str.contains(r'\\d\\sstar', case=False, regex=True, na=False)]\n",
    "    reviews_df = reviews_df[~reviews_df.review_text.str.contains(r'\\d\\/\\d', case=False, regex=True, na=False)]\n",
    "    reviews_df = reviews_df[~reviews_df.review_text.str.contains(r'\\d\\.\\d', case=False, regex=True, na=False)]\n",
    "    reviews_df = reviews_df[~reviews_df.review_text.str.contains(r'\\d\\S+\\D', case=False, regex=True, na=False)]\n",
    "    reviews_df = reviews_df[~reviews_df.review_text.str.contains(r'spoiler', case=False, regex=True, na=False)]\n",
    "\n",
    "    # Remove reviews that contain link to other websites\n",
    "    reviews_df = reviews_df[~reviews_df.review_text.str.contains(r'http\\S+', case=False, regex=True, na=False)]\n",
    "    reviews_df = reviews_df[~reviews_df.review_text.str.contains(r'www\\S+', case=False, regex=True, na=False)]\n",
    "    return reviews_df"
   ]
  },
  {
   "cell_type": "code",
   "execution_count": 11,
   "metadata": {},
   "outputs": [
    {
     "output_type": "execute_result",
     "data": {
      "text/plain": [
       "          book_id                                        review_text\n",
       "0        24375664  Mind blowingly cool. Best science fiction I've...\n",
       "1        18245960  This is a special book. It started slow for ab...\n",
       "2         6392944  I haven't read a fun mystery book in a while a...\n",
       "3        28114110  Kevin Kelly, who is a Wired co-founder, lays o...\n",
       "4           16981  Recommended by Don Katz. Avail for free in Dec...\n",
       "...           ...                                                ...\n",
       "9023130     40102  This was a really great book about those first...\n",
       "9023131  16165851  Interesting narrative on the growth story of R...\n",
       "9023132   6114128  Successful people are objects of curiosity to ...\n",
       "9023133    186224  One of the finest books that captures the esse...\n",
       "9023134   1301588  Very interesting to see the breadth of books r...\n",
       "\n",
       "[9023135 rows x 2 columns]"
      ],
      "text/html": "<div>\n<style scoped>\n    .dataframe tbody tr th:only-of-type {\n        vertical-align: middle;\n    }\n\n    .dataframe tbody tr th {\n        vertical-align: top;\n    }\n\n    .dataframe thead th {\n        text-align: right;\n    }\n</style>\n<table border=\"1\" class=\"dataframe\">\n  <thead>\n    <tr style=\"text-align: right;\">\n      <th></th>\n      <th>book_id</th>\n      <th>review_text</th>\n    </tr>\n  </thead>\n  <tbody>\n    <tr>\n      <th>0</th>\n      <td>24375664</td>\n      <td>Mind blowingly cool. Best science fiction I've...</td>\n    </tr>\n    <tr>\n      <th>1</th>\n      <td>18245960</td>\n      <td>This is a special book. It started slow for ab...</td>\n    </tr>\n    <tr>\n      <th>2</th>\n      <td>6392944</td>\n      <td>I haven't read a fun mystery book in a while a...</td>\n    </tr>\n    <tr>\n      <th>3</th>\n      <td>28114110</td>\n      <td>Kevin Kelly, who is a Wired co-founder, lays o...</td>\n    </tr>\n    <tr>\n      <th>4</th>\n      <td>16981</td>\n      <td>Recommended by Don Katz. Avail for free in Dec...</td>\n    </tr>\n    <tr>\n      <th>...</th>\n      <td>...</td>\n      <td>...</td>\n    </tr>\n    <tr>\n      <th>9023130</th>\n      <td>40102</td>\n      <td>This was a really great book about those first...</td>\n    </tr>\n    <tr>\n      <th>9023131</th>\n      <td>16165851</td>\n      <td>Interesting narrative on the growth story of R...</td>\n    </tr>\n    <tr>\n      <th>9023132</th>\n      <td>6114128</td>\n      <td>Successful people are objects of curiosity to ...</td>\n    </tr>\n    <tr>\n      <th>9023133</th>\n      <td>186224</td>\n      <td>One of the finest books that captures the esse...</td>\n    </tr>\n    <tr>\n      <th>9023134</th>\n      <td>1301588</td>\n      <td>Very interesting to see the breadth of books r...</td>\n    </tr>\n  </tbody>\n</table>\n<p>9023135 rows × 2 columns</p>\n</div>"
     },
     "metadata": {},
     "execution_count": 11
    }
   ],
   "source": [
    "reviews_for_cluster"
   ]
  },
  {
   "cell_type": "code",
   "execution_count": 12,
   "metadata": {},
   "outputs": [],
   "source": [
    "reviews_for_cluster = filter_reviews(reviews_for_cluster, books, 30, 350)"
   ]
  },
  {
   "cell_type": "code",
   "execution_count": 13,
   "metadata": {},
   "outputs": [
    {
     "output_type": "execute_result",
     "data": {
      "text/plain": [
       "         book_id                                        review_text\n",
       "48        831635                    Recommended by our pediatrician\n",
       "63         27539  6 of my smartest friends rated this 4 or highe...\n",
       "67         54499  A great finish to the D'Artagnan series - defi...\n",
       "85         77566  Seven amazing stories. Each one you think can'...\n",
       "87        361459  Highly recommended if you are curious about Ma...\n",
       "...          ...                                                ...\n",
       "9023121   170210  I loved this book. The author's politics are a...\n",
       "9023122   140082  I loved this book. The author's politics are a...\n",
       "9023123   110494  I loved this book. The author's politics are a...\n",
       "9023124   301082  I loved this book. The author's politics are a...\n",
       "9023128   136251  I loved this last book in the series! I laughe...\n",
       "\n",
       "[1392333 rows x 2 columns]"
      ],
      "text/html": "<div>\n<style scoped>\n    .dataframe tbody tr th:only-of-type {\n        vertical-align: middle;\n    }\n\n    .dataframe tbody tr th {\n        vertical-align: top;\n    }\n\n    .dataframe thead th {\n        text-align: right;\n    }\n</style>\n<table border=\"1\" class=\"dataframe\">\n  <thead>\n    <tr style=\"text-align: right;\">\n      <th></th>\n      <th>book_id</th>\n      <th>review_text</th>\n    </tr>\n  </thead>\n  <tbody>\n    <tr>\n      <th>48</th>\n      <td>831635</td>\n      <td>Recommended by our pediatrician</td>\n    </tr>\n    <tr>\n      <th>63</th>\n      <td>27539</td>\n      <td>6 of my smartest friends rated this 4 or highe...</td>\n    </tr>\n    <tr>\n      <th>67</th>\n      <td>54499</td>\n      <td>A great finish to the D'Artagnan series - defi...</td>\n    </tr>\n    <tr>\n      <th>85</th>\n      <td>77566</td>\n      <td>Seven amazing stories. Each one you think can'...</td>\n    </tr>\n    <tr>\n      <th>87</th>\n      <td>361459</td>\n      <td>Highly recommended if you are curious about Ma...</td>\n    </tr>\n    <tr>\n      <th>...</th>\n      <td>...</td>\n      <td>...</td>\n    </tr>\n    <tr>\n      <th>9023121</th>\n      <td>170210</td>\n      <td>I loved this book. The author's politics are a...</td>\n    </tr>\n    <tr>\n      <th>9023122</th>\n      <td>140082</td>\n      <td>I loved this book. The author's politics are a...</td>\n    </tr>\n    <tr>\n      <th>9023123</th>\n      <td>110494</td>\n      <td>I loved this book. The author's politics are a...</td>\n    </tr>\n    <tr>\n      <th>9023124</th>\n      <td>301082</td>\n      <td>I loved this book. The author's politics are a...</td>\n    </tr>\n    <tr>\n      <th>9023128</th>\n      <td>136251</td>\n      <td>I loved this last book in the series! I laughe...</td>\n    </tr>\n  </tbody>\n</table>\n<p>1392333 rows × 2 columns</p>\n</div>"
     },
     "metadata": {},
     "execution_count": 13
    }
   ],
   "source": [
    "reviews_for_cluster"
   ]
  },
  {
   "cell_type": "code",
   "execution_count": 14,
   "metadata": {},
   "outputs": [],
   "source": [
    "reviews_for_cluster.to_csv('/media/einhard/Seagate Expansion Drive/3380_data/data/Processed/reviews_for_cluster.csv')"
   ]
  },
  {
   "cell_type": "code",
   "execution_count": 16,
   "metadata": {},
   "outputs": [
    {
     "output_type": "execute_result",
     "data": {
      "text/plain": [
       "         book_id                                        review_text\n",
       "0         831635                    Recommended by our pediatrician\n",
       "1          27539  6 of my smartest friends rated this 4 or highe...\n",
       "2          54499  A great finish to the D'Artagnan series - defi...\n",
       "3          77566  Seven amazing stories. Each one you think can'...\n",
       "4         361459  Highly recommended if you are curious about Ma...\n",
       "...          ...                                                ...\n",
       "1392328   170210  I loved this book. The author's politics are a...\n",
       "1392329   140082  I loved this book. The author's politics are a...\n",
       "1392330   110494  I loved this book. The author's politics are a...\n",
       "1392331   301082  I loved this book. The author's politics are a...\n",
       "1392332   136251  I loved this last book in the series! I laughe...\n",
       "\n",
       "[1392333 rows x 2 columns]"
      ],
      "text/html": "<div>\n<style scoped>\n    .dataframe tbody tr th:only-of-type {\n        vertical-align: middle;\n    }\n\n    .dataframe tbody tr th {\n        vertical-align: top;\n    }\n\n    .dataframe thead th {\n        text-align: right;\n    }\n</style>\n<table border=\"1\" class=\"dataframe\">\n  <thead>\n    <tr style=\"text-align: right;\">\n      <th></th>\n      <th>book_id</th>\n      <th>review_text</th>\n    </tr>\n  </thead>\n  <tbody>\n    <tr>\n      <th>0</th>\n      <td>831635</td>\n      <td>Recommended by our pediatrician</td>\n    </tr>\n    <tr>\n      <th>1</th>\n      <td>27539</td>\n      <td>6 of my smartest friends rated this 4 or highe...</td>\n    </tr>\n    <tr>\n      <th>2</th>\n      <td>54499</td>\n      <td>A great finish to the D'Artagnan series - defi...</td>\n    </tr>\n    <tr>\n      <th>3</th>\n      <td>77566</td>\n      <td>Seven amazing stories. Each one you think can'...</td>\n    </tr>\n    <tr>\n      <th>4</th>\n      <td>361459</td>\n      <td>Highly recommended if you are curious about Ma...</td>\n    </tr>\n    <tr>\n      <th>...</th>\n      <td>...</td>\n      <td>...</td>\n    </tr>\n    <tr>\n      <th>1392328</th>\n      <td>170210</td>\n      <td>I loved this book. The author's politics are a...</td>\n    </tr>\n    <tr>\n      <th>1392329</th>\n      <td>140082</td>\n      <td>I loved this book. The author's politics are a...</td>\n    </tr>\n    <tr>\n      <th>1392330</th>\n      <td>110494</td>\n      <td>I loved this book. The author's politics are a...</td>\n    </tr>\n    <tr>\n      <th>1392331</th>\n      <td>301082</td>\n      <td>I loved this book. The author's politics are a...</td>\n    </tr>\n    <tr>\n      <th>1392332</th>\n      <td>136251</td>\n      <td>I loved this last book in the series! I laughe...</td>\n    </tr>\n  </tbody>\n</table>\n<p>1392333 rows × 2 columns</p>\n</div>"
     },
     "metadata": {},
     "execution_count": 16
    }
   ],
   "source": [
    "pd.read_csv('/media/einhard/Seagate Expansion Drive/3380_data/data/Processed/reviews_for_cluster.csv').drop('Unnamed: 0', axis=1)"
   ]
  },
  {
   "cell_type": "code",
   "execution_count": 80,
   "metadata": {},
   "outputs": [],
   "source": [
    "from sklearn.cluster import KMeans"
   ]
  },
  {
   "cell_type": "code",
   "execution_count": 150,
   "metadata": {},
   "outputs": [],
   "source": [
    "titles_list = ['Children of Time']\n",
    "input_reviews = reviews_for_cluster[reviews_for_cluster.book_id.isin(books[books.title.isin(titles_list)].book_id.tolist())]"
   ]
  },
  {
   "cell_type": "code",
   "execution_count": 151,
   "metadata": {},
   "outputs": [
    {
     "output_type": "execute_result",
     "data": {
      "text/plain": [
       "          book_id                                        review_text\n",
       "534038   25499718        Really liked this one. Great world building\n",
       "635878   25499718            Fantastic and original science fiction.\n",
       "651656   25499718  Very enjoyable book. Unexpected ending. Settin...\n",
       "940315   25499718  I really enjoyed this book. I read a lot of sc...\n",
       "1013949  25499718  Rating: Wow, really really liked it! \\n Genera...\n",
       "...           ...                                                ...\n",
       "8140914  25499718  Read as much as I am going/willing to .... \\n ...\n",
       "8446223  25499718  This book was fucking amazing. Such a unique s...\n",
       "8500422  25499718  I loved it, couldn't wait to finish it. \\n The...\n",
       "8539656  25499718  A fascinating book, though a little long winde...\n",
       "8868914  25499718  Yesterday I had to break a tiny web that had a...\n",
       "\n",
       "[64 rows x 2 columns]"
      ],
      "text/html": "<div>\n<style scoped>\n    .dataframe tbody tr th:only-of-type {\n        vertical-align: middle;\n    }\n\n    .dataframe tbody tr th {\n        vertical-align: top;\n    }\n\n    .dataframe thead th {\n        text-align: right;\n    }\n</style>\n<table border=\"1\" class=\"dataframe\">\n  <thead>\n    <tr style=\"text-align: right;\">\n      <th></th>\n      <th>book_id</th>\n      <th>review_text</th>\n    </tr>\n  </thead>\n  <tbody>\n    <tr>\n      <th>534038</th>\n      <td>25499718</td>\n      <td>Really liked this one. Great world building</td>\n    </tr>\n    <tr>\n      <th>635878</th>\n      <td>25499718</td>\n      <td>Fantastic and original science fiction.</td>\n    </tr>\n    <tr>\n      <th>651656</th>\n      <td>25499718</td>\n      <td>Very enjoyable book. Unexpected ending. Settin...</td>\n    </tr>\n    <tr>\n      <th>940315</th>\n      <td>25499718</td>\n      <td>I really enjoyed this book. I read a lot of sc...</td>\n    </tr>\n    <tr>\n      <th>1013949</th>\n      <td>25499718</td>\n      <td>Rating: Wow, really really liked it! \\n Genera...</td>\n    </tr>\n    <tr>\n      <th>...</th>\n      <td>...</td>\n      <td>...</td>\n    </tr>\n    <tr>\n      <th>8140914</th>\n      <td>25499718</td>\n      <td>Read as much as I am going/willing to .... \\n ...</td>\n    </tr>\n    <tr>\n      <th>8446223</th>\n      <td>25499718</td>\n      <td>This book was fucking amazing. Such a unique s...</td>\n    </tr>\n    <tr>\n      <th>8500422</th>\n      <td>25499718</td>\n      <td>I loved it, couldn't wait to finish it. \\n The...</td>\n    </tr>\n    <tr>\n      <th>8539656</th>\n      <td>25499718</td>\n      <td>A fascinating book, though a little long winde...</td>\n    </tr>\n    <tr>\n      <th>8868914</th>\n      <td>25499718</td>\n      <td>Yesterday I had to break a tiny web that had a...</td>\n    </tr>\n  </tbody>\n</table>\n<p>64 rows × 2 columns</p>\n</div>"
     },
     "metadata": {},
     "execution_count": 151
    }
   ],
   "source": [
    "input_books"
   ]
  },
  {
   "cell_type": "code",
   "execution_count": 152,
   "metadata": {},
   "outputs": [],
   "source": [
    "book_title = 'Children of Time'\n",
    "review_sentences = reviews_for_cluster[reviews_for_cluster.book_id.isin(books[books.title.isin([book_title])].book_id.tolist())]"
   ]
  },
  {
   "cell_type": "code",
   "execution_count": 153,
   "metadata": {},
   "outputs": [
    {
     "output_type": "execute_result",
     "data": {
      "text/plain": [
       "book_id        62\n",
       "review_text    62\n",
       "dtype: int64"
      ]
     },
     "metadata": {},
     "execution_count": 153
    }
   ],
   "source": [
    "review_sentences.count()"
   ]
  },
  {
   "cell_type": "code",
   "execution_count": 186,
   "metadata": {},
   "outputs": [],
   "source": [
    "def embedSentences(book_title):\n",
    "\n",
    "    sentences = reviews_for_cluster[reviews_for_cluster.book_id.isin(books[books.title.isin([book_title])].book_id.tolist())]['review_text']\n",
    "    sentence_vectors = embed(sentences)\n",
    "    return sentences, sentence_vectors\n",
    "\n",
    "def findClusters(sentences, sentence_vectors, k, n_results):\n",
    "    kmeans = KMeans(n_clusters=k)\n",
    "    kmeans.fit(sentence_vectors)\n",
    "    clusters = pd.DataFrame()\n",
    "    for i in range(k):\n",
    "        centre = kmeans.cluster_centers_[i]\n",
    "        ips = np.inner(centre, sentence_vectors)\n",
    "        idx = pd.Series(ips).nlargest(n_results).index\n",
    "        clusteredSentences = list(sentences.iloc[idx])\n",
    "        clusters.append(sentences.iloc[idx])\n",
    "\n",
    "        st.write(f'Cluster #{i+1} sentences:\\n')\n",
    "        st.write(*clusteredSentences, sep='\\n\\n')\n",
    "        print('\\n')\n",
    "    return clusters"
   ]
  },
  {
   "cell_type": "code",
   "execution_count": 187,
   "metadata": {},
   "outputs": [],
   "source": [
    "from sklearn.cluster import KMeans"
   ]
  },
  {
   "cell_type": "code",
   "execution_count": 188,
   "metadata": {},
   "outputs": [],
   "source": [
    "sentences, sentence_vectors = load_sentences(book_title)"
   ]
  },
  {
   "cell_type": "code",
   "execution_count": 192,
   "metadata": {},
   "outputs": [
    {
     "output_type": "stream",
     "name": "stdout",
     "text": [
      "Cluster #1 sentences:\n\nSpiders are better than people. I love it.\n\ndnf \n Got horrible nightmares from the chapters with the giant jumping spiders ... could not read on :(\n\nWheeeeeeeeeeeeeeeeeeeeeeeeeeeeeeeeeeeeeeeeeeeeeeeeeeeeee!!!! \n Need I say more?\n\n\nCluster #2 sentences:\n\nA novel take on first contact, and evolution. A nice book, that reminded me of some really old science fiction, yet which balanced it with the new. Good stuff.\n\nA balanced combination of generation spanning sci-fi, ideas and new takes on technology. Best book I've read in a while.\n\nThis book takes classic science fiction like Asimov and Clarke and brings it into the modern time. The ideas are both old and new, the writing is fresh and engaging, the setting is solid and convincing, and the end result is one of the better works of classic sci-fi I've read in a long time.\n\n\nCluster #3 sentences:\n\nGreat book! I really enjoyed reading it and I'll probably be thinking about it for some time after finishing it. It may even be something I want to re-read in the future.\n\nI really enjoyed this book. I read a lot of sci-fi and this was up there with the best. I'm not going to go into any plot details, that exists in lots of other places elsewhere. Suffice to say I would recommend this book as much as any other of the great books I've read.\n\nOne of the best books I've read in a long time. Original idea and a complex story that still doesn't overshoot. Highly recommended.\n\n\nCluster #4 sentences:\n\nLong book and I thought parts of it dragged. Overall, it was an interesting and satisfying hard sci-fi story. And, the aliens were BIG, intelligent spiders!! *shudder*\n\nWhat a fantastic read. Truly creative. Sentient spiders anyone? \n Highly recommended and the best sci-fi book I've ever read.\n\nThis was an interesting read. While the elements of the story are not original, they are very well put together. \n I wished the spiders point of view would be more alien, but it was a worthy attempt at it.\n\n\nCluster #5 sentences:\n\nA very unique and well written story.\n\nA great story, a very quick read\n\nReally liked this one. Great world building\n\n\nCluster #6 sentences:\n\nThe first really good book I've read in a long time. This is masterfully written. I did not want to put it down. I loved getting the story from the perspective of all the parties involved. Tchaikovsky does an amazing job writing from the \"alien\" viewpoint. I thoroughly enjoyed this and hope that he writes more sci-fi!!\n\nI really enjoyed this book. I read a lot of sci-fi and this was up there with the best. I'm not going to go into any plot details, that exists in lots of other places elsewhere. Suffice to say I would recommend this book as much as any other of the great books I've read.\n\nThis book was fucking amazing. Such a unique story that was executed so well. I am in awe of all the thought and inventiveness that went into Children of Time. The structure of the human and spider timeline was so realistically crafted and told in such an enjoyable way. Easily one of the best Sci Fi novels I've ever read.\n\n\nCluster #7 sentences:\n\nPretty much blew my mind and got me thinking about everything I thought I knew...\n\nI was surprised at how good this was. \n That is not something I experience very often.\n\nUp there with Banks and Hamilton for me. Just had to know how it all turned out!\n\n\nCluster #8 sentences:\n\nStunning. Hugo award winner in waiting.\n\nSuper classic SF in the tradition of David Brin (who is remembered in the book!). It certainly deserved the Arthur C Clarke Award. I am very surprised it was not nominated for a Hugo, but I had not even heard of it until recently!\n\nFantastic and original science fiction.\n\n\n"
     ]
    }
   ],
   "source": [
    "data = findClusters(sentences, sentence_vectors, k=8, n_results=3)"
   ]
  },
  {
   "cell_type": "code",
   "execution_count": 190,
   "metadata": {},
   "outputs": [
    {
     "output_type": "execute_result",
     "data": {
      "text/plain": [
       "['I was surprised at how good this was. \\n That is not something I experience very often.',\n",
       " 'Pretty much blew my mind and got me thinking about everything I thought I knew...',\n",
       " 'Up there with Banks and Hamilton for me. Just had to know how it all turned out!']"
      ]
     },
     "metadata": {},
     "execution_count": 190
    }
   ],
   "source": [
    "data"
   ]
  },
  {
   "cell_type": "code",
   "execution_count": 45,
   "metadata": {},
   "outputs": [],
   "source": [
    "def load_sentences(book_title):\n",
    "    '''\n",
    "    Function to load and embed a book's sentences\n",
    "    '''\n",
    "    # Copy sentence column to new variable\n",
    "    sentences = input_books['review_text']\n",
    "\n",
    "    # Vectorize sentences\n",
    "    sentence_vectors = embed(sentences)\n",
    "    \n",
    "    return sentences, sentence_vectors\n",
    "\n",
    "def get_clusters(sentences, sentence_vectors, k, n):\n",
    "    '''\n",
    "    Function to extract the n most representative sentences from k clusters\n",
    "    '''\n",
    "\n",
    "    # Instantiate the model\n",
    "    kmeans_model = KMeans(n_clusters=k)\n",
    "\n",
    "    # Fit the model\n",
    "    kmeans_model.fit(sentence_array)\n",
    "    \n",
    "    # Loop through number of clusters\n",
    "    for i in range(k):\n",
    "\n",
    "        # Define cluster centre\n",
    "        centre = kmeans_model.cluster_centers_[i]\n",
    "\n",
    "        # Calculate inner product of cluster centre and sentence vectors\n",
    "        ips = np.inner(centre, sentence_vectors)\n",
    "\n",
    "        # Find the sentences with the highest inner products\n",
    "        top_indices = pd.Series(ips).nlargest(n).index\n",
    "        top_sentences = list(sentences.iloc[top_indices])"
   ]
  },
  {
   "cell_type": "code",
   "execution_count": 28,
   "metadata": {},
   "outputs": [],
   "source": [
    "book_sentences, book_review_vectors = load_sentences(input_books)"
   ]
  },
  {
   "cell_type": "code",
   "execution_count": 31,
   "metadata": {},
   "outputs": [
    {
     "output_type": "stream",
     "name": "stdout",
     "text": [
      "Cluster #1 sentences:\n\nReally liked this one. Great world building\n\nVery enjoyable book. Unexpected ending. Setting the stage for more.\n\nBrilliant! I wish there were sequels!\n\nPretty much blew my mind and got me thinking about everything I thought I knew...\n\nA very unique and well written story.\n\nA great story, a very quick read\n\nI was surprised at how good this was. \n That is not something I experience very often.\n\nExcellent! Can't wait to read more books by this author!!\n\n\nCluster #2 sentences:\n\nExcellent! Can't wait to read more books by this author!!\n\nBrilliant! I wish there were sequels!\n\nGood read, reminded me of Vernor Vinge and his Zones of thought series.\n\nVery enjoyable book. Unexpected ending. Setting the stage for more.\n\nReally liked this one. Great world building\n\nExcellent novel, interesting concepts that make you think.\n\nA very unique and well written story.\n\nA great story, a very quick read\n\n\nCluster #3 sentences:\n\nExcellent! Can't wait to read more books by this author!!\n\nGood read, reminded me of Vernor Vinge and his Zones of thought series.\n\nA great story, a very quick read\n\nExcellent novel, interesting concepts that make you think.\n\nVery enjoyable book. Unexpected ending. Setting the stage for more.\n\nReally liked this one. Great world building\n\nA very unique and well written story.\n\nBrilliant! I wish there were sequels!\n\n\nCluster #4 sentences:\n\nA very unique and well written story.\n\nA great story, a very quick read\n\nReally liked this one. Great world building\n\nVery enjoyable book. Unexpected ending. Setting the stage for more.\n\nExcellent novel, interesting concepts that make you think.\n\nVery imaginative. Well crafted and original. Highly recommended.\n\nExcellent! Can't wait to read more books by this author!!\n\nGood read, reminded me of Vernor Vinge and his Zones of thought series.\n\n\nCluster #5 sentences:\n\nExcellent! Can't wait to read more books by this author!!\n\nBrilliant! I wish there were sequels!\n\nReally liked this one. Great world building\n\nVery enjoyable book. Unexpected ending. Setting the stage for more.\n\nWheeeeeeeeeeeeeeeeeeeeeeeeeeeeeeeeeeeeeeeeeeeeeeeeeeeeee!!!! \n Need I say more?\n\nA very unique and well written story.\n\nExcellent novel, interesting concepts that make you think.\n\nA great story, a very quick read\n\n\n"
     ]
    }
   ],
   "source": [
    "get_clusters(book_sentences, book_review_vectors, k=5, n=8)"
   ]
  },
  {
   "source": [
    "# Creating summary names"
   ],
   "cell_type": "markdown",
   "metadata": {}
  },
  {
   "cell_type": "code",
   "execution_count": 1,
   "metadata": {},
   "outputs": [],
   "source": [
    "import gensim"
   ]
  },
  {
   "cell_type": "code",
   "execution_count": null,
   "metadata": {},
   "outputs": [],
   "source": []
  }
 ]
}
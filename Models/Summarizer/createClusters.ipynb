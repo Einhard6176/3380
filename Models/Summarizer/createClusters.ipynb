{
 "metadata": {
  "language_info": {
   "codemirror_mode": {
    "name": "ipython",
    "version": 3
   },
   "file_extension": ".py",
   "mimetype": "text/x-python",
   "name": "python",
   "nbconvert_exporter": "python",
   "pygments_lexer": "ipython3",
   "version": "3.8.3-final"
  },
  "orig_nbformat": 2,
  "kernelspec": {
   "name": "python3",
   "display_name": "Python 3"
  }
 },
 "nbformat": 4,
 "nbformat_minor": 2,
 "cells": [
  {
   "cell_type": "code",
   "execution_count": 1,
   "metadata": {},
   "outputs": [],
   "source": [
    "import numpy as np\n",
    "import pandas as pd\n",
    "\n",
    "# To process embeddings\n",
    "import tensorflow as tf\n",
    "import tensorflow_hub as hub\n",
    "\n",
    "# To silence warnings from TensorFlow\n",
    "import os\n",
    "import logging\n",
    "import warnings;\n",
    "warnings.filterwarnings('ignore')\n",
    "os.environ['TF_CPP_MIN_LOG_LEVEL'] = '3'  # FATAL\n",
    "logging.getLogger('tensorflow').setLevel(logging.FATAL)\n",
    "\n",
    "# To load saved embeddings\n",
    "import joblib\n",
    "\n",
    "# To create webapp\n",
    "import psutil\n",
    "\n",
    "\n",
    "#######################################################################################\n",
    "                            # Load functions\n",
    "#######################################################################################\n",
    "\n",
    "def load_embeddings():\n",
    "    # Path to USE\n",
    "    embed = hub.load('/media/einhard/Seagate Expansion Drive/3380_data/data/tensorflow_hub/universal-sentence-encoder_4')\n",
    "\n",
    "    # Load pre-trained sentence arrays\n",
    "    sentence_array = joblib.load('/media/einhard/Seagate Expansion Drive/3380_data/data/Models/reviewEmbeddings.pkl')\n",
    "    descriptions_array = joblib.load('/media/einhard/Seagate Expansion Drive/3380_data/data/Models/descriptionEmbeddings.pkl')\n",
    "    return embed, sentence_array, descriptions_array\n",
    "\n",
    "def data_loader(datapath, books_file, reviews_file):\n",
    "    books = pd.read_csv(datapath + books_file).drop('Unnamed: 0', axis=1)\n",
    "    reviews = pd.read_csv(datapath + reviews_file).drop('Unnamed: 0', axis=1)\n",
    "    return books, reviews\n",
    "\n",
    "\n",
    "                    # Return recommendations based on reviews\n",
    "def find_reviews(query,reviews, n_results=5):\n",
    "    # Create vector from query and compare with global embedding\n",
    "    sentence = [query]\n",
    "    sentence_vector = np.array(embed(sentence))\n",
    "    inner_product = np.inner(sentence_vector, sentence_array)[0]\n",
    "\n",
    "    # Find sentences with highest inner products\n",
    "    top_n_sentences = pd.Series(inner_product).nlargest(n_results+1)\n",
    "    top_n_indices = top_n_sentences.index.tolist()\n",
    "    top_n_list = list(reviews.review_text.iloc[top_n_indices][1:])\n",
    "\n",
    "    #print(f'Input sentence: \"{query}\"\\n')\n",
    "    #print(f'{n_results} most semantically similar reviews: \\n\\n')\n",
    "    #print(*top_n_list, sep='\\n\\n')\n",
    "    #print(top_n_indices)\n",
    "    return top_n_indices\n",
    "\n",
    "def find_books(query, reviews, books, n_results=5):\n",
    "    top_n_indices = find_reviews(query, reviews, n_results)\n",
    "    return books[books.book_id.isin(reviews.iloc[top_n_indices].book_id.tolist())][['title', 'name','description', 'weighted_score', 'book_id']].fillna('').reset_index().drop('index', axis=1)\n",
    "\n",
    "\n",
    "                    # Return recommendations based on descriptions\n",
    "\n",
    "def find_description(query, books, n_results=10):\n",
    "    # Create vector from query and compare with global embedding\n",
    "    sentence = [query]\n",
    "    sentence_vector = np.array(embed(sentence))\n",
    "    inner_product = np.inner(sentence_vector, descriptions_array)[0]\n",
    "\n",
    "    # Find sentences with highest inner products\n",
    "    top_n_sentences = pd.Series(inner_product).nlargest(n_results)\n",
    "    top_n_indices = top_n_sentences.index.tolist()\n",
    "    top_n_list = list(books.description.iloc[top_n_indices][1:])\n",
    "\n",
    "    #print(f'Input sentence: \"{query}\"\\n')\n",
    "    #print(f'{n_results} most semantically similar book descriptions: \\n\\n')\n",
    "    #print(*top_n_list, sep='\\n\\n')\n",
    "    return top_n_indices\n",
    "\n",
    "def find_books_description(query, reviews, books):\n",
    "    top_n_indices = find_description(query)\n",
    "    return books[books.book_id.isin(books.iloc[top_n_indices].book_id.tolist())][['title', 'name','description', 'weighted_score', 'book_id']].fillna('')\n",
    "\n",
    "def show_recommendations(query, reviews, books, n_results=5):\n",
    "    top_n_indices = find_reviews(query, reviews, n_results)\n",
    "    book_recommends = find_books(query, reviews, books, n_results)\n",
    "    book_recommends['for_url'] = book_recommends['book_id'].astype(str) + '.' + book_recommends['title'].replace(r'\\(.*$', '', regex = True)\n",
    "\n",
    "    for idx, i in enumerate(reviews.iloc[top_n_indices].index):\n",
    "        print(idx)\n",
    "        print(i)\n",
    "        print('Book title:', book_recommends[book_recommends.book_id == (reviews[reviews.index == i].book_id.tolist()[0])].title.tolist()[0])\n",
    "        print('Author:', book_recommends[book_recommends.book_id == (reviews[reviews.index == i].book_id.tolist()[0])].name.tolist()[0])\n",
    "        print('Weighted Score:', books[books.book_id.isin(reviews[reviews.index == i].book_id.tolist())].weighted_score.tolist()[0])\n",
    "        print('Similar review:', reviews[reviews.index == i].review_text.tolist()[0])\n",
    "        print('Goodreads Link:', 'https://www.goodreads.com/book/show/' + book_recommends[book_recommends.book_id == (reviews[reviews.index == i].book_id.tolist()[0])].for_url.tolist()[0])\n",
    "        print('\\n\\n')\n",
    "\n",
    "\n",
    "\n",
    "#######################################################################################\n",
    "                            # Load variables and data\n",
    "#######################################################################################\n",
    "\n",
    "# Path to books and reviews DataFrames\n",
    "datapath = '/media/einhard/Seagate Expansion Drive/3380_data/data/Filtered books/'\n",
    "\n",
    "# Books and reviews file names and loading\n",
    "books_file = 'filtered_books.csv'\n",
    "reviews_file = 'filtered_reviews.csv'\n",
    "\n",
    "books, reviews = data_loader(datapath, books_file, reviews_file)\n",
    "embed, sentence_array, descriptions_array = load_embeddings()\n",
    "\n",
    "\n",
    "#######################################################################################\n",
    "                                # Web App\n",
    "#######################################################################################"
   ]
  },
  {
   "cell_type": "code",
   "execution_count": 2,
   "metadata": {},
   "outputs": [
    {
     "output_type": "stream",
     "name": "stdout",
     "text": [
      "0\n327691\nBook title: Ancillary Justice (Imperial Radch, #1)\nAuthor: Ann Leckie\nWeighted Score: 3.9699322483318085\nSimilar review: #wickedawesome I love me some epic sci-fi\nGoodreads Link: https://www.goodreads.com/book/show/17333324.Ancillary Justice \n\n\n\n1\n210875\nBook title: Ready Player One\nAuthor: Ernest Cline\nWeighted Score: 4.3094569028261365\nSimilar review: I love SciFi but could not get into this\nGoodreads Link: https://www.goodreads.com/book/show/20603758.Ready Player One\n\n\n\n2\n248678\nBook title: The Iron King (The Iron Fey, #1)\nAuthor: Julie Kagawa\nWeighted Score: 3.9199984214184576\nSimilar review: i like a little sci fi with my fantasy\nGoodreads Link: https://www.goodreads.com/book/show/6644117.The Iron King \n\n\n\n3\n107553\nBook title: The Door Into Summer\nAuthor: Robert A. Heinlein\nWeighted Score: 3.99972628465949\nSimilar review: One of my all time favorite sci-fi books and I'm not a sci-fi fan.\nGoodreads Link: https://www.goodreads.com/book/show/348.The Door Into Summer\n\n\n\n4\n164757\nBook title: Ender's Game (Ender's Saga, #1)\nAuthor: Orson Scott Card\nWeighted Score: 4.299976964549963\nSimilar review: Definitely a great sci fi. I'm not actually into sci-fi but I actually enjoyed this!\nGoodreads Link: https://www.goodreads.com/book/show/375802.Ender's Game \n\n\n\n5\n362901\nBook title: The Dispossessed\nAuthor: Ursula K. Le Guin\nWeighted Score: 4.179724820016062\nSimilar review: Just damn good science fiction.\nGoodreads Link: https://www.goodreads.com/book/show/13651.The Dispossessed\n\n\n\n6\n70857\nBook title: Ender's Game (Ender's Saga, #1)\nAuthor: Orson Scott Card\nWeighted Score: 4.299976964549963\nSimilar review: Interesting even though I'm not really into sci-fi.\nGoodreads Link: https://www.goodreads.com/book/show/375802.Ender's Game \n\n\n\n7\n9922\nBook title: Wool Omnibus (Silo, #1)\nAuthor: Hugh Howey\nWeighted Score: 4.239805338612142\nSimilar review: Really enjoyed this. Awesome sci-fi\nGoodreads Link: https://www.goodreads.com/book/show/13453029.Wool Omnibus \n\n\n\n8\n35875\nBook title: Spin (Spin, #1)\nAuthor: Robert Charles Wilson\nWeighted Score: 4.009820910234895\nSimilar review: I'm not usually one to love Hard Scifi, but I really liked this one.\nGoodreads Link: https://www.goodreads.com/book/show/910863.Spin \n\n\n\n9\n167832\nBook title: Hyperion (Hyperion Cantos, #1)\nAuthor: Dan Simmons\nWeighted Score: 4.20988223607639\nSimilar review: One of my favorite sci-fi series!\nGoodreads Link: https://www.goodreads.com/book/show/77566.Hyperion \n\n\n\n10\n121574\nBook title: Obsidian (Lux, #1)\nAuthor: Jennifer L. Armentrout\nWeighted Score: 4.229906314480184\nSimilar review: Such an interesting series. And i'm not even into Sci-fi!\nGoodreads Link: https://www.goodreads.com/book/show/12578077.Obsidian \n\n\n\n11\n358216\nBook title: Armor\nAuthor: John Steakley\nWeighted Score: 4.119244255458736\nSimilar review: My favorite sci-fi character-driven story.\nGoodreads Link: https://www.goodreads.com/book/show/102327.Armor\n\n\n\n12\n234563\nBook title: Stories of Your Life and Others\nAuthor: Ted Chiang\nWeighted Score: 4.269003040354569\nSimilar review: I COULDN'T PUT IT DOWN. \n I lalalalalalalalove good sci-fi\nGoodreads Link: https://www.goodreads.com/book/show/223380.Stories of Your Life and Others\n\n\n\n13\n228231\nBook title: Ender's Game (Ender's Saga, #1)\nAuthor: Orson Scott Card\nWeighted Score: 4.299976964549963\nSimilar review: One of my favorite science fiction books\nGoodreads Link: https://www.goodreads.com/book/show/375802.Ender's Game \n\n\n\n14\n167309\nBook title: The Martian\nAuthor: Andy Weir\nWeighted Score: 4.3899452969700405\nSimilar review: yay! my kind of sci fi novel. All sci fi no bullshit\nGoodreads Link: https://www.goodreads.com/book/show/18007564.The Martian\n\n\n\n15\n99875\nBook title: Winter's Heart (Wheel of Time, #9)\nAuthor: Robert Jordan\nWeighted Score: 3.9199964511233722\nSimilar review: i love fantasy and sci-fi.. but didn't much care for this book.\nGoodreads Link: https://www.goodreads.com/book/show/13891.Winter's Heart \n\n\n\n"
     ]
    }
   ],
   "source": [
    "show_recommendations('I love hard scifi', reviews, books, 15)"
   ]
  },
  {
   "cell_type": "code",
   "execution_count": 93,
   "metadata": {},
   "outputs": [],
   "source": [
    "res = find_books('I love hard scifi', reviews, books, 15)"
   ]
  },
  {
   "cell_type": "code",
   "execution_count": null,
   "metadata": {},
   "outputs": [],
   "source": []
  },
  {
   "cell_type": "code",
   "execution_count": 103,
   "metadata": {},
   "outputs": [
    {
     "output_type": "stream",
     "name": "stdout",
     "text": [
      "0\n327691\nBook title: Ancillary Justice (Imperial Radch, #1)\nAuthor: Ann Leckie\nWeighted Score: 3.9699322483318085\nSimilar review: #wickedawesome I love me some epic sci-fi\nGoodreads Link: https://www.goodreads.com/book/show/17333324.Ancillary Justice \n\n\n\n1\n210875\nBook title: Ready Player One\nAuthor: Ernest Cline\nWeighted Score: 4.3094569028261365\nSimilar review: I love SciFi but could not get into this\nGoodreads Link: https://www.goodreads.com/book/show/20603758.Ready Player One\n\n\n\n2\n248678\nBook title: The Iron King (The Iron Fey, #1)\nAuthor: Julie Kagawa\nWeighted Score: 3.9199984214184576\nSimilar review: i like a little sci fi with my fantasy\nGoodreads Link: https://www.goodreads.com/book/show/6644117.The Iron King \n\n\n\n3\n107553\nBook title: The Door Into Summer\nAuthor: Robert A. Heinlein\nWeighted Score: 3.99972628465949\nSimilar review: One of my all time favorite sci-fi books and I'm not a sci-fi fan.\nGoodreads Link: https://www.goodreads.com/book/show/348.The Door Into Summer\n\n\n\n4\n164757\nBook title: Ender's Game (Ender's Saga, #1)\nAuthor: Orson Scott Card\nWeighted Score: 4.299976964549963\nSimilar review: Definitely a great sci fi. I'm not actually into sci-fi but I actually enjoyed this!\nGoodreads Link: https://www.goodreads.com/book/show/375802.Ender's Game \n\n\n\n5\n362901\nBook title: The Dispossessed\nAuthor: Ursula K. Le Guin\nWeighted Score: 4.179724820016062\nSimilar review: Just damn good science fiction.\nGoodreads Link: https://www.goodreads.com/book/show/13651.The Dispossessed\n\n\n\n6\n70857\nBook title: Ender's Game (Ender's Saga, #1)\nAuthor: Orson Scott Card\nWeighted Score: 4.299976964549963\nSimilar review: Interesting even though I'm not really into sci-fi.\nGoodreads Link: https://www.goodreads.com/book/show/375802.Ender's Game \n\n\n\n7\n9922\nBook title: Wool Omnibus (Silo, #1)\nAuthor: Hugh Howey\nWeighted Score: 4.239805338612142\nSimilar review: Really enjoyed this. Awesome sci-fi\nGoodreads Link: https://www.goodreads.com/book/show/13453029.Wool Omnibus \n\n\n\n8\n35875\nBook title: Spin (Spin, #1)\nAuthor: Robert Charles Wilson\nWeighted Score: 4.009820910234895\nSimilar review: I'm not usually one to love Hard Scifi, but I really liked this one.\nGoodreads Link: https://www.goodreads.com/book/show/910863.Spin \n\n\n\n9\n167832\nBook title: Hyperion (Hyperion Cantos, #1)\nAuthor: Dan Simmons\nWeighted Score: 4.20988223607639\nSimilar review: One of my favorite sci-fi series!\nGoodreads Link: https://www.goodreads.com/book/show/77566.Hyperion \n\n\n\n10\n121574\nBook title: Obsidian (Lux, #1)\nAuthor: Jennifer L. Armentrout\nWeighted Score: 4.229906314480184\nSimilar review: Such an interesting series. And i'm not even into Sci-fi!\nGoodreads Link: https://www.goodreads.com/book/show/12578077.Obsidian \n\n\n\n11\n358216\nBook title: Armor\nAuthor: John Steakley\nWeighted Score: 4.119244255458736\nSimilar review: My favorite sci-fi character-driven story.\nGoodreads Link: https://www.goodreads.com/book/show/102327.Armor\n\n\n\n12\n234563\nBook title: Stories of Your Life and Others\nAuthor: Ted Chiang\nWeighted Score: 4.269003040354569\nSimilar review: I COULDN'T PUT IT DOWN. \n I lalalalalalalalove good sci-fi\nGoodreads Link: https://www.goodreads.com/book/show/223380.Stories of Your Life and Others\n\n\n\n13\n228231\nBook title: Ender's Game (Ender's Saga, #1)\nAuthor: Orson Scott Card\nWeighted Score: 4.299976964549963\nSimilar review: One of my favorite science fiction books\nGoodreads Link: https://www.goodreads.com/book/show/375802.Ender's Game \n\n\n\n14\n167309\nBook title: The Martian\nAuthor: Andy Weir\nWeighted Score: 4.3899452969700405\nSimilar review: yay! my kind of sci fi novel. All sci fi no bullshit\nGoodreads Link: https://www.goodreads.com/book/show/18007564.The Martian\n\n\n\n15\n99875\nBook title: Winter's Heart (Wheel of Time, #9)\nAuthor: Robert Jordan\nWeighted Score: 3.9199964511233722\nSimilar review: i love fantasy and sci-fi.. but didn't much care for this book.\nGoodreads Link: https://www.goodreads.com/book/show/13891.Winter's Heart \n\n\n\n"
     ]
    }
   ],
   "source": [
    "top_n_indices = find_reviews('I love hard scifi', reviews, 15)\n",
    "book_recommends = find_books('I love hard scifi', reviews, books, 15)\n",
    "book_recommends['for_url'] = book_recommends['book_id'].astype(str) + '.' + book_recommends['title'].replace(r'\\(.*$', '', regex = True)\n",
    "\n",
    "for idx, i in enumerate(reviews.iloc[top_n_indices].index):\n",
    "    print(idx)\n",
    "    print(i)\n",
    "    print('Book title:', book_recommends[book_recommends.book_id == (reviews[reviews.index == i].book_id.tolist()[0])].title.tolist()[0])\n",
    "    print('Author:', book_recommends[book_recommends.book_id == (reviews[reviews.index == i].book_id.tolist()[0])].name.tolist()[0])\n",
    "    print('Weighted Score:', books[books.book_id.isin(reviews[reviews.index == i].book_id.tolist())].weighted_score.tolist()[0])\n",
    "    print('Similar review:', reviews[reviews.index == i].review_text.tolist()[0])\n",
    "    print('Goodreads Link:', 'https://www.goodreads.com/book/show/' + book_recommends[book_recommends.book_id == (reviews[reviews.index == i].book_id.tolist()[0])].for_url.tolist()[0])\n",
    "    print('\\n\\n')"
   ]
  },
  {
   "cell_type": "code",
   "execution_count": 61,
   "metadata": {},
   "outputs": [],
   "source": [
    "def find_url(query, revires, books, n_results=5):\n",
    "    book_data = find_books(query, reviews, books, n_results)[['title', 'book_id']]\n",
    "    book_data['for_url'] = book_data['book_id'].astype(str) + '.' + book_data['title'].replace(r'\\(.*$', '', regex = True)\n",
    "    return book_data\n",
    "url =  find_url('I love hard scifi', reviews, books, 10)"
   ]
  },
  {
   "cell_type": "code",
   "execution_count": 108,
   "metadata": {},
   "outputs": [],
   "source": [
    "def show_recommendations(query, reviews, books, n_results=5):\n",
    "    top_n_indices = find_reviews(query, reviews, 15)\n",
    "    book_recommends = find_books(query, reviews, books, 15)\n",
    "    book_recommends['for_url'] = book_recommends['book_id'].astype(str) + '.' + book_recommends['title'].replace(r'\\(.*$', '', regex = True)\n",
    "\n",
    "    for idx, i in enumerate(reviews.iloc[top_n_indices].index):\n",
    "        print(idx)\n",
    "        print(i)\n",
    "        print('Book title:', book_recommends[book_recommends.book_id == (reviews[reviews.index == i].book_id.tolist()[0])].title.tolist()[0])\n",
    "        print('Author:', book_recommends[book_recommends.book_id == (reviews[reviews.index == i].book_id.tolist()[0])].name.tolist()[0])\n",
    "        print('Weighted Score:', books[books.book_id.isin(reviews[reviews.index == i].book_id.tolist())].weighted_score.tolist()[0])\n",
    "        print('Similar review:', reviews[reviews.index == i].review_text.tolist()[0])\n",
    "        print('Goodreads Link:', 'https://www.goodreads.com/book/show/' + book_recommends[book_recommends.book_id == (reviews[reviews.index == i].book_id.tolist()[0])].for_url.tolist()[0])\n",
    "        print('\\n\\n')"
   ]
  },
  {
   "cell_type": "code",
   "execution_count": 110,
   "metadata": {},
   "outputs": [
    {
     "output_type": "stream",
     "name": "stdout",
     "text": [
      "0\n137783\nBook title: Scent of Magic (Healer, #2)\nAuthor: Maria V. Snyder\nWeighted Score: 4.12936146177244\nSimilar review: I like more of the politics and less of the actual war.\nGoodreads Link: https://www.goodreads.com/book/show/12027429.Scent of Magic \n\n\n\n1\n147476\nBook title: Cinder (The Lunar Chronicles, #1)\nAuthor: Marissa Meyer\nWeighted Score: 4.149973453558986\nSimilar review: loved the politics and ethical issues\nGoodreads Link: https://www.goodreads.com/book/show/11235712.Cinder \n\n\n\n2\n278930\nBook title: The Blade Itself (The First Law, #1)\nAuthor: Joe Abercrombie\nWeighted Score: 4.139888082439458\nSimilar review: I really loved it, the characters are so dark, violent.\nGoodreads Link: https://www.goodreads.com/book/show/944073.The Blade Itself \n\n\n\n3\n281692\nBook title: The Story of the Lost Child (The Neapolitan Novels, #4)\nAuthor: Elena Ferrante\nWeighted Score: 4.388992427495838\nSimilar review: I enjoyed the series but the violence can be disturbing.\nGoodreads Link: https://www.goodreads.com/book/show/25242224.The Story of the Lost Child \n\n\n\n4\n130375\nBook title: Holy Bible: King James Version\nAuthor: Anonymous\nWeighted Score: 4.429841562106732\nSimilar review: I liked the violence in Blood Meridian more\nGoodreads Link: https://www.goodreads.com/book/show/1923820.Holy Bible: King James Version\n\n\n\n5\n22078\nBook title: Chew, Vol. 1: Taster's Choice\nAuthor: John Layman\nWeighted Score: 3.9898684439727696\nSimilar review: Just as funny, violent, and well-written as I remember\nGoodreads Link: https://www.goodreads.com/book/show/6839093.Chew, Vol. 1: Taster's Choice\n\n\n\n6\n7834\nBook title: End of Watch (Bill Hodges Trilogy, #3)\nAuthor: Stephen King\nWeighted Score: 4.0897636642946855\nSimilar review: Too violent and gruesome for my tastes...\nGoodreads Link: https://www.goodreads.com/book/show/25526965.End of Watch \n\n\n\n7\n99979\nBook title: Shadow and Bone (The Grisha, #1)\nAuthor: Leigh Bardugo\nWeighted Score: 4.0499529047641385\nSimilar review: Surprisingly violent and good. :)\nGoodreads Link: https://www.goodreads.com/book/show/10194157.Shadow and Bone \n\n\n\n8\n281718\nBook title: The Third Secret\nAuthor: Steve Berry\nWeighted Score: 3.840340249381264\nSimilar review: Entertaining ... lots of action, lots of politics and religion.\nGoodreads Link: https://www.goodreads.com/book/show/127249.The Third Secret\n\n\n\n9\n214180\nBook title: Kick-Ass (Kick-Ass, #1)\nAuthor: Mark Millar\nWeighted Score: 4.039797614131918\nSimilar review: Good ole blood, gore, and violence. I needed a good dose of that and Kick-Ass delivered.\nGoodreads Link: https://www.goodreads.com/book/show/3918010.Kick-Ass \n\n\n\n10\n384446\nBook title: Scarlet (The Lunar Chronicles, #2)\nAuthor: Marissa Meyer\nWeighted Score: 4.2999040988826005\nSimilar review: I liked it. Got pretty violent though.\nGoodreads Link: https://www.goodreads.com/book/show/13206760.Scarlet \n\n\n\n11\n191440\nBook title: A Clash of Kings  (A Song of Ice and Fire, #2)\nAuthor: George R.R. Martin\nWeighted Score: 4.399954742028665\nSimilar review: sex and violence. sex and violence.\nGoodreads Link: https://www.goodreads.com/book/show/10572.A Clash of Kings  \n\n\n\n12\n346618\nBook title: The Hundred Thousand Kingdoms (Inheritance Trilogy, #1)\nAuthor: N.K. Jemisin\nWeighted Score: 3.810173052085713\nSimilar review: Too much politics and cruelty for me.\nGoodreads Link: https://www.goodreads.com/book/show/6437061.The Hundred Thousand Kingdoms \n\n\n\n13\n351678\nBook title: Saga, Vol. 1 (Saga, #1)\nAuthor: Brian K. Vaughan\nWeighted Score: 4.239885786441163\nSimilar review: I loved every bit of this. Perfect mix of humour, violence and fantasy.\nGoodreads Link: https://www.goodreads.com/book/show/15704307.Saga, Vol. 1 \n\n\n\n14\n23595\nBook title: Missing You\nAuthor: Harlan Coben\nWeighted Score: 3.959911505544248\nSimilar review: A bit too violent for me, but otherwise I enjoyed the characters and the story.\nGoodreads Link: https://www.goodreads.com/book/show/18114060.Missing You\n\n\n\n15\n403241\nBook title: The Knife of Never Letting Go (Chaos Walking, #1)\nAuthor: Patrick Ness\nWeighted Score: 3.959977898720944\nSimilar review: Well written but not really my style. Lots and lots and lots of action and violence.\nGoodreads Link: https://www.goodreads.com/book/show/2118745.The Knife of Never Letting Go \n\n\n\n"
     ]
    }
   ],
   "source": [
    "show_recommendations('I loved the politics and violence', reviews, books, 15)"
   ]
  },
  {
   "cell_type": "code",
   "execution_count": 64,
   "metadata": {},
   "outputs": [
    {
     "output_type": "stream",
     "name": "stdout",
     "text": [
      "Book title: Ancillary Justice (Imperial Radch, #1)\nAuthor: Ann Leckie\nWeighted Score: 3.9699322483318085\nSimilar review: #wickedawesome I love me some epic sci-fi\nGoodreads Link: https://www.goodreads.com/book/show/17333324.Ancillary Justice \n\n\n\nBook title: Ready Player One\nAuthor: Ernest Cline\nWeighted Score: 4.3094569028261365\nSimilar review: I love SciFi but could not get into this\nGoodreads Link: https://www.goodreads.com/book/show/20603758.Ready Player One\n\n\n\nBook title: The Iron King (The Iron Fey, #1)\nAuthor: Julie Kagawa\nWeighted Score: 3.9199984214184576\nSimilar review: i like a little sci fi with my fantasy\nGoodreads Link: https://www.goodreads.com/book/show/6644117.The Iron King \n\n\n\nBook title: The Door Into Summer\nAuthor: Robert A. Heinlein\nWeighted Score: 3.99972628465949\nSimilar review: One of my all time favorite sci-fi books and I'm not a sci-fi fan.\nGoodreads Link: https://www.goodreads.com/book/show/348.The Door Into Summer\n\n\n\nBook title: Ender's Game (Ender's Saga, #1)\nAuthor: Orson Scott Card\nWeighted Score: 4.299976964549963\nSimilar review: Definitely a great sci fi. I'm not actually into sci-fi but I actually enjoyed this!\nGoodreads Link: https://www.goodreads.com/book/show/375802.Ender's Game \n\n\n\nBook title: The Dispossessed\nAuthor: Ursula K. Le Guin\nWeighted Score: 4.179724820016062\nSimilar review: Just damn good science fiction.\nGoodreads Link: https://www.goodreads.com/book/show/13651.The Dispossessed\n\n\n\nBook title: Ender's Game (Ender's Saga, #1)\nAuthor: Orson Scott Card\nWeighted Score: 4.299976964549963\nSimilar review: Interesting even though I'm not really into sci-fi.\nGoodreads Link: https://www.goodreads.com/book/show/375802.Ender's Game \n\n\n\nBook title: Wool Omnibus (Silo, #1)\nAuthor: Hugh Howey\nWeighted Score: 4.239805338612142\nSimilar review: Really enjoyed this. Awesome sci-fi\nGoodreads Link: https://www.goodreads.com/book/show/13453029.Wool Omnibus \n\n\n\nBook title: Spin (Spin, #1)\nAuthor: Robert Charles Wilson\nWeighted Score: 4.009820910234895\nSimilar review: I'm not usually one to love Hard Scifi, but I really liked this one.\nGoodreads Link: https://www.goodreads.com/book/show/910863.Spin \n\n\n\nBook title: Hyperion (Hyperion Cantos, #1)\nAuthor: Dan Simmons\nWeighted Score: 4.20988223607639\nSimilar review: One of my favorite sci-fi series!\nGoodreads Link: https://www.goodreads.com/book/show/77566.Hyperion \n\n\n\nBook title: Obsidian (Lux, #1)\nAuthor: Jennifer L. Armentrout\nWeighted Score: 4.229906314480184\nSimilar review: Such an interesting series. And i'm not even into Sci-fi!\nGoodreads Link: https://www.goodreads.com/book/show/12578077.Obsidian \n\n\n\n"
     ]
    }
   ],
   "source": [
    "top_n_indices = find_reviews('I love hard scifi', reviews, 10)\n",
    "url = find_url('I love hard scifi', reviews, books, 10)\n",
    "\n",
    "for i in reviews.iloc[top_n_indices].index:\n",
    "    print('Book title:', res[res.book_id == (reviews[reviews.index == i].book_id.tolist()[0])].title.tolist()[0])\n",
    "    print('Author:', res[res.book_id == (reviews[reviews.index == i].book_id.tolist()[0])].name.tolist()[0])\n",
    "    print('Weighted Score:', books[books.book_id.isin(reviews[reviews.index == i].book_id.tolist())].weighted_score.tolist()[0])\n",
    "    print('Similar review:', reviews[reviews.index == i].review_text.tolist()[0])\n",
    "    print('Goodreads Link:', 'https://www.goodreads.com/book/show/' + url[url.book_id == (reviews[reviews.index == i].book_id.tolist()[0])].for_url.tolist()[0])\n",
    "    print('\\n\\n')"
   ]
  },
  {
   "cell_type": "code",
   "execution_count": 40,
   "metadata": {},
   "outputs": [],
   "source": [
    "res['for_url'] = res['book_id'].astype(str) + '.' + res['title'].replace(r'\\(.*$', '', regex = True)"
   ]
  },
  {
   "cell_type": "code",
   "execution_count": 41,
   "metadata": {},
   "outputs": [
    {
     "output_type": "execute_result",
     "data": {
      "text/plain": [
       "                                    title                    name  \\\n",
       "0                        Ready Player One            Ernest Cline   \n",
       "1         Ender's Game (Ender's Saga, #1)        Orson Scott Card   \n",
       "2                 Wool Omnibus (Silo, #1)              Hugh Howey   \n",
       "3                      Obsidian (Lux, #1)  Jennifer L. Armentrout   \n",
       "4          Hyperion (Hyperion Cantos, #1)             Dan Simmons   \n",
       "5                        The Dispossessed       Ursula K. Le Guin   \n",
       "6                         Spin (Spin, #1)   Robert Charles Wilson   \n",
       "7                    The Door Into Summer      Robert A. Heinlein   \n",
       "8  Ancillary Justice (Imperial Radch, #1)              Ann Leckie   \n",
       "9        The Iron King (The Iron Fey, #1)            Julie Kagawa   \n",
       "\n",
       "                                         description  weighted_score  \\\n",
       "0  A world at stake.\\nA quest for the ultimate pr...        4.309457   \n",
       "1  Andrew \"Ender\" Wiggin thinks he is playing com...        4.299977   \n",
       "2  This Omnibus Edition collects the five Wool bo...        4.239805   \n",
       "3  Starting over sucks.\\nWhen we moved to West Vi...        4.229906   \n",
       "4  On the world called Hyperion, beyond the law o...        4.209882   \n",
       "5  Shevek, a brilliant physicist, decides to take...        4.179725   \n",
       "6  One night in October when he was ten years old...        4.009821   \n",
       "7  It is 1970, and electronics engineer Dan Davis...        3.999726   \n",
       "8  On a remote, icy planet, the soldier known as ...        3.969932   \n",
       "9  Meghan Chase has a secret destiny; one she cou...        3.919998   \n",
       "\n",
       "    book_id                      for_url  \n",
       "0  20603758    20603758.Ready Player One  \n",
       "1    375802         375802.Ender's Game   \n",
       "2  13453029       13453029.Wool Omnibus   \n",
       "3  12578077           12578077.Obsidian   \n",
       "4     77566              77566.Hyperion   \n",
       "5     13651       13651.The Dispossessed  \n",
       "6    910863                 910863.Spin   \n",
       "7       348     348.The Door Into Summer  \n",
       "8  17333324  17333324.Ancillary Justice   \n",
       "9   6644117       6644117.The Iron King   "
      ],
      "text/html": "<div>\n<style scoped>\n    .dataframe tbody tr th:only-of-type {\n        vertical-align: middle;\n    }\n\n    .dataframe tbody tr th {\n        vertical-align: top;\n    }\n\n    .dataframe thead th {\n        text-align: right;\n    }\n</style>\n<table border=\"1\" class=\"dataframe\">\n  <thead>\n    <tr style=\"text-align: right;\">\n      <th></th>\n      <th>title</th>\n      <th>name</th>\n      <th>description</th>\n      <th>weighted_score</th>\n      <th>book_id</th>\n      <th>for_url</th>\n    </tr>\n  </thead>\n  <tbody>\n    <tr>\n      <th>0</th>\n      <td>Ready Player One</td>\n      <td>Ernest Cline</td>\n      <td>A world at stake.\\nA quest for the ultimate pr...</td>\n      <td>4.309457</td>\n      <td>20603758</td>\n      <td>20603758.Ready Player One</td>\n    </tr>\n    <tr>\n      <th>1</th>\n      <td>Ender's Game (Ender's Saga, #1)</td>\n      <td>Orson Scott Card</td>\n      <td>Andrew \"Ender\" Wiggin thinks he is playing com...</td>\n      <td>4.299977</td>\n      <td>375802</td>\n      <td>375802.Ender's Game</td>\n    </tr>\n    <tr>\n      <th>2</th>\n      <td>Wool Omnibus (Silo, #1)</td>\n      <td>Hugh Howey</td>\n      <td>This Omnibus Edition collects the five Wool bo...</td>\n      <td>4.239805</td>\n      <td>13453029</td>\n      <td>13453029.Wool Omnibus</td>\n    </tr>\n    <tr>\n      <th>3</th>\n      <td>Obsidian (Lux, #1)</td>\n      <td>Jennifer L. Armentrout</td>\n      <td>Starting over sucks.\\nWhen we moved to West Vi...</td>\n      <td>4.229906</td>\n      <td>12578077</td>\n      <td>12578077.Obsidian</td>\n    </tr>\n    <tr>\n      <th>4</th>\n      <td>Hyperion (Hyperion Cantos, #1)</td>\n      <td>Dan Simmons</td>\n      <td>On the world called Hyperion, beyond the law o...</td>\n      <td>4.209882</td>\n      <td>77566</td>\n      <td>77566.Hyperion</td>\n    </tr>\n    <tr>\n      <th>5</th>\n      <td>The Dispossessed</td>\n      <td>Ursula K. Le Guin</td>\n      <td>Shevek, a brilliant physicist, decides to take...</td>\n      <td>4.179725</td>\n      <td>13651</td>\n      <td>13651.The Dispossessed</td>\n    </tr>\n    <tr>\n      <th>6</th>\n      <td>Spin (Spin, #1)</td>\n      <td>Robert Charles Wilson</td>\n      <td>One night in October when he was ten years old...</td>\n      <td>4.009821</td>\n      <td>910863</td>\n      <td>910863.Spin</td>\n    </tr>\n    <tr>\n      <th>7</th>\n      <td>The Door Into Summer</td>\n      <td>Robert A. Heinlein</td>\n      <td>It is 1970, and electronics engineer Dan Davis...</td>\n      <td>3.999726</td>\n      <td>348</td>\n      <td>348.The Door Into Summer</td>\n    </tr>\n    <tr>\n      <th>8</th>\n      <td>Ancillary Justice (Imperial Radch, #1)</td>\n      <td>Ann Leckie</td>\n      <td>On a remote, icy planet, the soldier known as ...</td>\n      <td>3.969932</td>\n      <td>17333324</td>\n      <td>17333324.Ancillary Justice</td>\n    </tr>\n    <tr>\n      <th>9</th>\n      <td>The Iron King (The Iron Fey, #1)</td>\n      <td>Julie Kagawa</td>\n      <td>Meghan Chase has a secret destiny; one she cou...</td>\n      <td>3.919998</td>\n      <td>6644117</td>\n      <td>6644117.The Iron King</td>\n    </tr>\n  </tbody>\n</table>\n</div>"
     },
     "metadata": {},
     "execution_count": 41
    }
   ],
   "source": [
    "res"
   ]
  },
  {
   "cell_type": "code",
   "execution_count": 9,
   "metadata": {},
   "outputs": [
    {
     "output_type": "stream",
     "name": "stdout",
     "text": [
      "              title          name\n0  Ready Player One  Ernest Cline\n                             title              name\n1  Ender's Game (Ender's Saga, #1)  Orson Scott Card\n                     title        name\n2  Wool Omnibus (Silo, #1)  Hugh Howey\n                title                    name\n3  Obsidian (Lux, #1)  Jennifer L. Armentrout\n                            title         name\n4  Hyperion (Hyperion Cantos, #1)  Dan Simmons\n              title               name\n5  The Dispossessed  Ursula K. Le Guin\n             title                   name\n6  Spin (Spin, #1)  Robert Charles Wilson\n                  title                name\n7  The Door Into Summer  Robert A. Heinlein\n                                    title        name\n8  Ancillary Justice (Imperial Radch, #1)  Ann Leckie\n                              title          name\n9  The Iron King (The Iron Fey, #1)  Julie Kagawa\n"
     ]
    }
   ],
   "source": [
    "for idx, i in enumerate(res.book_id):\n",
    "    print(res[res.book_id==i][['title','name']])"
   ]
  },
  {
   "source": [
    "import pandas as pd\n",
    "test = pd.read_json('/media/einhard/Seagate Expansion Drive/3380_data/data/Filtered books/20603758.Ready Player One.json')"
   ],
   "cell_type": "markdown",
   "metadata": {}
  },
  {
   "source": [
    "# Creating cluster function"
   ],
   "cell_type": "markdown",
   "metadata": {}
  },
  {
   "cell_type": "code",
   "execution_count": 1,
   "metadata": {},
   "outputs": [
    {
     "output_type": "error",
     "ename": "NameError",
     "evalue": "name 'books' is not defined",
     "traceback": [
      "\u001b[0;31m---------------------------------------------------------------------------\u001b[0m",
      "\u001b[0;31mNameError\u001b[0m                                 Traceback (most recent call last)",
      "\u001b[0;32m<ipython-input-1-bd06900fc420>\u001b[0m in \u001b[0;36m<module>\u001b[0;34m\u001b[0m\n\u001b[0;32m----> 1\u001b[0;31m \u001b[0mbooks\u001b[0m\u001b[0;34m[\u001b[0m\u001b[0mbooks\u001b[0m\u001b[0;34m.\u001b[0m\u001b[0mtitle\u001b[0m\u001b[0;34m.\u001b[0m\u001b[0misin\u001b[0m\u001b[0;34m(\u001b[0m\u001b[0;34m[\u001b[0m\u001b[0;34m'Children of Time'\u001b[0m\u001b[0;34m]\u001b[0m\u001b[0;34m)\u001b[0m\u001b[0;34m]\u001b[0m\u001b[0;34m.\u001b[0m\u001b[0mbook_id\u001b[0m\u001b[0;34m.\u001b[0m\u001b[0mtolist\u001b[0m\u001b[0;34m(\u001b[0m\u001b[0;34m)\u001b[0m\u001b[0;34m\u001b[0m\u001b[0;34m\u001b[0m\u001b[0m\n\u001b[0m",
      "\u001b[0;31mNameError\u001b[0m: name 'books' is not defined"
     ]
    }
   ],
   "source": [
    "books[books.title.isin(['Children of Time'])].book_id.tolist()"
   ]
  },
  {
   "cell_type": "code",
   "execution_count": 9,
   "metadata": {},
   "outputs": [],
   "source": [
    "from sklearn.cluster import KMeans"
   ]
  },
  {
   "cell_type": "code",
   "execution_count": 3,
   "metadata": {},
   "outputs": [
    {
     "output_type": "error",
     "ename": "NameError",
     "evalue": "name 'reviews' is not defined",
     "traceback": [
      "\u001b[0;31m---------------------------------------------------------------------------\u001b[0m",
      "\u001b[0;31mNameError\u001b[0m                                 Traceback (most recent call last)",
      "\u001b[0;32m<ipython-input-3-62b6485f3efb>\u001b[0m in \u001b[0;36m<module>\u001b[0;34m\u001b[0m\n\u001b[1;32m      1\u001b[0m \u001b[0mtitles_list\u001b[0m \u001b[0;34m=\u001b[0m \u001b[0;34m[\u001b[0m\u001b[0;34m'Children of Time'\u001b[0m\u001b[0;34m]\u001b[0m\u001b[0;34m\u001b[0m\u001b[0;34m\u001b[0m\u001b[0m\n\u001b[0;32m----> 2\u001b[0;31m \u001b[0minput_books\u001b[0m \u001b[0;34m=\u001b[0m \u001b[0mreviews\u001b[0m\u001b[0;34m[\u001b[0m\u001b[0mreviews\u001b[0m\u001b[0;34m.\u001b[0m\u001b[0mbook_id\u001b[0m\u001b[0;34m.\u001b[0m\u001b[0misin\u001b[0m\u001b[0;34m(\u001b[0m\u001b[0mbooks\u001b[0m\u001b[0;34m[\u001b[0m\u001b[0mbooks\u001b[0m\u001b[0;34m.\u001b[0m\u001b[0mtitle\u001b[0m\u001b[0;34m.\u001b[0m\u001b[0misin\u001b[0m\u001b[0;34m(\u001b[0m\u001b[0mtitles_list\u001b[0m\u001b[0;34m)\u001b[0m\u001b[0;34m]\u001b[0m\u001b[0;34m.\u001b[0m\u001b[0mbook_id\u001b[0m\u001b[0;34m.\u001b[0m\u001b[0mtolist\u001b[0m\u001b[0;34m(\u001b[0m\u001b[0;34m)\u001b[0m\u001b[0;34m)\u001b[0m\u001b[0;34m]\u001b[0m\u001b[0;34m\u001b[0m\u001b[0;34m\u001b[0m\u001b[0m\n\u001b[0m",
      "\u001b[0;31mNameError\u001b[0m: name 'reviews' is not defined"
     ]
    }
   ],
   "source": [
    "titles_list = ['Children of Time']\n",
    "input_books = reviews[reviews.book_id.isin(books[books.title.isin(titles_list)].book_id.tolist())]"
   ]
  },
  {
   "cell_type": "code",
   "execution_count": 2,
   "metadata": {},
   "outputs": [
    {
     "output_type": "error",
     "ename": "NameError",
     "evalue": "name 'input_books' is not defined",
     "traceback": [
      "\u001b[0;31m---------------------------------------------------------------------------\u001b[0m",
      "\u001b[0;31mNameError\u001b[0m                                 Traceback (most recent call last)",
      "\u001b[0;32m<ipython-input-2-3895e3ead7ce>\u001b[0m in \u001b[0;36m<module>\u001b[0;34m\u001b[0m\n\u001b[0;32m----> 1\u001b[0;31m \u001b[0minput_books\u001b[0m\u001b[0;34m\u001b[0m\u001b[0;34m\u001b[0m\u001b[0m\n\u001b[0m",
      "\u001b[0;31mNameError\u001b[0m: name 'input_books' is not defined"
     ]
    }
   ],
   "source": [
    "input_books"
   ]
  },
  {
   "cell_type": "code",
   "execution_count": 29,
   "metadata": {},
   "outputs": [],
   "source": [
    "def load_sentences(review_texts):\n",
    "    '''\n",
    "    Function to load and embed a book's sentences\n",
    "    '''\n",
    "    # Copy sentence column to new variable\n",
    "    sentences = input_books['review_text']\n",
    "\n",
    "    # Vectorize sentences\n",
    "    sentence_vectors = embed(sentences)\n",
    "    \n",
    "    return sentences, sentence_vectors\n",
    "\n",
    "def get_clusters(sentences, sentence_vectors, k, n):\n",
    "    '''\n",
    "    Function to extract the n most representative sentences from k clusters\n",
    "    '''\n",
    "\n",
    "    # Instantiate the model\n",
    "    kmeans_model = KMeans(n_clusters=k)\n",
    "\n",
    "    # Fit the model\n",
    "    kmeans_model.fit(sentence_array)\n",
    "    \n",
    "    # Loop through number of clusters\n",
    "    for i in range(k):\n",
    "\n",
    "        # Define cluster centre\n",
    "        centre = kmeans_model.cluster_centers_[i]\n",
    "\n",
    "        # Calculate inner product of cluster centre and sentence vectors\n",
    "        ips = np.inner(centre, sentence_vectors)\n",
    "\n",
    "        # Find the sentences with the highest inner products\n",
    "        top_indices = pd.Series(ips).nlargest(n).index\n",
    "        top_sentences = list(sentences.iloc[top_indices])\n",
    "\n",
    "        print(f'Cluster #{i+1} sentences:\\n')\n",
    "        print(*top_sentences, sep='\\n\\n')\n",
    "        print('\\n')"
   ]
  },
  {
   "cell_type": "code",
   "execution_count": 28,
   "metadata": {},
   "outputs": [],
   "source": [
    "book_sentences, book_review_vectors = load_sentences(input_books)"
   ]
  },
  {
   "cell_type": "code",
   "execution_count": 31,
   "metadata": {},
   "outputs": [
    {
     "output_type": "stream",
     "name": "stdout",
     "text": [
      "Cluster #1 sentences:\n\nReally liked this one. Great world building\n\nVery enjoyable book. Unexpected ending. Setting the stage for more.\n\nBrilliant! I wish there were sequels!\n\nPretty much blew my mind and got me thinking about everything I thought I knew...\n\nA very unique and well written story.\n\nA great story, a very quick read\n\nI was surprised at how good this was. \n That is not something I experience very often.\n\nExcellent! Can't wait to read more books by this author!!\n\n\nCluster #2 sentences:\n\nExcellent! Can't wait to read more books by this author!!\n\nBrilliant! I wish there were sequels!\n\nGood read, reminded me of Vernor Vinge and his Zones of thought series.\n\nVery enjoyable book. Unexpected ending. Setting the stage for more.\n\nReally liked this one. Great world building\n\nExcellent novel, interesting concepts that make you think.\n\nA very unique and well written story.\n\nA great story, a very quick read\n\n\nCluster #3 sentences:\n\nExcellent! Can't wait to read more books by this author!!\n\nGood read, reminded me of Vernor Vinge and his Zones of thought series.\n\nA great story, a very quick read\n\nExcellent novel, interesting concepts that make you think.\n\nVery enjoyable book. Unexpected ending. Setting the stage for more.\n\nReally liked this one. Great world building\n\nA very unique and well written story.\n\nBrilliant! I wish there were sequels!\n\n\nCluster #4 sentences:\n\nA very unique and well written story.\n\nA great story, a very quick read\n\nReally liked this one. Great world building\n\nVery enjoyable book. Unexpected ending. Setting the stage for more.\n\nExcellent novel, interesting concepts that make you think.\n\nVery imaginative. Well crafted and original. Highly recommended.\n\nExcellent! Can't wait to read more books by this author!!\n\nGood read, reminded me of Vernor Vinge and his Zones of thought series.\n\n\nCluster #5 sentences:\n\nExcellent! Can't wait to read more books by this author!!\n\nBrilliant! I wish there were sequels!\n\nReally liked this one. Great world building\n\nVery enjoyable book. Unexpected ending. Setting the stage for more.\n\nWheeeeeeeeeeeeeeeeeeeeeeeeeeeeeeeeeeeeeeeeeeeeeeeeeeeeee!!!! \n Need I say more?\n\nA very unique and well written story.\n\nExcellent novel, interesting concepts that make you think.\n\nA great story, a very quick read\n\n\n"
     ]
    }
   ],
   "source": [
    "get_clusters(book_sentences, book_review_vectors, k=5, n=8)"
   ]
  },
  {
   "cell_type": "code",
   "execution_count": null,
   "metadata": {},
   "outputs": [],
   "source": []
  }
 ]
}